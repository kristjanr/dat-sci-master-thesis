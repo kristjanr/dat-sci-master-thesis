{
 "cells": [
  {
   "cell_type": "markdown",
   "metadata": {
    "pycharm": {
     "name": "#%% md\n"
    }
   },
   "source": [
    "# Download, Unpack, Predict and Save\n",
    "\n",
    "This notebook downloads the two datasets (fast&slow), all 4x5 trained models and unpacks these.\n",
    "Then it loads the data and models into memory and runs inferences, saving the results into files.\n"
   ]
  },
  {
   "cell_type": "code",
   "execution_count": 10,
   "outputs": [],
   "source": [
    "import sys\n",
    "sys.path.append('donkeycar')\n",
    "sys.path.append('src')"
   ],
   "metadata": {
    "collapsed": false,
    "pycharm": {
     "name": "#%%\n"
    }
   }
  },
  {
   "cell_type": "code",
   "execution_count": 11,
   "outputs": [],
   "source": [
    "import os\n",
    "# do we have the correct env loaded?\n",
    "assert 'donkey' == os.environ['CONDA_DEFAULT_ENV'], os.environ['CONDA_DEFAULT_ENV']"
   ],
   "metadata": {
    "collapsed": false,
    "pycharm": {
     "name": "#%%\n"
    }
   }
  },
  {
   "cell_type": "code",
   "execution_count": 41,
   "metadata": {
    "pycharm": {
     "name": "#%%\n"
    }
   },
   "outputs": [],
   "source": [
    "![ ! -d \"mycar/\" ] && \\\n",
    "donkey createcar --path mycar && \\\n",
    "cp config/myconfig.py mycar/"
   ]
  },
  {
   "cell_type": "code",
   "execution_count": 41,
   "outputs": [],
   "source": [
    "![ ! -d \"data/\" ] && \\\n",
    "mkdir data && \\\n",
    "curl -L \"https://www.dropbox.com/s/k97v7ib2lmyth2u/slower-autodrive.zip?dl=1\" --output data/slower-autodrive.zip && \\\n",
    "curl -L \"https://www.dropbox.com/s/mt43psjaeozo95m/faster-autodrive.zip?dl=1\" --output data/faster-autodrive.zip && \\\n",
    "unzip data/slower-autodrive.zip -d data && \\\n",
    "unzip data/faster-autodrive.zip -d data\n"
   ],
   "metadata": {
    "collapsed": false,
    "pycharm": {
     "name": "#%%\n"
    }
   }
  },
  {
   "cell_type": "code",
   "execution_count": 20,
   "outputs": [
    {
     "name": "stdout",
     "output_type": "stream",
     "text": [
      "loading config file: mycar/config.py\n",
      "loading personal config over-rides from myconfig.py\n"
     ]
    }
   ],
   "source": [
    "import donkeycar as dk\n",
    "cfg = dk.load_config(config_path='mycar/config.py')\n",
    "\n",
    "# None means all the data is used.\n",
    "# use a smaller size, like 200 for testing end to end.\n",
    "TUBRECORD_SIZE = None\n",
    "\n",
    "cfg.SEQUENCE_LENGTH = 3\n",
    "cfg.WANDB_ENABLED = False\n",
    "cfg.TRANSFORMATIONS = ['CROP']\n",
    "cfg.ROI_CROP_TOP = 60\n",
    "cfg.ROI_CROP_KEEP_SIZE = False\n",
    "\n",
    "DIRECTION = 'CC'\n",
    "N_FOLDS = 5\n",
    "DATA_PATH = 'data'\n"
   ],
   "metadata": {
    "collapsed": false,
    "pycharm": {
     "name": "#%%\n"
    }
   }
  },
  {
   "cell_type": "code",
   "execution_count": 21,
   "outputs": [
    {
     "name": "stderr",
     "output_type": "stream",
     "text": [
      "INFO:donkeycar.pipeline.types:Loading only the first tub from paths ['data/faster-autodrive']\n"
     ]
    },
    {
     "name": "stdout",
     "output_type": "stream",
     "text": [
      "Using catalog /Users/kristjan.roosild/PycharmProjects/dat-sci-master-thesis/data/faster-autodrive/catalog_20.catalog\n"
     ]
    },
    {
     "data": {
      "text/plain": "19250"
     },
     "execution_count": 21,
     "metadata": {},
     "output_type": "execute_result"
    }
   ],
   "source": [
    "from dataloader import load_records\n",
    "fast_speed_data = load_records('faster-autodrive', cfg, DATA_PATH, TUBRECORD_SIZE)\n",
    "len(fast_speed_data)\n"
   ],
   "metadata": {
    "collapsed": false,
    "pycharm": {
     "name": "#%%\n"
    }
   }
  },
  {
   "cell_type": "code",
   "execution_count": 22,
   "outputs": [
    {
     "name": "stderr",
     "output_type": "stream",
     "text": [
      "INFO:donkeycar.pipeline.types:Loading only the first tub from paths ['data/slower-autodrive']\n"
     ]
    },
    {
     "name": "stdout",
     "output_type": "stream",
     "text": [
      "Using catalog /Users/kristjan.roosild/PycharmProjects/dat-sci-master-thesis/data/slower-autodrive/catalog_20.catalog\n"
     ]
    },
    {
     "data": {
      "text/plain": "20304"
     },
     "execution_count": 22,
     "metadata": {},
     "output_type": "execute_result"
    }
   ],
   "source": [
    "slow_speed_data = load_records('slower-autodrive', cfg, DATA_PATH, TUBRECORD_SIZE)\n",
    "len(slow_speed_data)\n"
   ],
   "metadata": {
    "collapsed": false,
    "pycharm": {
     "name": "#%%\n"
    }
   }
  },
  {
   "cell_type": "code",
   "execution_count": 23,
   "outputs": [
    {
     "name": "stderr",
     "output_type": "stream",
     "text": [
      "INFO:donkeycar.utils:get_model_by_type: model type is: 3d-modified-steering\n",
      "INFO:donkeycar.parts.keras:input_shape (60, 160, 3) num_outputs 1\n",
      "2022-08-16 21:25:01.324462: I tensorflow/core/platform/cpu_feature_guard.cc:151] This TensorFlow binary is optimized with oneAPI Deep Neural Network Library (oneDNN) to use the following CPU instructions in performance-critical operations:  AVX2 FMA\n",
      "To enable them in other operations, rebuild TensorFlow with the appropriate compiler flags.\n",
      "INFO:donkeycar.parts.keras:Created Keras3D_CNN_ModifiedOnlySteering with interpreter: KerasInterpreter\n",
      "INFO:donkeycar.parts.keras:Num outputs 1\n",
      "INFO:donkeycar.parts.keras:Sequence length 3\n"
     ]
    },
    {
     "name": "stdout",
     "output_type": "stream",
     "text": [
      "Model: \"3dcnn\"\n",
      "_________________________________________________________________\n",
      " Layer (type)                Output Shape              Param #   \n",
      "=================================================================\n",
      " img_in (InputLayer)         [(None, 3, 60, 160, 3)]   0         \n",
      "                                                                 \n",
      " conv3d (Conv3D)             (None, 1, 20, 53, 16)     1312      \n",
      "                                                                 \n",
      " max_pooling3d (MaxPooling3D  (None, 1, 10, 26, 16)    0         \n",
      " )                                                               \n",
      "                                                                 \n",
      " conv3d_1 (Conv3D)           (None, 1, 10, 26, 32)     4640      \n",
      "                                                                 \n",
      " max_pooling3d_1 (MaxPooling  (None, 1, 5, 13, 32)     0         \n",
      " 3D)                                                             \n",
      "                                                                 \n",
      " conv3d_2 (Conv3D)           (None, 1, 5, 13, 32)      9248      \n",
      "                                                                 \n",
      " flatten (Flatten)           (None, 2080)              0         \n",
      "                                                                 \n",
      " dense (Dense)               (None, 128)               266368    \n",
      "                                                                 \n",
      " batch_normalization (BatchN  (None, 128)              512       \n",
      " ormalization)                                                   \n",
      "                                                                 \n",
      " activation (Activation)     (None, 128)               0         \n",
      "                                                                 \n",
      " dropout (Dropout)           (None, 128)               0         \n",
      "                                                                 \n",
      " dense_1 (Dense)             (None, 256)               33024     \n",
      "                                                                 \n",
      " batch_normalization_1 (Batc  (None, 256)              1024      \n",
      " hNormalization)                                                 \n",
      "                                                                 \n",
      " activation_1 (Activation)   (None, 256)               0         \n",
      "                                                                 \n",
      " dropout_1 (Dropout)         (None, 256)               0         \n",
      "                                                                 \n",
      " outputs (Dense)             (None, 1)                 257       \n",
      "                                                                 \n",
      "=================================================================\n",
      "Total params: 316,385\n",
      "Trainable params: 315,617\n",
      "Non-trainable params: 768\n",
      "_________________________________________________________________\n"
     ]
    }
   ],
   "source": [
    "from donkeycar.utils import get_model_by_type\n",
    "\n",
    "model_type = '3d-modified-steering'\n",
    "model = get_model_by_type(model_type, cfg)\n",
    "model.interpreter.model.summary()"
   ],
   "metadata": {
    "collapsed": false,
    "pycharm": {
     "name": "#%%\n"
    }
   }
  },
  {
   "cell_type": "code",
   "execution_count": 24,
   "outputs": [
    {
     "name": "stdout",
     "output_type": "stream",
     "text": [
      "seq size 3\n",
      "len ground_truth 19250\n",
      "seq size 3\n",
      "len ground_truth 20304\n"
     ]
    }
   ],
   "source": [
    "from losses import get_ground_truth\n",
    "fast_ground_truths = get_ground_truth(model, fast_speed_data)\n",
    "slow_ground_truths = get_ground_truth(model, slow_speed_data)\n"
   ],
   "metadata": {
    "collapsed": false,
    "pycharm": {
     "name": "#%%\n"
    }
   }
  },
  {
   "cell_type": "code",
   "execution_count": 41,
   "outputs": [],
   "source": [
    "![ ! -d \"models/\" ] && \\\n",
    "mkdir models && \\\n",
    "curl -L \"https://www.dropbox.com/s/tsz57xq7i3z6zk8/fast-multi-frame.zip?dl=1\" --output models/fast-multi-frame.zip && \\\n",
    "curl -L \"https://www.dropbox.com/s/yvitxvv3j8fb0qm/slow-multi-frame.zip?dl=1\" --output models/slow-multi-frame.zip && \\\n",
    "unzip models/fast-multi-frame.zip -d models && \\\n",
    "unzip models/slow-multi-frame.zip -d models\n"
   ],
   "metadata": {
    "collapsed": false,
    "pycharm": {
     "name": "#%%\n"
    }
   }
  },
  {
   "cell_type": "code",
   "execution_count": 41,
   "outputs": [],
   "source": [
    "from dataloader import get_fold_indices\n",
    "from losses import get_predictions\n",
    "from model_loader import load_model\n",
    "import numpy as np\n",
    "\n",
    "\n",
    "train_predictions = np.zeros(len(fast_speed_data))\n",
    "test_predictions = np.zeros(len(fast_speed_data))\n",
    "slow_predictions = np.zeros(len(slow_speed_data))\n",
    "\n",
    "MODELS_PATH = 'models/fast-multi-frame'\n",
    "\n",
    "for fold, (train_index, test_index) in enumerate(get_fold_indices(fast_speed_data), start=1):\n",
    "    train_records = [fast_speed_data[i] for i in train_index]\n",
    "    test_records = [fast_speed_data[i] for i in test_index]\n",
    "    trained_model = load_model(MODELS_PATH, model_type, cfg, DIRECTION, N_FOLDS, fold)\n",
    "    fold_train_predictions = np.zeros(len(fast_speed_data))\n",
    "    np.put(fold_train_predictions, train_index, get_predictions(trained_model, cfg, train_records))\n",
    "    train_predictions += fold_train_predictions\n",
    "\n",
    "    fold_test_predictions = get_predictions(trained_model, cfg, test_records)\n",
    "    np.put(test_predictions, test_index, fold_test_predictions)\n",
    "\n",
    "    fold_slow_predictions = get_predictions(trained_model, cfg, slow_speed_data)\n",
    "    slow_predictions += fold_slow_predictions\n",
    "\n",
    "train_predictions /= (N_FOLDS-1)\n",
    "slow_predictions /= N_FOLDS"
   ],
   "metadata": {
    "collapsed": false,
    "pycharm": {
     "name": "#%%\n"
    }
   }
  },
  {
   "cell_type": "code",
   "execution_count": 12,
   "outputs": [
    {
     "data": {
      "text/plain": "(-0.2505801434457883, -0.2527056067175679, -0.2393154258884921)"
     },
     "execution_count": 12,
     "metadata": {},
     "output_type": "execute_result"
    }
   ],
   "source": [
    "train_predictions.mean(), test_predictions.mean(), slow_predictions.mean()\n"
   ],
   "metadata": {
    "collapsed": false,
    "pycharm": {
     "name": "#%%\n"
    }
   }
  },
  {
   "cell_type": "code",
   "execution_count": 13,
   "outputs": [
    {
     "data": {
      "text/plain": "((19250,), (19250,), (20304,))"
     },
     "execution_count": 13,
     "metadata": {},
     "output_type": "execute_result"
    }
   ],
   "source": [
    "train_predictions.shape, test_predictions.shape, slow_predictions.shape\n"
   ],
   "metadata": {
    "collapsed": false,
    "pycharm": {
     "name": "#%%\n"
    }
   }
  },
  {
   "cell_type": "code",
   "execution_count": 14,
   "outputs": [],
   "source": [
    "np.save('open-loop-results/nighttime-fast-auto-3d-model-nighttime-fast-auto-data-prediction-and-ground-truth.npy', np.array([train_predictions, test_predictions, fast_ground_truths]).T)\n",
    "np.save('open-loop-results/nighttime-fast-auto-3d-model-nighttime-slow-auto-data-prediction-and-ground-truth.npy', np.array([slow_predictions, slow_ground_truths]).T)\n"
   ],
   "metadata": {
    "collapsed": false,
    "pycharm": {
     "name": "#%%\n"
    }
   }
  },
  {
   "cell_type": "code",
   "execution_count": 41,
   "outputs": [],
   "source": [
    "\n",
    "train_predictions = np.zeros(len(slow_speed_data))\n",
    "test_predictions = np.zeros(len(slow_speed_data))\n",
    "fast_predictions = np.zeros(len(fast_speed_data))\n",
    "\n",
    "MODELS_PATH = 'models/slow-multi-frame'\n",
    "\n",
    "for fold, (train_index, test_index) in enumerate(get_fold_indices(slow_speed_data), start=1):\n",
    "    train_records = [slow_speed_data[i] for i in train_index]\n",
    "    test_records = [slow_speed_data[i] for i in test_index]\n",
    "    trained_model = load_model(MODELS_PATH, model_type, cfg, DIRECTION, N_FOLDS, fold)\n",
    "    fold_train_predictions = np.zeros(len(slow_speed_data))\n",
    "    np.put(fold_train_predictions, train_index, get_predictions(trained_model, cfg, train_records))\n",
    "    train_predictions += fold_train_predictions\n",
    "\n",
    "    fold_test_predictions = get_predictions(trained_model, cfg, test_records)\n",
    "    np.put(test_predictions, test_index, fold_test_predictions)\n",
    "\n",
    "    fold_fast_predictions = get_predictions(trained_model, cfg, fast_speed_data)\n",
    "    fast_predictions += fold_fast_predictions\n",
    "\n",
    "train_predictions /= (N_FOLDS-1)\n",
    "fast_predictions /= N_FOLDS"
   ],
   "metadata": {
    "collapsed": false,
    "pycharm": {
     "name": "#%%\n"
    }
   }
  },
  {
   "cell_type": "code",
   "execution_count": 16,
   "outputs": [
    {
     "data": {
      "text/plain": "(-0.24456062894937428, -0.2491590826787015, -0.25424844947983694)"
     },
     "execution_count": 16,
     "metadata": {},
     "output_type": "execute_result"
    }
   ],
   "source": [
    "train_predictions.mean(), test_predictions.mean(), fast_predictions.mean()\n"
   ],
   "metadata": {
    "collapsed": false,
    "pycharm": {
     "name": "#%%\n"
    }
   }
  },
  {
   "cell_type": "code",
   "execution_count": 17,
   "outputs": [
    {
     "data": {
      "text/plain": "((20304,), (20304,), (19250,))"
     },
     "execution_count": 17,
     "metadata": {},
     "output_type": "execute_result"
    }
   ],
   "source": [
    "train_predictions.shape, test_predictions.shape, fast_predictions.shape\n"
   ],
   "metadata": {
    "collapsed": false,
    "pycharm": {
     "name": "#%%\n"
    }
   }
  },
  {
   "cell_type": "markdown",
   "source": [],
   "metadata": {
    "collapsed": false,
    "pycharm": {
     "name": "#%% md\n"
    }
   }
  },
  {
   "cell_type": "code",
   "execution_count": 18,
   "outputs": [],
   "source": [
    "np.save('open-loop-results/nighttime-slow-auto-3d-model-nighttime-slow-auto-data-prediction-and-ground-truth.npy', np.array([train_predictions, test_predictions, slow_ground_truths]).T)\n",
    "np.save('open-loop-results/nighttime-slow-auto-3d-model-nighttime-fast-auto-data-prediction-and-ground-truth.npy', np.array([fast_predictions, fast_ground_truths]).T)\n"
   ],
   "metadata": {
    "collapsed": false,
    "pycharm": {
     "name": "#%%\n"
    }
   }
  },
  {
   "cell_type": "code",
   "execution_count": 33,
   "outputs": [],
   "source": [
    "cfg.SEQUENCE_LENGTH = 0\n",
    "cfg.ROI_CROP_TOP = 59\n"
   ],
   "metadata": {
    "collapsed": false,
    "pycharm": {
     "name": "#%%\n"
    }
   }
  },
  {
   "cell_type": "code",
   "execution_count": 34,
   "outputs": [
    {
     "name": "stderr",
     "output_type": "stream",
     "text": [
      "INFO:donkeycar.utils:get_model_by_type: model type is: linear-steering\n",
      "INFO:donkeycar.parts.keras:Created KerasLinearOnlySteering with interpreter: KerasInterpreter\n"
     ]
    },
    {
     "name": "stdout",
     "output_type": "stream",
     "text": [
      "Model: \"linear\"\n",
      "__________________________________________________________________________________________________\n",
      " Layer (type)                   Output Shape         Param #     Connected to                     \n",
      "==================================================================================================\n",
      " img_in (InputLayer)            [(None, 61, 160, 3)  0           []                               \n",
      "                                ]                                                                 \n",
      "                                                                                                  \n",
      " conv2d_1 (Conv2D)              (None, 29, 78, 24)   1824        ['img_in[0][0]']                 \n",
      "                                                                                                  \n",
      " dropout_10 (Dropout)           (None, 29, 78, 24)   0           ['conv2d_1[0][0]']               \n",
      "                                                                                                  \n",
      " conv2d_2 (Conv2D)              (None, 13, 37, 32)   19232       ['dropout_10[0][0]']             \n",
      "                                                                                                  \n",
      " dropout_11 (Dropout)           (None, 13, 37, 32)   0           ['conv2d_2[0][0]']               \n",
      "                                                                                                  \n",
      " conv2d_3 (Conv2D)              (None, 5, 17, 64)    51264       ['dropout_11[0][0]']             \n",
      "                                                                                                  \n",
      " dropout_12 (Dropout)           (None, 5, 17, 64)    0           ['conv2d_3[0][0]']               \n",
      "                                                                                                  \n",
      " conv2d_4 (Conv2D)              (None, 3, 15, 64)    36928       ['dropout_12[0][0]']             \n",
      "                                                                                                  \n",
      " dropout_13 (Dropout)           (None, 3, 15, 64)    0           ['conv2d_4[0][0]']               \n",
      "                                                                                                  \n",
      " conv2d_5 (Conv2D)              (None, 1, 13, 64)    36928       ['dropout_13[0][0]']             \n",
      "                                                                                                  \n",
      " dropout_14 (Dropout)           (None, 1, 13, 64)    0           ['conv2d_5[0][0]']               \n",
      "                                                                                                  \n",
      " flattened (Flatten)            (None, 832)          0           ['dropout_14[0][0]']             \n",
      "                                                                                                  \n",
      " dense_1 (Dense)                (None, 100)          83300       ['flattened[0][0]']              \n",
      "                                                                                                  \n",
      " dropout_15 (Dropout)           (None, 100)          0           ['dense_1[0][0]']                \n",
      "                                                                                                  \n",
      " dense_2 (Dense)                (None, 50)           5050        ['dropout_15[0][0]']             \n",
      "                                                                                                  \n",
      " dropout_16 (Dropout)           (None, 50)           0           ['dense_2[0][0]']                \n",
      "                                                                                                  \n",
      " n_outputs0 (Dense)             (None, 1)            51          ['dropout_16[0][0]']             \n",
      "                                                                                                  \n",
      " n_outputs1 (Dense)             (None, 1)            51          ['dropout_16[0][0]']             \n",
      "                                                                                                  \n",
      "==================================================================================================\n",
      "Total params: 234,628\n",
      "Trainable params: 234,628\n",
      "Non-trainable params: 0\n",
      "__________________________________________________________________________________________________\n"
     ]
    }
   ],
   "source": [
    "model_type = 'linear-steering'\n",
    "model = get_model_by_type(model_type, cfg)\n",
    "model.interpreter.model.summary()\n"
   ],
   "metadata": {
    "collapsed": false,
    "pycharm": {
     "name": "#%%\n"
    }
   }
  },
  {
   "cell_type": "code",
   "execution_count": 35,
   "outputs": [
    {
     "name": "stderr",
     "output_type": "stream",
     "text": [
      "INFO:donkeycar.pipeline.types:Loading only the first tub from paths ['data/faster-autodrive']\n"
     ]
    },
    {
     "name": "stdout",
     "output_type": "stream",
     "text": [
      "Using catalog /Users/kristjan.roosild/PycharmProjects/dat-sci-master-thesis/data/faster-autodrive/catalog_20.catalog\n"
     ]
    },
    {
     "data": {
      "text/plain": "19266"
     },
     "execution_count": 35,
     "metadata": {},
     "output_type": "execute_result"
    }
   ],
   "source": [
    "fast_speed_data = load_records('faster-autodrive', cfg, DATA_PATH, TUBRECORD_SIZE)\n",
    "len(fast_speed_data)"
   ],
   "metadata": {
    "collapsed": false,
    "pycharm": {
     "name": "#%%\n"
    }
   }
  },
  {
   "cell_type": "code",
   "execution_count": 36,
   "outputs": [
    {
     "name": "stderr",
     "output_type": "stream",
     "text": [
      "INFO:donkeycar.pipeline.types:Loading only the first tub from paths ['data/slower-autodrive']\n"
     ]
    },
    {
     "name": "stdout",
     "output_type": "stream",
     "text": [
      "Using catalog /Users/kristjan.roosild/PycharmProjects/dat-sci-master-thesis/data/slower-autodrive/catalog_20.catalog\n"
     ]
    },
    {
     "data": {
      "text/plain": "20308"
     },
     "execution_count": 36,
     "metadata": {},
     "output_type": "execute_result"
    }
   ],
   "source": [
    "slow_speed_data = load_records('slower-autodrive', cfg, DATA_PATH, TUBRECORD_SIZE)\n",
    "len(slow_speed_data)\n"
   ],
   "metadata": {
    "collapsed": false,
    "pycharm": {
     "name": "#%%\n"
    }
   }
  },
  {
   "cell_type": "code",
   "execution_count": 37,
   "outputs": [
    {
     "name": "stdout",
     "output_type": "stream",
     "text": [
      "len ground_truth 19266\n",
      "len ground_truth 20308\n"
     ]
    }
   ],
   "source": [
    "fast_ground_truths = get_ground_truth(model, fast_speed_data)\n",
    "slow_ground_truths = get_ground_truth(model, slow_speed_data)\n"
   ],
   "metadata": {
    "collapsed": false,
    "pycharm": {
     "name": "#%%\n"
    }
   }
  },
  {
   "cell_type": "code",
   "execution_count": 30,
   "outputs": [
    {
     "name": "stdout",
     "output_type": "stream",
     "text": [
      "  % Total    % Received % Xferd  Average Speed   Time    Time     Time  Current\r\n",
      "                                 Dload  Upload   Total   Spent    Left  Speed\r\n",
      "100   145    0   145    0     0    318      0 --:--:-- --:--:-- --:--:--   329\r\n",
      "100   342  100   342    0     0    464      0 --:--:-- --:--:-- --:--:--   464\r\n",
      "100 16.6M  100 16.6M    0     0  6955k      0  0:00:02  0:00:02 --:--:-- 11.0M\r\n",
      "  % Total    % Received % Xferd  Average Speed   Time    Time     Time  Current\r\n",
      "                                 Dload  Upload   Total   Spent    Left  Speed\r\n",
      "100   145    0   145    0     0    300      0 --:--:-- --:--:-- --:--:--   306- --:--:-- --:--:--   313\r\n",
      "100   342  100   342    0     0    399      0 --:--:-- --:--:-- --:--:--   399\r\n",
      "100 16.5M  100 16.5M    0     0  6145k      0  0:00:02  0:00:02 --:--:-- 12.9M\r\n",
      "Archive:  models/fast-single-frame.zip\r\n",
      "   creating: models/fast-single-frame/\r\n",
      "  inflating: models/__MACOSX/._fast-single-frame  \r\n",
      "  inflating: models/fast-single-frame/KerasLinearOnlySteering-3.fold-of-5-CC.h5  \r\n",
      "  inflating: models/__MACOSX/fast-single-frame/._KerasLinearOnlySteering-3.fold-of-5-CC.h5  \r\n",
      "  inflating: models/fast-single-frame/KerasLinearOnlySteering-4.fold-of-5-CC.png  \r\n",
      "  inflating: models/__MACOSX/fast-single-frame/._KerasLinearOnlySteering-4.fold-of-5-CC.png  \r\n",
      "  inflating: models/fast-single-frame/KerasLinearOnlySteering-4.fold-of-5-CC.h5  \r\n",
      "  inflating: models/__MACOSX/fast-single-frame/._KerasLinearOnlySteering-4.fold-of-5-CC.h5  \r\n",
      "  inflating: models/fast-single-frame/KerasLinearOnlySteering-5.fold-of-5-CC.h5  \r\n",
      "  inflating: models/__MACOSX/fast-single-frame/._KerasLinearOnlySteering-5.fold-of-5-CC.h5  \r\n",
      "  inflating: models/fast-single-frame/KerasLinearOnlySteering-5.fold-of-5-CC.png  \r\n",
      "  inflating: models/__MACOSX/fast-single-frame/._KerasLinearOnlySteering-5.fold-of-5-CC.png  \r\n",
      "  inflating: models/fast-single-frame/KerasLinearOnlySteering-1.fold-of-5-CC.png  \r\n",
      "  inflating: models/__MACOSX/fast-single-frame/._KerasLinearOnlySteering-1.fold-of-5-CC.png  \r\n",
      "  inflating: models/fast-single-frame/KerasLinearOnlySteering-2.fold-of-5-CC.h5  \r\n",
      "  inflating: models/__MACOSX/fast-single-frame/._KerasLinearOnlySteering-2.fold-of-5-CC.h5  \r\n",
      "  inflating: models/fast-single-frame/KerasLinearOnlySteering-3.fold-of-5-CC.tflite  \r\n",
      "  inflating: models/__MACOSX/fast-single-frame/._KerasLinearOnlySteering-3.fold-of-5-CC.tflite  \r\n",
      "  inflating: models/fast-single-frame/KerasLinearOnlySteering-2.fold-of-5-CC.tflite  \r\n",
      "  inflating: models/__MACOSX/fast-single-frame/._KerasLinearOnlySteering-2.fold-of-5-CC.tflite  \r\n",
      "  inflating: models/fast-single-frame/KerasLinearOnlySteering-1.fold-of-5-CC.tflite  \r\n",
      "  inflating: models/__MACOSX/fast-single-frame/._KerasLinearOnlySteering-1.fold-of-5-CC.tflite  \r\n",
      "  inflating: models/fast-single-frame/KerasLinearOnlySteering-4.fold-of-5-CC.tflite  \r\n",
      "  inflating: models/__MACOSX/fast-single-frame/._KerasLinearOnlySteering-4.fold-of-5-CC.tflite  \r\n",
      "  inflating: models/fast-single-frame/KerasLinearOnlySteering-5.fold-of-5-CC.tflite  \r\n",
      "  inflating: models/__MACOSX/fast-single-frame/._KerasLinearOnlySteering-5.fold-of-5-CC.tflite  \r\n",
      "  inflating: models/fast-single-frame/KerasLinearOnlySteering-2.fold-of-5-CC.png  \r\n",
      "  inflating: models/__MACOSX/fast-single-frame/._KerasLinearOnlySteering-2.fold-of-5-CC.png  \r\n",
      "  inflating: models/fast-single-frame/KerasLinearOnlySteering-1.fold-of-5-CC.h5  \r\n",
      "  inflating: models/__MACOSX/fast-single-frame/._KerasLinearOnlySteering-1.fold-of-5-CC.h5  \r\n",
      "  inflating: models/fast-single-frame/KerasLinearOnlySteering-3.fold-of-5-CC.png  \r\n",
      "  inflating: models/__MACOSX/fast-single-frame/._KerasLinearOnlySteering-3.fold-of-5-CC.png  \r\n",
      "Archive:  models/slow-single-frame.zip\r\n",
      "   creating: models/slow-single-frame/\r\n",
      "  inflating: models/__MACOSX/._slow-single-frame  \r\n",
      "  inflating: models/slow-single-frame/KerasLinearOnlySteering-3.fold-of-5-CC.h5  \r\n",
      "  inflating: models/__MACOSX/slow-single-frame/._KerasLinearOnlySteering-3.fold-of-5-CC.h5  \r\n",
      "  inflating: models/slow-single-frame/KerasLinearOnlySteering-4.fold-of-5-CC.png  \r\n",
      "  inflating: models/__MACOSX/slow-single-frame/._KerasLinearOnlySteering-4.fold-of-5-CC.png  \r\n",
      "  inflating: models/slow-single-frame/KerasLinearOnlySteering-4.fold-of-5-CC.h5  \r\n",
      "  inflating: models/__MACOSX/slow-single-frame/._KerasLinearOnlySteering-4.fold-of-5-CC.h5  \r\n",
      "  inflating: models/slow-single-frame/KerasLinearOnlySteering-5.fold-of-5-CC.h5  \r\n",
      "  inflating: models/__MACOSX/slow-single-frame/._KerasLinearOnlySteering-5.fold-of-5-CC.h5  \r\n",
      "  inflating: models/slow-single-frame/KerasLinearOnlySteering-5.fold-of-5-CC.png  \r\n",
      "  inflating: models/__MACOSX/slow-single-frame/._KerasLinearOnlySteering-5.fold-of-5-CC.png  \r\n",
      "  inflating: models/slow-single-frame/KerasLinearOnlySteering-1.fold-of-5-CC.png  \r\n",
      "  inflating: models/__MACOSX/slow-single-frame/._KerasLinearOnlySteering-1.fold-of-5-CC.png  \r\n",
      "  inflating: models/slow-single-frame/KerasLinearOnlySteering-2.fold-of-5-CC.h5  \r\n",
      "  inflating: models/__MACOSX/slow-single-frame/._KerasLinearOnlySteering-2.fold-of-5-CC.h5  \r\n",
      "  inflating: models/slow-single-frame/KerasLinearOnlySteering-3.fold-of-5-CC.tflite  \r\n",
      "  inflating: models/__MACOSX/slow-single-frame/._KerasLinearOnlySteering-3.fold-of-5-CC.tflite  \r\n",
      "  inflating: models/slow-single-frame/KerasLinearOnlySteering-2.fold-of-5-CC.tflite  \r\n",
      "  inflating: models/__MACOSX/slow-single-frame/._KerasLinearOnlySteering-2.fold-of-5-CC.tflite  \r\n",
      "  inflating: models/slow-single-frame/KerasLinearOnlySteering-1.fold-of-5-CC.tflite  \r\n",
      "  inflating: models/__MACOSX/slow-single-frame/._KerasLinearOnlySteering-1.fold-of-5-CC.tflite  \r\n",
      "  inflating: models/slow-single-frame/KerasLinearOnlySteering-4.fold-of-5-CC.tflite  \r\n",
      "  inflating: models/__MACOSX/slow-single-frame/._KerasLinearOnlySteering-4.fold-of-5-CC.tflite  \r\n",
      "  inflating: models/slow-single-frame/KerasLinearOnlySteering-5.fold-of-5-CC.tflite  \r\n",
      "  inflating: models/__MACOSX/slow-single-frame/._KerasLinearOnlySteering-5.fold-of-5-CC.tflite  \r\n",
      "  inflating: models/slow-single-frame/KerasLinearOnlySteering-2.fold-of-5-CC.png  \r\n",
      "  inflating: models/__MACOSX/slow-single-frame/._KerasLinearOnlySteering-2.fold-of-5-CC.png  \r\n",
      "  inflating: models/slow-single-frame/KerasLinearOnlySteering-1.fold-of-5-CC.h5  \r\n",
      "  inflating: models/__MACOSX/slow-single-frame/._KerasLinearOnlySteering-1.fold-of-5-CC.h5  \r\n",
      "  inflating: models/slow-single-frame/KerasLinearOnlySteering-3.fold-of-5-CC.png  \r\n",
      "  inflating: models/__MACOSX/slow-single-frame/._KerasLinearOnlySteering-3.fold-of-5-CC.png  \r\n"
     ]
    }
   ],
   "source": [
    "!curl -L \"https://www.dropbox.com/s/40alio8uk3hia71/fast-single-frame.zip?dl=1\" --output models/fast-single-frame.zip && \\\n",
    "curl -L \"https://www.dropbox.com/s/rp5aly3jkjhh1fa/slow-single-frame.zip?dl=1\" --output models/slow-single-frame.zip && \\\n",
    "unzip models/fast-single-frame.zip -d models && \\\n",
    "unzip models/slow-single-frame.zip -d models\n"
   ],
   "metadata": {
    "collapsed": false,
    "pycharm": {
     "name": "#%%\n"
    }
   }
  },
  {
   "cell_type": "code",
   "execution_count": 41,
   "outputs": [],
   "source": [
    "\n",
    "from sklearn.model_selection import KFold\n",
    "\n",
    "train_predictions = np.zeros(len(fast_speed_data))\n",
    "test_predictions = np.zeros(len(fast_speed_data))\n",
    "slow_predictions = np.zeros(len(slow_speed_data))\n",
    "\n",
    "MODELS_PATH = 'models/fast-single-frame'\n",
    "\n",
    "kf = KFold(n_splits=N_FOLDS, shuffle=False)\n",
    "\n",
    "for fold, (train_index, test_index) in enumerate(kf.split(fast_speed_data), start=1):\n",
    "    train_records = [fast_speed_data[i] for i in train_index]\n",
    "    test_records = [fast_speed_data[i] for i in test_index]\n",
    "    trained_model = load_model(MODELS_PATH, model_type, cfg, DIRECTION, N_FOLDS, fold)\n",
    "    fold_train_predictions = np.zeros(len(fast_speed_data))\n",
    "    np.put(fold_train_predictions, train_index, get_predictions(trained_model, cfg, train_records))\n",
    "    train_predictions += fold_train_predictions\n",
    "\n",
    "    fold_test_predictions = get_predictions(trained_model, cfg, test_records)\n",
    "    np.put(test_predictions, test_index, fold_test_predictions)\n",
    "\n",
    "    fold_slow_predictions = get_predictions(trained_model, cfg, slow_speed_data)\n",
    "    slow_predictions += fold_slow_predictions[:,0]\n",
    "\n",
    "train_predictions /= (N_FOLDS-1)\n",
    "slow_predictions /= N_FOLDS"
   ],
   "metadata": {
    "collapsed": false,
    "pycharm": {
     "name": "#%%\n"
    }
   }
  },
  {
   "cell_type": "code",
   "execution_count": 24,
   "outputs": [
    {
     "data": {
      "text/plain": "(-0.2543695506249286, -0.2543950245587963, -0.24445792576494396)"
     },
     "execution_count": 24,
     "metadata": {},
     "output_type": "execute_result"
    }
   ],
   "source": [
    "train_predictions.mean(), test_predictions.mean(), slow_predictions.mean()\n"
   ],
   "metadata": {
    "collapsed": false,
    "pycharm": {
     "name": "#%%\n"
    }
   }
  },
  {
   "cell_type": "code",
   "execution_count": 25,
   "outputs": [
    {
     "data": {
      "text/plain": "((19266,), (19266,), (20308,))"
     },
     "execution_count": 25,
     "metadata": {},
     "output_type": "execute_result"
    }
   ],
   "source": [
    "train_predictions.shape, test_predictions.shape, slow_predictions.shape\n"
   ],
   "metadata": {
    "collapsed": false,
    "pycharm": {
     "name": "#%%\n"
    }
   }
  },
  {
   "cell_type": "code",
   "execution_count": 26,
   "outputs": [],
   "source": [
    "np.savetxt('open-loop-results/nighttime-fast-auto-linear-model-nighttime-fast-auto-data-prediction-and-ground-truth.csv.gz', np.array([train_predictions, test_predictions, fast_ground_truths]).T)\n",
    "np.savetxt('open-loop-results/nighttime-fast-auto-linear-model-nighttime-slow-auto-data-prediction-and-ground-truth.csv.gz', np.array([slow_predictions, slow_ground_truths]).T)\n"
   ],
   "metadata": {
    "collapsed": false,
    "pycharm": {
     "name": "#%%\n"
    }
   }
  },
  {
   "cell_type": "code",
   "execution_count": 41,
   "outputs": [],
   "source": [
    "\n",
    "train_predictions = np.zeros(len(slow_speed_data))\n",
    "test_predictions = np.zeros(len(slow_speed_data))\n",
    "fast_predictions = np.zeros(len(fast_speed_data))\n",
    "\n",
    "MODELS_PATH = 'models/slow-single-frame'\n",
    "\n",
    "for fold, (train_index, test_index) in enumerate(kf.split(slow_speed_data), start=1):\n",
    "    train_records = [slow_speed_data[i] for i in train_index]\n",
    "    test_records = [slow_speed_data[i] for i in test_index]\n",
    "    trained_model = load_model(MODELS_PATH, model_type, cfg, DIRECTION, N_FOLDS, fold)\n",
    "    fold_train_predictions = np.zeros(len(slow_speed_data))\n",
    "    np.put(fold_train_predictions, train_index, get_predictions(trained_model, cfg, train_records))\n",
    "    train_predictions += fold_train_predictions\n",
    "\n",
    "    fold_test_predictions = get_predictions(trained_model, cfg, test_records)\n",
    "    np.put(test_predictions, test_index, fold_test_predictions)\n",
    "\n",
    "    fold_fast_predictions = get_predictions(trained_model, cfg, fast_speed_data)\n",
    "    fast_predictions += fold_fast_predictions[:,0]\n",
    "\n",
    "train_predictions /= (N_FOLDS-1)\n",
    "fast_predictions /= N_FOLDS"
   ],
   "metadata": {
    "collapsed": false,
    "pycharm": {
     "name": "#%%\n"
    }
   }
  },
  {
   "cell_type": "code",
   "execution_count": 28,
   "outputs": [
    {
     "data": {
      "text/plain": "(-0.24557717313088576, -0.24545020701456136, -0.2573492209899343)"
     },
     "execution_count": 28,
     "metadata": {},
     "output_type": "execute_result"
    }
   ],
   "source": [
    "train_predictions.mean(), test_predictions.mean(), fast_predictions.mean()\n"
   ],
   "metadata": {
    "collapsed": false,
    "pycharm": {
     "name": "#%%\n"
    }
   }
  },
  {
   "cell_type": "code",
   "execution_count": 29,
   "outputs": [
    {
     "data": {
      "text/plain": "((20308,), (20308,), (19266,))"
     },
     "execution_count": 29,
     "metadata": {},
     "output_type": "execute_result"
    }
   ],
   "source": [
    "train_predictions.shape, test_predictions.shape, fast_predictions.shape\n"
   ],
   "metadata": {
    "collapsed": false,
    "pycharm": {
     "name": "#%%\n"
    }
   }
  },
  {
   "cell_type": "code",
   "execution_count": 30,
   "outputs": [],
   "source": [
    "np.savetxt('open-loop-results/nighttime-slow-auto-linear-model-nighttime-slow-auto-data-prediction-and-ground-truth.csv.gz', np.array([train_predictions, test_predictions, slow_ground_truths]).T)\n",
    "np.savetxt('open-loop-results/nighttime-slow-auto-linear-model-nighttime-fast-auto-data-prediction-and-ground-truth.csv.gz', np.array([fast_predictions, fast_ground_truths]).T)\n"
   ],
   "metadata": {
    "collapsed": false,
    "pycharm": {
     "name": "#%%\n"
    }
   }
  },
  {
   "cell_type": "code",
   "execution_count": 107,
   "outputs": [],
   "source": [],
   "metadata": {
    "collapsed": false,
    "pycharm": {
     "name": "#%%\n"
    }
   }
  }
 ],
 "metadata": {
  "kernelspec": {
   "display_name": "donkey2",
   "language": "python",
   "name": "donkey2"
  },
  "language_info": {
   "codemirror_mode": {
    "name": "ipython",
    "version": 3
   },
   "file_extension": ".py",
   "mimetype": "text/x-python",
   "name": "python",
   "nbconvert_exporter": "python",
   "pygments_lexer": "ipython3",
   "version": "3.7.11"
  },
  "toc-autonumbering": false
 },
 "nbformat": 4,
 "nbformat_minor": 4
}