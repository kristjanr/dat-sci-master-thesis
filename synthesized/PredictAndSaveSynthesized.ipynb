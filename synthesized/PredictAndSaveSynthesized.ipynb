{
 "cells": [
  {
   "cell_type": "markdown",
   "metadata": {
    "pycharm": {
     "name": "#%% md\n"
    }
   },
   "source": [
    "# Save predictions from the models trained with synthesized data to Pandas\n"
   ]
  },
  {
   "cell_type": "code",
   "execution_count": 1,
   "metadata": {
    "collapsed": false,
    "jupyter": {
     "outputs_hidden": false
    },
    "pycharm": {
     "name": "#%%\n"
    }
   },
   "outputs": [],
   "source": [
    "%load_ext autoreload\n",
    "%autoreload 2"
   ]
  },
  {
   "cell_type": "code",
   "execution_count": 2,
   "outputs": [],
   "source": [
    "import sys\n",
    "sys.path.append('donkeycar')\n",
    "sys.path.append('src')"
   ],
   "metadata": {
    "collapsed": false,
    "pycharm": {
     "name": "#%%\n"
    }
   }
  },
  {
   "cell_type": "code",
   "execution_count": 3,
   "outputs": [],
   "source": [
    "import os\n",
    "# do we have the correct env loaded?\n",
    "assert 'donkey2' == os.environ['CONDA_DEFAULT_ENV'], os.environ['CONDA_DEFAULT_ENV']"
   ],
   "metadata": {
    "collapsed": false,
    "pycharm": {
     "name": "#%%\n"
    }
   }
  },
  {
   "cell_type": "code",
   "execution_count": 4,
   "metadata": {
    "pycharm": {
     "name": "#%%\n"
    }
   },
   "outputs": [
    {
     "name": "stdout",
     "output_type": "stream",
     "text": [
      "________             ______                   _________              \r\n",
      "___  __ \\_______________  /___________  __    __  ____/_____ ________\r\n",
      "__  / / /  __ \\_  __ \\_  //_/  _ \\_  / / /    _  /    _  __ `/_  ___/\r\n",
      "_  /_/ // /_/ /  / / /  ,<  /  __/  /_/ /     / /___  / /_/ /_  /    \r\n",
      "/_____/ \\____//_/ /_//_/|_| \\___/_\\__, /      \\____/  \\__,_/ /_/     \r\n",
      "                                 /____/                              \r\n",
      "\r\n",
      "using donkey v4.3.5 ...\r\n",
      "Creating car folder: mycar\r\n",
      "making dir  mycar\r\n",
      "Creating data & model folders.\r\n",
      "making dir  mycar/models\r\n",
      "making dir  mycar/data\r\n",
      "making dir  mycar/logs\r\n",
      "Copying car application template: complete\r\n",
      "Copying car config defaults. Adjust these before starting your car.\r\n",
      "Copying train script. Adjust these before starting your car.\r\n",
      "Copying calibrate script. Adjust these before starting your car.\r\n",
      "Copying my car config overrides\r\n",
      "Donkey setup complete.\r\n",
      "cp: config/myconfig.py: No such file or directory\r\n"
     ]
    }
   ],
   "source": [
    "![ ! -d \"mycar/\" ] && \\\n",
    "donkey createcar --path mycar && \\\n",
    "cp config/myconfig.py mycar/"
   ]
  },
  {
   "cell_type": "code",
   "execution_count": 13,
   "outputs": [
    {
     "name": "stdout",
     "output_type": "stream",
     "text": [
      "loading config file: mycar/config.py\n",
      "loading personal config over-rides from myconfig.py\n"
     ]
    }
   ],
   "source": [
    "import donkeycar as dk\n",
    "cfg = dk.load_config(config_path='mycar/config.py')\n",
    "\n",
    "# None means all the data is used.\n",
    "# use a smaller size, like 200 for testing end to end.\n",
    "TUBRECORD_SIZE = 10150\n",
    "\n",
    "cfg.SEQUENCE_LENGTH = 3\n",
    "cfg.WANDB_ENABLED = False\n",
    "cfg.TRANSFORMATIONS = ['CROP']\n",
    "cfg.ROI_CROP_TOP = 60\n",
    "cfg.ROI_CROP_KEEP_SIZE = False\n",
    "\n",
    "DIRECTION = 'CC'\n",
    "N_FOLDS = 5\n",
    "DATA_PATH = '../data'\n"
   ],
   "metadata": {
    "collapsed": false,
    "pycharm": {
     "name": "#%%\n"
    }
   }
  },
  {
   "cell_type": "code",
   "execution_count": 14,
   "metadata": {
    "collapsed": false,
    "jupyter": {
     "outputs_hidden": false
    },
    "pycharm": {
     "name": "#%%\n"
    }
   },
   "outputs": [
    {
     "name": "stderr",
     "output_type": "stream",
     "text": [
      "INFO:donkeycar.pipeline.types:Loading only the first tub from paths ['../data/slower-autodrive']\n"
     ]
    },
    {
     "name": "stdout",
     "output_type": "stream",
     "text": [
      "Using catalog /Users/kristjan.roosild/PycharmProjects/dat-sci-master-thesis/synthesized/../data/slower-autodrive/catalog_20.catalog\n"
     ]
    },
    {
     "data": {
      "text/plain": "10150"
     },
     "execution_count": 14,
     "metadata": {},
     "output_type": "execute_result"
    }
   ],
   "source": [
    "from dataloader import load_every_second_record\n",
    "fast_speed_data = load_every_second_record('slower-autodrive', cfg, DATA_PATH, TUBRECORD_SIZE)\n",
    "len(fast_speed_data)\n"
   ]
  },
  {
   "cell_type": "code",
   "execution_count": 15,
   "outputs": [
    {
     "name": "stderr",
     "output_type": "stream",
     "text": [
      "INFO:donkeycar.pipeline.types:Loading only the first tub from paths ['../data/slower-autodrive']\n"
     ]
    },
    {
     "name": "stdout",
     "output_type": "stream",
     "text": [
      "Using catalog /Users/kristjan.roosild/PycharmProjects/dat-sci-master-thesis/synthesized/../data/slower-autodrive/catalog_20.catalog\n"
     ]
    },
    {
     "data": {
      "text/plain": "10150"
     },
     "execution_count": 15,
     "metadata": {},
     "output_type": "execute_result"
    }
   ],
   "source": [
    "from dataloader import load_records\n",
    "\n",
    "slow_speed_data = load_records('slower-autodrive', cfg, DATA_PATH, TUBRECORD_SIZE)\n",
    "len(slow_speed_data)\n"
   ],
   "metadata": {
    "collapsed": false,
    "pycharm": {
     "name": "#%%\n"
    }
   }
  },
  {
   "cell_type": "code",
   "execution_count": 16,
   "outputs": [
    {
     "name": "stderr",
     "output_type": "stream",
     "text": [
      "INFO:donkeycar.utils:get_model_by_type: model type is: 3d-modified-steering\n",
      "INFO:donkeycar.parts.keras:input_shape (60, 160, 3) num_outputs 1\n",
      "INFO:donkeycar.parts.keras:Created Keras3D_CNN_ModifiedOnlySteering with interpreter: KerasInterpreter\n",
      "INFO:donkeycar.parts.keras:Num outputs 1\n",
      "INFO:donkeycar.parts.keras:Sequence length 3\n"
     ]
    },
    {
     "name": "stdout",
     "output_type": "stream",
     "text": [
      "Model: \"3dcnn\"\n",
      "_________________________________________________________________\n",
      " Layer (type)                Output Shape              Param #   \n",
      "=================================================================\n",
      " img_in (InputLayer)         [(None, 3, 60, 160, 3)]   0         \n",
      "                                                                 \n",
      " conv3d_6 (Conv3D)           (None, 1, 20, 53, 16)     1312      \n",
      "                                                                 \n",
      " max_pooling3d_4 (MaxPooling  (None, 1, 10, 26, 16)    0         \n",
      " 3D)                                                             \n",
      "                                                                 \n",
      " conv3d_7 (Conv3D)           (None, 1, 10, 26, 32)     4640      \n",
      "                                                                 \n",
      " max_pooling3d_5 (MaxPooling  (None, 1, 5, 13, 32)     0         \n",
      " 3D)                                                             \n",
      "                                                                 \n",
      " conv3d_8 (Conv3D)           (None, 1, 5, 13, 32)      9248      \n",
      "                                                                 \n",
      " flatten_2 (Flatten)         (None, 2080)              0         \n",
      "                                                                 \n",
      " dense_4 (Dense)             (None, 128)               266368    \n",
      "                                                                 \n",
      " batch_normalization_4 (Batc  (None, 128)              512       \n",
      " hNormalization)                                                 \n",
      "                                                                 \n",
      " activation_4 (Activation)   (None, 128)               0         \n",
      "                                                                 \n",
      " dropout_4 (Dropout)         (None, 128)               0         \n",
      "                                                                 \n",
      " dense_5 (Dense)             (None, 256)               33024     \n",
      "                                                                 \n",
      " batch_normalization_5 (Batc  (None, 256)              1024      \n",
      " hNormalization)                                                 \n",
      "                                                                 \n",
      " activation_5 (Activation)   (None, 256)               0         \n",
      "                                                                 \n",
      " dropout_5 (Dropout)         (None, 256)               0         \n",
      "                                                                 \n",
      " outputs (Dense)             (None, 1)                 257       \n",
      "                                                                 \n",
      "=================================================================\n",
      "Total params: 316,385\n",
      "Trainable params: 315,617\n",
      "Non-trainable params: 768\n",
      "_________________________________________________________________\n"
     ]
    }
   ],
   "source": [
    "from donkeycar.utils import get_model_by_type\n",
    "\n",
    "model_type = '3d-modified-steering'\n",
    "model = get_model_by_type(model_type, cfg)\n",
    "model.interpreter.model.summary()"
   ],
   "metadata": {
    "collapsed": false,
    "pycharm": {
     "name": "#%%\n"
    }
   }
  },
  {
   "cell_type": "code",
   "execution_count": 17,
   "outputs": [
    {
     "name": "stdout",
     "output_type": "stream",
     "text": [
      "seq size 3\n",
      "len ground_truth 10150\n",
      "seq size 3\n",
      "len ground_truth 10150\n"
     ]
    }
   ],
   "source": [
    "from losses import get_ground_truth\n",
    "fast_ground_truths = get_ground_truth(model, fast_speed_data)\n",
    "slow_ground_truths = get_ground_truth(model, slow_speed_data)\n"
   ],
   "metadata": {
    "collapsed": false,
    "pycharm": {
     "name": "#%%\n"
    }
   }
  },
  {
   "cell_type": "code",
   "execution_count": 18,
   "outputs": [
    {
     "name": "stderr",
     "output_type": "stream",
     "text": [
      "INFO:donkeycar.utils:get_model_by_type: model type is: 3d-modified-steering\n",
      "INFO:donkeycar.parts.keras:input_shape (60, 160, 3) num_outputs 1\n",
      "INFO:donkeycar.parts.keras:Created Keras3D_CNN_ModifiedOnlySteering with interpreter: KerasInterpreter\n",
      "INFO:donkeycar.parts.keras:Num outputs 1\n",
      "INFO:donkeycar.parts.keras:Sequence length 3\n",
      "INFO:donkeycar.parts.keras:Loading model /Volumes/GoogleDrive/My Drive/maka/open-loop/models/nighttime-fast-synth-auto-3d-5-folds/Keras3D_CNN_ModifiedOnlySteering-1.fold-of-5-CC.h5\n",
      "INFO:donkeycar.parts.interpreter:Loading model /Volumes/GoogleDrive/My Drive/maka/open-loop/models/nighttime-fast-synth-auto-3d-5-folds/Keras3D_CNN_ModifiedOnlySteering-1.fold-of-5-CC.h5\n"
     ]
    },
    {
     "name": "stdout",
     "output_type": "stream",
     "text": [
      "63/63 [==============================] - 59s 929ms/step\n",
      "predictions shape (8063,)\n",
      "17/17 [==============================] - 15s 849ms/step\n",
      "predictions shape (2087,)\n",
      "80/80 [==============================] - 70s 871ms/step\n"
     ]
    },
    {
     "name": "stderr",
     "output_type": "stream",
     "text": [
      "INFO:donkeycar.utils:get_model_by_type: model type is: 3d-modified-steering\n",
      "INFO:donkeycar.parts.keras:input_shape (60, 160, 3) num_outputs 1\n",
      "INFO:donkeycar.parts.keras:Created Keras3D_CNN_ModifiedOnlySteering with interpreter: KerasInterpreter\n",
      "INFO:donkeycar.parts.keras:Num outputs 1\n",
      "INFO:donkeycar.parts.keras:Sequence length 3\n",
      "INFO:donkeycar.parts.keras:Loading model /Volumes/GoogleDrive/My Drive/maka/open-loop/models/nighttime-fast-synth-auto-3d-5-folds/Keras3D_CNN_ModifiedOnlySteering-2.fold-of-5-CC.h5\n",
      "INFO:donkeycar.parts.interpreter:Loading model /Volumes/GoogleDrive/My Drive/maka/open-loop/models/nighttime-fast-synth-auto-3d-5-folds/Keras3D_CNN_ModifiedOnlySteering-2.fold-of-5-CC.h5\n"
     ]
    },
    {
     "name": "stdout",
     "output_type": "stream",
     "text": [
      "predictions shape (10150,)\n",
      "63/63 [==============================] - 19s 306ms/step\n",
      "predictions shape (8063,)\n",
      "17/17 [==============================] - 6s 333ms/step\n",
      "predictions shape (2087,)\n",
      "80/80 [==============================] - 25s 316ms/step\n"
     ]
    },
    {
     "name": "stderr",
     "output_type": "stream",
     "text": [
      "INFO:donkeycar.utils:get_model_by_type: model type is: 3d-modified-steering\n",
      "INFO:donkeycar.parts.keras:input_shape (60, 160, 3) num_outputs 1\n",
      "INFO:donkeycar.parts.keras:Created Keras3D_CNN_ModifiedOnlySteering with interpreter: KerasInterpreter\n",
      "INFO:donkeycar.parts.keras:Num outputs 1\n",
      "INFO:donkeycar.parts.keras:Sequence length 3\n",
      "INFO:donkeycar.parts.keras:Loading model /Volumes/GoogleDrive/My Drive/maka/open-loop/models/nighttime-fast-synth-auto-3d-5-folds/Keras3D_CNN_ModifiedOnlySteering-3.fold-of-5-CC.h5\n",
      "INFO:donkeycar.parts.interpreter:Loading model /Volumes/GoogleDrive/My Drive/maka/open-loop/models/nighttime-fast-synth-auto-3d-5-folds/Keras3D_CNN_ModifiedOnlySteering-3.fold-of-5-CC.h5\n"
     ]
    },
    {
     "name": "stdout",
     "output_type": "stream",
     "text": [
      "predictions shape (10150,)\n",
      "64/64 [==============================] - 20s 311ms/step\n",
      "predictions shape (8158,)\n",
      "16/16 [==============================] - 6s 363ms/step\n",
      "predictions shape (1992,)\n",
      "80/80 [==============================] - 25s 311ms/step\n"
     ]
    },
    {
     "name": "stderr",
     "output_type": "stream",
     "text": [
      "INFO:donkeycar.utils:get_model_by_type: model type is: 3d-modified-steering\n",
      "INFO:donkeycar.parts.keras:input_shape (60, 160, 3) num_outputs 1\n",
      "INFO:donkeycar.parts.keras:Created Keras3D_CNN_ModifiedOnlySteering with interpreter: KerasInterpreter\n",
      "INFO:donkeycar.parts.keras:Num outputs 1\n",
      "INFO:donkeycar.parts.keras:Sequence length 3\n",
      "INFO:donkeycar.parts.keras:Loading model /Volumes/GoogleDrive/My Drive/maka/open-loop/models/nighttime-fast-synth-auto-3d-5-folds/Keras3D_CNN_ModifiedOnlySteering-4.fold-of-5-CC.h5\n",
      "INFO:donkeycar.parts.interpreter:Loading model /Volumes/GoogleDrive/My Drive/maka/open-loop/models/nighttime-fast-synth-auto-3d-5-folds/Keras3D_CNN_ModifiedOnlySteering-4.fold-of-5-CC.h5\n"
     ]
    },
    {
     "name": "stdout",
     "output_type": "stream",
     "text": [
      "predictions shape (10150,)\n",
      "64/64 [==============================] - 22s 336ms/step\n",
      "predictions shape (8158,)\n",
      "16/16 [==============================] - 9s 568ms/step\n",
      "predictions shape (1992,)\n",
      "80/80 [==============================] - 37s 459ms/step\n"
     ]
    },
    {
     "name": "stderr",
     "output_type": "stream",
     "text": [
      "INFO:donkeycar.utils:get_model_by_type: model type is: 3d-modified-steering\n",
      "INFO:donkeycar.parts.keras:input_shape (60, 160, 3) num_outputs 1\n"
     ]
    },
    {
     "name": "stdout",
     "output_type": "stream",
     "text": [
      "predictions shape (10150,)\n"
     ]
    },
    {
     "name": "stderr",
     "output_type": "stream",
     "text": [
      "INFO:donkeycar.parts.keras:Created Keras3D_CNN_ModifiedOnlySteering with interpreter: KerasInterpreter\n",
      "INFO:donkeycar.parts.keras:Num outputs 1\n",
      "INFO:donkeycar.parts.keras:Sequence length 3\n",
      "INFO:donkeycar.parts.keras:Loading model /Volumes/GoogleDrive/My Drive/maka/open-loop/models/nighttime-fast-synth-auto-3d-5-folds/Keras3D_CNN_ModifiedOnlySteering-5.fold-of-5-CC.h5\n",
      "INFO:donkeycar.parts.interpreter:Loading model /Volumes/GoogleDrive/My Drive/maka/open-loop/models/nighttime-fast-synth-auto-3d-5-folds/Keras3D_CNN_ModifiedOnlySteering-5.fold-of-5-CC.h5\n"
     ]
    },
    {
     "name": "stdout",
     "output_type": "stream",
     "text": [
      "64/64 [==============================] - 24s 371ms/step\n",
      "predictions shape (8158,)\n",
      "16/16 [==============================] - 6s 391ms/step\n",
      "predictions shape (1992,)\n",
      "80/80 [==============================] - 26s 320ms/step\n",
      "predictions shape (10150,)\n"
     ]
    }
   ],
   "source": [
    "from dataloader import get_fold_indices\n",
    "from losses import get_predictions\n",
    "from model_loader import load_model\n",
    "import numpy as np\n",
    "\n",
    "\n",
    "train_predictions = np.zeros(len(fast_speed_data))\n",
    "test_predictions = np.zeros(len(fast_speed_data))\n",
    "slow_predictions = np.zeros(len(slow_speed_data))\n",
    "\n",
    "MODELS_PATH = '/Volumes/GoogleDrive/My Drive/maka/open-loop/models/nighttime-fast-synth-auto-3d-5-folds'\n",
    "\n",
    "for fold, (train_index, test_index) in enumerate(get_fold_indices(fast_speed_data), start=1):\n",
    "    train_records = [fast_speed_data[i] for i in train_index]\n",
    "    test_records = [fast_speed_data[i] for i in test_index]\n",
    "    trained_model = load_model(MODELS_PATH, model_type, cfg, DIRECTION, N_FOLDS, fold)\n",
    "    fold_train_predictions = np.zeros(len(fast_speed_data))\n",
    "    np.put(fold_train_predictions, train_index, get_predictions(trained_model, cfg, train_records))\n",
    "    train_predictions += fold_train_predictions\n",
    "\n",
    "    fold_test_predictions = get_predictions(trained_model, cfg, test_records)\n",
    "    np.put(test_predictions, test_index, fold_test_predictions)\n",
    "\n",
    "    fold_slow_predictions = get_predictions(trained_model, cfg, slow_speed_data)\n",
    "    slow_predictions += fold_slow_predictions\n",
    "\n",
    "train_predictions /= (N_FOLDS-1)\n",
    "slow_predictions /= N_FOLDS"
   ],
   "metadata": {
    "collapsed": false,
    "pycharm": {
     "name": "#%%\n"
    }
   }
  },
  {
   "cell_type": "code",
   "execution_count": 19,
   "outputs": [
    {
     "data": {
      "text/plain": "(-0.25410469849451717, -0.25303979723819814, -0.25240241868302155)"
     },
     "execution_count": 19,
     "metadata": {},
     "output_type": "execute_result"
    }
   ],
   "source": [
    "train_predictions.mean(), test_predictions.mean(), slow_predictions.mean()\n"
   ],
   "metadata": {
    "collapsed": false,
    "pycharm": {
     "name": "#%%\n"
    }
   }
  },
  {
   "cell_type": "code",
   "execution_count": 20,
   "outputs": [
    {
     "data": {
      "text/plain": "((10150,), (10150,), (10150,))"
     },
     "execution_count": 20,
     "metadata": {},
     "output_type": "execute_result"
    }
   ],
   "source": [
    "train_predictions.shape, test_predictions.shape, slow_predictions.shape\n"
   ],
   "metadata": {
    "collapsed": false,
    "pycharm": {
     "name": "#%%\n"
    }
   }
  },
  {
   "cell_type": "code",
   "execution_count": 21,
   "outputs": [],
   "source": [
    "np.save('nighttime-fast-auto-3d-model-nighttime-synth-fast-synth-auto-data-prediction-and-ground-truth.npy', np.array([train_predictions, test_predictions, fast_ground_truths]).T)\n",
    "np.save('nighttime-fast-auto-3d-model-nighttime-synth-slow-auto-data-prediction-and-ground-truth.npy', np.array([slow_predictions, slow_ground_truths]).T)\n"
   ],
   "metadata": {
    "collapsed": false,
    "pycharm": {
     "name": "#%%\n"
    }
   }
  },
  {
   "cell_type": "code",
   "execution_count": 22,
   "outputs": [
    {
     "name": "stderr",
     "output_type": "stream",
     "text": [
      "INFO:donkeycar.utils:get_model_by_type: model type is: 3d-modified-steering\n",
      "INFO:donkeycar.parts.keras:input_shape (60, 160, 3) num_outputs 1\n",
      "INFO:donkeycar.parts.keras:Created Keras3D_CNN_ModifiedOnlySteering with interpreter: KerasInterpreter\n",
      "INFO:donkeycar.parts.keras:Num outputs 1\n",
      "INFO:donkeycar.parts.keras:Sequence length 3\n",
      "INFO:donkeycar.parts.keras:Loading model /Volumes/GoogleDrive/My Drive/maka/open-loop/models/nighttime-auto-3d-5-folds-with-half-slow-speed-data/Keras3D_CNN_ModifiedOnlySteering-1.fold-of-5-CC.h5\n",
      "INFO:donkeycar.parts.interpreter:Loading model /Volumes/GoogleDrive/My Drive/maka/open-loop/models/nighttime-auto-3d-5-folds-with-half-slow-speed-data/Keras3D_CNN_ModifiedOnlySteering-1.fold-of-5-CC.h5\n"
     ]
    },
    {
     "name": "stdout",
     "output_type": "stream",
     "text": [
      "63/63 [==============================] - 14s 221ms/step\n",
      "predictions shape (8063,)\n",
      "17/17 [==============================] - 4s 234ms/step\n",
      "predictions shape (2087,)\n",
      "80/80 [==============================] - 21s 256ms/step\n"
     ]
    },
    {
     "name": "stderr",
     "output_type": "stream",
     "text": [
      "INFO:donkeycar.utils:get_model_by_type: model type is: 3d-modified-steering\n",
      "INFO:donkeycar.parts.keras:input_shape (60, 160, 3) num_outputs 1\n",
      "INFO:donkeycar.parts.keras:Created Keras3D_CNN_ModifiedOnlySteering with interpreter: KerasInterpreter\n",
      "INFO:donkeycar.parts.keras:Num outputs 1\n",
      "INFO:donkeycar.parts.keras:Sequence length 3\n",
      "INFO:donkeycar.parts.keras:Loading model /Volumes/GoogleDrive/My Drive/maka/open-loop/models/nighttime-auto-3d-5-folds-with-half-slow-speed-data/Keras3D_CNN_ModifiedOnlySteering-2.fold-of-5-CC.h5\n",
      "INFO:donkeycar.parts.interpreter:Loading model /Volumes/GoogleDrive/My Drive/maka/open-loop/models/nighttime-auto-3d-5-folds-with-half-slow-speed-data/Keras3D_CNN_ModifiedOnlySteering-2.fold-of-5-CC.h5\n"
     ]
    },
    {
     "name": "stdout",
     "output_type": "stream",
     "text": [
      "predictions shape (10150,)\n",
      "63/63 [==============================] - 17s 261ms/step\n",
      "predictions shape (8063,)\n",
      "17/17 [==============================] - 5s 270ms/step\n",
      "predictions shape (2087,)\n",
      "80/80 [==============================] - 20s 251ms/step\n"
     ]
    },
    {
     "name": "stderr",
     "output_type": "stream",
     "text": [
      "INFO:donkeycar.utils:get_model_by_type: model type is: 3d-modified-steering\n",
      "INFO:donkeycar.parts.keras:input_shape (60, 160, 3) num_outputs 1\n",
      "INFO:donkeycar.parts.keras:Created Keras3D_CNN_ModifiedOnlySteering with interpreter: KerasInterpreter\n",
      "INFO:donkeycar.parts.keras:Num outputs 1\n",
      "INFO:donkeycar.parts.keras:Sequence length 3\n",
      "INFO:donkeycar.parts.keras:Loading model /Volumes/GoogleDrive/My Drive/maka/open-loop/models/nighttime-auto-3d-5-folds-with-half-slow-speed-data/Keras3D_CNN_ModifiedOnlySteering-3.fold-of-5-CC.h5\n",
      "INFO:donkeycar.parts.interpreter:Loading model /Volumes/GoogleDrive/My Drive/maka/open-loop/models/nighttime-auto-3d-5-folds-with-half-slow-speed-data/Keras3D_CNN_ModifiedOnlySteering-3.fold-of-5-CC.h5\n"
     ]
    },
    {
     "name": "stdout",
     "output_type": "stream",
     "text": [
      "predictions shape (10150,)\n",
      "64/64 [==============================] - 17s 259ms/step\n",
      "predictions shape (8158,)\n",
      "16/16 [==============================] - 5s 321ms/step\n",
      "predictions shape (1992,)\n",
      "80/80 [==============================] - 23s 292ms/step\n"
     ]
    },
    {
     "name": "stderr",
     "output_type": "stream",
     "text": [
      "INFO:donkeycar.utils:get_model_by_type: model type is: 3d-modified-steering\n",
      "INFO:donkeycar.parts.keras:input_shape (60, 160, 3) num_outputs 1\n",
      "INFO:donkeycar.parts.keras:Created Keras3D_CNN_ModifiedOnlySteering with interpreter: KerasInterpreter\n",
      "INFO:donkeycar.parts.keras:Num outputs 1\n",
      "INFO:donkeycar.parts.keras:Sequence length 3\n",
      "INFO:donkeycar.parts.keras:Loading model /Volumes/GoogleDrive/My Drive/maka/open-loop/models/nighttime-auto-3d-5-folds-with-half-slow-speed-data/Keras3D_CNN_ModifiedOnlySteering-4.fold-of-5-CC.h5\n",
      "INFO:donkeycar.parts.interpreter:Loading model /Volumes/GoogleDrive/My Drive/maka/open-loop/models/nighttime-auto-3d-5-folds-with-half-slow-speed-data/Keras3D_CNN_ModifiedOnlySteering-4.fold-of-5-CC.h5\n"
     ]
    },
    {
     "name": "stdout",
     "output_type": "stream",
     "text": [
      "predictions shape (10150,)\n",
      "64/64 [==============================] - 17s 268ms/step\n",
      "predictions shape (8158,)\n",
      "16/16 [==============================] - 4s 273ms/step\n",
      "predictions shape (1992,)\n",
      "80/80 [==============================] - 21s 258ms/step\n"
     ]
    },
    {
     "name": "stderr",
     "output_type": "stream",
     "text": [
      "INFO:donkeycar.utils:get_model_by_type: model type is: 3d-modified-steering\n",
      "INFO:donkeycar.parts.keras:input_shape (60, 160, 3) num_outputs 1\n",
      "INFO:donkeycar.parts.keras:Created Keras3D_CNN_ModifiedOnlySteering with interpreter: KerasInterpreter\n",
      "INFO:donkeycar.parts.keras:Num outputs 1\n",
      "INFO:donkeycar.parts.keras:Sequence length 3\n",
      "INFO:donkeycar.parts.keras:Loading model /Volumes/GoogleDrive/My Drive/maka/open-loop/models/nighttime-auto-3d-5-folds-with-half-slow-speed-data/Keras3D_CNN_ModifiedOnlySteering-5.fold-of-5-CC.h5\n",
      "INFO:donkeycar.parts.interpreter:Loading model /Volumes/GoogleDrive/My Drive/maka/open-loop/models/nighttime-auto-3d-5-folds-with-half-slow-speed-data/Keras3D_CNN_ModifiedOnlySteering-5.fold-of-5-CC.h5\n"
     ]
    },
    {
     "name": "stdout",
     "output_type": "stream",
     "text": [
      "predictions shape (10150,)\n",
      "64/64 [==============================] - 14s 221ms/step\n",
      "predictions shape (8158,)\n",
      "16/16 [==============================] - 4s 232ms/step\n",
      "predictions shape (1992,)\n",
      "80/80 [==============================] - 19s 231ms/step\n",
      "predictions shape (10150,)\n"
     ]
    }
   ],
   "source": [
    "\n",
    "train_predictions = np.zeros(len(slow_speed_data))\n",
    "test_predictions = np.zeros(len(slow_speed_data))\n",
    "fast_predictions = np.zeros(len(fast_speed_data))\n",
    "\n",
    "MODELS_PATH = '/Volumes/GoogleDrive/My Drive/maka/open-loop/models/nighttime-auto-3d-5-folds-with-half-slow-speed-data'\n",
    "\n",
    "for fold, (train_index, test_index) in enumerate(get_fold_indices(slow_speed_data), start=1):\n",
    "    train_records = [slow_speed_data[i] for i in train_index]\n",
    "    test_records = [slow_speed_data[i] for i in test_index]\n",
    "    trained_model = load_model(MODELS_PATH, model_type, cfg, DIRECTION, N_FOLDS, fold)\n",
    "    fold_train_predictions = np.zeros(len(slow_speed_data))\n",
    "    np.put(fold_train_predictions, train_index, get_predictions(trained_model, cfg, train_records))\n",
    "    train_predictions += fold_train_predictions\n",
    "\n",
    "    fold_test_predictions = get_predictions(trained_model, cfg, test_records)\n",
    "    np.put(test_predictions, test_index, fold_test_predictions)\n",
    "\n",
    "    fold_fast_predictions = get_predictions(trained_model, cfg, fast_speed_data)\n",
    "    fast_predictions += fold_fast_predictions\n",
    "\n",
    "train_predictions /= (N_FOLDS-1)\n",
    "fast_predictions /= N_FOLDS"
   ],
   "metadata": {
    "collapsed": false,
    "pycharm": {
     "name": "#%%\n"
    }
   }
  },
  {
   "cell_type": "code",
   "execution_count": 23,
   "outputs": [
    {
     "data": {
      "text/plain": "(-0.25744864634380404, -0.25722181979456704, -0.2564220145786264)"
     },
     "execution_count": 23,
     "metadata": {},
     "output_type": "execute_result"
    }
   ],
   "source": [
    "train_predictions.mean(), test_predictions.mean(), fast_predictions.mean()\n"
   ],
   "metadata": {
    "collapsed": false,
    "pycharm": {
     "name": "#%%\n"
    }
   }
  },
  {
   "cell_type": "code",
   "execution_count": 24,
   "outputs": [
    {
     "data": {
      "text/plain": "((10150,), (10150,), (10150,))"
     },
     "execution_count": 24,
     "metadata": {},
     "output_type": "execute_result"
    }
   ],
   "source": [
    "train_predictions.shape, test_predictions.shape, fast_predictions.shape\n"
   ],
   "metadata": {
    "collapsed": false,
    "pycharm": {
     "name": "#%%\n"
    }
   }
  },
  {
   "cell_type": "markdown",
   "source": [],
   "metadata": {
    "collapsed": false,
    "pycharm": {
     "name": "#%% md\n"
    }
   }
  },
  {
   "cell_type": "code",
   "execution_count": 25,
   "outputs": [],
   "source": [
    "np.save('nighttime-slow-auto-3d-model-nighttime-slow-auto-data-prediction-and-ground-truth.npy', np.array([train_predictions, test_predictions, slow_ground_truths]).T)\n",
    "np.save('nighttime-slow-auto-3d-model-nighttime-fast-synth-auto-data-prediction-and-ground-truth.npy', np.array([fast_predictions, fast_ground_truths]).T)\n"
   ],
   "metadata": {
    "collapsed": false,
    "pycharm": {
     "name": "#%%\n"
    }
   }
  }
 ],
 "metadata": {
  "kernelspec": {
   "display_name": "donkey2",
   "language": "python",
   "name": "donkey2"
  },
  "language_info": {
   "codemirror_mode": {
    "name": "ipython",
    "version": 3
   },
   "file_extension": ".py",
   "mimetype": "text/x-python",
   "name": "python",
   "nbconvert_exporter": "python",
   "pygments_lexer": "ipython3",
   "version": "3.7.11"
  },
  "toc-autonumbering": false
 },
 "nbformat": 4,
 "nbformat_minor": 4
}