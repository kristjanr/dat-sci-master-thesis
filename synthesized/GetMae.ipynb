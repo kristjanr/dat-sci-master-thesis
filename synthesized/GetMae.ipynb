{
 "cells": [
  {
   "cell_type": "markdown",
   "metadata": {
    "pycharm": {
     "name": "#%% md\n"
    }
   },
   "source": [
    "# Mean Absolute errors\n"
   ]
  },
  {
   "cell_type": "code",
   "execution_count": 1,
   "metadata": {
    "collapsed": false,
    "jupyter": {
     "outputs_hidden": false
    },
    "pycharm": {
     "name": "#%%\n"
    }
   },
   "outputs": [],
   "source": [
    "%load_ext autoreload\n",
    "%autoreload 2"
   ]
  },
  {
   "cell_type": "code",
   "execution_count": 2,
   "outputs": [],
   "source": [
    "import os\n",
    "# do we have the correct env loaded?\n",
    "assert 'donkey2' == os.environ['CONDA_DEFAULT_ENV'], os.environ['CONDA_DEFAULT_ENV']"
   ],
   "metadata": {
    "collapsed": false,
    "pycharm": {
     "name": "#%%\n"
    }
   }
  },
  {
   "cell_type": "code",
   "execution_count": 3,
   "outputs": [],
   "source": [
    "import numpy as np\n",
    "fast_model_fast_data_3d = np.load('nighttime-fast-auto-3d-model-nighttime-synth-fast-synth-auto-data-prediction-and-ground-truth.npy')\n",
    "fast_model_slow_data_3d = np.load('nighttime-fast-auto-3d-model-nighttime-synth-slow-auto-data-prediction-and-ground-truth.npy')\n",
    "slow_model_fast_data_3d = np.load('nighttime-slow-auto-3d-model-nighttime-fast-synth-auto-data-prediction-and-ground-truth.npy')\n",
    "slow_model_slow_data_3d = np.load('nighttime-slow-auto-3d-model-nighttime-slow-auto-data-prediction-and-ground-truth.npy')\n",
    "\n"
   ],
   "metadata": {
    "collapsed": false,
    "pycharm": {
     "name": "#%%\n"
    }
   }
  },
  {
   "cell_type": "code",
   "execution_count": 4,
   "outputs": [],
   "source": [
    "preds_and_ground_truths = dict(\n",
    "    fast_fast_3d=fast_model_fast_data_3d,\n",
    "    slow_fast_3d=slow_model_fast_data_3d,\n",
    "    fast_slow_3d=fast_model_slow_data_3d,\n",
    "    slow_slow_3d=slow_model_slow_data_3d,\n",
    ")"
   ],
   "metadata": {
    "collapsed": false,
    "pycharm": {
     "name": "#%%\n"
    }
   }
  },
  {
   "cell_type": "code",
   "execution_count": 5,
   "outputs": [
    {
     "data": {
      "text/plain": "      model speed model type data speed  ground_truth_angle  predicted_angle\n0            fast         3d       fast           -0.170407        -0.179481\n1            fast         3d       fast           -0.135117        -0.126676\n2            fast         3d       fast           -0.084213        -0.096450\n3            fast         3d       fast           -0.036450        -0.033739\n4            fast         3d       fast            0.005086         0.045538\n...           ...        ...        ...                 ...              ...\n40595        slow         3d       slow           -0.448041        -0.488623\n40596        slow         3d       slow           -0.389852        -0.442383\n40597        slow         3d       slow           -0.368167        -0.426429\n40598        slow         3d       slow           -0.345837        -0.398514\n40599        slow         3d       slow           -0.299139        -0.395913\n\n[40600 rows x 5 columns]",
      "text/html": "<div>\n<style scoped>\n    .dataframe tbody tr th:only-of-type {\n        vertical-align: middle;\n    }\n\n    .dataframe tbody tr th {\n        vertical-align: top;\n    }\n\n    .dataframe thead th {\n        text-align: right;\n    }\n</style>\n<table border=\"1\" class=\"dataframe\">\n  <thead>\n    <tr style=\"text-align: right;\">\n      <th></th>\n      <th>model speed</th>\n      <th>model type</th>\n      <th>data speed</th>\n      <th>ground_truth_angle</th>\n      <th>predicted_angle</th>\n    </tr>\n  </thead>\n  <tbody>\n    <tr>\n      <th>0</th>\n      <td>fast</td>\n      <td>3d</td>\n      <td>fast</td>\n      <td>-0.170407</td>\n      <td>-0.179481</td>\n    </tr>\n    <tr>\n      <th>1</th>\n      <td>fast</td>\n      <td>3d</td>\n      <td>fast</td>\n      <td>-0.135117</td>\n      <td>-0.126676</td>\n    </tr>\n    <tr>\n      <th>2</th>\n      <td>fast</td>\n      <td>3d</td>\n      <td>fast</td>\n      <td>-0.084213</td>\n      <td>-0.096450</td>\n    </tr>\n    <tr>\n      <th>3</th>\n      <td>fast</td>\n      <td>3d</td>\n      <td>fast</td>\n      <td>-0.036450</td>\n      <td>-0.033739</td>\n    </tr>\n    <tr>\n      <th>4</th>\n      <td>fast</td>\n      <td>3d</td>\n      <td>fast</td>\n      <td>0.005086</td>\n      <td>0.045538</td>\n    </tr>\n    <tr>\n      <th>...</th>\n      <td>...</td>\n      <td>...</td>\n      <td>...</td>\n      <td>...</td>\n      <td>...</td>\n    </tr>\n    <tr>\n      <th>40595</th>\n      <td>slow</td>\n      <td>3d</td>\n      <td>slow</td>\n      <td>-0.448041</td>\n      <td>-0.488623</td>\n    </tr>\n    <tr>\n      <th>40596</th>\n      <td>slow</td>\n      <td>3d</td>\n      <td>slow</td>\n      <td>-0.389852</td>\n      <td>-0.442383</td>\n    </tr>\n    <tr>\n      <th>40597</th>\n      <td>slow</td>\n      <td>3d</td>\n      <td>slow</td>\n      <td>-0.368167</td>\n      <td>-0.426429</td>\n    </tr>\n    <tr>\n      <th>40598</th>\n      <td>slow</td>\n      <td>3d</td>\n      <td>slow</td>\n      <td>-0.345837</td>\n      <td>-0.398514</td>\n    </tr>\n    <tr>\n      <th>40599</th>\n      <td>slow</td>\n      <td>3d</td>\n      <td>slow</td>\n      <td>-0.299139</td>\n      <td>-0.395913</td>\n    </tr>\n  </tbody>\n</table>\n<p>40600 rows × 5 columns</p>\n</div>"
     },
     "execution_count": 5,
     "metadata": {},
     "output_type": "execute_result"
    }
   ],
   "source": [
    "import pandas as pd\n",
    "\n",
    "records = []\n",
    "\n",
    "for name, data in preds_and_ground_truths.items():\n",
    "    model_speed = name.split('_')[0]\n",
    "    model_type = name.split('_')[2]\n",
    "    data_speed = name.split('_')[1]\n",
    "    for (gt, pred) in zip(data[:, data.shape[1] - 1], data[:, data.shape[1] - 2]):\n",
    "        dd = dict()\n",
    "        dd['model speed'] = model_speed\n",
    "        dd['model type'] = model_type\n",
    "        dd['data speed'] = data_speed\n",
    "        dd['ground_truth_angle'] = gt\n",
    "        dd['predicted_angle'] = pred\n",
    "        records.append(dd)\n",
    "df = pd.DataFrame.from_records(records)\n",
    "\n",
    "df.to_csv('gt_and_preds.csv.gz')\n",
    "df"
   ],
   "metadata": {
    "collapsed": false,
    "pycharm": {
     "name": "#%%\n"
    }
   }
  },
  {
   "cell_type": "code",
   "execution_count": 6,
   "outputs": [],
   "source": [
    "df['mean absolute ground truth angle'] = abs(df.ground_truth_angle)\n",
    "df['mean absolute predicted angle'] = abs(df.predicted_angle)\n",
    "df['mean absolute error'] = abs(df.predicted_angle - df.ground_truth_angle)\n",
    "df = df.drop(columns=['ground_truth_angle', 'predicted_angle'])"
   ],
   "metadata": {
    "collapsed": false,
    "pycharm": {
     "name": "#%%\n"
    }
   }
  },
  {
   "cell_type": "code",
   "execution_count": 7,
   "outputs": [
    {
     "data": {
      "text/plain": "                                   mean absolute ground truth angle  \\\nmodel speed model type data speed                                     \nfast        3d         fast                                0.348779   \n                       slow                                0.348622   \nslow        3d         fast                                0.348779   \n                       slow                                0.348622   \n\n                                   mean absolute predicted angle  \\\nmodel speed model type data speed                                  \nfast        3d         fast                             0.340130   \n                       slow                             0.336579   \nslow        3d         fast                             0.269072   \n                       slow                             0.337147   \n\n                                   mean absolute error  \nmodel speed model type data speed                       \nfast        3d         fast                   0.056652  \n                       slow                   0.058538  \nslow        3d         fast                   0.096206  \n                       slow                   0.085675  ",
      "text/html": "<div>\n<style scoped>\n    .dataframe tbody tr th:only-of-type {\n        vertical-align: middle;\n    }\n\n    .dataframe tbody tr th {\n        vertical-align: top;\n    }\n\n    .dataframe thead th {\n        text-align: right;\n    }\n</style>\n<table border=\"1\" class=\"dataframe\">\n  <thead>\n    <tr style=\"text-align: right;\">\n      <th></th>\n      <th></th>\n      <th></th>\n      <th>mean absolute ground truth angle</th>\n      <th>mean absolute predicted angle</th>\n      <th>mean absolute error</th>\n    </tr>\n    <tr>\n      <th>model speed</th>\n      <th>model type</th>\n      <th>data speed</th>\n      <th></th>\n      <th></th>\n      <th></th>\n    </tr>\n  </thead>\n  <tbody>\n    <tr>\n      <th rowspan=\"2\" valign=\"top\">fast</th>\n      <th rowspan=\"2\" valign=\"top\">3d</th>\n      <th>fast</th>\n      <td>0.348779</td>\n      <td>0.340130</td>\n      <td>0.056652</td>\n    </tr>\n    <tr>\n      <th>slow</th>\n      <td>0.348622</td>\n      <td>0.336579</td>\n      <td>0.058538</td>\n    </tr>\n    <tr>\n      <th rowspan=\"2\" valign=\"top\">slow</th>\n      <th rowspan=\"2\" valign=\"top\">3d</th>\n      <th>fast</th>\n      <td>0.348779</td>\n      <td>0.269072</td>\n      <td>0.096206</td>\n    </tr>\n    <tr>\n      <th>slow</th>\n      <td>0.348622</td>\n      <td>0.337147</td>\n      <td>0.085675</td>\n    </tr>\n  </tbody>\n</table>\n</div>"
     },
     "execution_count": 7,
     "metadata": {},
     "output_type": "execute_result"
    }
   ],
   "source": [
    "df.groupby(['model speed', 'model type', 'data speed']).mean()"
   ],
   "metadata": {
    "collapsed": false,
    "pycharm": {
     "name": "#%%\n"
    }
   }
  },
  {
   "cell_type": "code",
   "execution_count": null,
   "outputs": [],
   "source": [],
   "metadata": {
    "collapsed": false,
    "pycharm": {
     "name": "#%%\n"
    }
   }
  }
 ],
 "metadata": {
  "kernelspec": {
   "display_name": "donkey2",
   "language": "python",
   "name": "donkey2"
  },
  "language_info": {
   "codemirror_mode": {
    "name": "ipython",
    "version": 3
   },
   "file_extension": ".py",
   "mimetype": "text/x-python",
   "name": "python",
   "nbconvert_exporter": "python",
   "pygments_lexer": "ipython3",
   "version": "3.7.11"
  },
  "toc-autonumbering": false
 },
 "nbformat": 4,
 "nbformat_minor": 4
}