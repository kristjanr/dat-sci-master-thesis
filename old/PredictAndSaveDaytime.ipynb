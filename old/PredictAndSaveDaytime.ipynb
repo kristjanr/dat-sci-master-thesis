{
 "cells": [
  {
   "cell_type": "markdown",
   "metadata": {
    "pycharm": {
     "name": "#%% md\n"
    }
   },
   "source": [
    "# Save predictions to Pandas\n",
    "\n",
    "This notebook loads all 2x5 trained models, the two datasets (fast&slow), gets the predictions and saves the results to a file\n",
    "\n",
    "## Setup\n",
    "- Download and unpack training data\n",
    "- Create DonkeyCar project and load configuration"
   ]
  },
  {
   "cell_type": "code",
   "execution_count": 108,
   "metadata": {
    "collapsed": false,
    "jupyter": {
     "outputs_hidden": false
    },
    "pycharm": {
     "name": "#%%\n"
    }
   },
   "outputs": [
    {
     "name": "stdout",
     "output_type": "stream",
     "text": [
      "The autoreload extension is already loaded. To reload it, use:\n",
      "  %reload_ext autoreload\n"
     ]
    }
   ],
   "source": [
    "%load_ext autoreload\n",
    "%autoreload 2"
   ]
  },
  {
   "cell_type": "code",
   "execution_count": 109,
   "outputs": [],
   "source": [
    "import sys\n",
    "sys.path.append('donkeycar')\n",
    "sys.path.append('src')"
   ],
   "metadata": {
    "collapsed": false,
    "pycharm": {
     "name": "#%%\n"
    }
   }
  },
  {
   "cell_type": "code",
   "execution_count": 3,
   "outputs": [],
   "source": [
    "import os\n",
    "# do we have the correct env loaded?\n",
    "assert 'donkey2' == os.environ['CONDA_DEFAULT_ENV'], os.environ['CONDA_DEFAULT_ENV']"
   ],
   "metadata": {
    "collapsed": false,
    "pycharm": {
     "name": "#%%\n"
    }
   }
  },
  {
   "cell_type": "code",
   "execution_count": 7,
   "outputs": [],
   "source": [
    "# fast\n",
    "# data\n",
    "# faster-autodrive-18_20, fastest-autodrive-18_40\n",
    "# models\n",
    "# linear\n",
    "# existing model on full data\n",
    "# linear-fastest-daytime-full-data-multiply.tflite\n",
    "# 3D\n",
    "# existing model on full data\n",
    "# 3d-fastest-daytime-full-data-multiply.h5\n",
    "#\n",
    "# slow\n",
    "# data\n",
    "# daytime-manual-slower-1, daytime-manual-slower-2\n",
    "# models\n",
    "# linear\n",
    "# existing model on full data\n",
    "# linear-steering-slower-daytime-full-data-multiply.tflite\n",
    "# 3D\n",
    "# existing model on full data\n",
    "# 3d-steering-slower-daytime-full-data-multiply.h5\n",
    "# data is in https://drive.google.com/drive/folders/1CR-QXkKg1k5OFQkmXskcOf_2nUEhkVTC\n"
   ],
   "metadata": {
    "collapsed": false,
    "pycharm": {
     "name": "#%%\n"
    }
   }
  },
  {
   "cell_type": "code",
   "execution_count": 8,
   "metadata": {
    "pycharm": {
     "name": "#%%\n"
    }
   },
   "outputs": [],
   "source": [
    "![ ! -d \"mycar/\" ] && \\\n",
    "donkey createcar --path mycar && \\\n",
    "cp config/myconfig.py mycar/"
   ]
  },
  {
   "cell_type": "markdown",
   "metadata": {
    "pycharm": {
     "name": "#%% md\n"
    }
   },
   "source": [
    "\n",
    "### Common settings for both directions"
   ]
  },
  {
   "cell_type": "code",
   "execution_count": 10,
   "outputs": [
    {
     "name": "stdout",
     "output_type": "stream",
     "text": [
      "loading config file: mycar/config.py\n",
      "loading personal config over-rides from myconfig.py\n"
     ]
    }
   ],
   "source": [
    "from dataloader import load_data\n",
    "import donkeycar as dk\n",
    "cfg = dk.load_config(config_path='mycar/config.py')\n",
    "\n",
    "# None means all the data is used.\n",
    "# use a smaller size, like 200 for testing end to end.\n",
    "TUBRECORD_SIZE = None\n",
    "\n",
    "cfg.SEQUENCE_LENGTH = 3\n",
    "cfg.WANDB_ENABLED = False\n",
    "cfg.TRANSFORMATIONS = ['CROP']\n",
    "cfg.ROI_CROP_TOP = 60\n",
    "cfg.ROI_CROP_KEEP_SIZE = False\n",
    "\n",
    "DIRECTION = 'CC'\n",
    "N_FOLDS = 5\n",
    "DATA_PATH = 'data'\n"
   ],
   "metadata": {
    "collapsed": false,
    "pycharm": {
     "name": "#%%\n"
    }
   }
  },
  {
   "cell_type": "markdown",
   "source": [
    "\n",
    "### Load Counter Clockwise tubs and get predictions"
   ],
   "metadata": {
    "collapsed": false,
    "pycharm": {
     "name": "#%% md\n"
    }
   }
  },
  {
   "cell_type": "code",
   "execution_count": 27,
   "metadata": {
    "collapsed": false,
    "jupyter": {
     "outputs_hidden": false
    },
    "pycharm": {
     "name": "#%%\n"
    }
   },
   "outputs": [
    {
     "name": "stderr",
     "output_type": "stream",
     "text": [
      "INFO:donkeycar.pipeline.types:Loading tubs from paths ['data/faster-autodrive-18_20']\n"
     ]
    },
    {
     "name": "stdout",
     "output_type": "stream",
     "text": [
      "Using catalog /Users/kristjan.roosild/PycharmProjects/dat-sci-master-thesis/data/faster-autodrive-18_20/catalog_14.catalog\n"
     ]
    },
    {
     "name": "stderr",
     "output_type": "stream",
     "text": [
      "INFO:donkeycar.pipeline.types:Loading tubs from paths ['data/fastest-autodrive-18_40']\n"
     ]
    },
    {
     "name": "stdout",
     "output_type": "stream",
     "text": [
      "Using catalog /Users/kristjan.roosild/PycharmProjects/dat-sci-master-thesis/data/fastest-autodrive-18_40/catalog_10.catalog\n"
     ]
    },
    {
     "data": {
      "text/plain": "20771"
     },
     "execution_count": 27,
     "metadata": {},
     "output_type": "execute_result"
    }
   ],
   "source": [
    "from dataloader import load_records\n",
    "\n",
    "fast_speed_data = load_records('faster-autodrive-18_20', cfg, DATA_PATH, TUBRECORD_SIZE)\n",
    "fast_speed_data2 = load_records('fastest-autodrive-18_40', cfg, DATA_PATH, TUBRECORD_SIZE)\n",
    "fast_speed_data.extend(fast_speed_data2)\n",
    "len(fast_speed_data)"
   ]
  },
  {
   "cell_type": "code",
   "execution_count": 28,
   "outputs": [
    {
     "name": "stderr",
     "output_type": "stream",
     "text": [
      "INFO:donkeycar.pipeline.types:Loading tubs from paths ['data/daytime/daytime-manual-slower-1']\n"
     ]
    },
    {
     "name": "stdout",
     "output_type": "stream",
     "text": [
      "Using catalog /Users/kristjan.roosild/PycharmProjects/dat-sci-master-thesis/data/daytime/daytime-manual-slower-1/catalog_10.catalog\n"
     ]
    },
    {
     "name": "stderr",
     "output_type": "stream",
     "text": [
      "INFO:donkeycar.pipeline.types:Loading tubs from paths ['data/daytime/daytime-manual-slower-2']\n"
     ]
    },
    {
     "name": "stdout",
     "output_type": "stream",
     "text": [
      "Using catalog /Users/kristjan.roosild/PycharmProjects/dat-sci-master-thesis/data/daytime/daytime-manual-slower-2/catalog_21.catalog\n"
     ]
    },
    {
     "data": {
      "text/plain": "31361"
     },
     "execution_count": 28,
     "metadata": {},
     "output_type": "execute_result"
    }
   ],
   "source": [
    "\n",
    "slow_speed_data = load_records('daytime/daytime-manual-slower-1', cfg, DATA_PATH, TUBRECORD_SIZE)\n",
    "slow_speed_data2 = load_records('daytime/daytime-manual-slower-2', cfg, DATA_PATH, TUBRECORD_SIZE)\n",
    "slow_speed_data.extend(slow_speed_data2)\n",
    "len(slow_speed_data)"
   ],
   "metadata": {
    "collapsed": false,
    "pycharm": {
     "name": "#%%\n"
    }
   }
  },
  {
   "cell_type": "code",
   "execution_count": 29,
   "outputs": [
    {
     "name": "stderr",
     "output_type": "stream",
     "text": [
      "INFO:donkeycar.utils:get_model_by_type: model type is: 3d-modified-steering\n",
      "INFO:donkeycar.parts.keras:input_shape (60, 160, 3) num_outputs 1\n",
      "INFO:donkeycar.parts.keras:Created Keras3D_CNN_ModifiedOnlySteering with interpreter: KerasInterpreter\n",
      "INFO:donkeycar.parts.keras:Num outputs 1\n",
      "INFO:donkeycar.parts.keras:Sequence length 3\n"
     ]
    },
    {
     "name": "stdout",
     "output_type": "stream",
     "text": [
      "Model: \"3dcnn\"\n",
      "_________________________________________________________________\n",
      " Layer (type)                Output Shape              Param #   \n",
      "=================================================================\n",
      " img_in (InputLayer)         [(None, 3, 60, 160, 3)]   0         \n",
      "                                                                 \n",
      " conv3d_42 (Conv3D)          (None, 1, 20, 53, 16)     1312      \n",
      "                                                                 \n",
      " max_pooling3d_28 (MaxPoolin  (None, 1, 10, 26, 16)    0         \n",
      " g3D)                                                            \n",
      "                                                                 \n",
      " conv3d_43 (Conv3D)          (None, 1, 10, 26, 32)     4640      \n",
      "                                                                 \n",
      " max_pooling3d_29 (MaxPoolin  (None, 1, 5, 13, 32)     0         \n",
      " g3D)                                                            \n",
      "                                                                 \n",
      " conv3d_44 (Conv3D)          (None, 1, 5, 13, 32)      9248      \n",
      "                                                                 \n",
      " flatten_14 (Flatten)        (None, 2080)              0         \n",
      "                                                                 \n",
      " dense_28 (Dense)            (None, 128)               266368    \n",
      "                                                                 \n",
      " batch_normalization_28 (Bat  (None, 128)              512       \n",
      " chNormalization)                                                \n",
      "                                                                 \n",
      " activation_28 (Activation)  (None, 128)               0         \n",
      "                                                                 \n",
      " dropout_28 (Dropout)        (None, 128)               0         \n",
      "                                                                 \n",
      " dense_29 (Dense)            (None, 256)               33024     \n",
      "                                                                 \n",
      " batch_normalization_29 (Bat  (None, 256)              1024      \n",
      " chNormalization)                                                \n",
      "                                                                 \n",
      " activation_29 (Activation)  (None, 256)               0         \n",
      "                                                                 \n",
      " dropout_29 (Dropout)        (None, 256)               0         \n",
      "                                                                 \n",
      " outputs (Dense)             (None, 1)                 257       \n",
      "                                                                 \n",
      "=================================================================\n",
      "Total params: 316,385\n",
      "Trainable params: 315,617\n",
      "Non-trainable params: 768\n",
      "_________________________________________________________________\n"
     ]
    }
   ],
   "source": [
    "from donkeycar.utils import get_model_by_type\n",
    "\n",
    "model_type = '3d-modified-steering'\n",
    "model = get_model_by_type(model_type, cfg)\n",
    "model.interpreter.model.summary()"
   ],
   "metadata": {
    "collapsed": false,
    "pycharm": {
     "name": "#%%\n"
    }
   }
  },
  {
   "cell_type": "code",
   "execution_count": 30,
   "outputs": [
    {
     "name": "stdout",
     "output_type": "stream",
     "text": [
      "seq size 3\n",
      "len ground_truth 20771\n",
      "seq size 3\n",
      "len ground_truth 31361\n"
     ]
    }
   ],
   "source": [
    "from losses import get_ground_truth\n",
    "fast_ground_truths = get_ground_truth(model, fast_speed_data)\n",
    "slow_ground_truths = get_ground_truth(model, slow_speed_data)\n"
   ],
   "metadata": {
    "collapsed": false,
    "pycharm": {
     "name": "#%%\n"
    }
   }
  },
  {
   "cell_type": "code",
   "execution_count": 42,
   "outputs": [
    {
     "name": "stderr",
     "output_type": "stream",
     "text": [
      "INFO:donkeycar.utils:get_model_by_type: model type is: 3d-modified-steering\n",
      "INFO:donkeycar.parts.keras:input_shape (60, 160, 3) num_outputs 1\n",
      "INFO:donkeycar.parts.keras:Created Keras3D_CNN_ModifiedOnlySteering with interpreter: KerasInterpreter\n",
      "INFO:donkeycar.parts.keras:Num outputs 1\n",
      "INFO:donkeycar.parts.keras:Sequence length 3\n",
      "INFO:donkeycar.parts.keras:Loading model /Volumes/GoogleDrive/My Drive/maka/open-loop/models/daytime-fast-3d/Keras3D_CNN_ModifiedOnlySteering-1.fold-of-5-CC.h5\n",
      "INFO:donkeycar.parts.interpreter:Loading model /Volumes/GoogleDrive/My Drive/maka/open-loop/models/daytime-fast-3d/Keras3D_CNN_ModifiedOnlySteering-1.fold-of-5-CC.h5\n"
     ]
    },
    {
     "name": "stdout",
     "output_type": "stream",
     "text": [
      "130/130 [==============================] - 149s 1s/step\n",
      "predictions shape (16616,)\n",
      "33/33 [==============================] - 42s 1s/step\n",
      "predictions shape (4155,)\n",
      "246/246 [==============================] - 279s 1s/step\n"
     ]
    },
    {
     "name": "stderr",
     "output_type": "stream",
     "text": [
      "INFO:donkeycar.utils:get_model_by_type: model type is: 3d-modified-steering\n",
      "INFO:donkeycar.parts.keras:input_shape (60, 160, 3) num_outputs 1\n",
      "INFO:donkeycar.parts.keras:Created Keras3D_CNN_ModifiedOnlySteering with interpreter: KerasInterpreter\n",
      "INFO:donkeycar.parts.keras:Num outputs 1\n",
      "INFO:donkeycar.parts.keras:Sequence length 3\n",
      "INFO:donkeycar.parts.keras:Loading model /Volumes/GoogleDrive/My Drive/maka/open-loop/models/daytime-fast-3d/Keras3D_CNN_ModifiedOnlySteering-2.fold-of-5-CC.h5\n",
      "INFO:donkeycar.parts.interpreter:Loading model /Volumes/GoogleDrive/My Drive/maka/open-loop/models/daytime-fast-3d/Keras3D_CNN_ModifiedOnlySteering-2.fold-of-5-CC.h5\n"
     ]
    },
    {
     "name": "stdout",
     "output_type": "stream",
     "text": [
      "predictions shape (31361,)\n",
      "130/130 [==============================] - 29s 219ms/step\n",
      "predictions shape (16617,)\n",
      "33/33 [==============================] - 7s 220ms/step\n",
      "predictions shape (4154,)\n",
      "246/246 [==============================] - 52s 210ms/step\n"
     ]
    },
    {
     "name": "stderr",
     "output_type": "stream",
     "text": [
      "INFO:donkeycar.utils:get_model_by_type: model type is: 3d-modified-steering\n",
      "INFO:donkeycar.parts.keras:input_shape (60, 160, 3) num_outputs 1\n",
      "INFO:donkeycar.parts.keras:Created Keras3D_CNN_ModifiedOnlySteering with interpreter: KerasInterpreter\n",
      "INFO:donkeycar.parts.keras:Num outputs 1\n",
      "INFO:donkeycar.parts.keras:Sequence length 3\n",
      "INFO:donkeycar.parts.keras:Loading model /Volumes/GoogleDrive/My Drive/maka/open-loop/models/daytime-fast-3d/Keras3D_CNN_ModifiedOnlySteering-3.fold-of-5-CC.h5\n",
      "INFO:donkeycar.parts.interpreter:Loading model /Volumes/GoogleDrive/My Drive/maka/open-loop/models/daytime-fast-3d/Keras3D_CNN_ModifiedOnlySteering-3.fold-of-5-CC.h5\n"
     ]
    },
    {
     "name": "stdout",
     "output_type": "stream",
     "text": [
      "predictions shape (31361,)\n",
      "130/130 [==============================] - 27s 209ms/step\n",
      "predictions shape (16617,)\n",
      "33/33 [==============================] - 7s 213ms/step\n",
      "predictions shape (4154,)\n",
      "246/246 [==============================] - 53s 214ms/step\n"
     ]
    },
    {
     "name": "stderr",
     "output_type": "stream",
     "text": [
      "INFO:donkeycar.utils:get_model_by_type: model type is: 3d-modified-steering\n",
      "INFO:donkeycar.parts.keras:input_shape (60, 160, 3) num_outputs 1\n",
      "INFO:donkeycar.parts.keras:Created Keras3D_CNN_ModifiedOnlySteering with interpreter: KerasInterpreter\n",
      "INFO:donkeycar.parts.keras:Num outputs 1\n",
      "INFO:donkeycar.parts.keras:Sequence length 3\n",
      "INFO:donkeycar.parts.keras:Loading model /Volumes/GoogleDrive/My Drive/maka/open-loop/models/daytime-fast-3d/Keras3D_CNN_ModifiedOnlySteering-4.fold-of-5-CC.h5\n",
      "INFO:donkeycar.parts.interpreter:Loading model /Volumes/GoogleDrive/My Drive/maka/open-loop/models/daytime-fast-3d/Keras3D_CNN_ModifiedOnlySteering-4.fold-of-5-CC.h5\n"
     ]
    },
    {
     "name": "stdout",
     "output_type": "stream",
     "text": [
      "predictions shape (31361,)\n",
      "130/130 [==============================] - 28s 218ms/step\n",
      "predictions shape (16617,)\n",
      "33/33 [==============================] - 7s 208ms/step\n",
      "predictions shape (4154,)\n",
      "246/246 [==============================] - 51s 209ms/step\n"
     ]
    },
    {
     "name": "stderr",
     "output_type": "stream",
     "text": [
      "INFO:donkeycar.utils:get_model_by_type: model type is: 3d-modified-steering\n",
      "INFO:donkeycar.parts.keras:input_shape (60, 160, 3) num_outputs 1\n",
      "INFO:donkeycar.parts.keras:Created Keras3D_CNN_ModifiedOnlySteering with interpreter: KerasInterpreter\n",
      "INFO:donkeycar.parts.keras:Num outputs 1\n",
      "INFO:donkeycar.parts.keras:Sequence length 3\n",
      "INFO:donkeycar.parts.keras:Loading model /Volumes/GoogleDrive/My Drive/maka/open-loop/models/daytime-fast-3d/Keras3D_CNN_ModifiedOnlySteering-5.fold-of-5-CC.h5\n",
      "INFO:donkeycar.parts.interpreter:Loading model /Volumes/GoogleDrive/My Drive/maka/open-loop/models/daytime-fast-3d/Keras3D_CNN_ModifiedOnlySteering-5.fold-of-5-CC.h5\n"
     ]
    },
    {
     "name": "stdout",
     "output_type": "stream",
     "text": [
      "predictions shape (31361,)\n",
      "130/130 [==============================] - 27s 211ms/step\n",
      "predictions shape (16617,)\n",
      "33/33 [==============================] - 7s 217ms/step\n",
      "predictions shape (4154,)\n",
      "246/246 [==============================] - 51s 207ms/step\n",
      "predictions shape (31361,)\n"
     ]
    }
   ],
   "source": [
    "from losses import get_predictions\n",
    "from model_loader import load_model\n",
    "from sklearn.model_selection import KFold\n",
    "import numpy as np\n",
    "\n",
    "kf = KFold(n_splits=N_FOLDS, shuffle=False)\n",
    "\n",
    "\n",
    "train_predictions = np.zeros(len(fast_speed_data))\n",
    "test_predictions = np.zeros(len(fast_speed_data))\n",
    "slow_predictions = np.zeros(len(slow_speed_data))\n",
    "\n",
    "MODELS_PATH = '/Volumes/GoogleDrive/My Drive/maka/open-loop/models/daytime-fast-3d'\n",
    "\n",
    "for fold, (train_index, test_index) in enumerate(kf.split(fast_speed_data), start=1):\n",
    "    train_records = [fast_speed_data[i] for i in train_index]\n",
    "    test_records = [fast_speed_data[i] for i in test_index]\n",
    "    trained_model = load_model(MODELS_PATH, model_type, cfg, DIRECTION, N_FOLDS, fold)\n",
    "    fold_train_predictions = np.zeros(len(fast_speed_data))\n",
    "    np.put(fold_train_predictions, train_index, get_predictions(trained_model, cfg, train_records))\n",
    "    train_predictions += fold_train_predictions\n",
    "\n",
    "    fold_test_predictions = get_predictions(trained_model, cfg, test_records)\n",
    "    np.put(test_predictions, test_index, fold_test_predictions)\n",
    "\n",
    "    fold_slow_predictions = get_predictions(trained_model, cfg, slow_speed_data)\n",
    "    slow_predictions += fold_slow_predictions\n",
    "\n",
    "train_predictions /= (N_FOLDS-1)\n",
    "slow_predictions /= N_FOLDS"
   ],
   "metadata": {
    "collapsed": false,
    "pycharm": {
     "name": "#%%\n"
    }
   }
  },
  {
   "cell_type": "code",
   "execution_count": 43,
   "outputs": [
    {
     "data": {
      "text/plain": "(-0.24826560909003662, -0.24429040840793703, -0.26214615512547934)"
     },
     "execution_count": 43,
     "metadata": {},
     "output_type": "execute_result"
    }
   ],
   "source": [
    "train_predictions.mean(), test_predictions.mean(), slow_predictions.mean()\n"
   ],
   "metadata": {
    "collapsed": false,
    "pycharm": {
     "name": "#%%\n"
    }
   }
  },
  {
   "cell_type": "code",
   "execution_count": 45,
   "outputs": [
    {
     "data": {
      "text/plain": "((20771,), (20771,), (31361,))"
     },
     "execution_count": 45,
     "metadata": {},
     "output_type": "execute_result"
    }
   ],
   "source": [
    "train_predictions.shape, test_predictions.shape, slow_predictions.shape\n"
   ],
   "metadata": {
    "collapsed": false,
    "pycharm": {
     "name": "#%%\n"
    }
   }
  },
  {
   "cell_type": "code",
   "execution_count": 71,
   "outputs": [],
   "source": [
    "np.savetxt('open-loop-results/daytime-fast-3d-model-daytime-fast-data-prediction-and-ground-truth.csv.gz', np.array([train_predictions, test_predictions, fast_ground_truths]).T)\n",
    "np.savetxt('open-loop-results/daytime-fast-3d-model-daytime-slow-data-prediction-and-ground-truth.csv.gz', np.array([slow_predictions, slow_ground_truths]).T)"
   ],
   "metadata": {
    "collapsed": false,
    "pycharm": {
     "name": "#%%\n"
    }
   }
  },
  {
   "cell_type": "code",
   "execution_count": 73,
   "outputs": [
    {
     "name": "stderr",
     "output_type": "stream",
     "text": [
      "INFO:donkeycar.utils:get_model_by_type: model type is: 3d-modified-steering\n",
      "INFO:donkeycar.parts.keras:input_shape (60, 160, 3) num_outputs 1\n",
      "INFO:donkeycar.parts.keras:Created Keras3D_CNN_ModifiedOnlySteering with interpreter: KerasInterpreter\n",
      "INFO:donkeycar.parts.keras:Num outputs 1\n",
      "INFO:donkeycar.parts.keras:Sequence length 3\n",
      "INFO:donkeycar.parts.keras:Loading model /Volumes/GoogleDrive/My Drive/maka/open-loop/models/daytime-slow-3d/Keras3D_CNN_ModifiedOnlySteering-1.fold-of-5-CC.h5\n",
      "INFO:donkeycar.parts.interpreter:Loading model /Volumes/GoogleDrive/My Drive/maka/open-loop/models/daytime-slow-3d/Keras3D_CNN_ModifiedOnlySteering-1.fold-of-5-CC.h5\n"
     ]
    },
    {
     "name": "stdout",
     "output_type": "stream",
     "text": [
      "196/196 [==============================] - 54s 274ms/step\n",
      "predictions shape (25088,)\n",
      "50/50 [==============================] - 14s 271ms/step\n",
      "predictions shape (6273,)\n",
      "163/163 [==============================] - 44s 270ms/step\n"
     ]
    },
    {
     "name": "stderr",
     "output_type": "stream",
     "text": [
      "INFO:donkeycar.utils:get_model_by_type: model type is: 3d-modified-steering\n",
      "INFO:donkeycar.parts.keras:input_shape (60, 160, 3) num_outputs 1\n",
      "INFO:donkeycar.parts.keras:Created Keras3D_CNN_ModifiedOnlySteering with interpreter: KerasInterpreter\n",
      "INFO:donkeycar.parts.keras:Num outputs 1\n",
      "INFO:donkeycar.parts.keras:Sequence length 3\n",
      "INFO:donkeycar.parts.keras:Loading model /Volumes/GoogleDrive/My Drive/maka/open-loop/models/daytime-slow-3d/Keras3D_CNN_ModifiedOnlySteering-2.fold-of-5-CC.h5\n",
      "INFO:donkeycar.parts.interpreter:Loading model /Volumes/GoogleDrive/My Drive/maka/open-loop/models/daytime-slow-3d/Keras3D_CNN_ModifiedOnlySteering-2.fold-of-5-CC.h5\n"
     ]
    },
    {
     "name": "stdout",
     "output_type": "stream",
     "text": [
      "predictions shape (20771,)\n",
      "197/197 [==============================] - 53s 271ms/step\n",
      "predictions shape (25089,)\n",
      "49/49 [==============================] - 14s 275ms/step\n",
      "predictions shape (6272,)\n",
      "163/163 [==============================] - 47s 287ms/step\n"
     ]
    },
    {
     "name": "stderr",
     "output_type": "stream",
     "text": [
      "INFO:donkeycar.utils:get_model_by_type: model type is: 3d-modified-steering\n",
      "INFO:donkeycar.parts.keras:input_shape (60, 160, 3) num_outputs 1\n",
      "INFO:donkeycar.parts.keras:Created Keras3D_CNN_ModifiedOnlySteering with interpreter: KerasInterpreter\n",
      "INFO:donkeycar.parts.keras:Num outputs 1\n",
      "INFO:donkeycar.parts.keras:Sequence length 3\n",
      "INFO:donkeycar.parts.keras:Loading model /Volumes/GoogleDrive/My Drive/maka/open-loop/models/daytime-slow-3d/Keras3D_CNN_ModifiedOnlySteering-3.fold-of-5-CC.h5\n",
      "INFO:donkeycar.parts.interpreter:Loading model /Volumes/GoogleDrive/My Drive/maka/open-loop/models/daytime-slow-3d/Keras3D_CNN_ModifiedOnlySteering-3.fold-of-5-CC.h5\n"
     ]
    },
    {
     "name": "stdout",
     "output_type": "stream",
     "text": [
      "predictions shape (20771,)\n",
      "197/197 [==============================] - 54s 272ms/step\n",
      "predictions shape (25089,)\n",
      "49/49 [==============================] - 18s 367ms/step\n",
      "predictions shape (6272,)\n",
      "163/163 [==============================] - 53s 321ms/step\n"
     ]
    },
    {
     "name": "stderr",
     "output_type": "stream",
     "text": [
      "INFO:donkeycar.utils:get_model_by_type: model type is: 3d-modified-steering\n",
      "INFO:donkeycar.parts.keras:input_shape (60, 160, 3) num_outputs 1\n",
      "INFO:donkeycar.parts.keras:Created Keras3D_CNN_ModifiedOnlySteering with interpreter: KerasInterpreter\n",
      "INFO:donkeycar.parts.keras:Num outputs 1\n",
      "INFO:donkeycar.parts.keras:Sequence length 3\n",
      "INFO:donkeycar.parts.keras:Loading model /Volumes/GoogleDrive/My Drive/maka/open-loop/models/daytime-slow-3d/Keras3D_CNN_ModifiedOnlySteering-4.fold-of-5-CC.h5\n",
      "INFO:donkeycar.parts.interpreter:Loading model /Volumes/GoogleDrive/My Drive/maka/open-loop/models/daytime-slow-3d/Keras3D_CNN_ModifiedOnlySteering-4.fold-of-5-CC.h5\n"
     ]
    },
    {
     "name": "stdout",
     "output_type": "stream",
     "text": [
      "predictions shape (20771,)\n",
      "197/197 [==============================] - 54s 272ms/step\n",
      "predictions shape (25089,)\n",
      "49/49 [==============================] - 15s 297ms/step\n",
      "predictions shape (6272,)\n",
      "163/163 [==============================] - 47s 290ms/step\n"
     ]
    },
    {
     "name": "stderr",
     "output_type": "stream",
     "text": [
      "INFO:donkeycar.utils:get_model_by_type: model type is: 3d-modified-steering\n",
      "INFO:donkeycar.parts.keras:input_shape (60, 160, 3) num_outputs 1\n",
      "INFO:donkeycar.parts.keras:Created Keras3D_CNN_ModifiedOnlySteering with interpreter: KerasInterpreter\n",
      "INFO:donkeycar.parts.keras:Num outputs 1\n",
      "INFO:donkeycar.parts.keras:Sequence length 3\n",
      "INFO:donkeycar.parts.keras:Loading model /Volumes/GoogleDrive/My Drive/maka/open-loop/models/daytime-slow-3d/Keras3D_CNN_ModifiedOnlySteering-5.fold-of-5-CC.h5\n",
      "INFO:donkeycar.parts.interpreter:Loading model /Volumes/GoogleDrive/My Drive/maka/open-loop/models/daytime-slow-3d/Keras3D_CNN_ModifiedOnlySteering-5.fold-of-5-CC.h5\n"
     ]
    },
    {
     "name": "stdout",
     "output_type": "stream",
     "text": [
      "predictions shape (20771,)\n",
      "197/197 [==============================] - 56s 282ms/step\n",
      "predictions shape (25089,)\n",
      "49/49 [==============================] - 14s 295ms/step\n",
      "predictions shape (6272,)\n",
      "163/163 [==============================] - 47s 288ms/step\n",
      "predictions shape (20771,)\n"
     ]
    }
   ],
   "source": [
    "\n",
    "train_predictions = np.zeros(len(slow_speed_data))\n",
    "test_predictions = np.zeros(len(slow_speed_data))\n",
    "fast_predictions = np.zeros(len(fast_speed_data))\n",
    "\n",
    "MODELS_PATH = '/Volumes/GoogleDrive/My Drive/maka/open-loop/models/daytime-slow-3d'\n",
    "\n",
    "for fold, (train_index, test_index) in enumerate(kf.split(slow_speed_data), start=1):\n",
    "    train_records = [slow_speed_data[i] for i in train_index]\n",
    "    test_records = [slow_speed_data[i] for i in test_index]\n",
    "    trained_model = load_model(MODELS_PATH, model_type, cfg, DIRECTION, N_FOLDS, fold)\n",
    "    fold_train_predictions = np.zeros(len(slow_speed_data))\n",
    "    np.put(fold_train_predictions, train_index, get_predictions(trained_model, cfg, train_records))\n",
    "    train_predictions += fold_train_predictions\n",
    "\n",
    "    fold_test_predictions = get_predictions(trained_model, cfg, test_records)\n",
    "    np.put(test_predictions, test_index, fold_test_predictions)\n",
    "\n",
    "    fold_fast_predictions = get_predictions(trained_model, cfg, fast_speed_data)\n",
    "    fast_predictions += fold_fast_predictions\n",
    "\n",
    "train_predictions /= (N_FOLDS-1)\n",
    "fast_predictions /= N_FOLDS"
   ],
   "metadata": {
    "collapsed": false,
    "pycharm": {
     "name": "#%%\n"
    }
   }
  },
  {
   "cell_type": "code",
   "execution_count": 74,
   "outputs": [
    {
     "data": {
      "text/plain": "(-0.1984441325308632, -0.1997503545546858, -0.1432111012440308)"
     },
     "execution_count": 74,
     "metadata": {},
     "output_type": "execute_result"
    }
   ],
   "source": [
    "train_predictions.mean(), test_predictions.mean(), fast_predictions.mean()\n"
   ],
   "metadata": {
    "collapsed": false,
    "pycharm": {
     "name": "#%%\n"
    }
   }
  },
  {
   "cell_type": "code",
   "execution_count": 75,
   "outputs": [
    {
     "data": {
      "text/plain": "((31361,), (31361,), (20771,))"
     },
     "execution_count": 75,
     "metadata": {},
     "output_type": "execute_result"
    }
   ],
   "source": [
    "train_predictions.shape, test_predictions.shape, fast_predictions.shape\n"
   ],
   "metadata": {
    "collapsed": false,
    "pycharm": {
     "name": "#%%\n"
    }
   }
  },
  {
   "cell_type": "code",
   "execution_count": 76,
   "outputs": [],
   "source": [
    "np.savetxt('open-loop-results/daytime-slow-3d-model-daytime-slow-data-prediction-and-ground-truth.csv.gz', np.array([train_predictions, test_predictions, slow_ground_truths]).T)\n",
    "\n",
    "np.savetxt('open-loop-results/daytime-slow-3d-model-daytime-fast-data-prediction-and-ground-truth.csv.gz', np.array([ fast_predictions, fast_ground_truths]).T)\n"
   ],
   "metadata": {
    "collapsed": false,
    "pycharm": {
     "name": "#%%\n"
    }
   }
  },
  {
   "cell_type": "code",
   "execution_count": 79,
   "outputs": [],
   "source": [
    "cfg.SEQUENCE_LENGTH = 0\n",
    "cfg.ROI_CROP_TOP = 59\n"
   ],
   "metadata": {
    "collapsed": false,
    "pycharm": {
     "name": "#%%\n"
    }
   }
  },
  {
   "cell_type": "code",
   "execution_count": 80,
   "outputs": [
    {
     "name": "stderr",
     "output_type": "stream",
     "text": [
      "INFO:donkeycar.utils:get_model_by_type: model type is: linear-steering\n",
      "INFO:donkeycar.parts.keras:Created KerasLinearOnlySteering with interpreter: KerasInterpreter\n"
     ]
    },
    {
     "name": "stdout",
     "output_type": "stream",
     "text": [
      "Model: \"linear\"\n",
      "__________________________________________________________________________________________________\n",
      " Layer (type)                   Output Shape         Param #     Connected to                     \n",
      "==================================================================================================\n",
      " img_in (InputLayer)            [(None, 61, 160, 3)  0           []                               \n",
      "                                ]                                                                 \n",
      "                                                                                                  \n",
      " conv2d_1 (Conv2D)              (None, 29, 78, 24)   1824        ['img_in[0][0]']                 \n",
      "                                                                                                  \n",
      " dropout_108 (Dropout)          (None, 29, 78, 24)   0           ['conv2d_1[0][0]']               \n",
      "                                                                                                  \n",
      " conv2d_2 (Conv2D)              (None, 13, 37, 32)   19232       ['dropout_108[0][0]']            \n",
      "                                                                                                  \n",
      " dropout_109 (Dropout)          (None, 13, 37, 32)   0           ['conv2d_2[0][0]']               \n",
      "                                                                                                  \n",
      " conv2d_3 (Conv2D)              (None, 5, 17, 64)    51264       ['dropout_109[0][0]']            \n",
      "                                                                                                  \n",
      " dropout_110 (Dropout)          (None, 5, 17, 64)    0           ['conv2d_3[0][0]']               \n",
      "                                                                                                  \n",
      " conv2d_4 (Conv2D)              (None, 3, 15, 64)    36928       ['dropout_110[0][0]']            \n",
      "                                                                                                  \n",
      " dropout_111 (Dropout)          (None, 3, 15, 64)    0           ['conv2d_4[0][0]']               \n",
      "                                                                                                  \n",
      " conv2d_5 (Conv2D)              (None, 1, 13, 64)    36928       ['dropout_111[0][0]']            \n",
      "                                                                                                  \n",
      " dropout_112 (Dropout)          (None, 1, 13, 64)    0           ['conv2d_5[0][0]']               \n",
      "                                                                                                  \n",
      " flattened (Flatten)            (None, 832)          0           ['dropout_112[0][0]']            \n",
      "                                                                                                  \n",
      " dense_1 (Dense)                (None, 100)          83300       ['flattened[0][0]']              \n",
      "                                                                                                  \n",
      " dropout_113 (Dropout)          (None, 100)          0           ['dense_1[0][0]']                \n",
      "                                                                                                  \n",
      " dense_2 (Dense)                (None, 50)           5050        ['dropout_113[0][0]']            \n",
      "                                                                                                  \n",
      " dropout_114 (Dropout)          (None, 50)           0           ['dense_2[0][0]']                \n",
      "                                                                                                  \n",
      " n_outputs0 (Dense)             (None, 1)            51          ['dropout_114[0][0]']            \n",
      "                                                                                                  \n",
      " n_outputs1 (Dense)             (None, 1)            51          ['dropout_114[0][0]']            \n",
      "                                                                                                  \n",
      "==================================================================================================\n",
      "Total params: 234,628\n",
      "Trainable params: 234,628\n",
      "Non-trainable params: 0\n",
      "__________________________________________________________________________________________________\n"
     ]
    }
   ],
   "source": [
    "model_type = 'linear-steering'\n",
    "model = get_model_by_type(model_type, cfg)\n",
    "model.interpreter.model.summary()\n"
   ],
   "metadata": {
    "collapsed": false,
    "pycharm": {
     "name": "#%%\n"
    }
   }
  },
  {
   "cell_type": "code",
   "execution_count": 84,
   "outputs": [
    {
     "name": "stderr",
     "output_type": "stream",
     "text": [
      "INFO:donkeycar.pipeline.types:Loading tubs from paths ['data/faster-autodrive-18_20']\n"
     ]
    },
    {
     "name": "stdout",
     "output_type": "stream",
     "text": [
      "Using catalog /Users/kristjan.roosild/PycharmProjects/dat-sci-master-thesis/data/faster-autodrive-18_20/catalog_14.catalog\n"
     ]
    },
    {
     "name": "stderr",
     "output_type": "stream",
     "text": [
      "INFO:donkeycar.pipeline.types:Loading tubs from paths ['data/fastest-autodrive-18_40']\n"
     ]
    },
    {
     "name": "stdout",
     "output_type": "stream",
     "text": [
      "Using catalog /Users/kristjan.roosild/PycharmProjects/dat-sci-master-thesis/data/fastest-autodrive-18_40/catalog_10.catalog\n"
     ]
    },
    {
     "data": {
      "text/plain": "20797"
     },
     "execution_count": 84,
     "metadata": {},
     "output_type": "execute_result"
    }
   ],
   "source": [
    "fast_speed_data = load_records('faster-autodrive-18_20', cfg, DATA_PATH, TUBRECORD_SIZE)\n",
    "fast_speed_data2 = load_records('fastest-autodrive-18_40', cfg, DATA_PATH, TUBRECORD_SIZE)\n",
    "fast_speed_data.extend(fast_speed_data2)\n",
    "len(fast_speed_data)"
   ],
   "metadata": {
    "collapsed": false,
    "pycharm": {
     "name": "#%%\n"
    }
   }
  },
  {
   "cell_type": "code",
   "execution_count": 85,
   "outputs": [
    {
     "name": "stderr",
     "output_type": "stream",
     "text": [
      "INFO:donkeycar.pipeline.types:Loading tubs from paths ['data/daytime/daytime-manual-slower-1']\n"
     ]
    },
    {
     "name": "stdout",
     "output_type": "stream",
     "text": [
      "Using catalog /Users/kristjan.roosild/PycharmProjects/dat-sci-master-thesis/data/daytime/daytime-manual-slower-1/catalog_10.catalog\n"
     ]
    },
    {
     "name": "stderr",
     "output_type": "stream",
     "text": [
      "INFO:donkeycar.pipeline.types:Loading tubs from paths ['data/daytime/daytime-manual-slower-2']\n"
     ]
    },
    {
     "name": "stdout",
     "output_type": "stream",
     "text": [
      "Using catalog /Users/kristjan.roosild/PycharmProjects/dat-sci-master-thesis/data/daytime/daytime-manual-slower-2/catalog_21.catalog\n"
     ]
    },
    {
     "data": {
      "text/plain": "31379"
     },
     "execution_count": 85,
     "metadata": {},
     "output_type": "execute_result"
    }
   ],
   "source": [
    "\n",
    "slow_speed_data = load_records('daytime/daytime-manual-slower-1', cfg, DATA_PATH, TUBRECORD_SIZE)\n",
    "slow_speed_data2 = load_records('daytime/daytime-manual-slower-2', cfg, DATA_PATH, TUBRECORD_SIZE)\n",
    "slow_speed_data.extend(slow_speed_data2)\n",
    "len(slow_speed_data)"
   ],
   "metadata": {
    "collapsed": false,
    "pycharm": {
     "name": "#%%\n"
    }
   }
  },
  {
   "cell_type": "code",
   "execution_count": 91,
   "outputs": [
    {
     "name": "stdout",
     "output_type": "stream",
     "text": [
      "len ground_truth 20797\n",
      "len ground_truth 31379\n"
     ]
    }
   ],
   "source": [
    "fast_ground_truths = get_ground_truth(model, fast_speed_data)\n",
    "slow_ground_truths = get_ground_truth(model, slow_speed_data)\n"
   ],
   "metadata": {
    "collapsed": false,
    "pycharm": {
     "name": "#%%\n"
    }
   }
  },
  {
   "cell_type": "code",
   "execution_count": 100,
   "outputs": [
    {
     "name": "stderr",
     "output_type": "stream",
     "text": [
      "INFO:donkeycar.utils:get_model_by_type: model type is: linear-steering\n",
      "INFO:donkeycar.parts.keras:Created KerasLinearOnlySteering with interpreter: KerasInterpreter\n",
      "INFO:donkeycar.parts.keras:Loading model /Volumes/GoogleDrive/My Drive/maka/open-loop/models/daytime-fast-linear/KerasLinearOnlySteering-1.fold-of-5-CC.h5\n",
      "INFO:donkeycar.parts.interpreter:Loading model /Volumes/GoogleDrive/My Drive/maka/open-loop/models/daytime-fast-linear/KerasLinearOnlySteering-1.fold-of-5-CC.h5\n"
     ]
    },
    {
     "name": "stdout",
     "output_type": "stream",
     "text": [
      "130/130 [==============================] - 17s 131ms/step\n",
      "predictions shape (16637, 1)\n",
      "33/33 [==============================] - 4s 123ms/step\n",
      "predictions shape (4160, 1)\n",
      "246/246 [==============================] - 30s 122ms/step\n"
     ]
    },
    {
     "name": "stderr",
     "output_type": "stream",
     "text": [
      "INFO:donkeycar.utils:get_model_by_type: model type is: linear-steering\n"
     ]
    },
    {
     "name": "stdout",
     "output_type": "stream",
     "text": [
      "predictions shape (31379, 1)\n"
     ]
    },
    {
     "name": "stderr",
     "output_type": "stream",
     "text": [
      "INFO:donkeycar.parts.keras:Created KerasLinearOnlySteering with interpreter: KerasInterpreter\n",
      "INFO:donkeycar.parts.keras:Loading model /Volumes/GoogleDrive/My Drive/maka/open-loop/models/daytime-fast-linear/KerasLinearOnlySteering-2.fold-of-5-CC.h5\n",
      "INFO:donkeycar.parts.interpreter:Loading model /Volumes/GoogleDrive/My Drive/maka/open-loop/models/daytime-fast-linear/KerasLinearOnlySteering-2.fold-of-5-CC.h5\n"
     ]
    },
    {
     "name": "stdout",
     "output_type": "stream",
     "text": [
      "130/130 [==============================] - 15s 115ms/step\n",
      "predictions shape (16637, 1)\n",
      "33/33 [==============================] - 4s 108ms/step\n",
      "predictions shape (4160, 1)\n",
      "246/246 [==============================] - 26s 104ms/step\n"
     ]
    },
    {
     "name": "stderr",
     "output_type": "stream",
     "text": [
      "INFO:donkeycar.utils:get_model_by_type: model type is: linear-steering\n",
      "INFO:donkeycar.parts.keras:Created KerasLinearOnlySteering with interpreter: KerasInterpreter\n",
      "INFO:donkeycar.parts.keras:Loading model /Volumes/GoogleDrive/My Drive/maka/open-loop/models/daytime-fast-linear/KerasLinearOnlySteering-3.fold-of-5-CC.h5\n",
      "INFO:donkeycar.parts.interpreter:Loading model /Volumes/GoogleDrive/My Drive/maka/open-loop/models/daytime-fast-linear/KerasLinearOnlySteering-3.fold-of-5-CC.h5\n"
     ]
    },
    {
     "name": "stdout",
     "output_type": "stream",
     "text": [
      "predictions shape (31379, 1)\n",
      "130/130 [==============================] - 14s 105ms/step\n",
      "predictions shape (16638, 1)\n",
      "33/33 [==============================] - 3s 104ms/step\n",
      "predictions shape (4159, 1)\n",
      "246/246 [==============================] - 26s 104ms/step\n"
     ]
    },
    {
     "name": "stderr",
     "output_type": "stream",
     "text": [
      "INFO:donkeycar.utils:get_model_by_type: model type is: linear-steering\n",
      "INFO:donkeycar.parts.keras:Created KerasLinearOnlySteering with interpreter: KerasInterpreter\n",
      "INFO:donkeycar.parts.keras:Loading model /Volumes/GoogleDrive/My Drive/maka/open-loop/models/daytime-fast-linear/KerasLinearOnlySteering-4.fold-of-5-CC.h5\n",
      "INFO:donkeycar.parts.interpreter:Loading model /Volumes/GoogleDrive/My Drive/maka/open-loop/models/daytime-fast-linear/KerasLinearOnlySteering-4.fold-of-5-CC.h5\n"
     ]
    },
    {
     "name": "stdout",
     "output_type": "stream",
     "text": [
      "predictions shape (31379, 1)\n",
      "130/130 [==============================] - 14s 105ms/step\n",
      "predictions shape (16638, 1)\n",
      "33/33 [==============================] - 3s 103ms/step\n",
      "predictions shape (4159, 1)\n",
      "246/246 [==============================] - 26s 104ms/step\n"
     ]
    },
    {
     "name": "stderr",
     "output_type": "stream",
     "text": [
      "INFO:donkeycar.utils:get_model_by_type: model type is: linear-steering\n",
      "INFO:donkeycar.parts.keras:Created KerasLinearOnlySteering with interpreter: KerasInterpreter\n",
      "INFO:donkeycar.parts.keras:Loading model /Volumes/GoogleDrive/My Drive/maka/open-loop/models/daytime-fast-linear/KerasLinearOnlySteering-5.fold-of-5-CC.h5\n",
      "INFO:donkeycar.parts.interpreter:Loading model /Volumes/GoogleDrive/My Drive/maka/open-loop/models/daytime-fast-linear/KerasLinearOnlySteering-5.fold-of-5-CC.h5\n"
     ]
    },
    {
     "name": "stdout",
     "output_type": "stream",
     "text": [
      "predictions shape (31379, 1)\n",
      "130/130 [==============================] - 13s 103ms/step\n",
      "predictions shape (16638, 1)\n",
      "33/33 [==============================] - 3s 103ms/step\n",
      "predictions shape (4159, 1)\n",
      "246/246 [==============================] - 25s 101ms/step\n",
      "predictions shape (31379, 1)\n"
     ]
    }
   ],
   "source": [
    "\n",
    "train_predictions = np.zeros(len(fast_speed_data))\n",
    "test_predictions = np.zeros(len(fast_speed_data))\n",
    "slow_predictions = np.zeros(len(slow_speed_data))\n",
    "\n",
    "MODELS_PATH = '/Volumes/GoogleDrive/My Drive/maka/open-loop/models/daytime-fast-linear'\n",
    "\n",
    "for fold, (train_index, test_index) in enumerate(kf.split(fast_speed_data), start=1):\n",
    "    train_records = [fast_speed_data[i] for i in train_index]\n",
    "    test_records = [fast_speed_data[i] for i in test_index]\n",
    "    trained_model = load_model(MODELS_PATH, model_type, cfg, DIRECTION, N_FOLDS, fold)\n",
    "    fold_train_predictions = np.zeros(len(fast_speed_data))\n",
    "    np.put(fold_train_predictions, train_index, get_predictions(trained_model, cfg, train_records))\n",
    "    train_predictions += fold_train_predictions\n",
    "\n",
    "    fold_test_predictions = get_predictions(trained_model, cfg, test_records)\n",
    "    np.put(test_predictions, test_index, fold_test_predictions)\n",
    "\n",
    "    fold_slow_predictions = get_predictions(trained_model, cfg, slow_speed_data)\n",
    "    slow_predictions += fold_slow_predictions[:,0]\n",
    "\n",
    "train_predictions /= (N_FOLDS-1)\n",
    "slow_predictions /= N_FOLDS"
   ],
   "metadata": {
    "collapsed": false,
    "pycharm": {
     "name": "#%%\n"
    }
   }
  },
  {
   "cell_type": "code",
   "execution_count": 101,
   "outputs": [
    {
     "data": {
      "text/plain": "(-0.2582955911659102, -0.2580214005839385, -0.2849443084188833)"
     },
     "execution_count": 101,
     "metadata": {},
     "output_type": "execute_result"
    }
   ],
   "source": [
    "train_predictions.mean(), test_predictions.mean(), slow_predictions.mean()\n"
   ],
   "metadata": {
    "collapsed": false,
    "pycharm": {
     "name": "#%%\n"
    }
   }
  },
  {
   "cell_type": "code",
   "execution_count": 102,
   "outputs": [
    {
     "data": {
      "text/plain": "((20797,), (20797,), (31379,))"
     },
     "execution_count": 102,
     "metadata": {},
     "output_type": "execute_result"
    }
   ],
   "source": [
    "train_predictions.shape, test_predictions.shape, slow_predictions.shape\n"
   ],
   "metadata": {
    "collapsed": false,
    "pycharm": {
     "name": "#%%\n"
    }
   }
  },
  {
   "cell_type": "code",
   "execution_count": 103,
   "outputs": [],
   "source": [
    "np.savetxt('open-loop-results/daytime-fast-linear-model-daytime-fast-data-prediction-and-ground-truth.csv.gz', np.array([train_predictions, test_predictions, fast_ground_truths]).T)\n",
    "np.savetxt('open-loop-results/daytime-fast-linear-model-daytime-slow-data-prediction-and-ground-truth.csv.gz', np.array([slow_predictions, slow_ground_truths]).T)"
   ],
   "metadata": {
    "collapsed": false,
    "pycharm": {
     "name": "#%%\n"
    }
   }
  },
  {
   "cell_type": "code",
   "execution_count": 104,
   "outputs": [
    {
     "name": "stderr",
     "output_type": "stream",
     "text": [
      "INFO:donkeycar.utils:get_model_by_type: model type is: linear-steering\n",
      "INFO:donkeycar.parts.keras:Created KerasLinearOnlySteering with interpreter: KerasInterpreter\n",
      "INFO:donkeycar.parts.keras:Loading model /Volumes/GoogleDrive/My Drive/maka/open-loop/models/daytime-slow-linear/KerasLinearOnlySteering-1.fold-of-5-CC.h5\n",
      "INFO:donkeycar.parts.interpreter:Loading model /Volumes/GoogleDrive/My Drive/maka/open-loop/models/daytime-slow-linear/KerasLinearOnlySteering-1.fold-of-5-CC.h5\n"
     ]
    },
    {
     "name": "stdout",
     "output_type": "stream",
     "text": [
      "197/197 [==============================] - 20s 100ms/step\n",
      "predictions shape (25103, 1)\n",
      "50/50 [==============================] - 5s 102ms/step\n",
      "predictions shape (6276, 1)\n",
      "163/163 [==============================] - 16s 100ms/step\n"
     ]
    },
    {
     "name": "stderr",
     "output_type": "stream",
     "text": [
      "INFO:donkeycar.utils:get_model_by_type: model type is: linear-steering\n",
      "INFO:donkeycar.parts.keras:Created KerasLinearOnlySteering with interpreter: KerasInterpreter\n",
      "INFO:donkeycar.parts.keras:Loading model /Volumes/GoogleDrive/My Drive/maka/open-loop/models/daytime-slow-linear/KerasLinearOnlySteering-2.fold-of-5-CC.h5\n",
      "INFO:donkeycar.parts.interpreter:Loading model /Volumes/GoogleDrive/My Drive/maka/open-loop/models/daytime-slow-linear/KerasLinearOnlySteering-2.fold-of-5-CC.h5\n"
     ]
    },
    {
     "name": "stdout",
     "output_type": "stream",
     "text": [
      "predictions shape (20797, 1)\n",
      "197/197 [==============================] - 20s 100ms/step\n",
      "predictions shape (25103, 1)\n",
      "50/50 [==============================] - 5s 101ms/step\n",
      "predictions shape (6276, 1)\n",
      "163/163 [==============================] - 16s 100ms/step\n"
     ]
    },
    {
     "name": "stderr",
     "output_type": "stream",
     "text": [
      "INFO:donkeycar.utils:get_model_by_type: model type is: linear-steering\n"
     ]
    },
    {
     "name": "stdout",
     "output_type": "stream",
     "text": [
      "predictions shape (20797, 1)\n"
     ]
    },
    {
     "name": "stderr",
     "output_type": "stream",
     "text": [
      "INFO:donkeycar.parts.keras:Created KerasLinearOnlySteering with interpreter: KerasInterpreter\n",
      "INFO:donkeycar.parts.keras:Loading model /Volumes/GoogleDrive/My Drive/maka/open-loop/models/daytime-slow-linear/KerasLinearOnlySteering-3.fold-of-5-CC.h5\n",
      "INFO:donkeycar.parts.interpreter:Loading model /Volumes/GoogleDrive/My Drive/maka/open-loop/models/daytime-slow-linear/KerasLinearOnlySteering-3.fold-of-5-CC.h5\n"
     ]
    },
    {
     "name": "stdout",
     "output_type": "stream",
     "text": [
      "197/197 [==============================] - 20s 101ms/step\n",
      "predictions shape (25103, 1)\n",
      "50/50 [==============================] - 5s 103ms/step\n",
      "predictions shape (6276, 1)\n",
      "163/163 [==============================] - 16s 101ms/step\n"
     ]
    },
    {
     "name": "stderr",
     "output_type": "stream",
     "text": [
      "INFO:donkeycar.utils:get_model_by_type: model type is: linear-steering\n",
      "INFO:donkeycar.parts.keras:Created KerasLinearOnlySteering with interpreter: KerasInterpreter\n",
      "INFO:donkeycar.parts.keras:Loading model /Volumes/GoogleDrive/My Drive/maka/open-loop/models/daytime-slow-linear/KerasLinearOnlySteering-4.fold-of-5-CC.h5\n",
      "INFO:donkeycar.parts.interpreter:Loading model /Volumes/GoogleDrive/My Drive/maka/open-loop/models/daytime-slow-linear/KerasLinearOnlySteering-4.fold-of-5-CC.h5\n"
     ]
    },
    {
     "name": "stdout",
     "output_type": "stream",
     "text": [
      "predictions shape (20797, 1)\n",
      "197/197 [==============================] - 20s 101ms/step\n",
      "predictions shape (25103, 1)\n",
      "50/50 [==============================] - 5s 102ms/step\n",
      "predictions shape (6276, 1)\n",
      "163/163 [==============================] - 17s 102ms/step\n"
     ]
    },
    {
     "name": "stderr",
     "output_type": "stream",
     "text": [
      "INFO:donkeycar.utils:get_model_by_type: model type is: linear-steering\n",
      "INFO:donkeycar.parts.keras:Created KerasLinearOnlySteering with interpreter: KerasInterpreter\n",
      "INFO:donkeycar.parts.keras:Loading model /Volumes/GoogleDrive/My Drive/maka/open-loop/models/daytime-slow-linear/KerasLinearOnlySteering-5.fold-of-5-CC.h5\n",
      "INFO:donkeycar.parts.interpreter:Loading model /Volumes/GoogleDrive/My Drive/maka/open-loop/models/daytime-slow-linear/KerasLinearOnlySteering-5.fold-of-5-CC.h5\n"
     ]
    },
    {
     "name": "stdout",
     "output_type": "stream",
     "text": [
      "predictions shape (20797, 1)\n",
      "197/197 [==============================] - 20s 102ms/step\n",
      "predictions shape (25104, 1)\n",
      "50/50 [==============================] - 5s 101ms/step\n",
      "predictions shape (6275, 1)\n",
      "163/163 [==============================] - 16s 100ms/step\n",
      "predictions shape (20797, 1)\n"
     ]
    }
   ],
   "source": [
    "\n",
    "train_predictions = np.zeros(len(slow_speed_data))\n",
    "test_predictions = np.zeros(len(slow_speed_data))\n",
    "fast_predictions = np.zeros(len(fast_speed_data))\n",
    "\n",
    "MODELS_PATH = '/Volumes/GoogleDrive/My Drive/maka/open-loop/models/daytime-slow-linear'\n",
    "\n",
    "for fold, (train_index, test_index) in enumerate(kf.split(slow_speed_data), start=1):\n",
    "    train_records = [slow_speed_data[i] for i in train_index]\n",
    "    test_records = [slow_speed_data[i] for i in test_index]\n",
    "    trained_model = load_model(MODELS_PATH, model_type, cfg, DIRECTION, N_FOLDS, fold)\n",
    "    fold_train_predictions = np.zeros(len(slow_speed_data))\n",
    "    np.put(fold_train_predictions, train_index, get_predictions(trained_model, cfg, train_records))\n",
    "    train_predictions += fold_train_predictions\n",
    "\n",
    "    fold_test_predictions = get_predictions(trained_model, cfg, test_records)\n",
    "    np.put(test_predictions, test_index, fold_test_predictions)\n",
    "\n",
    "    fold_fast_predictions = get_predictions(trained_model, cfg, fast_speed_data)\n",
    "    fast_predictions += fold_fast_predictions[:,0]\n",
    "\n",
    "train_predictions /= (N_FOLDS-1)\n",
    "fast_predictions /= N_FOLDS"
   ],
   "metadata": {
    "collapsed": false,
    "pycharm": {
     "name": "#%%\n"
    }
   }
  },
  {
   "cell_type": "code",
   "execution_count": 105,
   "outputs": [
    {
     "data": {
      "text/plain": "(-0.23733802340388604, -0.236945208646325, -0.19236103558606835)"
     },
     "execution_count": 105,
     "metadata": {},
     "output_type": "execute_result"
    }
   ],
   "source": [
    "train_predictions.mean(), test_predictions.mean(), fast_predictions.mean()\n"
   ],
   "metadata": {
    "collapsed": false,
    "pycharm": {
     "name": "#%%\n"
    }
   }
  },
  {
   "cell_type": "code",
   "execution_count": 106,
   "outputs": [
    {
     "data": {
      "text/plain": "((31379,), (31379,), (20797,))"
     },
     "execution_count": 106,
     "metadata": {},
     "output_type": "execute_result"
    }
   ],
   "source": [
    "train_predictions.shape, test_predictions.shape, fast_predictions.shape\n"
   ],
   "metadata": {
    "collapsed": false,
    "pycharm": {
     "name": "#%%\n"
    }
   }
  },
  {
   "cell_type": "code",
   "execution_count": 107,
   "outputs": [],
   "source": [
    "np.savetxt('open-loop-results/daytime-slow-linear-model-daytime-slow-data-prediction-and-ground-truth.csv.gz', np.array([train_predictions, test_predictions, slow_ground_truths]).T)\n",
    "\n",
    "np.savetxt('open-loop-results/daytime-slow-linear-model-daytime-fast-data-prediction-and-ground-truth.csv.gz', np.array([ fast_predictions, fast_ground_truths]).T)"
   ],
   "metadata": {
    "collapsed": false,
    "pycharm": {
     "name": "#%%\n"
    }
   }
  },
  {
   "cell_type": "code",
   "execution_count": 107,
   "outputs": [],
   "source": [],
   "metadata": {
    "collapsed": false,
    "pycharm": {
     "name": "#%%\n"
    }
   }
  }
 ],
 "metadata": {
  "kernelspec": {
   "display_name": "donkey2",
   "language": "python",
   "name": "donkey2"
  },
  "language_info": {
   "codemirror_mode": {
    "name": "ipython",
    "version": 3
   },
   "file_extension": ".py",
   "mimetype": "text/x-python",
   "name": "python",
   "nbconvert_exporter": "python",
   "pygments_lexer": "ipython3",
   "version": "3.7.11"
  },
  "toc-autonumbering": false
 },
 "nbformat": 4,
 "nbformat_minor": 4
}