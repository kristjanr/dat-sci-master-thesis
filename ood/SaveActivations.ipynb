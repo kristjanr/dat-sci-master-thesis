{
 "cells": [
  {
   "cell_type": "markdown",
   "source": [
    "## Save activation values"
   ],
   "metadata": {
    "collapsed": false,
    "pycharm": {
     "name": "#%% md\n"
    }
   }
  },
  {
   "cell_type": "code",
   "execution_count": 3,
   "outputs": [],
   "source": [
    "%load_ext autoreload\n",
    "%autoreload 2\n",
    "\n",
    "import sys\n",
    "\n",
    "sys.path.append('donkeycar')\n",
    "sys.path.append('src')\n"
   ],
   "metadata": {
    "collapsed": false,
    "pycharm": {
     "name": "#%%\n"
    }
   }
  },
  {
   "cell_type": "code",
   "execution_count": 4,
   "outputs": [
    {
     "name": "stdout",
     "output_type": "stream",
     "text": [
      "________             ______                   _________              \n",
      "___  __ \\_______________  /___________  __    __  ____/_____ ________\n",
      "__  / / /  __ \\_  __ \\_  //_/  _ \\_  / / /    _  /    _  __ `/_  ___/\n",
      "_  /_/ // /_/ /  / / /  ,<  /  __/  /_/ /     / /___  / /_/ /_  /    \n",
      "/_____/ \\____//_/ /_//_/|_| \\___/_\\__, /      \\____/  \\__,_/ /_/     \n",
      "                                 /____/                              \n",
      "\n",
      "using donkey v4.3.5 ...\n"
     ]
    },
    {
     "name": "stderr",
     "output_type": "stream",
     "text": [
      "\n",
      "----------------------------------------------------------------------\n",
      "Ran 0 tests in 0.000s\n",
      "\n",
      "OK\n"
     ]
    }
   ],
   "source": [
    "from tensorflow import keras\n",
    "import multiprocessing\n",
    "import numpy as np\n",
    "from losses import get_pipe, get_dataset_from_pipe\n",
    "from donkeycar.utils import get_model_by_type\n",
    "from dataloader import load_records\n",
    "import donkeycar as dk\n",
    "import matplotlib.pyplot as plt\n"
   ],
   "metadata": {
    "collapsed": false,
    "pycharm": {
     "name": "#%%\n"
    }
   }
  },
  {
   "cell_type": "code",
   "execution_count": 17,
   "outputs": [
    {
     "name": "stdout",
     "output_type": "stream",
     "text": [
      "loading config file: ../mycar/config.py\n",
      "loading personal config over-rides from myconfig.py\n"
     ]
    }
   ],
   "source": [
    "cfg = dk.load_config(config_path='../mycar/config.py')\n",
    "\n",
    "# None means all the data is used.\n",
    "# use a smaller size, like 200 for testing end to end.\n",
    "TUBRECORD_SIZE = None\n",
    "\n",
    "cfg.SEQUENCE_LENGTH = 3\n",
    "cfg.WANDB_ENABLED = False\n",
    "cfg.TRANSFORMATIONS = ['CROP']\n",
    "cfg.ROI_CROP_TOP = 60\n",
    "cfg.ROI_CROP_KEEP_SIZE = False\n",
    "N_FOLDS = 5\n",
    "DIRECTION = 'CC'\n",
    "DATA_PATH = '../data/'\n",
    "\n",
    "model_type = '3d-modified-steering'"
   ],
   "metadata": {
    "collapsed": false,
    "pycharm": {
     "name": "#%%\n"
    }
   }
  },
  {
   "cell_type": "code",
   "execution_count": 11,
   "outputs": [
    {
     "name": "stderr",
     "output_type": "stream",
     "text": [
      "INFO:donkeycar.pipeline.types:Loading tubs from paths ['../data/faster-autodrive']\n"
     ]
    },
    {
     "name": "stdout",
     "output_type": "stream",
     "text": [
      "Using catalog /Users/kristjan.roosild/PycharmProjects/dat-sci-master-thesis/ood/../data/faster-autodrive/catalog_20.catalog\n"
     ]
    },
    {
     "data": {
      "text/plain": "19250"
     },
     "execution_count": 11,
     "metadata": {},
     "output_type": "execute_result"
    }
   ],
   "source": [
    "fast_speed_data = load_records('faster-autodrive', cfg, DATA_PATH, TUBRECORD_SIZE)\n",
    "len(fast_speed_data)\n"
   ],
   "metadata": {
    "collapsed": false,
    "pycharm": {
     "name": "#%%\n"
    }
   }
  },
  {
   "cell_type": "code",
   "execution_count": 12,
   "outputs": [
    {
     "name": "stderr",
     "output_type": "stream",
     "text": [
      "INFO:donkeycar.pipeline.types:Loading tubs from paths ['../data/slower-autodrive']\n"
     ]
    },
    {
     "name": "stdout",
     "output_type": "stream",
     "text": [
      "Using catalog /Users/kristjan.roosild/PycharmProjects/dat-sci-master-thesis/ood/../data/slower-autodrive/catalog_20.catalog\n"
     ]
    },
    {
     "data": {
      "text/plain": "20304"
     },
     "execution_count": 12,
     "metadata": {},
     "output_type": "execute_result"
    }
   ],
   "source": [
    "slow_speed_data = load_records('slower-autodrive', cfg, DATA_PATH, TUBRECORD_SIZE)\n",
    "len(slow_speed_data)\n"
   ],
   "metadata": {
    "collapsed": false,
    "pycharm": {
     "name": "#%%\n"
    }
   }
  },
  {
   "cell_type": "code",
   "execution_count": 13,
   "outputs": [
    {
     "name": "stderr",
     "output_type": "stream",
     "text": [
      "INFO:donkeycar.utils:get_model_by_type: model type is: 3d-modified-steering\n",
      "INFO:donkeycar.parts.keras:input_shape (60, 160, 3) num_outputs 1\n",
      "INFO:donkeycar.parts.keras:Created Keras3D_CNN_ModifiedOnlySteering with interpreter: KerasInterpreter\n",
      "INFO:donkeycar.parts.keras:Num outputs 1\n",
      "INFO:donkeycar.parts.keras:Sequence length 3\n"
     ]
    },
    {
     "name": "stdout",
     "output_type": "stream",
     "text": [
      "Model: \"3dcnn\"\n",
      "_________________________________________________________________\n",
      " Layer (type)                Output Shape              Param #   \n",
      "=================================================================\n",
      " img_in (InputLayer)         [(None, 3, 60, 160, 3)]   0         \n",
      "                                                                 \n",
      " conv3d_3 (Conv3D)           (None, 1, 20, 53, 16)     1312      \n",
      "                                                                 \n",
      " max_pooling3d_2 (MaxPooling  (None, 1, 10, 26, 16)    0         \n",
      " 3D)                                                             \n",
      "                                                                 \n",
      " conv3d_4 (Conv3D)           (None, 1, 10, 26, 32)     4640      \n",
      "                                                                 \n",
      " max_pooling3d_3 (MaxPooling  (None, 1, 5, 13, 32)     0         \n",
      " 3D)                                                             \n",
      "                                                                 \n",
      " conv3d_5 (Conv3D)           (None, 1, 5, 13, 32)      9248      \n",
      "                                                                 \n",
      " flatten_1 (Flatten)         (None, 2080)              0         \n",
      "                                                                 \n",
      " dense_2 (Dense)             (None, 128)               266368    \n",
      "                                                                 \n",
      " batch_normalization_2 (Batc  (None, 128)              512       \n",
      " hNormalization)                                                 \n",
      "                                                                 \n",
      " activation_2 (Activation)   (None, 128)               0         \n",
      "                                                                 \n",
      " dropout_2 (Dropout)         (None, 128)               0         \n",
      "                                                                 \n",
      " dense_3 (Dense)             (None, 256)               33024     \n",
      "                                                                 \n",
      " batch_normalization_3 (Batc  (None, 256)              1024      \n",
      " hNormalization)                                                 \n",
      "                                                                 \n",
      " activation_3 (Activation)   (None, 256)               0         \n",
      "                                                                 \n",
      " dropout_3 (Dropout)         (None, 256)               0         \n",
      "                                                                 \n",
      " outputs (Dense)             (None, 1)                 257       \n",
      "                                                                 \n",
      "=================================================================\n",
      "Total params: 316,385\n",
      "Trainable params: 315,617\n",
      "Non-trainable params: 768\n",
      "_________________________________________________________________\n"
     ]
    }
   ],
   "source": [
    "fast_model = get_model_by_type(model_type, cfg)\n",
    "fast_model.interpreter.model.summary()\n"
   ],
   "metadata": {
    "collapsed": false,
    "pycharm": {
     "name": "#%%\n"
    }
   }
  },
  {
   "cell_type": "code",
   "execution_count": 54,
   "outputs": [
    {
     "name": "stderr",
     "output_type": "stream",
     "text": [
      "INFO:donkeycar.utils:get_model_by_type: model type is: 3d-modified-steering\n",
      "INFO:donkeycar.parts.keras:input_shape (60, 160, 3) num_outputs 1\n",
      "INFO:donkeycar.parts.keras:Created Keras3D_CNN_ModifiedOnlySteering with interpreter: KerasInterpreter\n",
      "INFO:donkeycar.parts.keras:Num outputs 1\n",
      "INFO:donkeycar.parts.keras:Sequence length 3\n",
      "INFO:donkeycar.parts.keras:Loading model /Volumes/GoogleDrive/My Drive/maka/open-loop/models/nighttime-fast-auto-3d/Keras3D_CNN_ModifiedOnlySteering-1.fold-of-5-CC.h5\n",
      "INFO:donkeycar.parts.interpreter:Loading model /Volumes/GoogleDrive/My Drive/maka/open-loop/models/nighttime-fast-auto-3d/Keras3D_CNN_ModifiedOnlySteering-1.fold-of-5-CC.h5\n"
     ]
    },
    {
     "name": "stdout",
     "output_type": "stream",
     "text": [
      "10/10 [==============================] - 9s 822ms/step\n",
      "54/54 [==============================] - 39s 725ms/step\n"
     ]
    },
    {
     "name": "stderr",
     "output_type": "stream",
     "text": [
      "INFO:donkeycar.utils:get_model_by_type: model type is: 3d-modified-steering\n",
      "INFO:donkeycar.parts.keras:input_shape (60, 160, 3) num_outputs 1\n",
      "INFO:donkeycar.parts.keras:Created Keras3D_CNN_ModifiedOnlySteering with interpreter: KerasInterpreter\n",
      "INFO:donkeycar.parts.keras:Num outputs 1\n",
      "INFO:donkeycar.parts.keras:Sequence length 3\n",
      "INFO:donkeycar.parts.keras:Loading model /Volumes/GoogleDrive/My Drive/maka/open-loop/models/nighttime-fast-auto-3d/Keras3D_CNN_ModifiedOnlySteering-2.fold-of-5-CC.h5\n",
      "INFO:donkeycar.parts.interpreter:Loading model /Volumes/GoogleDrive/My Drive/maka/open-loop/models/nighttime-fast-auto-3d/Keras3D_CNN_ModifiedOnlySteering-2.fold-of-5-CC.h5\n"
     ]
    },
    {
     "name": "stdout",
     "output_type": "stream",
     "text": [
      "10/10 [==============================] - 7s 695ms/step\n",
      "54/54 [==============================] - 38s 697ms/step\n"
     ]
    },
    {
     "name": "stderr",
     "output_type": "stream",
     "text": [
      "INFO:donkeycar.utils:get_model_by_type: model type is: 3d-modified-steering\n",
      "INFO:donkeycar.parts.keras:input_shape (60, 160, 3) num_outputs 1\n",
      "INFO:donkeycar.parts.keras:Created Keras3D_CNN_ModifiedOnlySteering with interpreter: KerasInterpreter\n",
      "INFO:donkeycar.parts.keras:Num outputs 1\n",
      "INFO:donkeycar.parts.keras:Sequence length 3\n",
      "INFO:donkeycar.parts.keras:Loading model /Volumes/GoogleDrive/My Drive/maka/open-loop/models/nighttime-fast-auto-3d/Keras3D_CNN_ModifiedOnlySteering-3.fold-of-5-CC.h5\n",
      "INFO:donkeycar.parts.interpreter:Loading model /Volumes/GoogleDrive/My Drive/maka/open-loop/models/nighttime-fast-auto-3d/Keras3D_CNN_ModifiedOnlySteering-3.fold-of-5-CC.h5\n"
     ]
    },
    {
     "name": "stdout",
     "output_type": "stream",
     "text": [
      "10/10 [==============================] - 8s 787ms/step\n",
      "54/54 [==============================] - 37s 692ms/step\n"
     ]
    },
    {
     "name": "stderr",
     "output_type": "stream",
     "text": [
      "INFO:donkeycar.utils:get_model_by_type: model type is: 3d-modified-steering\n",
      "INFO:donkeycar.parts.keras:input_shape (60, 160, 3) num_outputs 1\n",
      "INFO:donkeycar.parts.keras:Created Keras3D_CNN_ModifiedOnlySteering with interpreter: KerasInterpreter\n",
      "INFO:donkeycar.parts.keras:Num outputs 1\n",
      "INFO:donkeycar.parts.keras:Sequence length 3\n",
      "INFO:donkeycar.parts.keras:Loading model /Volumes/GoogleDrive/My Drive/maka/open-loop/models/nighttime-fast-auto-3d/Keras3D_CNN_ModifiedOnlySteering-4.fold-of-5-CC.h5\n",
      "INFO:donkeycar.parts.interpreter:Loading model /Volumes/GoogleDrive/My Drive/maka/open-loop/models/nighttime-fast-auto-3d/Keras3D_CNN_ModifiedOnlySteering-4.fold-of-5-CC.h5\n"
     ]
    },
    {
     "name": "stdout",
     "output_type": "stream",
     "text": [
      "10/10 [==============================] - 7s 682ms/step\n",
      "54/54 [==============================] - 34s 637ms/step\n"
     ]
    },
    {
     "name": "stderr",
     "output_type": "stream",
     "text": [
      "INFO:donkeycar.utils:get_model_by_type: model type is: 3d-modified-steering\n",
      "INFO:donkeycar.parts.keras:input_shape (60, 160, 3) num_outputs 1\n",
      "INFO:donkeycar.parts.keras:Created Keras3D_CNN_ModifiedOnlySteering with interpreter: KerasInterpreter\n",
      "INFO:donkeycar.parts.keras:Num outputs 1\n",
      "INFO:donkeycar.parts.keras:Sequence length 3\n",
      "INFO:donkeycar.parts.keras:Loading model /Volumes/GoogleDrive/My Drive/maka/open-loop/models/nighttime-fast-auto-3d/Keras3D_CNN_ModifiedOnlySteering-5.fold-of-5-CC.h5\n",
      "INFO:donkeycar.parts.interpreter:Loading model /Volumes/GoogleDrive/My Drive/maka/open-loop/models/nighttime-fast-auto-3d/Keras3D_CNN_ModifiedOnlySteering-5.fold-of-5-CC.h5\n"
     ]
    },
    {
     "name": "stdout",
     "output_type": "stream",
     "text": [
      "10/10 [==============================] - 7s 672ms/step\n",
      "54/54 [==============================] - 34s 630ms/step\n"
     ]
    }
   ],
   "source": [
    "from model_loader import load_model\n",
    "from sklearn.model_selection import KFold\n",
    "import math\n",
    "\n",
    "kf = KFold(n_splits=N_FOLDS, shuffle=False)\n",
    "\n",
    "fast_activations = np.zeros((len(fast_speed_data), 256))\n",
    "slow_activations = []\n",
    "\n",
    "MODELS_PATH = '/Volumes/GoogleDrive/My Drive/maka/open-loop/models/nighttime-fast-auto-3d'\n",
    "\n",
    "for fold, (train_index, test_index) in enumerate(kf.split(fast_speed_data), start=1):\n",
    "    model = load_model(MODELS_PATH, model_type, cfg, DIRECTION, N_FOLDS, fold)\n",
    "    activations_model = keras.Model(model.interpreter.model.input, model.interpreter.model.get_layer('dense_1').output)\n",
    "\n",
    "    test_records = [fast_speed_data[i] for i in test_index]\n",
    "    cfg.BATCH_SIZE = max((math.gcd(len(test_records), i) for i in range(2, 400)))\n",
    "    pipe = get_pipe(model, cfg, test_records)\n",
    "    data = get_dataset_from_pipe(pipe)\n",
    "    fold_test_activations = activations_model.predict(\n",
    "        data,\n",
    "        workers=multiprocessing.cpu_count(),\n",
    "        use_multiprocessing=True,\n",
    "        steps=len(pipe),\n",
    "        verbose=1)\n",
    "    fast_activations[test_index, :] = fold_test_activations\n",
    "\n",
    "    cfg.BATCH_SIZE = max((math.gcd(len(slow_speed_data), i) for i in range(2, 400)))\n",
    "    pipe = get_pipe(model, cfg, slow_speed_data)\n",
    "    data = get_dataset_from_pipe(pipe)\n",
    "    fold_slow_activations = activations_model.predict(\n",
    "        data,\n",
    "        workers=multiprocessing.cpu_count(),\n",
    "        use_multiprocessing=True,\n",
    "        steps=len(pipe),\n",
    "        verbose=1)\n",
    "    slow_activations.append(fold_slow_activations)\n"
   ],
   "metadata": {
    "collapsed": false,
    "pycharm": {
     "name": "#%%\n"
    }
   }
  },
  {
   "cell_type": "code",
   "execution_count": 58,
   "outputs": [],
   "source": [
    "np.save(\"nighttime_ai_fast_model_fast_data_activations.npy\", np.float16(fast_activations))\n",
    "np.save(\"nighttime_ai_fast_model_slow_data_activations.npy\", np.float16(slow_activations))"
   ],
   "metadata": {
    "collapsed": false,
    "pycharm": {
     "name": "#%%\n"
    }
   }
  },
  {
   "cell_type": "code",
   "execution_count": 81,
   "outputs": [
    {
     "name": "stderr",
     "output_type": "stream",
     "text": [
      "INFO:donkeycar.utils:get_model_by_type: model type is: 3d-modified-steering\n",
      "INFO:donkeycar.parts.keras:input_shape (60, 160, 3) num_outputs 1\n",
      "INFO:donkeycar.parts.keras:Created Keras3D_CNN_ModifiedOnlySteering with interpreter: KerasInterpreter\n",
      "INFO:donkeycar.parts.keras:Num outputs 1\n",
      "INFO:donkeycar.parts.keras:Sequence length 3\n",
      "INFO:donkeycar.parts.keras:Loading model /Volumes/GoogleDrive/My Drive/maka/open-loop/models/nighttime-slow-auto-3d/Keras3D_CNN_ModifiedOnlySteering-1.fold-of-5-CC.h5\n",
      "INFO:donkeycar.parts.interpreter:Loading model /Volumes/GoogleDrive/My Drive/maka/open-loop/models/nighttime-slow-auto-3d/Keras3D_CNN_ModifiedOnlySteering-1.fold-of-5-CC.h5\n"
     ]
    },
    {
     "name": "stdout",
     "output_type": "stream",
     "text": [
      "31/31 [==============================] - 11s 325ms/step\n"
     ]
    },
    {
     "name": "stderr",
     "output_type": "stream",
     "text": [
      "INFO:donkeycar.utils:get_model_by_type: model type is: 3d-modified-steering\n",
      "INFO:donkeycar.parts.keras:input_shape (60, 160, 3) num_outputs 1\n",
      "INFO:donkeycar.parts.keras:Created Keras3D_CNN_ModifiedOnlySteering with interpreter: KerasInterpreter\n",
      "INFO:donkeycar.parts.keras:Num outputs 1\n",
      "INFO:donkeycar.parts.keras:Sequence length 3\n",
      "INFO:donkeycar.parts.keras:Loading model /Volumes/GoogleDrive/My Drive/maka/open-loop/models/nighttime-slow-auto-3d/Keras3D_CNN_ModifiedOnlySteering-2.fold-of-5-CC.h5\n",
      "INFO:donkeycar.parts.interpreter:Loading model /Volumes/GoogleDrive/My Drive/maka/open-loop/models/nighttime-slow-auto-3d/Keras3D_CNN_ModifiedOnlySteering-2.fold-of-5-CC.h5\n"
     ]
    },
    {
     "name": "stdout",
     "output_type": "stream",
     "text": [
      "31/31 [==============================] - 10s 317ms/step\n"
     ]
    },
    {
     "name": "stderr",
     "output_type": "stream",
     "text": [
      "INFO:donkeycar.utils:get_model_by_type: model type is: 3d-modified-steering\n",
      "INFO:donkeycar.parts.keras:input_shape (60, 160, 3) num_outputs 1\n",
      "INFO:donkeycar.parts.keras:Created Keras3D_CNN_ModifiedOnlySteering with interpreter: KerasInterpreter\n",
      "INFO:donkeycar.parts.keras:Num outputs 1\n",
      "INFO:donkeycar.parts.keras:Sequence length 3\n",
      "INFO:donkeycar.parts.keras:Loading model /Volumes/GoogleDrive/My Drive/maka/open-loop/models/nighttime-slow-auto-3d/Keras3D_CNN_ModifiedOnlySteering-3.fold-of-5-CC.h5\n",
      "INFO:donkeycar.parts.interpreter:Loading model /Volumes/GoogleDrive/My Drive/maka/open-loop/models/nighttime-slow-auto-3d/Keras3D_CNN_ModifiedOnlySteering-3.fold-of-5-CC.h5\n"
     ]
    },
    {
     "name": "stdout",
     "output_type": "stream",
     "text": [
      "31/31 [==============================] - 7s 234ms/step\n"
     ]
    },
    {
     "name": "stderr",
     "output_type": "stream",
     "text": [
      "INFO:donkeycar.utils:get_model_by_type: model type is: 3d-modified-steering\n",
      "INFO:donkeycar.parts.keras:input_shape (60, 160, 3) num_outputs 1\n",
      "INFO:donkeycar.parts.keras:Created Keras3D_CNN_ModifiedOnlySteering with interpreter: KerasInterpreter\n",
      "INFO:donkeycar.parts.keras:Num outputs 1\n",
      "INFO:donkeycar.parts.keras:Sequence length 3\n",
      "INFO:donkeycar.parts.keras:Loading model /Volumes/GoogleDrive/My Drive/maka/open-loop/models/nighttime-slow-auto-3d/Keras3D_CNN_ModifiedOnlySteering-4.fold-of-5-CC.h5\n",
      "INFO:donkeycar.parts.interpreter:Loading model /Volumes/GoogleDrive/My Drive/maka/open-loop/models/nighttime-slow-auto-3d/Keras3D_CNN_ModifiedOnlySteering-4.fold-of-5-CC.h5\n"
     ]
    },
    {
     "name": "stdout",
     "output_type": "stream",
     "text": [
      "31/31 [==============================] - 7s 228ms/step\n"
     ]
    },
    {
     "name": "stderr",
     "output_type": "stream",
     "text": [
      "INFO:donkeycar.utils:get_model_by_type: model type is: 3d-modified-steering\n",
      "INFO:donkeycar.parts.keras:input_shape (60, 160, 3) num_outputs 1\n",
      "INFO:donkeycar.parts.keras:Created Keras3D_CNN_ModifiedOnlySteering with interpreter: KerasInterpreter\n",
      "INFO:donkeycar.parts.keras:Num outputs 1\n",
      "INFO:donkeycar.parts.keras:Sequence length 3\n",
      "INFO:donkeycar.parts.keras:Loading model /Volumes/GoogleDrive/My Drive/maka/open-loop/models/nighttime-slow-auto-3d/Keras3D_CNN_ModifiedOnlySteering-5.fold-of-5-CC.h5\n",
      "INFO:donkeycar.parts.interpreter:Loading model /Volumes/GoogleDrive/My Drive/maka/open-loop/models/nighttime-slow-auto-3d/Keras3D_CNN_ModifiedOnlySteering-5.fold-of-5-CC.h5\n"
     ]
    },
    {
     "name": "stdout",
     "output_type": "stream",
     "text": [
      "14/14 [==============================] - 7s 488ms/step\n"
     ]
    }
   ],
   "source": [
    "\n",
    "slow_activations = np.zeros((len(slow_speed_data), 256))\n",
    "fast_activations = []\n",
    "\n",
    "MODELS_PATH = '/Volumes/GoogleDrive/My Drive/maka/open-loop/models/nighttime-slow-auto-3d'\n",
    "\n",
    "for fold, (train_index, test_index) in enumerate(kf.split(slow_speed_data), start=1):\n",
    "    model = load_model(MODELS_PATH, model_type, cfg, DIRECTION, N_FOLDS, fold)\n",
    "    activations_model = keras.Model(model.interpreter.model.input, model.interpreter.model.get_layer('dense_1').output)\n",
    "\n",
    "    test_records = [slow_speed_data[i] for i in test_index]\n",
    "    cfg.BATCH_SIZE = max((math.gcd(len(test_records), i) for i in range(2, 400)))\n",
    "    pipe = get_pipe(model, cfg, test_records)\n",
    "    data = get_dataset_from_pipe(pipe)\n",
    "    fold_test_activations = activations_model.predict(\n",
    "        data,\n",
    "        workers=multiprocessing.cpu_count(),\n",
    "        use_multiprocessing=True,\n",
    "        steps=len(pipe),\n",
    "        verbose=1)\n",
    "    slow_activations[test_index, :] = fold_test_activations\n",
    "\n",
    "    cfg.BATCH_SIZE = max((math.gcd(len(fast_speed_data), i) for i in range(2, 400)))\n",
    "    pipe = get_pipe(model, cfg, fast_speed_data)\n",
    "    data = get_dataset_from_pipe(pipe)\n",
    "    fold_fast_activations = activations_model.predict(\n",
    "        data,\n",
    "        workers=multiprocessing.cpu_count(),\n",
    "        use_multiprocessing=True,\n",
    "        steps=len(pipe),\n",
    "        verbose=1)\n",
    "    fast_activations.append(fold_fast_activations)\n"
   ],
   "metadata": {
    "collapsed": false,
    "pycharm": {
     "name": "#%%\n"
    }
   }
  },
  {
   "cell_type": "code",
   "execution_count": 82,
   "outputs": [],
   "source": [
    "np.save(\"nighttime_ai_slow_model_fast_data_activations.npy\", np.float16(fast_activations))\n",
    "np.save(\"nighttime_ai_slow_model_slow_data_activations.npy\", np.float16(slow_activations))"
   ],
   "metadata": {
    "collapsed": false,
    "pycharm": {
     "name": "#%%\n"
    }
   }
  }
 ],
 "metadata": {
  "kernelspec": {
   "name": "donkey2",
   "language": "python",
   "display_name": "donkey2"
  },
  "language_info": {
   "codemirror_mode": {
    "name": "ipython",
    "version": 2
   },
   "file_extension": ".py",
   "mimetype": "text/x-python",
   "name": "python",
   "nbconvert_exporter": "python",
   "pygments_lexer": "ipython2",
   "version": "2.7.6"
  }
 },
 "nbformat": 4,
 "nbformat_minor": 0
}