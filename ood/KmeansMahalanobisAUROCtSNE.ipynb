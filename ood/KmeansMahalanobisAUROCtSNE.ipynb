{
 "cells": [
  {
   "cell_type": "markdown",
   "source": [
    "# Load data"
   ],
   "metadata": {
    "collapsed": false,
    "pycharm": {
     "name": "#%% md\n"
    }
   }
  },
  {
   "cell_type": "code",
   "execution_count": 1,
   "outputs": [
    {
     "data": {
      "text/plain": "[(19250, 256), (20304, 256), (19250, 256), (20304, 256)]"
     },
     "execution_count": 1,
     "metadata": {},
     "output_type": "execute_result"
    }
   ],
   "source": [
    "import numpy as np\n",
    "from sklearn.cluster import KMeans\n",
    "\n",
    "fast_all_IND_test_activations = np.load(\"nighttime_ai_fast_model_fast_data_activations.npy\")\n",
    "fast_all_OOD_activations = np.load(\"nighttime_ai_fast_model_slow_data_activations.npy\")\n",
    "slow_all_IND_test_activations = np.load(\"nighttime_ai_slow_model_slow_data_activations.npy\")\n",
    "slow_all_OOD_activations = np.load(\"nighttime_ai_slow_model_fast_data_activations.npy\")\n",
    "\n",
    "[d.shape for d in\n",
    " (fast_all_IND_test_activations, fast_all_OOD_activations, slow_all_OOD_activations, slow_all_IND_test_activations)]"
   ],
   "metadata": {
    "collapsed": false,
    "pycharm": {
     "name": "#%%\n"
    }
   }
  },
  {
   "cell_type": "markdown",
   "source": [
    "# Find N for Kmeans"
   ],
   "metadata": {
    "collapsed": false,
    "pycharm": {
     "name": "#%% md\n"
    }
   }
  },
  {
   "cell_type": "code",
   "execution_count": 102,
   "outputs": [],
   "source": [
    "import matplotlib.pyplot as plt\n",
    "\n",
    "\n",
    "def find_inertia(data):\n",
    "    inertias = {}\n",
    "    for n in range(2, 10):\n",
    "        model = KMeans(n_clusters=n, random_state=0).fit(data)\n",
    "        inertias[n] = model.inertia_\n",
    "    return inertias\n",
    "\n",
    "\n",
    "def find_N():\n",
    "    d = dict()\n",
    "    d['Fast model InD data'] = find_inertia(fast_all_IND_test_activations)\n",
    "    d['Fast model OOD data'] = find_inertia(fast_all_OOD_activations)\n",
    "    d['Slow model InD data'] = find_inertia(slow_all_IND_test_activations)\n",
    "    d['Slow model OOD data'] = find_inertia(slow_all_OOD_activations)\n",
    "    return d\n",
    "\n",
    "\n",
    "d = find_N()"
   ],
   "metadata": {
    "collapsed": false,
    "pycharm": {
     "name": "#%%\n"
    }
   }
  },
  {
   "cell_type": "markdown",
   "source": [
    "### Figure 16.\n",
    "Finding the best number of clusters for K-means clustering method\n"
   ],
   "metadata": {
    "collapsed": false,
    "pycharm": {
     "name": "#%% md\n"
    }
   }
  },
  {
   "cell_type": "code",
   "execution_count": 125,
   "outputs": [
    {
     "name": "stdout",
     "output_type": "stream",
     "text": [
      "65621.46171039359\n",
      "27843.42405951348\n",
      "85018.83980276232\n",
      "20290.949789510305\n"
     ]
    },
    {
     "data": {
      "text/plain": "<Figure size 360x360 with 1 Axes>",
      "image/png": "[encoded data removed]"
     },
     "metadata": {
      "needs_background": "light"
     },
     "output_type": "display_data"
    }
   ],
   "source": [
    "fig, ax = plt.subplots(figsize=(5, 5))\n",
    "\n",
    "for name, dd in d.items():\n",
    "    data = {k: v for k, v in dd.items()}\n",
    "    average_inertia_over_samples = np.array(list(data.values())) / len(data.values())\n",
    "\n",
    "    ax.spines['top'].set_visible(False)\n",
    "    ax.spines['right'].set_visible(False)\n",
    "    ax.spines['bottom'].set_visible(False)\n",
    "    ax.spines['left'].set_visible(False)\n",
    "\n",
    "    ax.plot(data.keys(), average_inertia_over_samples, label=name)\n",
    "    ax.set(xlabel= \"Number of clusters\", ylabel = \"Average euclidean distance from closest cluster centre\")\n",
    "\n",
    "    print(average_inertia_over_samples.mean())\n",
    "\n",
    "plt.legend(frameon=False, loc=\"upper right\")\n",
    "plt.show()\n"
   ],
   "metadata": {
    "collapsed": false,
    "pycharm": {
     "name": "#%%\n"
    }
   }
  },
  {
   "cell_type": "markdown",
   "source": [
    "# Clustering with N=3"
   ],
   "metadata": {
    "collapsed": false,
    "pycharm": {
     "name": "#%% md\n"
    }
   }
  },
  {
   "cell_type": "code",
   "execution_count": 5,
   "outputs": [
    {
     "data": {
      "text/plain": "((9500, 256), (9500, 256))"
     },
     "execution_count": 5,
     "metadata": {},
     "output_type": "execute_result"
    }
   ],
   "source": [
    "fast_model_IND_train = fast_all_IND_test_activations[:9500, :]\n",
    "fast_model_IND_test = fast_all_IND_test_activations[9500:9500 + 9500, :]\n",
    "fast_model_IND_train.shape, fast_model_IND_test.shape"
   ],
   "metadata": {
    "collapsed": false,
    "pycharm": {
     "name": "#%%\n"
    }
   }
  },
  {
   "cell_type": "code",
   "execution_count": 6,
   "outputs": [
    {
     "data": {
      "text/plain": "((9500, 256), (9500, 256))"
     },
     "execution_count": 6,
     "metadata": {},
     "output_type": "execute_result"
    }
   ],
   "source": [
    "slow_model_IND_train = slow_all_IND_test_activations[:9500]\n",
    "slow_model_IND_test = slow_all_IND_test_activations[9500:9500 + 9500]\n",
    "slow_model_IND_train.shape, slow_model_IND_test.shape"
   ],
   "metadata": {
    "collapsed": false,
    "pycharm": {
     "name": "#%%\n"
    }
   }
  },
  {
   "cell_type": "code",
   "execution_count": 4,
   "outputs": [
    {
     "data": {
      "text/plain": "[0.9999999999999993, 1.7320508075688772, 2.6457513110645903]"
     },
     "execution_count": 4,
     "metadata": {},
     "output_type": "execute_result"
    }
   ],
   "source": [
    "import numpy as np\n",
    "\n",
    "\n",
    "def cal_mahal_dist(x, y, for_cov):\n",
    "    matrix_center = np.mean(y, axis=0)\n",
    "    delta = x - matrix_center\n",
    "\n",
    "    # calculate the covariance matrix and its inverse matrix\n",
    "    cov_matrix = np.cov(for_cov, rowvar=False, ddof=1)\n",
    "    cov_matrix_inv = np.linalg.pinv(cov_matrix)\n",
    "\n",
    "    # calculate the Mahalanobis distance between a single vector and the center of the dataset\n",
    "    def md_vector(vector):\n",
    "        inner_prod = np.dot(vector, cov_matrix_inv)\n",
    "        dist = np.sqrt(np.dot(inner_prod, vector))\n",
    "        return dist\n",
    "\n",
    "    mahal_dist = np.apply_along_axis(arr=delta, axis=1, func1d=md_vector)\n",
    "    assert len(mahal_dist) == len(x)\n",
    "    return mahal_dist\n",
    "\n",
    "\n",
    "def mahalanobis(x, cluster_center, for_cov):\n",
    "    \"\"\"\n",
    "    @param x: 2D array of the shape (nxm) n: samples, m: dimensions\n",
    "    @param cluster_center: 1 D array with length m: dimensions\n",
    "    @param for_cov: 2D array of the shape (nxm) n: samples, m: dimensions - used for covariance matrix\n",
    "    @return: a 1D array of the length n which contains mahalanobis distance for each sample in x\n",
    "    \"\"\"\n",
    "    assert len(x.shape) == 2\n",
    "    assert len(cluster_center.shape) == 1\n",
    "    assert x.shape[1] == cluster_center.shape[0]\n",
    "\n",
    "    d = np.repeat(cluster_center.reshape(1, -1), len(x), axis=0)\n",
    "\n",
    "    return cal_mahal_dist(x, d, for_cov)\n",
    "\n",
    "\n",
    "# test my mahalanobis function\n",
    "\n",
    "from scipy.spatial import distance\n",
    "\n",
    "aaa = np.array([0, 1, 0])\n",
    "\n",
    "x1 = [1, 0, 0]\n",
    "x2 = [0, 2, 0]\n",
    "x3 = [2, 0, 0]\n",
    "x = np.array([x1, x2, x3])\n",
    "\n",
    "cov_matrix = np.cov(x, rowvar=False, ddof=1)\n",
    "cov_matrix_inv = np.linalg.pinv(cov_matrix)\n",
    "\n",
    "[distance.mahalanobis(x1, aaa, cov_matrix_inv),\n",
    " distance.mahalanobis(x2, aaa, cov_matrix_inv),\n",
    " distance.mahalanobis(x3, aaa, cov_matrix_inv)\n",
    " ]"
   ],
   "metadata": {
    "collapsed": false,
    "pycharm": {
     "name": "#%%\n"
    }
   }
  },
  {
   "cell_type": "markdown",
   "source": [
    "## Figure 17.\n",
    "ROC curve for InD and OOD Mahalanobis distances from K-means cluster centres.\n",
    "\n",
    "AUROC for both datasets together"
   ],
   "metadata": {
    "collapsed": false,
    "pycharm": {
     "name": "#%% md\n"
    }
   }
  },
  {
   "cell_type": "code",
   "execution_count": 17,
   "outputs": [],
   "source": [
    "from sklearn.cluster import KMeans\n",
    "\n",
    "\n",
    "def get_mahal_scores_from_kmeans_clusters(train, val, test):\n",
    "    N = 3\n",
    "    model = KMeans(n_clusters=N, random_state=0)\n",
    "    model.fit(train)\n",
    "    mahal_train = []\n",
    "    mahal_test = []\n",
    "    mahal_ood = []\n",
    "\n",
    "    for cluster_center in model.cluster_centers_:\n",
    "        mahal_train.append(mahalanobis(train, cluster_center, train))\n",
    "        mahal_test.append(mahalanobis(val, cluster_center, train))\n",
    "        mahal_ood.append(mahalanobis(test, cluster_center, train))\n",
    "\n",
    "    mahal_train = np.min(np.array(mahal_train), axis=0).T\n",
    "    mahal_test = np.min(np.array(mahal_test), axis=0).T\n",
    "    mahal_ood = np.min(np.array(mahal_ood), axis=0).T\n",
    "\n",
    "    return mahal_train, mahal_test, mahal_ood\n",
    "\n",
    "\n",
    "mahal_train_fast, mahal_test_fast, mahal_ood_fast = get_mahal_scores_from_kmeans_clusters(fast_model_IND_train, fast_model_IND_test, fast_all_OOD_activations)\n",
    "\n",
    "mahal_train_slow, mahal_test_slow, mahal_ood_slow = get_mahal_scores_from_kmeans_clusters(slow_model_IND_train, slow_model_IND_test, slow_all_OOD_activations)\n"
   ],
   "metadata": {
    "collapsed": false,
    "pycharm": {
     "name": "#%%\n"
    }
   }
  },
  {
   "cell_type": "code",
   "execution_count": 18,
   "outputs": [
    {
     "data": {
      "text/plain": "<Figure size 360x360 with 1 Axes>",
      "image/png": "[encoded data removed]"
     },
     "metadata": {
      "needs_background": "light"
     },
     "output_type": "display_data"
    }
   ],
   "source": [
    "from matplotlib import pyplot as plt\n",
    "from sklearn.metrics import roc_curve, auc\n",
    "\n",
    "fast_IND_mahal = np.vstack([np.zeros(len(mahal_test_fast)), mahal_test_fast]).T\n",
    "fast_OOD_mahal = np.vstack([np.ones(len(mahal_ood_fast)), mahal_ood_fast]).T\n",
    "slow_IND_mahal = np.vstack([np.zeros(len(mahal_test_slow)), mahal_test_slow]).T\n",
    "slow_OOD_mahal = np.vstack([np.ones(len(mahal_ood_slow)), mahal_ood_slow]).T\n",
    "data = np.concatenate((fast_IND_mahal,\n",
    "                       fast_OOD_mahal,\n",
    "                       slow_IND_mahal,\n",
    "                       slow_OOD_mahal))\n",
    "y_true = data[:, 0]\n",
    "y_score = data[:, 1]\n",
    "\n",
    "fpr, tpr, _ = roc_curve(y_true, y_score)\n",
    "roc_auc = auc(fpr, tpr)\n",
    "\n",
    "fig, ax = plt.subplots(figsize=(5, 5))\n",
    "\n",
    "ax.plot(\n",
    "    fpr,\n",
    "    tpr,\n",
    "    color=\"grey\",\n",
    "    lw=2,\n",
    "    label=\"ROC curve (area = %0.4f)\" % roc_auc,\n",
    ")\n",
    "ax.plot([0, 1], [0, 1], color=\"grey\", lw=2, linestyle=\"--\", label='0.5 area')\n",
    "ax.set(xlabel= \"False Positive Rate\", ylabel = \"True Positive Rate\")\n",
    "\n",
    "ax.spines['top'].set_visible(False)\n",
    "ax.spines['right'].set_visible(False)\n",
    "ax.spines['bottom'].set_visible(False)\n",
    "ax.spines['left'].set_visible(False)\n",
    "ax.legend(frameon=False, loc=\"lower right\")\n",
    "plt.show()\n"
   ],
   "metadata": {
    "collapsed": false,
    "pycharm": {
     "name": "#%%\n"
    }
   }
  },
  {
   "cell_type": "code",
   "execution_count": 19,
   "outputs": [
    {
     "name": "stdout",
     "output_type": "stream",
     "text": [
      "Average Mahalanobis distance scores for fast model:\n",
      "Train InD 15.6\n",
      "Test InD 16.2\n",
      "OOD 100.4\n",
      "Average Mahalanobis distance scores for slow model:\n",
      "Train InD 15.7\n",
      "Test InD 16.6\n",
      "OOD 65.9\n"
     ]
    }
   ],
   "source": [
    "\n",
    "ddd = {\n",
    "    'Train InD': mahal_train_fast,\n",
    "    'Test InD': mahal_test_fast,\n",
    "    'OOD': mahal_ood_fast,\n",
    "}\n",
    "\n",
    "print('Average Mahalanobis distance scores for fast model:')\n",
    "for n, v in ddd.items():\n",
    "    print(n, f'{v.mean():.1f}')\n",
    "\n",
    "ddd = {\n",
    "    'Train InD': mahal_train_slow,\n",
    "    'Test InD': mahal_test_slow,\n",
    "    'OOD': mahal_ood_slow,\n",
    "}\n",
    "\n",
    "print('Average Mahalanobis distance scores for slow model:')\n",
    "for n, v in ddd.items():\n",
    "    print(n, f'{v.mean():.1f}')\n"
   ],
   "metadata": {
    "collapsed": false,
    "pycharm": {
     "name": "#%%\n"
    }
   }
  },
  {
   "cell_type": "markdown",
   "source": [
    "### 4.4.3 T-distributed Stochastic Neighbour Embedding"
   ],
   "metadata": {
    "collapsed": false,
    "pycharm": {
     "name": "#%% md\n"
    }
   }
  },
  {
   "cell_type": "code",
   "execution_count": 20,
   "outputs": [
    {
     "name": "stderr",
     "output_type": "stream",
     "text": [
      "/Users/kristjan.roosild/opt/miniconda3/envs/donkey/lib/python3.7/site-packages/sklearn/manifold/_t_sne.py:986: FutureWarning: The PCA initialization in TSNE will change to have the standard deviation of PC1 equal to 1e-4 in 1.2. This will ensure better convergence.\n",
      "  FutureWarning,\n"
     ]
    }
   ],
   "source": [
    "from sklearn.manifold import TSNE\n",
    "\n",
    "tsne = TSNE(n_components=3, random_state=0, learning_rate='auto', init='pca').fit(\n",
    "    np.concatenate((fast_all_IND_test_activations, fast_all_OOD_activations)))\n"
   ],
   "metadata": {
    "collapsed": false,
    "pycharm": {
     "name": "#%%\n"
    }
   }
  },
  {
   "cell_type": "code",
   "execution_count": 21,
   "outputs": [
    {
     "data": {
      "text/plain": "(39554,)"
     },
     "execution_count": 21,
     "metadata": {},
     "output_type": "execute_result"
    }
   ],
   "source": [
    "labels = np.concatenate((np.zeros(len(fast_all_IND_test_activations)), np.ones(len(fast_all_OOD_activations))))\n",
    "labels.shape"
   ],
   "metadata": {
    "collapsed": false,
    "pycharm": {
     "name": "#%%\n"
    }
   }
  },
  {
   "cell_type": "code",
   "execution_count": 22,
   "outputs": [
    {
     "data": {
      "text/plain": "(39554, 3)"
     },
     "execution_count": 22,
     "metadata": {},
     "output_type": "execute_result"
    }
   ],
   "source": [
    "tsne.embedding_.shape"
   ],
   "metadata": {
    "collapsed": false,
    "pycharm": {
     "name": "#%%\n"
    }
   }
  },
  {
   "cell_type": "markdown",
   "source": [
    "### Figure 18.\n",
    "Fast model's t-SNE 3D plot viewed from three different angles.\n"
   ],
   "metadata": {
    "collapsed": false,
    "pycharm": {
     "name": "#%% md\n"
    }
   }
  },
  {
   "cell_type": "code",
   "execution_count": 23,
   "outputs": [
    {
     "data": {
      "text/plain": "<Figure size 720x360 with 3 Axes>",
      "image/png": "[encoded data removed]"
     },
     "metadata": {},
     "output_type": "display_data"
    }
   ],
   "source": [
    "from matplotlib import ticker\n",
    "\n",
    "\n",
    "def plot_3d(points, points_color, title):\n",
    "    x, y, z = points.T\n",
    "\n",
    "    fig, axs = plt.subplots(\n",
    "        nrows=1,\n",
    "        ncols=3,\n",
    "        figsize=(10, 5),\n",
    "        facecolor=\"white\",\n",
    "        tight_layout=True,\n",
    "        subplot_kw={\"projection\": \"3d\"},\n",
    "    )\n",
    "    fig.tight_layout()\n",
    "    fig.suptitle(title, size=16)\n",
    "    plot__(axs[0], points_color, x, y, z, 0)\n",
    "    plot__(axs[1], points_color, x, y, z, 45)\n",
    "    plot__(axs[2], points_color, x, y, z, 90)\n",
    "    axs[0].legend(frameon=False, loc='upper left', prop={'size': 10}, markerscale=5)\n",
    "    plt.show()\n",
    "\n",
    "\n",
    "def plot__(ax, points_color, x, y, z, azim):\n",
    "    ax.scatter(x[points_color==0], y[points_color==0], z[points_color==0], c='saddlebrown', s=1, label='InD')\n",
    "    ax.scatter(x[points_color==1], y[points_color==1], z[points_color==1], c='sandybrown', s=1, label='OOD')\n",
    "    ax.view_init(azim=azim, elev=9)\n",
    "    ax.xaxis.set_major_locator(ticker.NullLocator())\n",
    "    ax.yaxis.set_major_locator(ticker.NullLocator())\n",
    "    ax.zaxis.set_major_locator(ticker.NullLocator())\n",
    "    ax.spines['top'].set_visible(False)\n",
    "    ax.spines['right'].set_visible(False)\n",
    "    ax.spines['bottom'].set_visible(False)\n",
    "    ax.spines['left'].set_visible(False)\n",
    "    ax.grid(False)\n",
    "    ax.set(xticks = [], yticks = [], zticks = [], title=f'Viewed from {azim}° angle')\n",
    "\n",
    "plot_3d(tsne.embedding_, labels, None)"
   ],
   "metadata": {
    "collapsed": false,
    "pycharm": {
     "name": "#%%\n"
    }
   }
  }
 ],
 "metadata": {
  "kernelspec": {
   "display_name": "Python 3",
   "language": "python",
   "name": "python3"
  },
  "language_info": {
   "codemirror_mode": {
    "name": "ipython",
    "version": 2
   },
   "file_extension": ".py",
   "mimetype": "text/x-python",
   "name": "python",
   "nbconvert_exporter": "python",
   "pygments_lexer": "ipython2",
   "version": "2.7.6"
  }
 },
 "nbformat": 4,
 "nbformat_minor": 0
}