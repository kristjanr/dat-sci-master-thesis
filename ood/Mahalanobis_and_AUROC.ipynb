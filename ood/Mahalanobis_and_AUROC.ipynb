{
 "cells": [
  {
   "cell_type": "markdown",
   "metadata": {
    "pycharm": {
     "name": "#%% md\n"
    }
   },
   "source": [
    "## Load data\n"
   ]
  },
  {
   "cell_type": "code",
   "execution_count": 3,
   "outputs": [],
   "source": [
    "import os\n",
    "\n",
    "# do we have the correct env loaded?\n",
    "assert 'donkey2' == os.environ['CONDA_DEFAULT_ENV'], os.environ['CONDA_DEFAULT_ENV']"
   ],
   "metadata": {
    "collapsed": false,
    "pycharm": {
     "name": "#%%\n"
    }
   }
  },
  {
   "cell_type": "code",
   "execution_count": 4,
   "outputs": [
    {
     "data": {
      "text/plain": "[(19250, 256), (20304, 256), (19250, 256), (20304, 256)]"
     },
     "execution_count": 4,
     "metadata": {},
     "output_type": "execute_result"
    }
   ],
   "source": [
    "import numpy as np\n",
    "\n",
    "fast_model_IND_test_activations = np.load(\"nighttime_ai_fast_model_fast_data_activations.npy\")\n",
    "fast_model_OOD_activations = np.load(\"nighttime_ai_fast_model_slow_data_activations.npy\")\n",
    "slow_model_OOD_activations = np.load(\"nighttime_ai_slow_model_fast_data_activations.npy\")\n",
    "slow_model_IND_test_activations = np.load(\"nighttime_ai_slow_model_slow_data_activations.npy\")\n",
    "\n",
    "[d.shape for d in (fast_model_IND_test_activations, fast_model_OOD_activations, slow_model_OOD_activations,\n",
    "                   slow_model_IND_test_activations)]"
   ],
   "metadata": {
    "collapsed": false,
    "pycharm": {
     "name": "#%%\n"
    }
   }
  },
  {
   "cell_type": "code",
   "execution_count": 5,
   "outputs": [
    {
     "data": {
      "text/plain": "((9500, 256), (9500, 256))"
     },
     "execution_count": 5,
     "metadata": {},
     "output_type": "execute_result"
    }
   ],
   "source": [
    "\n",
    "fast_model_IND_train = fast_model_IND_test_activations[:9500, :]\n",
    "fast_model_IND_test = fast_model_IND_test_activations[9500:9500 + 9500, :]\n",
    "fast_model_IND_train.shape, fast_model_IND_test.shape"
   ],
   "metadata": {
    "collapsed": false,
    "pycharm": {
     "name": "#%%\n"
    }
   }
  },
  {
   "cell_type": "code",
   "execution_count": 6,
   "outputs": [
    {
     "data": {
      "text/plain": "((9500, 256), (9500, 256))"
     },
     "execution_count": 6,
     "metadata": {},
     "output_type": "execute_result"
    }
   ],
   "source": [
    "slow_model_IND_train = slow_model_IND_test_activations[:9500]\n",
    "slow_model_IND_test = slow_model_IND_test_activations[9500:9500 + 9500]\n",
    "slow_model_IND_train.shape, slow_model_IND_test.shape"
   ],
   "metadata": {
    "collapsed": false,
    "pycharm": {
     "name": "#%%\n"
    }
   }
  },
  {
   "cell_type": "markdown",
   "source": [
    "## Mahalanobis"
   ],
   "metadata": {
    "collapsed": false,
    "pycharm": {
     "name": "#%% md\n"
    }
   }
  },
  {
   "cell_type": "code",
   "execution_count": 14,
   "outputs": [
    {
     "data": {
      "text/plain": "[0.9999999999999993, 1.7320508075688772, 2.6457513110645903]"
     },
     "execution_count": 14,
     "metadata": {},
     "output_type": "execute_result"
    }
   ],
   "source": [
    "import numpy as np\n",
    "\n",
    "\n",
    "def cal_mahal_dist(x, y, for_cov):\n",
    "    matrix_center = np.mean(y, axis=0)\n",
    "    delta = x - matrix_center\n",
    "\n",
    "    # calculate the covariance matrix and its inverse matrix\n",
    "    cov_matrix = np.cov(for_cov, rowvar=False, ddof=1)\n",
    "    cov_matrix_inv = np.linalg.pinv(cov_matrix)\n",
    "\n",
    "    # calculate the Mahalanobis distance between a single vector and the center of the dataset\n",
    "    def md_vector(vector):\n",
    "        inner_prod = np.dot(vector, cov_matrix_inv)\n",
    "        dist = np.sqrt(np.dot(inner_prod, vector))\n",
    "        return dist\n",
    "\n",
    "    mahal_dist = np.apply_along_axis(arr=delta, axis=1, func1d=md_vector)\n",
    "    assert len(mahal_dist) == len(x)\n",
    "    return mahal_dist\n",
    "\n",
    "\n",
    "def mahalanobis(x, cluster_center, for_cov):\n",
    "    \"\"\"\n",
    "    @param x: 2D array of the shape (nxm) n: samples, m: dimensions\n",
    "    @param cluster_center: 1 D array with length m: dimensions\n",
    "    @param for_cov: 2D array of the shape (nxm) n: samples, m: dimensions - used for covariance matrix\n",
    "    @return: a 1D array of the length n which contains mahalanobis distance for each sample in x\n",
    "    \"\"\"\n",
    "    assert len(x.shape) == 2\n",
    "    assert len(cluster_center.shape) == 1\n",
    "    assert x.shape[1] == cluster_center.shape[0]\n",
    "\n",
    "    d = np.repeat(cluster_center.reshape(1, -1), len(x), axis=0)\n",
    "\n",
    "    return cal_mahal_dist(x, d, for_cov)\n",
    "\n",
    "\n",
    "# test my mahalanobis function\n",
    "\n",
    "from scipy.spatial import distance\n",
    "\n",
    "aaa = np.array([0, 1, 0])\n",
    "\n",
    "x1 = [1, 0, 0]\n",
    "x2 = [0, 2, 0]\n",
    "x3 = [2, 0, 0]\n",
    "x = np.array([x1, x2, x3])\n",
    "\n",
    "cov_matrix = np.cov(x, rowvar=False, ddof=1)\n",
    "cov_matrix_inv = np.linalg.pinv(cov_matrix)\n",
    "\n",
    "[distance.mahalanobis(x1, aaa, cov_matrix_inv),\n",
    " distance.mahalanobis(x2, aaa, cov_matrix_inv),\n",
    " distance.mahalanobis(x3, aaa, cov_matrix_inv)\n",
    " ]"
   ],
   "metadata": {
    "collapsed": false,
    "pycharm": {
     "name": "#%%\n"
    }
   }
  },
  {
   "cell_type": "code",
   "execution_count": 13,
   "outputs": [
    {
     "data": {
      "text/plain": "array([1.        , 1.73205081, 2.64575131])"
     },
     "execution_count": 13,
     "metadata": {},
     "output_type": "execute_result"
    }
   ],
   "source": [
    "\n",
    "mahalanobis(x, aaa, x)"
   ],
   "metadata": {
    "collapsed": false,
    "pycharm": {
     "name": "#%%\n"
    }
   }
  },
  {
   "cell_type": "code",
   "execution_count": 8,
   "outputs": [
    {
     "name": "stdout",
     "output_type": "stream",
     "text": [
      "15.639499521692596 16.185765321302302 100.44562083780427\n",
      "15.67006832123462 16.552869273682774 65.90274478621626\n"
     ]
    }
   ],
   "source": [
    "from sklearn.cluster import KMeans\n",
    "\n",
    "\n",
    "def get_mahal_scores_from_kmeans_clusters(train, val, test):\n",
    "    N = 3\n",
    "    model = KMeans(n_clusters=N, random_state=0)\n",
    "    model.fit(train)\n",
    "    mahal_train = []\n",
    "    mahal_test = []\n",
    "    mahal_ood = []\n",
    "\n",
    "    for cluster_center in model.cluster_centers_:\n",
    "        mahal_train.append(mahalanobis(train, cluster_center, train))\n",
    "        mahal_test.append(mahalanobis(val, cluster_center, train))\n",
    "        mahal_ood.append(mahalanobis(test, cluster_center, train))\n",
    "\n",
    "    mahal_train = np.min(np.array(mahal_train), axis=0).T\n",
    "    mahal_test = np.min(np.array(mahal_test), axis=0).T\n",
    "    mahal_ood = np.min(np.array(mahal_ood), axis=0).T\n",
    "\n",
    "    print(mahal_train.mean(), mahal_test.mean(), mahal_ood.mean())\n",
    "\n",
    "    return mahal_train, mahal_test, mahal_ood\n",
    "\n",
    "\n",
    "mahal_train_fast, mahal_test_fast, mahal_ood_fast = get_mahal_scores_from_kmeans_clusters(fast_model_IND_train, fast_model_IND_test, fast_model_OOD_activations)\n",
    "\n",
    "mahal_train_slow, mahal_test_slow, mahal_ood_slow = get_mahal_scores_from_kmeans_clusters(slow_model_IND_train, slow_model_IND_test, slow_model_OOD_activations)\n"
   ],
   "metadata": {
    "collapsed": false,
    "pycharm": {
     "name": "#%%\n"
    }
   }
  },
  {
   "cell_type": "markdown",
   "source": [
    "## AUROC for both datasets together"
   ],
   "metadata": {
    "collapsed": false,
    "pycharm": {
     "name": "#%% md\n"
    }
   }
  },
  {
   "cell_type": "code",
   "execution_count": 32,
   "outputs": [
    {
     "data": {
      "text/plain": "<Figure size 432x288 with 1 Axes>",
      "image/png": "[encoded data removed]"
     },
     "metadata": {
      "needs_background": "light"
     },
     "output_type": "display_data"
    }
   ],
   "source": [
    "from matplotlib import pyplot as plt\n",
    "from sklearn.metrics import roc_curve, auc\n",
    "\n",
    "fast_IND_mahal = np.vstack([np.zeros(len(mahal_test_fast)), mahal_test_fast]).T\n",
    "fast_OOD_mahal = np.vstack([np.ones(len(mahal_ood_fast)), mahal_ood_fast]).T\n",
    "slow_IND_mahal = np.vstack([np.zeros(len(mahal_test_slow)), mahal_test_slow]).T\n",
    "slow_OOD_mahal = np.vstack([np.ones(len(mahal_ood_slow)), mahal_ood_slow]).T\n",
    "data = np.concatenate((fast_IND_mahal,\n",
    "                       fast_OOD_mahal,\n",
    "                       slow_IND_mahal,\n",
    "                       slow_OOD_mahal))\n",
    "y_true = data[:, 0]\n",
    "y_score = data[:, 1]\n",
    "\n",
    "fpr, tpr, _ = roc_curve(y_true, y_score)\n",
    "roc_auc = auc(fpr, tpr)\n",
    "plt.plot(\n",
    "    fpr,\n",
    "    tpr,\n",
    "    color=\"darkorange\",\n",
    "    lw=2,\n",
    "    label=\"ROC curve (area = %0.4f)\" % roc_auc,\n",
    ")\n",
    "plt.plot([0, 1], [0, 1], color=\"navy\", lw=2, linestyle=\"--\")\n",
    "plt.xlabel(\"False Positive Rate\")\n",
    "plt.ylabel(\"True Positive Rate\")\n",
    "plt.legend(loc=\"lower right\")\n",
    "plt.show()\n"
   ],
   "metadata": {
    "collapsed": false,
    "pycharm": {
     "name": "#%%\n"
    }
   }
  },
  {
   "cell_type": "markdown",
   "source": [
    "## AUROC for fast model activations"
   ],
   "metadata": {
    "collapsed": false,
    "pycharm": {
     "name": "#%% md\n"
    }
   }
  },
  {
   "cell_type": "code",
   "execution_count": 33,
   "outputs": [
    {
     "data": {
      "text/plain": "<Figure size 432x288 with 1 Axes>",
      "image/png": "[encoded data removed]"
     },
     "metadata": {
      "needs_background": "light"
     },
     "output_type": "display_data"
    }
   ],
   "source": [
    "from matplotlib import pyplot as plt\n",
    "from sklearn.metrics import roc_curve, auc\n",
    "\n",
    "\n",
    "data = np.concatenate((fast_IND_mahal,\n",
    "                       fast_OOD_mahal))\n",
    "y_true = data[:, 0]\n",
    "y_score = data[:, 1]\n",
    "\n",
    "fpr, tpr, _ = roc_curve(y_true, y_score)\n",
    "roc_auc = auc(fpr, tpr)\n",
    "plt.plot(\n",
    "    fpr,\n",
    "    tpr,\n",
    "    color=\"darkorange\",\n",
    "    lw=2,\n",
    "    label=\"ROC curve (area = %0.4f)\" % roc_auc,\n",
    ")\n",
    "plt.plot([0, 1], [0, 1], color=\"navy\", lw=2, linestyle=\"--\")\n",
    "plt.xlabel(\"False Positive Rate\")\n",
    "plt.ylabel(\"True Positive Rate\")\n",
    "plt.legend(loc=\"lower right\")\n",
    "plt.show()"
   ],
   "metadata": {
    "collapsed": false,
    "pycharm": {
     "name": "#%%\n"
    }
   }
  },
  {
   "cell_type": "markdown",
   "source": [
    "## AUROC for slow model activations"
   ],
   "metadata": {
    "collapsed": false,
    "pycharm": {
     "name": "#%% md\n"
    }
   }
  },
  {
   "cell_type": "code",
   "execution_count": 34,
   "outputs": [
    {
     "data": {
      "text/plain": "<Figure size 432x288 with 1 Axes>",
      "image/png": "[encoded data removed]"
     },
     "metadata": {
      "needs_background": "light"
     },
     "output_type": "display_data"
    }
   ],
   "source": [
    "from matplotlib import pyplot as plt\n",
    "from sklearn.metrics import roc_curve, auc\n",
    "\n",
    "\n",
    "data = np.concatenate((slow_IND_mahal,\n",
    "                       slow_OOD_mahal))\n",
    "y_true = data[:, 0]\n",
    "y_score = data[:, 1]\n",
    "\n",
    "fpr, tpr, _ = roc_curve(y_true, y_score)\n",
    "roc_auc = auc(fpr, tpr)\n",
    "plt.plot(\n",
    "    fpr,\n",
    "    tpr,\n",
    "    color=\"darkorange\",\n",
    "    lw=2,\n",
    "    label=\"ROC curve (area = %0.4f)\" % roc_auc,\n",
    ")\n",
    "plt.plot([0, 1], [0, 1], color=\"navy\", lw=2, linestyle=\"--\")\n",
    "plt.xlabel(\"False Positive Rate\")\n",
    "plt.ylabel(\"True Positive Rate\")\n",
    "plt.legend(loc=\"lower right\")\n",
    "plt.show()"
   ],
   "metadata": {
    "collapsed": false,
    "pycharm": {
     "name": "#%%\n"
    }
   }
  },
  {
   "cell_type": "code",
   "execution_count": null,
   "outputs": [],
   "source": [],
   "metadata": {
    "collapsed": false,
    "pycharm": {
     "name": "#%%\n"
    }
   }
  }
 ],
 "metadata": {
  "kernelspec": {
   "name": "python3",
   "language": "python",
   "display_name": "Python 3 (ipykernel)"
  },
  "language_info": {
   "codemirror_mode": {
    "name": "ipython",
    "version": 3
   },
   "file_extension": ".py",
   "mimetype": "text/x-python",
   "name": "python",
   "nbconvert_exporter": "python",
   "pygments_lexer": "ipython3",
   "version": "3.7.11"
  },
  "toc-autonumbering": false
 },
 "nbformat": 4,
 "nbformat_minor": 4
}