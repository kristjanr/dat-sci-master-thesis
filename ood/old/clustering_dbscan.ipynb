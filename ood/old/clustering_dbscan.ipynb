{
 "cells": [
  {
   "cell_type": "code",
   "execution_count": 92,
   "outputs": [
    {
     "data": {
      "text/plain": "[(19250, 256), (20304, 256), (20304, 256), (19250, 256)]"
     },
     "execution_count": 92,
     "metadata": {},
     "output_type": "execute_result"
    }
   ],
   "source": [
    "import numpy as np\n",
    "\n",
    "fast_model_fast_data = np.load(\"nighttime_ai_fast_model_fast_data_activations.npy\")\n",
    "fast_model_slow_data = np.load(\"nighttime_ai_fast_model_slow_data_activations.npy\")\n",
    "slow_model_slow_data = np.load(\"nighttime_ai_slow_model_slow_data_activations.npy\")\n",
    "slow_model_fast_data = np.load(\"nighttime_ai_slow_model_fast_data_activations.npy\")\n",
    "\n",
    "[d.shape for d in (fast_model_fast_data, fast_model_slow_data, slow_model_slow_data, slow_model_fast_data)]"
   ],
   "metadata": {
    "collapsed": false,
    "pycharm": {
     "name": "#%%\n"
    }
   }
  },
  {
   "cell_type": "code",
   "execution_count": 93,
   "outputs": [
    {
     "name": "stdout",
     "output_type": "stream",
     "text": [
      "1.5 3 214 72\n",
      "1.5 5 475 67\n",
      "1.5 7 852 66\n",
      "1.5 10 1461 63\n",
      "1.5 15 2469 57\n",
      "1.5 20 3527 46\n",
      "1.5 30 4855 32\n",
      "1.5 50 6714 18\n",
      "2.0 3 30 10\n",
      "2.0 5 63 12\n",
      "2.0 7 134 10\n",
      "2.0 10 301 20\n",
      "2.0 15 801 28\n",
      "2.0 20 1276 33\n",
      "2.0 30 2222 33\n",
      "2.0 50 3741 23\n",
      "2.5 3 6 5\n",
      "2.5 5 21 5\n",
      "2.5 7 37 4\n",
      "2.5 10 48 4\n",
      "2.5 15 140 7\n",
      "2.5 20 292 13\n",
      "2.5 30 856 19\n",
      "2.5 50 1653 21\n"
     ]
    }
   ],
   "source": [
    "from sklearn.cluster import DBSCAN\n",
    "\n",
    "for eps in [1.5, 2.0, 2.5]:\n",
    "    for min_samples in [3,5,7,10,15,20,30,50]:\n",
    "        model = DBSCAN(eps=eps, min_samples=min_samples)\n",
    "        labels = model.fit_predict(fast_model_fast_data[:9500,:])\n",
    "        print(eps, min_samples, sum(labels == -1), max(labels))\n"
   ],
   "metadata": {
    "collapsed": false,
    "pycharm": {
     "name": "#%%\n"
    }
   }
  },
  {
   "cell_type": "code",
   "execution_count": 94,
   "outputs": [
    {
     "name": "stdout",
     "output_type": "stream",
     "text": [
      "1.5 3 1 0\n",
      "1.5 5 6 0\n",
      "1.5 7 12 0\n",
      "1.5 10 36 0\n",
      "1.5 15 85 0\n",
      "1.5 20 129 3\n",
      "1.5 30 322 6\n",
      "1.5 50 1255 11\n",
      "2.0 3 0 0\n",
      "2.0 5 0 0\n",
      "2.0 7 0 0\n",
      "2.0 10 0 0\n",
      "2.0 15 0 0\n",
      "2.0 20 0 0\n",
      "2.0 30 14 0\n",
      "2.0 50 117 1\n",
      "2.5 3 0 0\n",
      "2.5 5 0 0\n",
      "2.5 7 0 0\n",
      "2.5 10 0 0\n",
      "2.5 15 0 0\n",
      "2.5 20 0 0\n",
      "2.5 30 0 0\n",
      "2.5 50 9 0\n"
     ]
    }
   ],
   "source": [
    "from sklearn.cluster import DBSCAN\n",
    "\n",
    "for eps in [1.5, 2.0, 2.5]:\n",
    "    for min_samples in [3,5,7,10,15,20,30,50]:\n",
    "        model = DBSCAN(eps=eps, min_samples=min_samples)\n",
    "        labels = model.fit_predict(fast_model_slow_data[:9500,:])\n",
    "        print(eps, min_samples, sum(labels == -1), max(labels))"
   ],
   "metadata": {
    "collapsed": false,
    "pycharm": {
     "name": "#%%\n"
    }
   }
  },
  {
   "cell_type": "code",
   "execution_count": null,
   "outputs": [],
   "source": [],
   "metadata": {
    "collapsed": false,
    "pycharm": {
     "name": "#%%\n"
    }
   }
  }
 ],
 "metadata": {
  "kernelspec": {
   "name": "donkey2",
   "language": "python",
   "display_name": "donkey2"
  },
  "language_info": {
   "codemirror_mode": {
    "name": "ipython",
    "version": 2
   },
   "file_extension": ".py",
   "mimetype": "text/x-python",
   "name": "python",
   "nbconvert_exporter": "python",
   "pygments_lexer": "ipython2",
   "version": "2.7.6"
  }
 },
 "nbformat": 4,
 "nbformat_minor": 0
}