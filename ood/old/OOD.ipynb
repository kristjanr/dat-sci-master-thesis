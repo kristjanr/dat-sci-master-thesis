{
 "cells": [
  {
   "cell_type": "markdown",
   "source": [
    "## Save activation values"
   ],
   "metadata": {
    "collapsed": false,
    "pycharm": {
     "name": "#%% md\n"
    }
   }
  },
  {
   "cell_type": "code",
   "execution_count": 1,
   "outputs": [],
   "source": [
    "%load_ext autoreload\n",
    "%autoreload 2\n",
    "\n",
    "import sys\n",
    "\n",
    "sys.path.append('donkeycar')\n",
    "sys.path.append('src')\n"
   ],
   "metadata": {
    "collapsed": false,
    "pycharm": {
     "name": "#%%\n"
    }
   }
  },
  {
   "cell_type": "code",
   "execution_count": 2,
   "outputs": [
    {
     "name": "stdout",
     "output_type": "stream",
     "text": [
      "________             ______                   _________              \n",
      "___  __ \\_______________  /___________  __    __  ____/_____ ________\n",
      "__  / / /  __ \\_  __ \\_  //_/  _ \\_  / / /    _  /    _  __ `/_  ___/\n",
      "_  /_/ // /_/ /  / / /  ,<  /  __/  /_/ /     / /___  / /_/ /_  /    \n",
      "/_____/ \\____//_/ /_//_/|_| \\___/_\\__, /      \\____/  \\__,_/ /_/     \n",
      "                                 /____/                              \n",
      "\n",
      "using donkey v4.3.5 ...\n"
     ]
    },
    {
     "name": "stderr",
     "output_type": "stream",
     "text": [
      "\n",
      "----------------------------------------------------------------------\n",
      "Ran 0 tests in 0.000s\n",
      "\n",
      "OK\n"
     ]
    }
   ],
   "source": [
    "from tensorflow import keras\n",
    "import multiprocessing\n",
    "import numpy as np\n",
    "from losses import get_pipe, get_dataset_from_pipe\n",
    "from donkeycar.utils import get_model_by_type\n",
    "from dataloader import load_records\n",
    "import donkeycar as dk\n",
    "import matplotlib.pyplot as plt\n"
   ],
   "metadata": {
    "collapsed": false,
    "pycharm": {
     "name": "#%%\n"
    }
   }
  },
  {
   "cell_type": "code",
   "execution_count": 3,
   "outputs": [
    {
     "name": "stdout",
     "output_type": "stream",
     "text": [
      "loading config file: ../mycar/config.py\n",
      "loading personal config over-rides from myconfig.py\n"
     ]
    }
   ],
   "source": [
    "cfg = dk.load_config(config_path='../mycar/config.py')\n",
    "\n",
    "# None means all the data is used.\n",
    "# use a smaller size, like 200 for testing end to end.\n",
    "TUBRECORD_SIZE = None\n",
    "\n",
    "cfg.SEQUENCE_LENGTH = 3\n",
    "cfg.WANDB_ENABLED = False\n",
    "cfg.TRANSFORMATIONS = ['CROP']\n",
    "cfg.ROI_CROP_TOP = 60\n",
    "cfg.ROI_CROP_KEEP_SIZE = False\n",
    "N_FOLDS = None\n",
    "\n",
    "model_type = '3d-modified-steering'"
   ],
   "metadata": {
    "collapsed": false,
    "pycharm": {
     "name": "#%%\n"
    }
   }
  },
  {
   "cell_type": "code",
   "execution_count": 4,
   "outputs": [
    {
     "name": "stderr",
     "output_type": "stream",
     "text": [
      "INFO:donkeycar.pipeline.types:Loading tubs from paths ['../data/faster-autodrive-18_20']\n"
     ]
    },
    {
     "name": "stdout",
     "output_type": "stream",
     "text": [
      "Using catalog /Users/kristjan.roosild/PycharmProjects/dat-sci-master-thesis/ood/../data/faster-autodrive-18_20/catalog_14.catalog\n"
     ]
    },
    {
     "name": "stderr",
     "output_type": "stream",
     "text": [
      "INFO:donkeycar.pipeline.types:Loading tubs from paths ['../data/fastest-autodrive-18_40']\n"
     ]
    },
    {
     "name": "stdout",
     "output_type": "stream",
     "text": [
      "Using catalog /Users/kristjan.roosild/PycharmProjects/dat-sci-master-thesis/ood/../data/fastest-autodrive-18_40/catalog_10.catalog\n"
     ]
    },
    {
     "data": {
      "text/plain": "20771"
     },
     "execution_count": 4,
     "metadata": {},
     "output_type": "execute_result"
    }
   ],
   "source": [
    "\n",
    "DATA_PATH = '../data/'\n",
    "\n",
    "fast_data_path1 = 'faster-autodrive-18_20'\n",
    "fast_data_path2 = 'fastest-autodrive-18_40'\n",
    "\n",
    "fast_speed_data1 = load_records(fast_data_path1, cfg, DATA_PATH, TUBRECORD_SIZE)\n",
    "\n",
    "fast_speed_data2 = load_records(fast_data_path2, cfg, DATA_PATH, TUBRECORD_SIZE)\n",
    "\n",
    "fast_speed_data = fast_speed_data1\n",
    "\n",
    "fast_speed_data.extend(fast_speed_data2)\n",
    "len(fast_speed_data)"
   ],
   "metadata": {
    "collapsed": false,
    "pycharm": {
     "name": "#%%\n"
    }
   }
  },
  {
   "cell_type": "code",
   "execution_count": 5,
   "outputs": [
    {
     "name": "stderr",
     "output_type": "stream",
     "text": [
      "INFO:donkeycar.pipeline.types:Loading tubs from paths ['../data/daytime/daytime-manual-slower-2']\n"
     ]
    },
    {
     "name": "stdout",
     "output_type": "stream",
     "text": [
      "Using catalog /Users/kristjan.roosild/PycharmProjects/dat-sci-master-thesis/ood/../data/daytime/daytime-manual-slower-2/catalog_21.catalog\n"
     ]
    },
    {
     "data": {
      "text/plain": "20642"
     },
     "execution_count": 5,
     "metadata": {},
     "output_type": "execute_result"
    }
   ],
   "source": [
    "slow_data_path = 'daytime/daytime-manual-slower-2'\n",
    "slow_speed_data = load_records(slow_data_path, cfg, DATA_PATH, TUBRECORD_SIZE)\n",
    "len(slow_speed_data)"
   ],
   "metadata": {
    "collapsed": false,
    "pycharm": {
     "name": "#%%\n"
    }
   }
  },
  {
   "cell_type": "code",
   "execution_count": 6,
   "outputs": [
    {
     "name": "stderr",
     "output_type": "stream",
     "text": [
      "INFO:donkeycar.utils:get_model_by_type: model type is: 3d-modified-steering\n",
      "INFO:donkeycar.parts.keras:input_shape (60, 160, 3) num_outputs 1\n",
      "2022-07-11 00:16:02.105835: I tensorflow/core/platform/cpu_feature_guard.cc:151] This TensorFlow binary is optimized with oneAPI Deep Neural Network Library (oneDNN) to use the following CPU instructions in performance-critical operations:  AVX2 FMA\n",
      "To enable them in other operations, rebuild TensorFlow with the appropriate compiler flags.\n",
      "INFO:donkeycar.parts.keras:Created Keras3D_CNN_ModifiedOnlySteering with interpreter: KerasInterpreter\n",
      "INFO:donkeycar.parts.keras:Num outputs 1\n",
      "INFO:donkeycar.parts.keras:Sequence length 3\n",
      "INFO:donkeycar.parts.keras:Loading model ../models/daytime/3d-steering-faster-daytime-full-data-multiply.h5\n",
      "INFO:donkeycar.parts.interpreter:Loading model ../models/daytime/3d-steering-faster-daytime-full-data-multiply.h5\n"
     ]
    },
    {
     "name": "stdout",
     "output_type": "stream",
     "text": [
      "Model: \"3dcnn\"\n",
      "_________________________________________________________________\n",
      " Layer (type)                Output Shape              Param #   \n",
      "=================================================================\n",
      " img_in (InputLayer)         [(None, 3, 60, 160, 3)]   0         \n",
      "                                                                 \n",
      " conv3d (Conv3D)             (None, 1, 20, 53, 16)     1312      \n",
      "                                                                 \n",
      " max_pooling3d (MaxPooling3D  (None, 1, 10, 26, 16)    0         \n",
      " )                                                               \n",
      "                                                                 \n",
      " conv3d_1 (Conv3D)           (None, 1, 10, 26, 32)     4640      \n",
      "                                                                 \n",
      " max_pooling3d_1 (MaxPooling  (None, 1, 5, 13, 32)     0         \n",
      " 3D)                                                             \n",
      "                                                                 \n",
      " conv3d_2 (Conv3D)           (None, 1, 5, 13, 32)      9248      \n",
      "                                                                 \n",
      " flatten (Flatten)           (None, 2080)              0         \n",
      "                                                                 \n",
      " dense (Dense)               (None, 128)               266368    \n",
      "                                                                 \n",
      " batch_normalization (BatchN  (None, 128)              512       \n",
      " ormalization)                                                   \n",
      "                                                                 \n",
      " activation (Activation)     (None, 128)               0         \n",
      "                                                                 \n",
      " dropout (Dropout)           (None, 128)               0         \n",
      "                                                                 \n",
      " dense_1 (Dense)             (None, 256)               33024     \n",
      "                                                                 \n",
      " batch_normalization_1 (Batc  (None, 256)              1024      \n",
      " hNormalization)                                                 \n",
      "                                                                 \n",
      " activation_1 (Activation)   (None, 256)               0         \n",
      "                                                                 \n",
      " dropout_1 (Dropout)         (None, 256)               0         \n",
      "                                                                 \n",
      " outputs (Dense)             (None, 1)                 257       \n",
      "                                                                 \n",
      "=================================================================\n",
      "Total params: 316,385\n",
      "Trainable params: 315,617\n",
      "Non-trainable params: 768\n",
      "_________________________________________________________________\n"
     ]
    }
   ],
   "source": [
    "fast_model_path = '../models/daytime/3d-steering-faster-daytime-full-data-multiply.h5'\n",
    "fast_model = get_model_by_type(model_type, cfg)\n",
    "fast_model.load(fast_model_path)\n",
    "fast_model.interpreter.model.summary()"
   ],
   "metadata": {
    "collapsed": false,
    "pycharm": {
     "name": "#%%\n"
    }
   }
  },
  {
   "cell_type": "code",
   "execution_count": 7,
   "outputs": [
    {
     "data": {
      "text/plain": "['img_in',\n 'conv3d',\n 'max_pooling3d',\n 'conv3d_1',\n 'max_pooling3d_1',\n 'conv3d_2',\n 'flatten',\n 'dense',\n 'batch_normalization',\n 'activation',\n 'dropout',\n 'dense_1',\n 'batch_normalization_1',\n 'activation_1',\n 'dropout_1',\n 'outputs']"
     },
     "execution_count": 7,
     "metadata": {},
     "output_type": "execute_result"
    }
   ],
   "source": [
    "list(map(lambda x: x.name, fast_model.interpreter.model.layers))"
   ],
   "metadata": {
    "collapsed": false,
    "pycharm": {
     "name": "#%%\n"
    }
   }
  },
  {
   "cell_type": "code",
   "execution_count": 8,
   "outputs": [
    {
     "name": "stdout",
     "output_type": "stream",
     "text": [
      " 12/163 [=>............................] - ETA: 4:01"
     ]
    },
    {
     "ename": "KeyboardInterrupt",
     "evalue": "",
     "output_type": "error",
     "traceback": [
      "\u001B[0;31m---------------------------------------------------------------------------\u001B[0m",
      "\u001B[0;31mKeyboardInterrupt\u001B[0m                         Traceback (most recent call last)",
      "\u001B[0;32m/var/folders/w9/8pmrmvpd47j_nm5l2j2_d9gh0000gp/T/ipykernel_12079/910723491.py\u001B[0m in \u001B[0;36m<module>\u001B[0;34m\u001B[0m\n\u001B[1;32m      8\u001B[0m     \u001B[0muse_multiprocessing\u001B[0m\u001B[0;34m=\u001B[0m\u001B[0;32mTrue\u001B[0m\u001B[0;34m,\u001B[0m\u001B[0;34m\u001B[0m\u001B[0;34m\u001B[0m\u001B[0m\n\u001B[1;32m      9\u001B[0m     \u001B[0msteps\u001B[0m\u001B[0;34m=\u001B[0m\u001B[0mlen\u001B[0m\u001B[0;34m(\u001B[0m\u001B[0mpipe\u001B[0m\u001B[0;34m)\u001B[0m\u001B[0;34m,\u001B[0m\u001B[0;34m\u001B[0m\u001B[0;34m\u001B[0m\u001B[0m\n\u001B[0;32m---> 10\u001B[0;31m     verbose=1)\n\u001B[0m",
      "\u001B[0;32m~/opt/miniconda3/envs/donkey2/lib/python3.7/site-packages/keras/utils/traceback_utils.py\u001B[0m in \u001B[0;36merror_handler\u001B[0;34m(*args, **kwargs)\u001B[0m\n\u001B[1;32m     62\u001B[0m     \u001B[0mfiltered_tb\u001B[0m \u001B[0;34m=\u001B[0m \u001B[0;32mNone\u001B[0m\u001B[0;34m\u001B[0m\u001B[0;34m\u001B[0m\u001B[0m\n\u001B[1;32m     63\u001B[0m     \u001B[0;32mtry\u001B[0m\u001B[0;34m:\u001B[0m\u001B[0;34m\u001B[0m\u001B[0;34m\u001B[0m\u001B[0m\n\u001B[0;32m---> 64\u001B[0;31m       \u001B[0;32mreturn\u001B[0m \u001B[0mfn\u001B[0m\u001B[0;34m(\u001B[0m\u001B[0;34m*\u001B[0m\u001B[0margs\u001B[0m\u001B[0;34m,\u001B[0m \u001B[0;34m**\u001B[0m\u001B[0mkwargs\u001B[0m\u001B[0;34m)\u001B[0m\u001B[0;34m\u001B[0m\u001B[0;34m\u001B[0m\u001B[0m\n\u001B[0m\u001B[1;32m     65\u001B[0m     \u001B[0;32mexcept\u001B[0m \u001B[0mException\u001B[0m \u001B[0;32mas\u001B[0m \u001B[0me\u001B[0m\u001B[0;34m:\u001B[0m  \u001B[0;31m# pylint: disable=broad-except\u001B[0m\u001B[0;34m\u001B[0m\u001B[0;34m\u001B[0m\u001B[0m\n\u001B[1;32m     66\u001B[0m       \u001B[0mfiltered_tb\u001B[0m \u001B[0;34m=\u001B[0m \u001B[0m_process_traceback_frames\u001B[0m\u001B[0;34m(\u001B[0m\u001B[0me\u001B[0m\u001B[0;34m.\u001B[0m\u001B[0m__traceback__\u001B[0m\u001B[0;34m)\u001B[0m\u001B[0;34m\u001B[0m\u001B[0;34m\u001B[0m\u001B[0m\n",
      "\u001B[0;32m~/opt/miniconda3/envs/donkey2/lib/python3.7/site-packages/keras/engine/training.py\u001B[0m in \u001B[0;36mpredict\u001B[0;34m(self, x, batch_size, verbose, steps, callbacks, max_queue_size, workers, use_multiprocessing)\u001B[0m\n\u001B[1;32m   1980\u001B[0m           \u001B[0;32mfor\u001B[0m \u001B[0mstep\u001B[0m \u001B[0;32min\u001B[0m \u001B[0mdata_handler\u001B[0m\u001B[0;34m.\u001B[0m\u001B[0msteps\u001B[0m\u001B[0;34m(\u001B[0m\u001B[0;34m)\u001B[0m\u001B[0;34m:\u001B[0m\u001B[0;34m\u001B[0m\u001B[0;34m\u001B[0m\u001B[0m\n\u001B[1;32m   1981\u001B[0m             \u001B[0mcallbacks\u001B[0m\u001B[0;34m.\u001B[0m\u001B[0mon_predict_batch_begin\u001B[0m\u001B[0;34m(\u001B[0m\u001B[0mstep\u001B[0m\u001B[0;34m)\u001B[0m\u001B[0;34m\u001B[0m\u001B[0;34m\u001B[0m\u001B[0m\n\u001B[0;32m-> 1982\u001B[0;31m             \u001B[0mtmp_batch_outputs\u001B[0m \u001B[0;34m=\u001B[0m \u001B[0mself\u001B[0m\u001B[0;34m.\u001B[0m\u001B[0mpredict_function\u001B[0m\u001B[0;34m(\u001B[0m\u001B[0miterator\u001B[0m\u001B[0;34m)\u001B[0m\u001B[0;34m\u001B[0m\u001B[0;34m\u001B[0m\u001B[0m\n\u001B[0m\u001B[1;32m   1983\u001B[0m             \u001B[0;32mif\u001B[0m \u001B[0mdata_handler\u001B[0m\u001B[0;34m.\u001B[0m\u001B[0mshould_sync\u001B[0m\u001B[0;34m:\u001B[0m\u001B[0;34m\u001B[0m\u001B[0;34m\u001B[0m\u001B[0m\n\u001B[1;32m   1984\u001B[0m               \u001B[0mcontext\u001B[0m\u001B[0;34m.\u001B[0m\u001B[0masync_wait\u001B[0m\u001B[0;34m(\u001B[0m\u001B[0;34m)\u001B[0m\u001B[0;34m\u001B[0m\u001B[0;34m\u001B[0m\u001B[0m\n",
      "\u001B[0;32m~/opt/miniconda3/envs/donkey2/lib/python3.7/site-packages/tensorflow/python/util/traceback_utils.py\u001B[0m in \u001B[0;36merror_handler\u001B[0;34m(*args, **kwargs)\u001B[0m\n\u001B[1;32m    148\u001B[0m     \u001B[0mfiltered_tb\u001B[0m \u001B[0;34m=\u001B[0m \u001B[0;32mNone\u001B[0m\u001B[0;34m\u001B[0m\u001B[0;34m\u001B[0m\u001B[0m\n\u001B[1;32m    149\u001B[0m     \u001B[0;32mtry\u001B[0m\u001B[0;34m:\u001B[0m\u001B[0;34m\u001B[0m\u001B[0;34m\u001B[0m\u001B[0m\n\u001B[0;32m--> 150\u001B[0;31m       \u001B[0;32mreturn\u001B[0m \u001B[0mfn\u001B[0m\u001B[0;34m(\u001B[0m\u001B[0;34m*\u001B[0m\u001B[0margs\u001B[0m\u001B[0;34m,\u001B[0m \u001B[0;34m**\u001B[0m\u001B[0mkwargs\u001B[0m\u001B[0;34m)\u001B[0m\u001B[0;34m\u001B[0m\u001B[0;34m\u001B[0m\u001B[0m\n\u001B[0m\u001B[1;32m    151\u001B[0m     \u001B[0;32mexcept\u001B[0m \u001B[0mException\u001B[0m \u001B[0;32mas\u001B[0m \u001B[0me\u001B[0m\u001B[0;34m:\u001B[0m\u001B[0;34m\u001B[0m\u001B[0;34m\u001B[0m\u001B[0m\n\u001B[1;32m    152\u001B[0m       \u001B[0mfiltered_tb\u001B[0m \u001B[0;34m=\u001B[0m \u001B[0m_process_traceback_frames\u001B[0m\u001B[0;34m(\u001B[0m\u001B[0me\u001B[0m\u001B[0;34m.\u001B[0m\u001B[0m__traceback__\u001B[0m\u001B[0;34m)\u001B[0m\u001B[0;34m\u001B[0m\u001B[0;34m\u001B[0m\u001B[0m\n",
      "\u001B[0;32m~/opt/miniconda3/envs/donkey2/lib/python3.7/site-packages/tensorflow/python/eager/def_function.py\u001B[0m in \u001B[0;36m__call__\u001B[0;34m(self, *args, **kwds)\u001B[0m\n\u001B[1;32m    913\u001B[0m \u001B[0;34m\u001B[0m\u001B[0m\n\u001B[1;32m    914\u001B[0m       \u001B[0;32mwith\u001B[0m \u001B[0mOptionalXlaContext\u001B[0m\u001B[0;34m(\u001B[0m\u001B[0mself\u001B[0m\u001B[0;34m.\u001B[0m\u001B[0m_jit_compile\u001B[0m\u001B[0;34m)\u001B[0m\u001B[0;34m:\u001B[0m\u001B[0;34m\u001B[0m\u001B[0;34m\u001B[0m\u001B[0m\n\u001B[0;32m--> 915\u001B[0;31m         \u001B[0mresult\u001B[0m \u001B[0;34m=\u001B[0m \u001B[0mself\u001B[0m\u001B[0;34m.\u001B[0m\u001B[0m_call\u001B[0m\u001B[0;34m(\u001B[0m\u001B[0;34m*\u001B[0m\u001B[0margs\u001B[0m\u001B[0;34m,\u001B[0m \u001B[0;34m**\u001B[0m\u001B[0mkwds\u001B[0m\u001B[0;34m)\u001B[0m\u001B[0;34m\u001B[0m\u001B[0;34m\u001B[0m\u001B[0m\n\u001B[0m\u001B[1;32m    916\u001B[0m \u001B[0;34m\u001B[0m\u001B[0m\n\u001B[1;32m    917\u001B[0m       \u001B[0mnew_tracing_count\u001B[0m \u001B[0;34m=\u001B[0m \u001B[0mself\u001B[0m\u001B[0;34m.\u001B[0m\u001B[0mexperimental_get_tracing_count\u001B[0m\u001B[0;34m(\u001B[0m\u001B[0;34m)\u001B[0m\u001B[0;34m\u001B[0m\u001B[0;34m\u001B[0m\u001B[0m\n",
      "\u001B[0;32m~/opt/miniconda3/envs/donkey2/lib/python3.7/site-packages/tensorflow/python/eager/def_function.py\u001B[0m in \u001B[0;36m_call\u001B[0;34m(self, *args, **kwds)\u001B[0m\n\u001B[1;32m    952\u001B[0m       \u001B[0;31m# In this case we have not created variables on the first call. So we can\u001B[0m\u001B[0;34m\u001B[0m\u001B[0;34m\u001B[0m\u001B[0;34m\u001B[0m\u001B[0m\n\u001B[1;32m    953\u001B[0m       \u001B[0;31m# run the first trace but we should fail if variables are created.\u001B[0m\u001B[0;34m\u001B[0m\u001B[0;34m\u001B[0m\u001B[0;34m\u001B[0m\u001B[0m\n\u001B[0;32m--> 954\u001B[0;31m       \u001B[0mresults\u001B[0m \u001B[0;34m=\u001B[0m \u001B[0mself\u001B[0m\u001B[0;34m.\u001B[0m\u001B[0m_stateful_fn\u001B[0m\u001B[0;34m(\u001B[0m\u001B[0;34m*\u001B[0m\u001B[0margs\u001B[0m\u001B[0;34m,\u001B[0m \u001B[0;34m**\u001B[0m\u001B[0mkwds\u001B[0m\u001B[0;34m)\u001B[0m\u001B[0;34m\u001B[0m\u001B[0;34m\u001B[0m\u001B[0m\n\u001B[0m\u001B[1;32m    955\u001B[0m       \u001B[0;32mif\u001B[0m \u001B[0mself\u001B[0m\u001B[0;34m.\u001B[0m\u001B[0m_created_variables\u001B[0m \u001B[0;32mand\u001B[0m \u001B[0;32mnot\u001B[0m \u001B[0mALLOW_DYNAMIC_VARIABLE_CREATION\u001B[0m\u001B[0;34m:\u001B[0m\u001B[0;34m\u001B[0m\u001B[0;34m\u001B[0m\u001B[0m\n\u001B[1;32m    956\u001B[0m         raise ValueError(\"Creating variables on a non-first call to a function\"\n",
      "\u001B[0;32m~/opt/miniconda3/envs/donkey2/lib/python3.7/site-packages/tensorflow/python/eager/function.py\u001B[0m in \u001B[0;36m__call__\u001B[0;34m(self, *args, **kwargs)\u001B[0m\n\u001B[1;32m   2955\u001B[0m        filtered_flat_args) = self._maybe_define_function(args, kwargs)\n\u001B[1;32m   2956\u001B[0m     return graph_function._call_flat(\n\u001B[0;32m-> 2957\u001B[0;31m         filtered_flat_args, captured_inputs=graph_function.captured_inputs)  # pylint: disable=protected-access\n\u001B[0m\u001B[1;32m   2958\u001B[0m \u001B[0;34m\u001B[0m\u001B[0m\n\u001B[1;32m   2959\u001B[0m   \u001B[0;34m@\u001B[0m\u001B[0mproperty\u001B[0m\u001B[0;34m\u001B[0m\u001B[0;34m\u001B[0m\u001B[0m\n",
      "\u001B[0;32m~/opt/miniconda3/envs/donkey2/lib/python3.7/site-packages/tensorflow/python/eager/function.py\u001B[0m in \u001B[0;36m_call_flat\u001B[0;34m(self, args, captured_inputs, cancellation_manager)\u001B[0m\n\u001B[1;32m   1852\u001B[0m       \u001B[0;31m# No tape is watching; skip to running the function.\u001B[0m\u001B[0;34m\u001B[0m\u001B[0;34m\u001B[0m\u001B[0;34m\u001B[0m\u001B[0m\n\u001B[1;32m   1853\u001B[0m       return self._build_call_outputs(self._inference_function.call(\n\u001B[0;32m-> 1854\u001B[0;31m           ctx, args, cancellation_manager=cancellation_manager))\n\u001B[0m\u001B[1;32m   1855\u001B[0m     forward_backward = self._select_forward_and_backward_functions(\n\u001B[1;32m   1856\u001B[0m         \u001B[0margs\u001B[0m\u001B[0;34m,\u001B[0m\u001B[0;34m\u001B[0m\u001B[0;34m\u001B[0m\u001B[0m\n",
      "\u001B[0;32m~/opt/miniconda3/envs/donkey2/lib/python3.7/site-packages/tensorflow/python/eager/function.py\u001B[0m in \u001B[0;36mcall\u001B[0;34m(self, ctx, args, cancellation_manager)\u001B[0m\n\u001B[1;32m    502\u001B[0m               \u001B[0minputs\u001B[0m\u001B[0;34m=\u001B[0m\u001B[0margs\u001B[0m\u001B[0;34m,\u001B[0m\u001B[0;34m\u001B[0m\u001B[0;34m\u001B[0m\u001B[0m\n\u001B[1;32m    503\u001B[0m               \u001B[0mattrs\u001B[0m\u001B[0;34m=\u001B[0m\u001B[0mattrs\u001B[0m\u001B[0;34m,\u001B[0m\u001B[0;34m\u001B[0m\u001B[0;34m\u001B[0m\u001B[0m\n\u001B[0;32m--> 504\u001B[0;31m               ctx=ctx)\n\u001B[0m\u001B[1;32m    505\u001B[0m         \u001B[0;32melse\u001B[0m\u001B[0;34m:\u001B[0m\u001B[0;34m\u001B[0m\u001B[0;34m\u001B[0m\u001B[0m\n\u001B[1;32m    506\u001B[0m           outputs = execute.execute_with_cancellation(\n",
      "\u001B[0;32m~/opt/miniconda3/envs/donkey2/lib/python3.7/site-packages/tensorflow/python/eager/execute.py\u001B[0m in \u001B[0;36mquick_execute\u001B[0;34m(op_name, num_outputs, inputs, attrs, ctx, name)\u001B[0m\n\u001B[1;32m     53\u001B[0m     \u001B[0mctx\u001B[0m\u001B[0;34m.\u001B[0m\u001B[0mensure_initialized\u001B[0m\u001B[0;34m(\u001B[0m\u001B[0;34m)\u001B[0m\u001B[0;34m\u001B[0m\u001B[0;34m\u001B[0m\u001B[0m\n\u001B[1;32m     54\u001B[0m     tensors = pywrap_tfe.TFE_Py_Execute(ctx._handle, device_name, op_name,\n\u001B[0;32m---> 55\u001B[0;31m                                         inputs, attrs, num_outputs)\n\u001B[0m\u001B[1;32m     56\u001B[0m   \u001B[0;32mexcept\u001B[0m \u001B[0mcore\u001B[0m\u001B[0;34m.\u001B[0m\u001B[0m_NotOkStatusException\u001B[0m \u001B[0;32mas\u001B[0m \u001B[0me\u001B[0m\u001B[0;34m:\u001B[0m\u001B[0;34m\u001B[0m\u001B[0;34m\u001B[0m\u001B[0m\n\u001B[1;32m     57\u001B[0m     \u001B[0;32mif\u001B[0m \u001B[0mname\u001B[0m \u001B[0;32mis\u001B[0m \u001B[0;32mnot\u001B[0m \u001B[0;32mNone\u001B[0m\u001B[0;34m:\u001B[0m\u001B[0;34m\u001B[0m\u001B[0;34m\u001B[0m\u001B[0m\n",
      "\u001B[0;31mKeyboardInterrupt\u001B[0m: "
     ]
    }
   ],
   "source": [
    "fast_model_intermediate_layer = keras.Model(fast_model.interpreter.model.input,\n",
    "                                            fast_model.interpreter.model.get_layer('dense_1').output)\n",
    "pipe = get_pipe(fast_model, cfg, fast_speed_data)\n",
    "data = get_dataset_from_pipe(pipe)\n",
    "fast_model_fast_ai_data = fast_model_intermediate_layer.predict(\n",
    "    data,\n",
    "    workers=multiprocessing.cpu_count(),\n",
    "    use_multiprocessing=True,\n",
    "    steps=len(pipe),\n",
    "    verbose=1)"
   ],
   "metadata": {
    "collapsed": false,
    "pycharm": {
     "name": "#%%\n"
    }
   }
  },
  {
   "cell_type": "code",
   "execution_count": null,
   "outputs": [],
   "source": [
    "fast_model_intermediate_layer_after_bn = keras.Model(fast_model.interpreter.model.input,\n",
    "                                            fast_model.interpreter.model.get_layer('batch_normalization_1').output)\n",
    "pipe = get_pipe(fast_model, cfg, fast_speed_data)\n",
    "data = get_dataset_from_pipe(pipe)\n",
    "fast_model_fast_ai_data_after_bn = fast_model_intermediate_layer_after_bn.predict(\n",
    "    data,\n",
    "    workers=multiprocessing.cpu_count(),\n",
    "    use_multiprocessing=True,\n",
    "    steps=len(pipe),\n",
    "    verbose=1)"
   ],
   "metadata": {
    "collapsed": false,
    "pycharm": {
     "name": "#%%\n"
    }
   }
  },
  {
   "cell_type": "code",
   "execution_count": null,
   "outputs": [],
   "source": [
    "pipe = get_pipe(fast_model, cfg, slow_speed_data)\n",
    "data = get_dataset_from_pipe(pipe)\n",
    "fast_model_slow_manual_data = fast_model_intermediate_layer.predict(\n",
    "    data,\n",
    "    workers=multiprocessing.cpu_count(),\n",
    "    use_multiprocessing=True,\n",
    "    steps=len(pipe),\n",
    "    verbose=1)"
   ],
   "metadata": {
    "collapsed": false,
    "pycharm": {
     "name": "#%%\n"
    }
   }
  },
  {
   "cell_type": "code",
   "execution_count": null,
   "outputs": [],
   "source": [
    "pipe = get_pipe(fast_model, cfg, slow_speed_data)\n",
    "data = get_dataset_from_pipe(pipe)\n",
    "fast_model_slow_manual_data_after_bn = fast_model_intermediate_layer_after_bn.predict(\n",
    "    data,\n",
    "    workers=multiprocessing.cpu_count(),\n",
    "    use_multiprocessing=True,\n",
    "    steps=len(pipe),\n",
    "    verbose=1)"
   ],
   "metadata": {
    "collapsed": false,
    "pycharm": {
     "name": "#%%\n"
    }
   }
  },
  {
   "cell_type": "code",
   "execution_count": null,
   "outputs": [],
   "source": [
    "slow_model_path = '../models/daytime/3d-steering-slower-daytime-full-data-multiply.h5'\n",
    "slow_model = get_model_by_type(model_type, cfg)\n",
    "slow_model.load(slow_model_path)\n",
    "slow_model.interpreter.model.summary()"
   ],
   "metadata": {
    "collapsed": false,
    "pycharm": {
     "name": "#%%\n"
    }
   }
  },
  {
   "cell_type": "code",
   "execution_count": null,
   "outputs": [],
   "source": [
    "slow_model_intermediate_layer = keras.Model(slow_model.interpreter.model.input,\n",
    "                                            slow_model.interpreter.model.get_layer('dense_1').output)"
   ],
   "metadata": {
    "collapsed": false,
    "pycharm": {
     "name": "#%%\n"
    }
   }
  },
  {
   "cell_type": "code",
   "execution_count": null,
   "outputs": [],
   "source": [
    "slow_model_intermediate_layer_after_bn = keras.Model(slow_model.interpreter.model.input,\n",
    "                                            slow_model.interpreter.model.get_layer('batch_normalization_1').output)\n"
   ],
   "metadata": {
    "collapsed": false,
    "pycharm": {
     "name": "#%%\n"
    }
   }
  },
  {
   "cell_type": "code",
   "execution_count": null,
   "outputs": [],
   "source": [
    "pipe = get_pipe(slow_model, cfg, fast_speed_data)\n",
    "data = get_dataset_from_pipe(pipe)\n",
    "slow_model_fast_ai_data = slow_model_intermediate_layer.predict(\n",
    "    data,\n",
    "    workers=multiprocessing.cpu_count(),\n",
    "    use_multiprocessing=True,\n",
    "    steps=len(pipe),\n",
    "    verbose=1)"
   ],
   "metadata": {
    "collapsed": false,
    "pycharm": {
     "name": "#%%\n"
    }
   }
  },
  {
   "cell_type": "code",
   "execution_count": null,
   "outputs": [],
   "source": [
    "pipe = get_pipe(slow_model, cfg, fast_speed_data)\n",
    "data = get_dataset_from_pipe(pipe)\n",
    "slow_model_fast_ai_data_after_bn = slow_model_intermediate_layer_after_bn.predict(\n",
    "    data,\n",
    "    workers=multiprocessing.cpu_count(),\n",
    "    use_multiprocessing=True,\n",
    "    steps=len(pipe),\n",
    "    verbose=1)"
   ],
   "metadata": {
    "collapsed": false,
    "pycharm": {
     "name": "#%%\n"
    }
   }
  },
  {
   "cell_type": "code",
   "execution_count": null,
   "outputs": [],
   "source": [
    "pipe = get_pipe(slow_model, cfg, slow_speed_data)\n",
    "data = get_dataset_from_pipe(pipe)\n",
    "slow_model_slow_manual_data = slow_model_intermediate_layer.predict(\n",
    "    data,\n",
    "    workers=multiprocessing.cpu_count(),\n",
    "    use_multiprocessing=True,\n",
    "    steps=len(pipe),\n",
    "    verbose=1)"
   ],
   "metadata": {
    "collapsed": false,
    "pycharm": {
     "name": "#%%\n"
    }
   }
  },
  {
   "cell_type": "code",
   "execution_count": null,
   "outputs": [],
   "source": [
    "pipe = get_pipe(slow_model, cfg, slow_speed_data)\n",
    "data = get_dataset_from_pipe(pipe)\n",
    "slow_model_slow_manual_data_after_bn = slow_model_intermediate_layer_after_bn.predict(\n",
    "    data,\n",
    "    workers=multiprocessing.cpu_count(),\n",
    "    use_multiprocessing=True,\n",
    "    steps=len(pipe),\n",
    "    verbose=1)"
   ],
   "metadata": {
    "collapsed": false,
    "pycharm": {
     "name": "#%%\n"
    }
   }
  },
  {
   "cell_type": "code",
   "execution_count": null,
   "outputs": [],
   "source": [
    "np.savetxt(\"fast_model_fast_ai_data.csv.gz\", np.float16(fast_model_fast_ai_data))\n",
    "np.savetxt(\"fast_model_slow_manual_data.csv.gz\", np.float16(fast_model_slow_manual_data))\n",
    "np.savetxt(\"slow_model_fast_ai_data.csv.gz\", np.float16(slow_model_fast_ai_data))\n",
    "np.savetxt(\"slow_model_slow_manual_data.csv.gz\", np.float16(slow_model_slow_manual_data))"
   ],
   "metadata": {
    "collapsed": false,
    "pycharm": {
     "name": "#%%\n"
    }
   }
  },
  {
   "cell_type": "markdown",
   "source": [
    "# Analyze activation values"
   ],
   "metadata": {
    "collapsed": false,
    "pycharm": {
     "name": "#%% md\n"
    }
   }
  },
  {
   "cell_type": "code",
   "execution_count": null,
   "outputs": [],
   "source": [
    "fast_model_fast_ai_data = np.loadtxt(\"fast_model_fast_ai_data.csv.gz\")\n",
    "fast_model_slow_manual_data = np.loadtxt(\"fast_model_slow_manual_data.csv.gz\")\n",
    "slow_model_fast_ai_data = np.loadtxt(\"slow_model_fast_ai_data.csv.gz\")\n",
    "slow_model_slow_manual_data = np.loadtxt(\"slow_model_slow_manual_data.csv.gz\")"
   ],
   "metadata": {
    "collapsed": false,
    "pycharm": {
     "name": "#%%\n"
    }
   }
  },
  {
   "cell_type": "markdown",
   "source": [
    "### Sanity check dimensions"
   ],
   "metadata": {
    "collapsed": false,
    "pycharm": {
     "name": "#%% md\n"
    }
   }
  },
  {
   "cell_type": "code",
   "execution_count": null,
   "outputs": [],
   "source": [
    "[d.shape for d in (fast_model_fast_ai_data, fast_model_slow_manual_data, slow_model_fast_ai_data, slow_model_slow_manual_data)]"
   ],
   "metadata": {
    "collapsed": false,
    "pycharm": {
     "name": "#%%\n"
    }
   }
  },
  {
   "cell_type": "code",
   "execution_count": null,
   "outputs": [],
   "source": [
    "[d.shape for d in (fast_model_fast_ai_data_after_bn, fast_model_slow_manual_data_after_bn, slow_model_fast_ai_data_after_bn, slow_model_slow_manual_data_after_bn)]"
   ],
   "metadata": {
    "collapsed": false,
    "pycharm": {
     "name": "#%%\n"
    }
   }
  },
  {
   "cell_type": "code",
   "execution_count": null,
   "outputs": [],
   "source": [
    "fast_model_fast_ai_data_neuron_means = np.mean(np.abs(fast_model_fast_ai_data), axis=0)\n",
    "fast_model_slow_manual_data_neuron_means = np.mean(np.abs(fast_model_slow_manual_data), axis=0)\n",
    "slow_model_fast_ai_data_neuron_means = np.mean(np.abs(slow_model_fast_ai_data), axis=0)\n",
    "slow_model_slow_manual_data_neuron_means = np.mean(np.abs(slow_model_slow_manual_data), axis=0)\n",
    "\n",
    "fast_model_fast_ai_data_neuron_std = np.std(fast_model_fast_ai_data, axis=0)\n",
    "fast_model_slow_manual_data_neuron_std = np.std(fast_model_slow_manual_data, axis=0)\n",
    "slow_model_fast_ai_data_neuron_std = np.std(slow_model_fast_ai_data, axis=0)\n",
    "slow_model_slow_manual_data_neuron_std = np.std(slow_model_slow_manual_data, axis=0)\n",
    "\n",
    "fast_model_fast_ai_data_neuron_means.mean(), fast_model_slow_manual_data_neuron_means.mean(), slow_model_fast_ai_data_neuron_means.mean(), slow_model_slow_manual_data_neuron_means.mean()"
   ],
   "metadata": {
    "collapsed": false,
    "pycharm": {
     "name": "#%%\n"
    }
   }
  },
  {
   "cell_type": "code",
   "execution_count": null,
   "outputs": [],
   "source": [
    "fast_model_fast_ai_data_after_bn_neuron_means = np.mean(np.abs(fast_model_fast_ai_data_after_bn), axis=0)\n",
    "fast_model_slow_manual_data_after_bn_neuron_means = np.mean(np.abs(fast_model_slow_manual_data_after_bn), axis=0)\n",
    "slow_model_fast_ai_data_after_bn_neuron_means = np.mean(np.abs(slow_model_fast_ai_data_after_bn), axis=0)\n",
    "slow_model_slow_manual_data_after_bn_neuron_means = np.mean(np.abs(slow_model_slow_manual_data_after_bn), axis=0)\n",
    "\n",
    "fast_model_fast_ai_data_after_bn_neuron_std = np.std(fast_model_fast_ai_data_after_bn, axis=0)\n",
    "fast_model_slow_manual_data_after_bn_neuron_std = np.std(fast_model_slow_manual_data_after_bn, axis=0)\n",
    "slow_model_fast_ai_data_after_bn_neuron_std = np.std(slow_model_fast_ai_data_after_bn, axis=0)\n",
    "slow_model_slow_manual_data_after_bn_neuron_std = np.std(slow_model_slow_manual_data_after_bn, axis=0)\n",
    "\n",
    "fast_model_fast_ai_data_after_bn_neuron_means.mean(), fast_model_slow_manual_data_after_bn_neuron_means.mean(), slow_model_fast_ai_data_after_bn_neuron_means.mean(), slow_model_slow_manual_data_after_bn_neuron_means.mean()"
   ],
   "metadata": {
    "collapsed": false,
    "pycharm": {
     "name": "#%%\n"
    }
   }
  },
  {
   "cell_type": "code",
   "execution_count": null,
   "outputs": [],
   "source": [
    "fast_model_fast_ai_data_neuron_std.mean(), fast_model_slow_manual_data_neuron_std.mean(), slow_model_fast_ai_data_neuron_std.mean(), slow_model_slow_manual_data_neuron_std.mean()"
   ],
   "metadata": {
    "collapsed": false,
    "pycharm": {
     "name": "#%%\n"
    }
   }
  },
  {
   "cell_type": "code",
   "execution_count": null,
   "outputs": [],
   "source": [
    "fast_model_fast_ai_data_after_bn_neuron_std.mean(), fast_model_slow_manual_data_after_bn_neuron_std.mean(), slow_model_fast_ai_data_after_bn_neuron_std.mean(), slow_model_slow_manual_data_after_bn_neuron_std.mean()\n"
   ],
   "metadata": {
    "collapsed": false,
    "pycharm": {
     "name": "#%%\n"
    }
   }
  },
  {
   "cell_type": "code",
   "execution_count": null,
   "outputs": [],
   "source": [
    "fig, ((ax1, ax2), (ax3, ax4)) = plt.subplots(2, 2, sharex='all', sharey='all', figsize=(20, 15))\n",
    "ax1.plot(fast_model_fast_ai_data_neuron_means)\n",
    "ax1.set_title('Fast model Fast AI data')\n",
    "ax2.plot(fast_model_slow_manual_data_neuron_means)\n",
    "ax2.set_title('Fast model Slow manual data')\n",
    "ax3.plot(slow_model_fast_ai_data_neuron_means)\n",
    "ax3.set_title('Slow model Fast AI data')\n",
    "ax4.plot(slow_model_slow_manual_data_neuron_means)\n",
    "ax4.set_title('Slow model Slow manual data')\n",
    "\n",
    "for ax in fig.get_axes():\n",
    "    ax.set(xlabel='Neuron indices', ylabel='Absolute mean of neuron activations')\n",
    "    ax.label_outer()"
   ],
   "metadata": {
    "collapsed": false,
    "pycharm": {
     "name": "#%%\n"
    }
   }
  },
  {
   "cell_type": "code",
   "execution_count": null,
   "outputs": [],
   "source": [
    "fig, ((ax1, ax2), (ax3, ax4)) = plt.subplots(2, 2, sharex='all', sharey='all', figsize=(20, 15))\n",
    "ax1.plot(fast_model_fast_ai_data_neuron_std)\n",
    "ax1.set_title('Fast model Fast AI data')\n",
    "ax2.plot(fast_model_slow_manual_data_neuron_std)\n",
    "ax2.set_title('Fast model Slow manual data')\n",
    "ax3.plot(slow_model_fast_ai_data_neuron_std)\n",
    "ax3.set_title('Slow model Fast AI data')\n",
    "ax4.plot(slow_model_slow_manual_data_neuron_std)\n",
    "ax4.set_title('Slow model Slow manual data')\n",
    "\n",
    "for ax in fig.get_axes():\n",
    "    ax.set(xlabel='Neuron indices', ylabel='Standard deviation of neuron activations')\n",
    "    ax.label_outer()\n"
   ],
   "metadata": {
    "collapsed": false,
    "pycharm": {
     "name": "#%%\n"
    }
   }
  },
  {
   "cell_type": "markdown",
   "source": [
    "## Use Manual fast data instead AI-collected fast data"
   ],
   "metadata": {
    "collapsed": false,
    "pycharm": {
     "name": "#%% md\n"
    }
   }
  },
  {
   "cell_type": "code",
   "execution_count": null,
   "outputs": [],
   "source": [
    "fast_data_path = 'daytime/daytime-manual-faster'\n",
    "fast_speed_data = load_records(fast_data_path, cfg, DATA_PATH, TUBRECORD_SIZE)\n",
    "len(fast_speed_data)"
   ],
   "metadata": {
    "collapsed": false,
    "pycharm": {
     "name": "#%%\n"
    }
   }
  },
  {
   "cell_type": "code",
   "execution_count": null,
   "outputs": [],
   "source": [
    "pipe = get_pipe(fast_model, cfg, fast_speed_data)\n",
    "data = get_dataset_from_pipe(pipe)\n",
    "fast_model_fast_manual_data = fast_model_intermediate_layer.predict(\n",
    "    data,\n",
    "    workers=multiprocessing.cpu_count(),\n",
    "    use_multiprocessing=True,\n",
    "    steps=len(pipe),\n",
    "    verbose=1)"
   ],
   "metadata": {
    "collapsed": false,
    "pycharm": {
     "name": "#%%\n"
    }
   }
  },
  {
   "cell_type": "code",
   "execution_count": null,
   "outputs": [],
   "source": [
    "pipe = get_pipe(slow_model, cfg, fast_speed_data)\n",
    "data = get_dataset_from_pipe(pipe)\n",
    "slow_model_fast_manual_data = slow_model_intermediate_layer.predict(\n",
    "    data,\n",
    "    workers=multiprocessing.cpu_count(),\n",
    "    use_multiprocessing=True,\n",
    "    steps=len(pipe),\n",
    "    verbose=1)"
   ],
   "metadata": {
    "collapsed": false,
    "pycharm": {
     "name": "#%%\n"
    }
   }
  },
  {
   "cell_type": "code",
   "execution_count": null,
   "outputs": [],
   "source": [
    "np.savetxt(\"fast_model_fast_manual_data.csv.gz\", np.float16(fast_model_fast_manual_data))\n",
    "np.savetxt(\"slow_model_fast_manual_data.csv.gz\", np.float16(slow_model_fast_manual_data))\n"
   ],
   "metadata": {
    "collapsed": false,
    "pycharm": {
     "name": "#%%\n"
    }
   }
  },
  {
   "cell_type": "code",
   "execution_count": null,
   "outputs": [],
   "source": [
    "fast_model_fast_manual_data = np.loadtxt(\"fast_model_fast_manual_data.csv.gz\")\n",
    "slow_model_fast_manual_data = np.loadtxt(\"slow_model_fast_manual_data.csv.gz\")"
   ],
   "metadata": {
    "collapsed": false,
    "pycharm": {
     "name": "#%%\n"
    }
   }
  },
  {
   "cell_type": "markdown",
   "source": [
    "### Sanity check dimensions"
   ],
   "metadata": {
    "collapsed": false,
    "pycharm": {
     "name": "#%% md\n"
    }
   }
  },
  {
   "cell_type": "code",
   "execution_count": null,
   "outputs": [],
   "source": [
    "[d.shape for d in (fast_model_fast_manual_data, fast_model_slow_manual_data, slow_model_fast_manual_data, slow_model_slow_manual_data)]\n"
   ],
   "metadata": {
    "collapsed": false,
    "pycharm": {
     "name": "#%%\n"
    }
   }
  },
  {
   "cell_type": "code",
   "execution_count": null,
   "outputs": [],
   "source": [
    "fast_model_fast_manual_data_neuron_means = np.mean(np.abs(fast_model_fast_manual_data), axis=0)\n",
    "fast_model_slow_manual_data_neuron_means = np.mean(np.abs(fast_model_slow_manual_data), axis=0)\n",
    "slow_model_fast_manual_data_neuron_means = np.mean(np.abs(slow_model_fast_manual_data), axis=0)\n",
    "slow_model_slow_manual_data_neuron_means = np.mean(np.abs(slow_model_slow_manual_data), axis=0)\n",
    "\n",
    "fast_model_fast_manual_data_neuron_std = np.std(fast_model_fast_manual_data, axis=0)\n",
    "fast_model_slow_manual_data_neuron_std = np.std(fast_model_slow_manual_data, axis=0)\n",
    "slow_model_fast_manual_data_neuron_std = np.std(slow_model_fast_manual_data, axis=0)\n",
    "slow_model_slow_manual_data_neuron_std = np.std(slow_model_slow_manual_data, axis=0)\n",
    "\n",
    "fast_model_fast_manual_data_neuron_means.mean(), fast_model_slow_manual_data_neuron_means.mean(), slow_model_fast_manual_data_neuron_means.mean(), slow_model_slow_manual_data_neuron_means.mean()"
   ],
   "metadata": {
    "collapsed": false,
    "pycharm": {
     "name": "#%%\n"
    }
   }
  },
  {
   "cell_type": "code",
   "execution_count": null,
   "outputs": [],
   "source": [
    "fast_model_fast_manual_data_neuron_std.mean(), fast_model_slow_manual_data_neuron_std.mean(), slow_model_fast_manual_data_neuron_std.mean(), slow_model_slow_manual_data_neuron_std.mean()"
   ],
   "metadata": {
    "collapsed": false,
    "pycharm": {
     "name": "#%%\n"
    }
   }
  },
  {
   "cell_type": "code",
   "execution_count": null,
   "outputs": [],
   "source": [
    "fig, ((ax1, ax2), (ax3, ax4)) = plt.subplots(2, 2, sharex='all', sharey='all', figsize=(20, 15))\n",
    "ax1.plot(fast_model_fast_manual_data_neuron_means)\n",
    "ax1.set_title('Fast model Fast manual data')\n",
    "ax2.plot(fast_model_slow_manual_data_neuron_means)\n",
    "ax2.set_title('Fast model Slow manual data')\n",
    "ax3.plot(slow_model_fast_manual_data_neuron_means)\n",
    "ax3.set_title('Slow model Fast manual data')\n",
    "ax4.plot(slow_model_slow_manual_data_neuron_means)\n",
    "ax4.set_title('Slow model Slow manual data')\n",
    "\n",
    "for ax in fig.get_axes():\n",
    "    ax.set(xlabel='Neuron indices', ylabel='Absolute mean of neuron activations')\n",
    "    ax.label_outer()"
   ],
   "metadata": {
    "collapsed": false,
    "pycharm": {
     "name": "#%%\n"
    }
   }
  },
  {
   "cell_type": "code",
   "execution_count": null,
   "outputs": [],
   "source": [
    "fig, ((ax1, ax2), (ax3, ax4)) = plt.subplots(2, 2, sharex='all', sharey='all', figsize=(20, 15))\n",
    "ax1.plot(fast_model_fast_manual_data_neuron_std)\n",
    "ax1.set_title('Fast model Fast manual data')\n",
    "ax2.plot(fast_model_slow_manual_data_neuron_std)\n",
    "ax2.set_title('Fast model Slow manual data')\n",
    "ax3.plot(slow_model_fast_manual_data_neuron_std)\n",
    "ax3.set_title('Slow model Fast manual data')\n",
    "ax4.plot(slow_model_slow_manual_data_neuron_std)\n",
    "ax4.set_title('Slow model Slow manual data')\n",
    "\n",
    "for ax in fig.get_axes():\n",
    "    ax.set(xlabel='Neuron indices', ylabel='Standard deviation of neuron activations')\n",
    "    ax.label_outer()\n"
   ],
   "metadata": {
    "collapsed": false,
    "pycharm": {
     "name": "#%%\n"
    }
   }
  },
  {
   "cell_type": "markdown",
   "source": [
    "## Use fast and slow AI data, both on night-time"
   ],
   "metadata": {
    "collapsed": false,
    "pycharm": {
     "name": "#%% md\n"
    }
   }
  },
  {
   "cell_type": "markdown",
   "source": [],
   "metadata": {
    "collapsed": false,
    "pycharm": {
     "name": "#%% md\n"
    }
   }
  },
  {
   "cell_type": "code",
   "execution_count": null,
   "outputs": [],
   "source": [
    "fast_data_path = 'faster-autodrive'\n",
    "fast_speed_data = load_records(fast_data_path, cfg, DATA_PATH, TUBRECORD_SIZE)\n",
    "len(fast_speed_data)"
   ],
   "metadata": {
    "collapsed": false,
    "pycharm": {
     "name": "#%%\n"
    }
   }
  },
  {
   "cell_type": "code",
   "execution_count": null,
   "outputs": [],
   "source": [
    "pipe = get_pipe(fast_model, cfg, fast_speed_data)\n",
    "data = get_dataset_from_pipe(pipe)\n",
    "fast_model_fast_ai_nighttime_data = fast_model_intermediate_layer.predict(\n",
    "    data,\n",
    "    workers=multiprocessing.cpu_count(),\n",
    "    use_multiprocessing=True,\n",
    "    steps=len(pipe),\n",
    "    verbose=1)"
   ],
   "metadata": {
    "collapsed": false,
    "pycharm": {
     "name": "#%%\n"
    }
   }
  },
  {
   "cell_type": "code",
   "execution_count": null,
   "outputs": [],
   "source": [
    "pipe = get_pipe(fast_model, cfg, fast_speed_data)\n",
    "data = get_dataset_from_pipe(pipe)\n",
    "slow_model_fast_ai_nighttime_data = slow_model_intermediate_layer.predict(\n",
    "    data,\n",
    "    workers=multiprocessing.cpu_count(),\n",
    "    use_multiprocessing=True,\n",
    "    steps=len(pipe),\n",
    "    verbose=1)"
   ],
   "metadata": {
    "collapsed": false,
    "pycharm": {
     "name": "#%%\n"
    }
   }
  },
  {
   "cell_type": "code",
   "execution_count": null,
   "outputs": [],
   "source": [
    "slow_data_path = 'slower-autodrive'\n",
    "slow_speed_data = load_records(slow_data_path, cfg, DATA_PATH, TUBRECORD_SIZE)\n",
    "len(slow_speed_data)"
   ],
   "metadata": {
    "collapsed": false,
    "pycharm": {
     "name": "#%%\n"
    }
   }
  },
  {
   "cell_type": "code",
   "execution_count": null,
   "outputs": [],
   "source": [
    "pipe = get_pipe(fast_model, cfg, slow_speed_data)\n",
    "data = get_dataset_from_pipe(pipe)\n",
    "fast_model_slow_ai_nighttime_data = fast_model_intermediate_layer.predict(\n",
    "    data,\n",
    "    workers=multiprocessing.cpu_count(),\n",
    "    use_multiprocessing=True,\n",
    "    steps=len(pipe),\n",
    "    verbose=1)"
   ],
   "metadata": {
    "collapsed": false,
    "pycharm": {
     "name": "#%%\n"
    }
   }
  },
  {
   "cell_type": "code",
   "execution_count": null,
   "outputs": [],
   "source": [
    "pipe = get_pipe(fast_model, cfg, slow_speed_data)\n",
    "data = get_dataset_from_pipe(pipe)\n",
    "slow_model_slow_ai_nighttime_data = slow_model_intermediate_layer.predict(\n",
    "    data,\n",
    "    workers=multiprocessing.cpu_count(),\n",
    "    use_multiprocessing=True,\n",
    "    steps=len(pipe),\n",
    "    verbose=1)"
   ],
   "metadata": {
    "collapsed": false,
    "pycharm": {
     "name": "#%%\n"
    }
   }
  },
  {
   "cell_type": "code",
   "execution_count": null,
   "outputs": [],
   "source": [
    "np.savetxt(\"fast_model_fast_ai_nighttime_data.csv.gz\", np.float16(fast_model_fast_ai_nighttime_data))\n",
    "np.savetxt(\"fast_model_slow_ai_nighttime_data.csv.gz\", np.float16(fast_model_slow_ai_nighttime_data))\n",
    "np.savetxt(\"slow_model_fast_ai_nighttime_data.csv.gz\", np.float16(slow_model_fast_ai_nighttime_data))\n",
    "np.savetxt(\"slow_model_slow_ai_nighttime_data.csv.gz\", np.float16(slow_model_slow_ai_nighttime_data))\n"
   ],
   "metadata": {
    "collapsed": false,
    "pycharm": {
     "name": "#%%\n"
    }
   }
  },
  {
   "cell_type": "code",
   "execution_count": null,
   "outputs": [],
   "source": [
    "fast_model_fast_ai_nighttime_data = np.loadtxt(\"fast_model_fast_ai_nighttime_data.csv.gz\")\n",
    "fast_model_slow_ai_nighttime_data = np.loadtxt(\"fast_model_slow_ai_nighttime_data.csv.gz\")\n",
    "slow_model_fast_ai_nighttime_data = np.loadtxt(\"slow_model_fast_ai_nighttime_data.csv.gz\")\n",
    "slow_model_slow_ai_nighttime_data = np.loadtxt(\"slow_model_slow_ai_nighttime_data.csv.gz\")\n"
   ],
   "metadata": {
    "collapsed": false,
    "pycharm": {
     "name": "#%%\n"
    }
   }
  },
  {
   "cell_type": "markdown",
   "source": [
    "### Sanity check dimensions"
   ],
   "metadata": {
    "collapsed": false,
    "pycharm": {
     "name": "#%% md\n"
    }
   }
  },
  {
   "cell_type": "code",
   "execution_count": null,
   "outputs": [],
   "source": [
    "[d.shape for d in (fast_model_fast_ai_nighttime_data, fast_model_slow_ai_nighttime_data, slow_model_fast_ai_nighttime_data, slow_model_slow_ai_nighttime_data)]\n"
   ],
   "metadata": {
    "collapsed": false,
    "pycharm": {
     "name": "#%%\n"
    }
   }
  },
  {
   "cell_type": "code",
   "execution_count": null,
   "outputs": [],
   "source": [
    "fast_model_fast_ai_nighttime_data_neuron_means = np.mean(np.abs(fast_model_fast_ai_nighttime_data), axis=0)\n",
    "fast_model_slow_ai_nighttime_data_neuron_means = np.mean(np.abs(fast_model_slow_ai_nighttime_data), axis=0)\n",
    "slow_model_fast_ai_nighttime_data_neuron_means = np.mean(np.abs(slow_model_fast_ai_nighttime_data), axis=0)\n",
    "slow_model_slow_ai_nighttime_data_neuron_means = np.mean(np.abs(slow_model_slow_ai_nighttime_data), axis=0)\n",
    "fast_model_fast_ai_nighttime_data_neuron_std = np.std(fast_model_fast_ai_nighttime_data, axis=0)\n",
    "fast_model_slow_ai_nighttime_data_neuron_std = np.std(fast_model_slow_ai_nighttime_data, axis=0)\n",
    "slow_model_fast_ai_nighttime_data_neuron_std = np.std(slow_model_fast_ai_nighttime_data, axis=0)\n",
    "slow_model_slow_ai_nighttime_data_neuron_std = np.std(slow_model_slow_ai_nighttime_data, axis=0)\n",
    "\n",
    "fast_model_fast_ai_nighttime_data_neuron_means.mean(), fast_model_slow_ai_nighttime_data_neuron_means.mean(), slow_model_fast_ai_nighttime_data_neuron_means.mean(), slow_model_slow_ai_nighttime_data_neuron_means.mean()"
   ],
   "metadata": {
    "collapsed": false,
    "pycharm": {
     "name": "#%%\n"
    }
   }
  },
  {
   "cell_type": "code",
   "execution_count": null,
   "outputs": [],
   "source": [
    "fast_model_fast_ai_nighttime_data_neuron_std.mean(), fast_model_slow_ai_nighttime_data_neuron_std.mean(), slow_model_fast_ai_nighttime_data_neuron_std.mean(), slow_model_slow_ai_nighttime_data_neuron_std.mean()"
   ],
   "metadata": {
    "collapsed": false,
    "pycharm": {
     "name": "#%%\n"
    }
   }
  },
  {
   "cell_type": "code",
   "execution_count": null,
   "outputs": [],
   "source": [
    "fig, ((ax1, ax2), (ax3, ax4)) = plt.subplots(2, 2, sharex='all', sharey='all', figsize=(20, 15))\n",
    "ax1.plot(fast_model_fast_ai_nighttime_data_neuron_means)\n",
    "ax1.set_title('Fast model Fast AI nighttime data')\n",
    "ax2.plot(fast_model_slow_ai_nighttime_data_neuron_means)\n",
    "ax2.set_title('Fast model Slow AI nighttime data')\n",
    "ax3.plot(slow_model_fast_ai_nighttime_data_neuron_means)\n",
    "ax3.set_title('Slow model Fast AI nighttime data')\n",
    "ax4.plot(slow_model_slow_ai_nighttime_data_neuron_means)\n",
    "ax4.set_title('Slow model Slow AI nighttime data')\n",
    "\n",
    "for ax in fig.get_axes():\n",
    "    ax.set(xlabel='Neuron indices', ylabel='Absolute mean of neuron activations')\n",
    "    ax.label_outer()"
   ],
   "metadata": {
    "collapsed": false,
    "pycharm": {
     "name": "#%%\n"
    }
   }
  },
  {
   "cell_type": "code",
   "execution_count": null,
   "outputs": [],
   "source": [
    "fig, ((ax1, ax2), (ax3, ax4)) = plt.subplots(2, 2, sharex='all', sharey='all', figsize=(20, 15))\n",
    "ax1.plot(fast_model_fast_ai_nighttime_data_neuron_std)\n",
    "ax1.set_title('Fast model Fast AI nighttime data')\n",
    "ax2.plot(fast_model_slow_ai_nighttime_data_neuron_std)\n",
    "ax2.set_title('Fast model Slow AI nighttime data')\n",
    "ax3.plot(slow_model_fast_ai_nighttime_data_neuron_std)\n",
    "ax3.set_title('Slow model Fast AI nighttime data')\n",
    "ax4.plot(slow_model_slow_ai_nighttime_data_neuron_std)\n",
    "ax4.set_title('Slow model Slow AI nighttime data')\n",
    "\n",
    "for ax in fig.get_axes():\n",
    "    ax.set(xlabel='Neuron indices', ylabel='Standard deviation of neuron activations')\n",
    "    ax.label_outer()"
   ],
   "metadata": {
    "collapsed": false,
    "pycharm": {
     "name": "#%%\n"
    }
   }
  },
  {
   "cell_type": "markdown",
   "source": [
    "## Compare daytime vs nighttime activations"
   ],
   "metadata": {
    "collapsed": false,
    "pycharm": {
     "name": "#%% md\n"
    }
   }
  },
  {
   "cell_type": "markdown",
   "source": [
    "### Daytime"
   ],
   "metadata": {
    "collapsed": false,
    "pycharm": {
     "name": "#%% md\n"
    }
   }
  },
  {
   "cell_type": "code",
   "execution_count": null,
   "outputs": [],
   "source": [
    "fast_model_fast_ai_data_neuron_means.mean(), slow_model_fast_ai_data_neuron_means.mean()\n"
   ],
   "metadata": {
    "collapsed": false,
    "pycharm": {
     "name": "#%%\n"
    }
   }
  },
  {
   "cell_type": "code",
   "execution_count": null,
   "outputs": [],
   "source": [
    "fast_model_fast_ai_data_neuron_std.mean(), slow_model_fast_ai_data_neuron_std.mean()\n"
   ],
   "metadata": {
    "collapsed": false,
    "pycharm": {
     "name": "#%%\n"
    }
   }
  },
  {
   "cell_type": "markdown",
   "source": [
    "### Nighttime"
   ],
   "metadata": {
    "collapsed": false,
    "pycharm": {
     "name": "#%% md\n"
    }
   }
  },
  {
   "cell_type": "code",
   "execution_count": null,
   "outputs": [],
   "source": [
    "fast_model_fast_ai_nighttime_data_neuron_means.mean(), slow_model_fast_ai_nighttime_data_neuron_means.mean()\n"
   ],
   "metadata": {
    "collapsed": false,
    "pycharm": {
     "name": "#%%\n"
    }
   }
  },
  {
   "cell_type": "code",
   "execution_count": null,
   "outputs": [],
   "source": [
    "fast_model_fast_ai_nighttime_data_neuron_std.mean(), slow_model_fast_ai_nighttime_data_neuron_std.mean()\n"
   ],
   "metadata": {
    "collapsed": false,
    "pycharm": {
     "name": "#%%\n"
    }
   }
  },
  {
   "cell_type": "code",
   "execution_count": null,
   "outputs": [],
   "source": [
    "fig, ((ax1, ax2), (ax3, ax4)) = plt.subplots(2, 2, sharex='all', sharey='all', figsize=(20, 15))\n",
    "ax1.plot(fast_model_fast_ai_data_neuron_means)\n",
    "ax1.set_title('Fast model Fast AI daytime')\n",
    "ax2.plot(fast_model_fast_ai_nighttime_data_neuron_means)\n",
    "ax2.set_title('Fast model Slow AI nighttime')\n",
    "ax3.plot(slow_model_fast_ai_data_neuron_means)\n",
    "ax3.set_title('Slow model Fast AI daytime')\n",
    "ax4.plot(slow_model_slow_ai_nighttime_data_neuron_means)\n",
    "ax4.set_title('Slow model Slow AI nighttime')\n",
    "\n",
    "for ax in fig.get_axes():\n",
    "    ax.set(xlabel='Neuron indices', ylabel='Mean of neuron activations')\n",
    "    ax.label_outer()"
   ],
   "metadata": {
    "collapsed": false,
    "pycharm": {
     "name": "#%%\n"
    }
   }
  },
  {
   "cell_type": "code",
   "execution_count": null,
   "outputs": [],
   "source": [
    "fig, ((ax1, ax2), (ax3, ax4)) = plt.subplots(2, 2, sharex='all', sharey='all', figsize=(20, 15))\n",
    "ax1.plot(fast_model_fast_ai_data_neuron_std)\n",
    "ax1.set_title('Fast model Fast AI daytime')\n",
    "ax2.plot(fast_model_fast_ai_nighttime_data_neuron_std)\n",
    "ax2.set_title('Fast model Slow AI nighttime')\n",
    "ax3.plot(slow_model_fast_ai_data_neuron_std)\n",
    "ax3.set_title('Slow model Fast AI daytime')\n",
    "ax4.plot(slow_model_slow_ai_nighttime_data_neuron_std)\n",
    "ax4.set_title('Slow model Slow AI nighttime')\n",
    "\n",
    "for ax in fig.get_axes():\n",
    "    ax.set(xlabel='Neuron indices', ylabel='Standard deviation of neuron activations')\n",
    "    ax.label_outer()"
   ],
   "metadata": {
    "collapsed": false,
    "pycharm": {
     "name": "#%%\n"
    }
   }
  },
  {
   "cell_type": "markdown",
   "source": [
    "# Retrained models to be sure on what data they were trained on:\n",
    "\n",
    "Fast AI Daytime model from data in the \"faster-autodrive-18_20\" and \"fastest-autodrive-18_40\" folders\n",
    "Fast AI Nighttime model from data in the \"faster-autodrive\" folders."
   ],
   "metadata": {
    "collapsed": false,
    "pycharm": {
     "name": "#%% md\n"
    }
   }
  },
  {
   "cell_type": "markdown",
   "source": [
    "### Daytime data"
   ],
   "metadata": {
    "collapsed": false,
    "pycharm": {
     "name": "#%% md\n"
    }
   }
  },
  {
   "cell_type": "code",
   "execution_count": 24,
   "outputs": [
    {
     "name": "stderr",
     "output_type": "stream",
     "text": [
      "INFO:donkeycar.pipeline.types:Loading tubs from paths ['../data/faster-autodrive-18_20']\n"
     ]
    },
    {
     "name": "stdout",
     "output_type": "stream",
     "text": [
      "Using catalog /Users/kristjan.roosild/PycharmProjects/dat-sci-master-thesis/ood/../data/faster-autodrive-18_20/catalog_14.catalog\n"
     ]
    },
    {
     "name": "stderr",
     "output_type": "stream",
     "text": [
      "INFO:donkeycar.pipeline.types:Loading tubs from paths ['../data/fastest-autodrive-18_40']\n"
     ]
    },
    {
     "name": "stdout",
     "output_type": "stream",
     "text": [
      "Using catalog /Users/kristjan.roosild/PycharmProjects/dat-sci-master-thesis/ood/../data/fastest-autodrive-18_40/catalog_10.catalog\n"
     ]
    },
    {
     "data": {
      "text/plain": "20771"
     },
     "execution_count": 24,
     "metadata": {},
     "output_type": "execute_result"
    }
   ],
   "source": [
    "DATA_PATH = '../data/'\n",
    "\n",
    "fast_speed_data1 = load_records('faster-autodrive-18_20', cfg, DATA_PATH, TUBRECORD_SIZE)\n",
    "fast_speed_data2 = load_records('fastest-autodrive-18_40', cfg, DATA_PATH, TUBRECORD_SIZE)\n",
    "\n",
    "fast_daytime_ai_traindata = fast_speed_data1\n",
    "fast_daytime_ai_traindata.extend(fast_speed_data2)\n",
    "len(fast_daytime_ai_traindata)"
   ],
   "metadata": {
    "collapsed": false,
    "pycharm": {
     "name": "#%%\n"
    }
   }
  },
  {
   "cell_type": "code",
   "execution_count": 20,
   "outputs": [
    {
     "name": "stderr",
     "output_type": "stream",
     "text": [
      "INFO:donkeycar.pipeline.types:Loading tubs from paths ['../data/faster-autodrive']\n"
     ]
    },
    {
     "name": "stdout",
     "output_type": "stream",
     "text": [
      "Using catalog /Users/kristjan.roosild/PycharmProjects/dat-sci-master-thesis/ood/../data/faster-autodrive/catalog_20.catalog\n"
     ]
    },
    {
     "data": {
      "text/plain": "19250"
     },
     "execution_count": 20,
     "metadata": {},
     "output_type": "execute_result"
    }
   ],
   "source": [
    "fast_nighttime_ai_traindata = load_records('faster-autodrive', cfg, DATA_PATH, TUBRECORD_SIZE)\n",
    "len(fast_nighttime_ai_traindata)"
   ],
   "metadata": {
    "collapsed": false,
    "pycharm": {
     "name": "#%%\n"
    }
   }
  },
  {
   "cell_type": "markdown",
   "source": [
    "### Retrained daytime model"
   ],
   "metadata": {
    "collapsed": false,
    "pycharm": {
     "name": "#%% md\n"
    }
   }
  },
  {
   "cell_type": "code",
   "execution_count": 11,
   "outputs": [
    {
     "name": "stderr",
     "output_type": "stream",
     "text": [
      "INFO:donkeycar.utils:get_model_by_type: model type is: 3d-modified-steering\n",
      "INFO:donkeycar.parts.keras:input_shape (60, 160, 3) num_outputs 1\n",
      "INFO:donkeycar.parts.keras:Created Keras3D_CNN_ModifiedOnlySteering with interpreter: KerasInterpreter\n",
      "INFO:donkeycar.parts.keras:Num outputs 1\n",
      "INFO:donkeycar.parts.keras:Sequence length 3\n",
      "INFO:donkeycar.parts.keras:Loading model retrain/full-faster-daytime-autodrive-3dcnn.h5\n",
      "INFO:donkeycar.parts.interpreter:Loading model retrain/full-faster-daytime-autodrive-3dcnn.h5\n"
     ]
    },
    {
     "name": "stdout",
     "output_type": "stream",
     "text": [
      "Model: \"3dcnn\"\n",
      "_________________________________________________________________\n",
      " Layer (type)                Output Shape              Param #   \n",
      "=================================================================\n",
      " img_in (InputLayer)         [(None, 3, 60, 160, 3)]   0         \n",
      "                                                                 \n",
      " conv3d (Conv3D)             (None, 1, 20, 53, 16)     1312      \n",
      "                                                                 \n",
      " max_pooling3d (MaxPooling3D  (None, 1, 10, 26, 16)    0         \n",
      " )                                                               \n",
      "                                                                 \n",
      " conv3d_1 (Conv3D)           (None, 1, 10, 26, 32)     4640      \n",
      "                                                                 \n",
      " max_pooling3d_1 (MaxPooling  (None, 1, 5, 13, 32)     0         \n",
      " 3D)                                                             \n",
      "                                                                 \n",
      " conv3d_2 (Conv3D)           (None, 1, 5, 13, 32)      9248      \n",
      "                                                                 \n",
      " flatten (Flatten)           (None, 2080)              0         \n",
      "                                                                 \n",
      " dense (Dense)               (None, 128)               266368    \n",
      "                                                                 \n",
      " batch_normalization (BatchN  (None, 128)              512       \n",
      " ormalization)                                                   \n",
      "                                                                 \n",
      " activation (Activation)     (None, 128)               0         \n",
      "                                                                 \n",
      " dropout (Dropout)           (None, 128)               0         \n",
      "                                                                 \n",
      " dense_1 (Dense)             (None, 256)               33024     \n",
      "                                                                 \n",
      " batch_normalization_1 (Batc  (None, 256)              1024      \n",
      " hNormalization)                                                 \n",
      "                                                                 \n",
      " activation_1 (Activation)   (None, 256)               0         \n",
      "                                                                 \n",
      " dropout_1 (Dropout)         (None, 256)               0         \n",
      "                                                                 \n",
      " outputs (Dense)             (None, 1)                 257       \n",
      "                                                                 \n",
      "=================================================================\n",
      "Total params: 316,385\n",
      "Trainable params: 315,617\n",
      "Non-trainable params: 768\n",
      "_________________________________________________________________\n"
     ]
    }
   ],
   "source": [
    "fast_ai_daytime_model_path = 'retrain/full-faster-daytime-autodrive-3dcnn.h5'\n",
    "fast_ai_daytime_model = get_model_by_type(model_type, cfg)\n",
    "fast_ai_daytime_model.load(fast_ai_daytime_model_path)\n",
    "fast_ai_daytime_model.interpreter.model.summary()"
   ],
   "metadata": {
    "collapsed": false,
    "pycharm": {
     "name": "#%%\n"
    }
   }
  },
  {
   "cell_type": "markdown",
   "source": [
    "### Daytime model daytime data"
   ],
   "metadata": {
    "collapsed": false,
    "pycharm": {
     "name": "#%% md\n"
    }
   }
  },
  {
   "cell_type": "code",
   "execution_count": null,
   "outputs": [],
   "source": [
    "fast_ai_daytime_model_intermediate_layer = keras.Model(fast_ai_daytime_model.interpreter.model.input,\n",
    "                                                       fast_ai_daytime_model.interpreter.model.get_layer('dense_1').output)\n",
    "pipe = get_pipe(fast_ai_daytime_model, cfg, fast_daytime_ai_traindata)\n",
    "data = get_dataset_from_pipe(pipe)\n",
    "fast_ai_daytime_model_daytime_data = fast_ai_daytime_model_intermediate_layer.predict(\n",
    "    data,\n",
    "    workers=multiprocessing.cpu_count(),\n",
    "    use_multiprocessing=True,\n",
    "    steps=len(pipe),\n",
    "    verbose=1)"
   ],
   "metadata": {
    "collapsed": false,
    "pycharm": {
     "name": "#%%\n"
    }
   }
  },
  {
   "cell_type": "code",
   "execution_count": 16,
   "outputs": [
    {
     "data": {
      "text/plain": "(20864, 256)"
     },
     "execution_count": 16,
     "metadata": {},
     "output_type": "execute_result"
    }
   ],
   "source": [
    "fast_ai_daytime_model_daytime_data.shape"
   ],
   "metadata": {
    "collapsed": false,
    "pycharm": {
     "name": "#%%\n"
    }
   }
  },
  {
   "cell_type": "markdown",
   "source": [
    "### Daytime model nighttime data"
   ],
   "metadata": {
    "collapsed": false,
    "pycharm": {
     "name": "#%% md\n"
    }
   }
  },
  {
   "cell_type": "code",
   "execution_count": 33,
   "outputs": [
    {
     "name": "stdout",
     "output_type": "stream",
     "text": [
      "151/151 [==============================] - 35s 231ms/step\n"
     ]
    }
   ],
   "source": [
    "pipe = get_pipe(fast_ai_daytime_model, cfg, fast_nighttime_ai_traindata)\n",
    "data = get_dataset_from_pipe(pipe)\n",
    "fast_ai_daytime_model_nighttime_data = fast_ai_daytime_model_intermediate_layer.predict(\n",
    "    data,\n",
    "    workers=multiprocessing.cpu_count(),\n",
    "    use_multiprocessing=True,\n",
    "    steps=len(pipe),\n",
    "    verbose=1)"
   ],
   "metadata": {
    "collapsed": false,
    "pycharm": {
     "name": "#%%\n"
    }
   }
  },
  {
   "cell_type": "code",
   "execution_count": 34,
   "outputs": [
    {
     "data": {
      "text/plain": "(19328, 256)"
     },
     "execution_count": 34,
     "metadata": {},
     "output_type": "execute_result"
    }
   ],
   "source": [
    "fast_ai_daytime_model_nighttime_data.shape"
   ],
   "metadata": {
    "collapsed": false,
    "pycharm": {
     "name": "#%%\n"
    }
   }
  },
  {
   "cell_type": "markdown",
   "source": [
    "### Retrained nighttime model"
   ],
   "metadata": {
    "collapsed": false,
    "pycharm": {
     "name": "#%% md\n"
    }
   }
  },
  {
   "cell_type": "code",
   "execution_count": 19,
   "outputs": [
    {
     "name": "stderr",
     "output_type": "stream",
     "text": [
      "INFO:donkeycar.utils:get_model_by_type: model type is: 3d-modified-steering\n",
      "INFO:donkeycar.parts.keras:input_shape (60, 160, 3) num_outputs 1\n",
      "INFO:donkeycar.parts.keras:Created Keras3D_CNN_ModifiedOnlySteering with interpreter: KerasInterpreter\n",
      "INFO:donkeycar.parts.keras:Num outputs 1\n",
      "INFO:donkeycar.parts.keras:Sequence length 3\n",
      "INFO:donkeycar.parts.keras:Loading model retrain/full-faster-nighttime-autodrive-3dcnn.h5\n",
      "INFO:donkeycar.parts.interpreter:Loading model retrain/full-faster-nighttime-autodrive-3dcnn.h5\n"
     ]
    },
    {
     "name": "stdout",
     "output_type": "stream",
     "text": [
      "Model: \"3dcnn\"\n",
      "_________________________________________________________________\n",
      " Layer (type)                Output Shape              Param #   \n",
      "=================================================================\n",
      " img_in (InputLayer)         [(None, 3, 60, 160, 3)]   0         \n",
      "                                                                 \n",
      " conv3d (Conv3D)             (None, 1, 20, 53, 16)     1312      \n",
      "                                                                 \n",
      " max_pooling3d (MaxPooling3D  (None, 1, 10, 26, 16)    0         \n",
      " )                                                               \n",
      "                                                                 \n",
      " conv3d_1 (Conv3D)           (None, 1, 10, 26, 32)     4640      \n",
      "                                                                 \n",
      " max_pooling3d_1 (MaxPooling  (None, 1, 5, 13, 32)     0         \n",
      " 3D)                                                             \n",
      "                                                                 \n",
      " conv3d_2 (Conv3D)           (None, 1, 5, 13, 32)      9248      \n",
      "                                                                 \n",
      " flatten (Flatten)           (None, 2080)              0         \n",
      "                                                                 \n",
      " dense (Dense)               (None, 128)               266368    \n",
      "                                                                 \n",
      " batch_normalization (BatchN  (None, 128)              512       \n",
      " ormalization)                                                   \n",
      "                                                                 \n",
      " activation (Activation)     (None, 128)               0         \n",
      "                                                                 \n",
      " dropout (Dropout)           (None, 128)               0         \n",
      "                                                                 \n",
      " dense_1 (Dense)             (None, 256)               33024     \n",
      "                                                                 \n",
      " batch_normalization_1 (Batc  (None, 256)              1024      \n",
      " hNormalization)                                                 \n",
      "                                                                 \n",
      " activation_1 (Activation)   (None, 256)               0         \n",
      "                                                                 \n",
      " dropout_1 (Dropout)         (None, 256)               0         \n",
      "                                                                 \n",
      " outputs (Dense)             (None, 1)                 257       \n",
      "                                                                 \n",
      "=================================================================\n",
      "Total params: 316,385\n",
      "Trainable params: 315,617\n",
      "Non-trainable params: 768\n",
      "_________________________________________________________________\n"
     ]
    }
   ],
   "source": [
    "fast_ai_nighttime_model_path = 'retrain/full-faster-nighttime-autodrive-3dcnn.h5'\n",
    "fast_ai_nighttime_model = get_model_by_type(model_type, cfg)\n",
    "fast_ai_nighttime_model.load(fast_ai_nighttime_model_path)\n",
    "fast_ai_nighttime_model.interpreter.model.summary()"
   ],
   "metadata": {
    "collapsed": false,
    "pycharm": {
     "name": "#%%\n"
    }
   }
  },
  {
   "cell_type": "code",
   "execution_count": 26,
   "outputs": [],
   "source": [
    "fast_ai_nighttime_model_intermediate_layer = keras.Model(fast_ai_nighttime_model.interpreter.model.input,\n",
    "                                                         fast_ai_nighttime_model.interpreter.model.get_layer('dense_1').output)"
   ],
   "metadata": {
    "collapsed": false,
    "pycharm": {
     "name": "#%%\n"
    }
   }
  },
  {
   "cell_type": "markdown",
   "source": [
    "### Nighttime model daytime data"
   ],
   "metadata": {
    "collapsed": false,
    "pycharm": {
     "name": "#%% md\n"
    }
   }
  },
  {
   "cell_type": "code",
   "execution_count": 27,
   "outputs": [
    {
     "name": "stdout",
     "output_type": "stream",
     "text": [
      "163/163 [==============================] - 197s 1s/step\n"
     ]
    }
   ],
   "source": [
    "\n",
    "pipe = get_pipe(fast_ai_nighttime_model, cfg, fast_daytime_ai_traindata)\n",
    "data = get_dataset_from_pipe(pipe)\n",
    "fast_ai_nighttime_model_daytime_data = fast_ai_nighttime_model_intermediate_layer.predict(\n",
    "    data,\n",
    "    workers=multiprocessing.cpu_count(),\n",
    "    use_multiprocessing=True,\n",
    "    steps=len(pipe),\n",
    "    verbose=1)"
   ],
   "metadata": {
    "collapsed": false,
    "pycharm": {
     "name": "#%%\n"
    }
   }
  },
  {
   "cell_type": "code",
   "execution_count": 32,
   "outputs": [
    {
     "data": {
      "text/plain": "(20864, 256)"
     },
     "execution_count": 32,
     "metadata": {},
     "output_type": "execute_result"
    }
   ],
   "source": [
    "fast_ai_nighttime_model_daytime_data.shape"
   ],
   "metadata": {
    "collapsed": false,
    "pycharm": {
     "name": "#%%\n"
    }
   }
  },
  {
   "cell_type": "markdown",
   "source": [
    "### Nighttime model nighttime data"
   ],
   "metadata": {
    "collapsed": false,
    "pycharm": {
     "name": "#%% md\n"
    }
   }
  },
  {
   "cell_type": "code",
   "execution_count": 28,
   "outputs": [
    {
     "name": "stdout",
     "output_type": "stream",
     "text": [
      "151/151 [==============================] - 165s 1s/step\n"
     ]
    }
   ],
   "source": [
    "\n",
    "pipe = get_pipe(fast_ai_nighttime_model, cfg, fast_nighttime_ai_traindata)\n",
    "data = get_dataset_from_pipe(pipe)\n",
    "fast_ai_nighttime_model_nighttime_data = fast_ai_nighttime_model_intermediate_layer.predict(\n",
    "    data,\n",
    "    workers=multiprocessing.cpu_count(),\n",
    "    use_multiprocessing=True,\n",
    "    steps=len(pipe),\n",
    "    verbose=1)"
   ],
   "metadata": {
    "collapsed": false,
    "pycharm": {
     "name": "#%%\n"
    }
   }
  },
  {
   "cell_type": "code",
   "execution_count": 31,
   "outputs": [
    {
     "data": {
      "text/plain": "(19328, 256)"
     },
     "execution_count": 31,
     "metadata": {},
     "output_type": "execute_result"
    }
   ],
   "source": [
    "fast_ai_nighttime_model_nighttime_data.shape"
   ],
   "metadata": {
    "collapsed": false,
    "pycharm": {
     "name": "#%%\n"
    }
   }
  },
  {
   "cell_type": "markdown",
   "source": [
    "## Save/load"
   ],
   "metadata": {
    "collapsed": false,
    "pycharm": {
     "name": "#%% md\n"
    }
   }
  },
  {
   "cell_type": "code",
   "execution_count": 35,
   "outputs": [],
   "source": [
    "np.savetxt(\"retrain/fast_ai_daytime_model_daytime_data.csv.gz\", np.float16(fast_ai_daytime_model_daytime_data))\n",
    "np.savetxt(\"retrain/fast_ai_daytime_model_nighttime_data.csv.gz\", np.float16(fast_ai_daytime_model_nighttime_data))\n",
    "np.savetxt(\"retrain/fast_ai_nighttime_model_daytime_data.csv.gz\", np.float16(fast_ai_nighttime_model_daytime_data))\n",
    "np.savetxt(\"retrain/fast_ai_nighttime_model_nighttime_data.csv.gz\", np.float16(fast_ai_nighttime_model_nighttime_data))\n"
   ],
   "metadata": {
    "collapsed": false,
    "pycharm": {
     "name": "#%%\n"
    }
   }
  },
  {
   "cell_type": "markdown",
   "source": [
    "## Analyze"
   ],
   "metadata": {
    "collapsed": false,
    "pycharm": {
     "name": "#%% md\n"
    }
   }
  },
  {
   "cell_type": "code",
   "execution_count": 36,
   "outputs": [
    {
     "data": {
      "text/plain": "(0.6727674, 0.5097982, 0.48071343, 0.3933084)"
     },
     "execution_count": 36,
     "metadata": {},
     "output_type": "execute_result"
    }
   ],
   "source": [
    "fast_ai_daytime_model_daytime_data_neuron_means = np.mean(np.abs(fast_ai_daytime_model_daytime_data), axis=0)\n",
    "fast_ai_daytime_model_nighttime_data_neuron_means = np.mean(np.abs(fast_ai_daytime_model_nighttime_data), axis=0)\n",
    "fast_ai_nighttime_model_daytime_data_neuron_means = np.mean(np.abs(fast_ai_nighttime_model_daytime_data), axis=0)\n",
    "fast_ai_nighttime_model_nighttime_data_neuron_means = np.mean(np.abs(fast_ai_nighttime_model_nighttime_data), axis=0)\n",
    "\n",
    "fast_ai_daytime_model_daytime_data_neuron_std = np.std(fast_ai_daytime_model_daytime_data, axis=0)\n",
    "fast_ai_daytime_model_nighttime_data_neuron_std = np.std(fast_ai_daytime_model_nighttime_data, axis=0)\n",
    "fast_ai_nighttime_model_daytime_data_neuron_std = np.std(fast_ai_nighttime_model_daytime_data, axis=0)\n",
    "fast_ai_nighttime_model_nighttime_data_neuron_std = np.std(fast_ai_nighttime_model_nighttime_data, axis=0)\n",
    "\n",
    "fast_ai_daytime_model_daytime_data_neuron_means.mean(), fast_ai_daytime_model_nighttime_data_neuron_means.mean(), fast_ai_nighttime_model_daytime_data_neuron_means.mean(), fast_ai_nighttime_model_nighttime_data_neuron_means.mean()"
   ],
   "metadata": {
    "collapsed": false,
    "pycharm": {
     "name": "#%%\n"
    }
   }
  },
  {
   "cell_type": "code",
   "execution_count": 37,
   "outputs": [
    {
     "data": {
      "text/plain": "(0.66178465, 0.36294407, 0.4789427, 0.39016736)"
     },
     "execution_count": 37,
     "metadata": {},
     "output_type": "execute_result"
    }
   ],
   "source": [
    "fast_ai_daytime_model_daytime_data_neuron_std.mean(), fast_ai_daytime_model_nighttime_data_neuron_std.mean(), fast_ai_nighttime_model_daytime_data_neuron_std.mean(), fast_ai_nighttime_model_nighttime_data_neuron_std.mean()\n"
   ],
   "metadata": {
    "collapsed": false,
    "pycharm": {
     "name": "#%%\n"
    }
   }
  },
  {
   "cell_type": "code",
   "execution_count": null,
   "outputs": [],
   "source": [
    "fig, ((ax1, ax2), (ax3, ax4)) = plt.subplots(2, 2, sharex='all', sharey='all', figsize=(20, 15))\n",
    "ax1.plot(fast_model_fast_ai_data_neuron_std)\n",
    "ax1.set_title('Fast model Fast AI daytime')\n",
    "ax2.plot(fast_model_fast_ai_nighttime_data_neuron_std)\n",
    "ax2.set_title('Fast model Slow AI nighttime')\n",
    "ax3.plot(slow_model_fast_ai_data_neuron_std)\n",
    "ax3.set_title('Slow model Fast AI daytime')\n",
    "ax4.plot(slow_model_slow_ai_nighttime_data_neuron_std)\n",
    "ax4.set_title('Slow model Slow AI nighttime')\n",
    "\n",
    "for ax in fig.get_axes():\n",
    "    ax.set(xlabel='Neuron indices', ylabel='Standard deviation of neuron activations')\n",
    "    ax.label_outer()\n",
    "\n"
   ],
   "metadata": {
    "collapsed": false,
    "pycharm": {
     "name": "#%%\n"
    }
   }
  },
  {
   "cell_type": "code",
   "execution_count": null,
   "outputs": [],
   "source": [],
   "metadata": {
    "collapsed": false,
    "pycharm": {
     "name": "#%%\n"
    }
   }
  }
 ],
 "metadata": {
  "kernelspec": {
   "name": "donkey2",
   "language": "python",
   "display_name": "donkey2"
  },
  "language_info": {
   "codemirror_mode": {
    "name": "ipython",
    "version": 2
   },
   "file_extension": ".py",
   "mimetype": "text/x-python",
   "name": "python",
   "nbconvert_exporter": "python",
   "pygments_lexer": "ipython2",
   "version": "2.7.6"
  }
 },
 "nbformat": 4,
 "nbformat_minor": 0
}