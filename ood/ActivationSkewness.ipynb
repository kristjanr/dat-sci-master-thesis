{
 "cells": [
  {
   "cell_type": "markdown",
   "source": [
    "# 4.4.1 Activation Skewness"
   ],
   "metadata": {
    "collapsed": false,
    "pycharm": {
     "name": "#%% md\n"
    }
   }
  },
  {
   "cell_type": "markdown",
   "source": [
    "### Load data"
   ],
   "metadata": {
    "collapsed": false,
    "pycharm": {
     "name": "#%% md\n"
    }
   }
  },
  {
   "cell_type": "code",
   "execution_count": 59,
   "outputs": [
    {
     "data": {
      "text/plain": "[(19250, 256), (20304, 256), (19250, 256), (20304, 256)]"
     },
     "execution_count": 59,
     "metadata": {},
     "output_type": "execute_result"
    }
   ],
   "source": [
    "import numpy as np\n",
    "\n",
    "fast_model_fast_data = np.load(\"nighttime_ai_fast_model_fast_data_activations.npy\")\n",
    "fast_model_slow_data = np.load(\"nighttime_ai_fast_model_slow_data_activations.npy\")\n",
    "slow_model_fast_data = np.load(\"nighttime_ai_slow_model_fast_data_activations.npy\")\n",
    "slow_model_slow_data = np.load(\"nighttime_ai_slow_model_slow_data_activations.npy\")\n",
    "\n",
    "[d.shape for d in (fast_model_fast_data, fast_model_slow_data, slow_model_fast_data, slow_model_slow_data)]\n"
   ],
   "metadata": {
    "collapsed": false,
    "pycharm": {
     "name": "#%%\n"
    }
   }
  },
  {
   "cell_type": "markdown",
   "source": [
    "### Table 6. Basic statistics for activations."
   ],
   "metadata": {
    "collapsed": false,
    "pycharm": {
     "name": "#%% md\n"
    }
   }
  },
  {
   "cell_type": "code",
   "execution_count": 74,
   "outputs": [
    {
     "name": "stdout",
     "output_type": "stream",
     "text": [
      "fast_model_IND_data mean:0.2661, standard deviation of neuron means: 0.0694\n",
      "fast_model_OOD_data mean:0.2837, standard deviation of neuron means: 0.2639\n",
      "slow_model_IND_data mean:0.3042, standard deviation of neuron means: 0.1102\n",
      "slow_model_OOD_data mean:0.2073, standard deviation of neuron means: 0.1222\n"
     ]
    }
   ],
   "source": [
    "\n",
    "neuron_activations = dict(\n",
    "    fast_model_IND_data = np.mean(fast_model_fast_data, axis=0),\n",
    "    fast_model_OOD_data = np.mean(fast_model_slow_data, axis=0),\n",
    "    slow_model_IND_data = np.mean(slow_model_slow_data, axis=0),\n",
    "    slow_model_OOD_data = np.mean(slow_model_fast_data, axis=0),\n",
    ")\n",
    "\n",
    "for name, data in neuron_activations.items():\n",
    "    print(f'{name} mean:{data.mean():.4f}, standard deviation of neuron means: {np.std(data):.4f}')"
   ],
   "metadata": {
    "collapsed": false,
    "pycharm": {
     "name": "#%%\n"
    }
   }
  },
  {
   "cell_type": "code",
   "execution_count": 75,
   "outputs": [
    {
     "name": "stdout",
     "output_type": "stream",
     "text": [
      "fast_model_IND_data mean of neuron standard deviations: 0.3530\n",
      "fast_model_OOD_data mean of neuron standard deviations: 0.2954\n",
      "slow_model_IND_data mean of neuron standard deviations: 0.3867\n",
      "slow_model_OOD_data mean of neuron standard deviations: 0.2462\n"
     ]
    }
   ],
   "source": [
    "neuron_activations = dict(\n",
    "    fast_model_IND_data=fast_model_fast_data.std(axis=0),\n",
    "    fast_model_OOD_data=fast_model_slow_data.std(axis=0),\n",
    "    slow_model_IND_data=slow_model_slow_data.std(axis=0),\n",
    "    slow_model_OOD_data=slow_model_fast_data.std(axis=0),\n",
    ")\n",
    "\n",
    "for name, data in neuron_activations.items():\n",
    "    print(f'{name} mean of neuron standard deviations: {data.mean():.4f}')\n"
   ],
   "metadata": {
    "collapsed": false,
    "pycharm": {
     "name": "#%%\n"
    }
   }
  },
  {
   "cell_type": "markdown",
   "source": [],
   "metadata": {
    "collapsed": false,
    "pycharm": {
     "name": "#%% md\n"
    }
   }
  },
  {
   "cell_type": "code",
   "execution_count": 80,
   "outputs": [
    {
     "name": "stdout",
     "output_type": "stream",
     "text": [
      "fast_model_IND_data mean of frame skewness: 1.5635\n",
      "fast_model_OOD_data mean of frame skewness: 1.6707\n",
      "slow_model_IND_data mean of frame skewness: 1.4697\n",
      "slow_model_OOD_data mean of frame skewness: 1.5382\n"
     ]
    }
   ],
   "source": [
    "\n",
    "from scipy.stats import skew\n",
    "\n",
    "neuron_activations = dict(\n",
    "    fast_model_IND_data = fast_model_fast_data,\n",
    "    fast_model_OOD_data = fast_model_slow_data,\n",
    "    slow_model_IND_data = slow_model_slow_data,\n",
    "    slow_model_OOD_data = slow_model_fast_data\n",
    ")\n",
    "\n",
    "for name, data in neuron_activations.items():\n",
    "    print(f'{name} mean of frame skewness: {skew(data, axis=1).mean():.4f}')"
   ],
   "metadata": {
    "collapsed": false,
    "pycharm": {
     "name": "#%%\n"
    }
   }
  },
  {
   "cell_type": "code",
   "execution_count": 81,
   "outputs": [
    {
     "name": "stdout",
     "output_type": "stream",
     "text": [
      "fast_model_IND_data standard deviation of frame skewness: 0.8455\n",
      "fast_model_OOD_data standard deviation of frame skewness: 0.4483\n",
      "slow_model_IND_data standard deviation of frame skewness: 0.5340\n",
      "slow_model_OOD_data standard deviation of frame skewness: 0.7581\n"
     ]
    }
   ],
   "source": [
    "for name, data in neuron_activations.items():\n",
    "    print(f'{name} standard deviation of frame skewness: {skew(data, axis=1).std():.4f}')"
   ],
   "metadata": {
    "collapsed": false,
    "pycharm": {
     "name": "#%%\n"
    }
   }
  },
  {
   "cell_type": "markdown",
   "source": [
    "### Figure 15. Frame skewness AUROC"
   ],
   "metadata": {
    "collapsed": false,
    "pycharm": {
     "name": "#%% md\n"
    }
   }
  },
  {
   "cell_type": "code",
   "execution_count": 83,
   "outputs": [
    {
     "name": "stderr",
     "output_type": "stream",
     "text": [
      "/Users/kristjan.roosild/opt/miniconda3/envs/donkey/lib/python3.7/site-packages/numpy/core/fromnumeric.py:86: RuntimeWarning: overflow encountered in reduce\n",
      "  return ufunc.reduce(obj, axis, dtype, out, **passkwargs)\n"
     ]
    },
    {
     "data": {
      "text/plain": "<Figure size 360x360 with 1 Axes>",
      "image/png": "[encoded data removed]"
     },
     "metadata": {
      "needs_background": "light"
     },
     "output_type": "display_data"
    }
   ],
   "source": [
    "from matplotlib import pyplot as plt\n",
    "from sklearn.metrics import roc_curve, auc\n",
    "\n",
    "\n",
    "def plot_curve(ax, data, title_part, color):\n",
    "    y_true = data[:, 0]\n",
    "    y_score = data[:, 1]\n",
    "    fpr, tpr, _ = roc_curve(y_true, y_score)\n",
    "    roc_auc = auc(fpr, tpr)\n",
    "    ax.plot(\n",
    "        fpr,\n",
    "        tpr,\n",
    "        color=color,\n",
    "        lw=2,\n",
    "        label=f\"{title_part} (area = %0.4f)\" % roc_auc,\n",
    "    )\n",
    "\n",
    "fig, ax = plt.subplots(figsize=(5, 5))\n",
    "\n",
    "skewness_test_fast = skew(fast_model_fast_data, axis=1)\n",
    "skewness_ood_fast = skew(fast_model_slow_data, axis=1)\n",
    "skewness_test_slow = skew(slow_model_slow_data, axis=1)\n",
    "skewness_ood_slow = skew(slow_model_fast_data, axis=1)\n",
    "\n",
    "fast_IND_skewness = np.vstack([np.zeros(len(skewness_test_fast)), skewness_test_fast]).T\n",
    "fast_OOD_skewness = np.vstack([np.ones(len(skewness_ood_fast)), skewness_ood_fast]).T\n",
    "slow_IND_skewness = np.vstack([np.zeros(len(skewness_test_slow)), skewness_test_slow]).T\n",
    "slow_OOD_skewness = np.vstack([np.ones(len(skewness_ood_slow)), skewness_ood_slow]).T\n",
    "\n",
    "\n",
    "plot_curve(ax, np.concatenate((fast_IND_skewness, fast_OOD_skewness,)), 'Fast model', 'lightgrey')\n",
    "plot_curve(ax, np.concatenate((slow_IND_skewness, slow_OOD_skewness,)), 'Slow model', 'grey')\n",
    "ax.plot([0, 1], [0, 1], color=\"black\", lw=1, linestyle=\"--\", label='0.5 area')\n",
    "ax.set(xlabel= \"False Positive Rate\", ylabel = \"True Positive Rate\")\n",
    "\n",
    "\n",
    "ax.spines['top'].set_visible(False)\n",
    "ax.spines['right'].set_visible(False)\n",
    "ax.spines['bottom'].set_visible(False)\n",
    "ax.spines['left'].set_visible(False)\n",
    "ax.legend(frameon=False, loc=\"lower right\")\n",
    "\n",
    "plt.show()\n"
   ],
   "metadata": {
    "collapsed": false,
    "pycharm": {
     "name": "#%%\n"
    }
   }
  }
 ],
 "metadata": {
  "kernelspec": {
   "display_name": "Python 3",
   "language": "python",
   "name": "python3"
  },
  "language_info": {
   "codemirror_mode": {
    "name": "ipython",
    "version": 2
   },
   "file_extension": ".py",
   "mimetype": "text/x-python",
   "name": "python",
   "nbconvert_exporter": "python",
   "pygments_lexer": "ipython2",
   "version": "2.7.6"
  }
 },
 "nbformat": 4,
 "nbformat_minor": 0
}