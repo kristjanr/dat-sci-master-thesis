{
 "cells": [
  {
   "cell_type": "code",
   "execution_count": 26,
   "metadata": {
    "collapsed": true
   },
   "outputs": [],
   "source": [
    "import sys\n",
    "\n",
    "for a in ['', '/Users/kristjan.roosild/opt/miniconda3/envs/donkey/lib/python37.zip',\n",
    "          '/Users/kristjan.roosild/opt/miniconda3/envs/donkey/lib/python3.7',\n",
    "          '/Users/kristjan.roosild/opt/miniconda3/envs/donkey/lib/python3.7/lib-dynload',\n",
    "          '/Users/kristjan.roosild/.local/lib/python3.7/site-packages',\n",
    "          '/Users/kristjan.roosild/opt/miniconda3/envs/donkey/lib/python3.7/site-packages',\n",
    "          '/Users/kristjan.roosild/projects/donkeycar',\n",
    "          '/Users/kristjan.roosild/opt/miniconda3/envs/donkey/lib/python3.7/site-packages/locket-0.2.1-py3.7.egg']:\n",
    "    sys.path.append(a)"
   ]
  },
  {
   "cell_type": "code",
   "execution_count": 27,
   "outputs": [],
   "source": [
    "\n",
    "import numpy as np\n",
    "import donkeycar as dk"
   ],
   "metadata": {
    "collapsed": false,
    "pycharm": {
     "name": "#%%\n"
    }
   }
  },
  {
   "cell_type": "code",
   "execution_count": 28,
   "outputs": [
    {
     "name": "stdout",
     "output_type": "stream",
     "text": [
      "loading config file: /Users/kristjan.roosild/mycar/config.py\n",
      "loading personal config over-rides from myconfig.py\n"
     ]
    }
   ],
   "source": [
    "cfg = dk.load_config(config_path='/Users/kristjan.roosild/mycar/config.py')"
   ],
   "metadata": {
    "collapsed": false,
    "pycharm": {
     "name": "#%%\n"
    }
   }
  },
  {
   "cell_type": "code",
   "execution_count": 93,
   "outputs": [
    {
     "name": "stdout",
     "output_type": "stream",
     "text": [
      "Using catalog /Users/kristjan.roosild/OneDrive/kool/maka/data/1-1-CC-80/catalog_4.catalog\n",
      "Using catalog /Users/kristjan.roosild/OneDrive/kool/maka/data/1-2-CC-90/catalog_4.catalog\n",
      "Using catalog /Users/kristjan.roosild/OneDrive/kool/maka/data/1-3-CC-85/catalog_4.catalog\n",
      "Using catalog /Users/kristjan.roosild/OneDrive/kool/maka/data/2-1-CW-80/catalog_4.catalog\n",
      "Using catalog /Users/kristjan.roosild/OneDrive/kool/maka/data/2-2-CW-90/catalog_2.catalog\n",
      "Using catalog /Users/kristjan.roosild/OneDrive/kool/maka/data/2-3-CW-85/catalog_6.catalog\n",
      "Using catalog /Users/kristjan.roosild/OneDrive/kool/maka/data/3-2-CW-90/catalog_6.catalog\n",
      "Using catalog /Users/kristjan.roosild/OneDrive/kool/maka/data/3-3-CW-85/catalog_4.catalog\n",
      "Using catalog /Users/kristjan.roosild/OneDrive/kool/maka/data/4-1-CC-80/catalog_5.catalog\n",
      "Using catalog /Users/kristjan.roosild/OneDrive/kool/maka/data/4-2-CC-90/catalog_7.catalog\n",
      "Using catalog /Users/kristjan.roosild/OneDrive/kool/maka/data/4-3-CC-85/catalog_4.catalog\n"
     ]
    }
   ],
   "source": [
    "import os\n",
    "\n",
    "from donkeycar.pipeline.types import TubDataset\n",
    "\n",
    "def load_tub_angles(tub_path, cfg):\n",
    "    dataset = TubDataset(cfg, [os.path.expanduser(tub_path)])\n",
    "    angles = []\n",
    "    for tub in dataset.tubs:\n",
    "        for underlying in tub:\n",
    "            angle = underlying['user/angle']\n",
    "            angles.append(angle)\n",
    "    return angles\n",
    "\n",
    "tubs = [\n",
    "    '1-1-CC-80',\n",
    "    '1-2-CC-90',\n",
    "    '1-3-CC-85',\n",
    "    '2-1-CW-80',\n",
    "    '2-2-CW-90',\n",
    "    '2-3-CW-85',\n",
    "    '3-2-CW-90',\n",
    "    '3-3-CW-85',\n",
    "    '4-1-CC-80',\n",
    "    '4-2-CC-90',\n",
    "    '4-3-CC-85'\n",
    "]\n",
    "tub_angles = {}\n",
    "\n",
    "for tub_path in tubs:\n",
    "    full_path = '/Users/kristjan.roosild/OneDrive/kool/maka/data/' + tub_path\n",
    "    angles = load_tub_angles(full_path, cfg)\n",
    "    tub_angles[tub_path] = angles\n"
   ],
   "metadata": {
    "collapsed": false,
    "pycharm": {
     "name": "#%%\n"
    }
   }
  },
  {
   "cell_type": "code",
   "execution_count": 94,
   "outputs": [
    {
     "data": {
      "text/plain": "[('CC-80', 9193),\n ('CC-85', 8678),\n ('CC-90', 10799),\n ('CW-80', 4433),\n ('CW-85', 10098),\n ('CW-90', 6482)]"
     },
     "execution_count": 94,
     "metadata": {},
     "output_type": "execute_result"
    }
   ],
   "source": [
    "from collections import defaultdict\n",
    "dir_speed_counts = defaultdict(int)\n",
    "for k, v in tub_angles.items():\n",
    "    dir_speed_counts[k[-5:]] += len(v)\n",
    "\n",
    "\n",
    "dir_speed_counts = list(dir_speed_counts.items())\n",
    "dir_speed_counts.sort()\n",
    "dir_speed_counts"
   ],
   "metadata": {
    "collapsed": false,
    "pycharm": {
     "name": "#%%\n"
    }
   }
  },
  {
   "cell_type": "code",
   "execution_count": 102,
   "outputs": [
    {
     "data": {
      "text/plain": "<Figure size 850.394x708.661 with 1 Axes>",
      "image/png": "[encoded data removed]"
     },
     "metadata": {
      "needs_background": "light"
     },
     "output_type": "display_data"
    }
   ],
   "source": [
    "from collections import OrderedDict\n",
    "\n",
    "direction = 'CC'\n",
    "\n",
    "\n",
    "def get_angles_for_direction(tub_angles, direction):\n",
    "    direction_tub_angles = {k: v for k, v in tub_angles.items() if direction in k}\n",
    "    direction_tub_angles = OrderedDict(sorted(list(direction_tub_angles.items()), key=lambda k: k[0][-2:]))\n",
    "    direction_angles_by_speed = OrderedDict()\n",
    "    for k, v in direction_tub_angles.items():\n",
    "        if direction_angles_by_speed.get(k[-2:]):\n",
    "            direction_angles_by_speed[k[-2:]].extend(v)\n",
    "        else:\n",
    "            direction_angles_by_speed[k[-2:]] = v\n",
    "    return direction_angles_by_speed\n",
    "\n",
    "get_angles_for_direction(tub_angles, direction)\n",
    "\n",
    "\n",
    "def plot_all(name, tub_angles):\n",
    "    plt.figure()\n",
    "    hist, bins, _ = plt.hist(tub_angles.values(), bins=9, density=True)\n",
    "    plt.title(name)\n",
    "    plt.legend(tub_angles.keys())\n",
    "    plt.xlabel('angle')\n",
    "    plt.ylabel('count')\n",
    "    plt.grid()\n",
    "    plt.show()\n",
    "    return hist\n",
    "\n",
    "hist = plot_all(direction, get_angles_for_direction(tub_angles, direction))\n",
    "\n",
    "#"
   ],
   "metadata": {
    "collapsed": false,
    "pycharm": {
     "name": "#%%\n"
    }
   }
  },
  {
   "cell_type": "markdown",
   "source": [
    "Mudel ennustab konservatiivselt? e alaennustab pööramisi. Ei ennusta nii järsku pööramist. Kunagi pole ühtegi labelit suurem väiksem 1 -1 ?\n",
    "\n",
    "TODO:\n",
    "\n",
    "1. vead vastavalt ground truthile. See mis teises nb-s alustasin. Vigade histogramm. Mitte ainult keskmine. Kas mingi tub on tuksis?\n",
    "\n",
    "\n",
    "\n",
    "2. AGA: Miks on mudel mitte võimaline õppima? Kas mudel ennustab ülespoole 1 või allapoole -1 ?\n",
    "\n",
    "\n",
    "Mudel ju võikski õppida väga palju -1 ja väga palju 1 ja 0 ja mitte üldse vahepealseid, kui on 90 andmete peal treenitud.\n",
    "Aeglasematel peaks ju vahepealsetel nurkadel olema suurem loss. See oleks loogiline, et 0.9 mudel töötab just 0.9-stel hästi.\n",
    "\n",
    "NB hoia meeles: Kirjelda ära, et anmded on erinevad.\n",
    "\n",
    "\n",
    "Early stop patience oli liiga väike - lõpetas treenimise liiga vara. Kui validation set on väike, siis ongi vaja suuremat patience-i.\n",
    "\n",
    "\n",
    "3. CV fold: jagada sekundiliste juppide kaupa: nt  võtta 100 andmepunkti kaupa, 100 traini, järgmised 10 testi.\n",
    "\n",
    "Single frame mudeli puhul me ei ootagi 0.8 09 vahel erinevust. Sisend ei erine - 1 frame ainult. Ainult väljundite jaotus erineb. See kui sisend on teistsugune,mõjutab palju rohkem kui oodatavate väljundite jaotus.\n",
    "\n",
    "\n",
    "Praegu andmeid juurde ei kogu. Olen avastanud ja fixinud bugisid.\n",
    "\n",
    "4. Early stopping suuremaks.\n",
    "\n",
    "### LSTM\n",
    "5x8 pikslit on LSTMil. Spatial resolution on väga kehv. Kas on mõtet pilti kokku suruda ?\n",
    "\n",
    "NB! Closed loop oli üsna aeglane 5 framega. Proovime closed loop sõitu kahe framega LSTMiga. Konvolutsioon on väga arvutusmahukas. Kui see on probleem siis saab mõne conv kihi ära võtta mudelilt.\n",
    "\n",
    "5. Treeni LSTM nüüd parandatud koodiga, ilma bugideta, ausa CV-ga, sequence 2.\n",
    "\n",
    "### 3D\n",
    "\n",
    "6. proovi korra veel treenida- sequence 3. Selle Ardi tehtud modified mudeliga. TEHTUD! Mis on tulemused? Nende analüüs?\n",
    "\n",
    "\n",
    "### Andmestiku analüüs\n",
    "7. Kahe järjestikuse pildi erinevust vaadat EDA-s. Võta pikslite erinevuse keskmine igale frame-le.\n",
    "Võta Üks tagakurv (kurvis taust liigub kiiremini) - pildid, mis juhtub 0.2 sekundiga. Ja kiirest sõidust. Et näidata, et kiirused on erinevad. Vb ka üksikute piltide erinevused.\n",
    "\n",
    "ÄRA UNUSTA CROPPIMIST! Ainult see mida mudel näeb.\n",
    "\n"
   ],
   "metadata": {
    "collapsed": false,
    "pycharm": {
     "name": "#%% md\n"
    }
   }
  },
  {
   "cell_type": "code",
   "execution_count": 100,
   "outputs": [
    {
     "data": {
      "text/plain": "array([[0.21961048, 0.08318579, 0.08816167, 0.1099884 , 0.37636608,\n        0.02265096, 0.02472678, 0.07530985],\n       [0.23211027, 0.09003519, 0.07895594, 0.06979927, 0.41736184,\n        0.02342935, 0.02443952, 0.06386861],\n       [0.33827025, 0.03161849, 0.03661088, 0.05116014, 0.42228509,\n        0.00965196, 0.00725086, 0.10315234]])"
     },
     "execution_count": 100,
     "metadata": {},
     "output_type": "execute_result"
    }
   ],
   "source": [
    "speed80 = hist[0]\n",
    "speed85 = hist[1]\n",
    "speed90 = hist[2]\n",
    "np.array([speed80, speed85, speed90])/4\n",
    "\n"
   ],
   "metadata": {
    "collapsed": false,
    "pycharm": {
     "name": "#%%\n"
    }
   }
  },
  {
   "cell_type": "code",
   "execution_count": 68,
   "outputs": [
    {
     "data": {
      "text/plain": "<Figure size 850.394x708.661 with 1 Axes>",
      "image/png": "[encoded data removed]"
     },
     "metadata": {
      "needs_background": "light"
     },
     "output_type": "display_data"
    }
   ],
   "source": [
    "direction = 'CW'\n",
    "hist = plot_all(direction, get_angles_for_direction(tub_angles, direction))\n"
   ],
   "metadata": {
    "collapsed": false,
    "pycharm": {
     "name": "#%%\n"
    }
   }
  },
  {
   "cell_type": "code",
   "execution_count": 69,
   "outputs": [
    {
     "data": {
      "text/plain": "array([[ 204.,   54.,   50.,   51., 1606.,  830.,  635., 1003.],\n       [ 690.,  143.,  210.,  291., 7105., 2773., 2593., 4309.],\n       [1042.,   95.,  116.,  198., 6595., 1233., 1170., 6499.]])"
     },
     "execution_count": 69,
     "metadata": {},
     "output_type": "execute_result"
    }
   ],
   "source": [
    "speed80 = hist[0]\n",
    "speed85 = hist[1] - speed80\n",
    "speed90 = hist[2] - speed80 - speed85\n",
    "np.array([speed80, speed85, speed90])"
   ],
   "metadata": {
    "collapsed": false,
    "pycharm": {
     "name": "#%%\n"
    }
   }
  },
  {
   "cell_type": "code",
   "execution_count": 33,
   "outputs": [
    {
     "data": {
      "text/plain": "<Figure size 850.394x708.661 with 1 Axes>",
      "image/png": "[encoded data removed]"
     },
     "metadata": {
      "needs_background": "light"
     },
     "output_type": "display_data"
    }
   ],
   "source": [
    "name = tubs[1]\n",
    "angles = tub_angles[name]\n",
    "plot_records_hist(angles, name)\n"
   ],
   "metadata": {
    "collapsed": false,
    "pycharm": {
     "name": "#%%\n"
    }
   }
  },
  {
   "cell_type": "code",
   "execution_count": 34,
   "outputs": [
    {
     "data": {
      "text/plain": "<Figure size 850.394x708.661 with 1 Axes>",
      "image/png": "[encoded data removed]"
     },
     "metadata": {
      "needs_background": "light"
     },
     "output_type": "display_data"
    }
   ],
   "source": [
    "name = tubs[2]\n",
    "angles = tub_angles[name]\n",
    "plot_records_hist(angles, name)\n"
   ],
   "metadata": {
    "collapsed": false,
    "pycharm": {
     "name": "#%%\n"
    }
   }
  },
  {
   "cell_type": "code",
   "execution_count": 35,
   "outputs": [
    {
     "data": {
      "text/plain": "<Figure size 850.394x708.661 with 1 Axes>",
      "image/png": "[encoded data removed]"
     },
     "metadata": {
      "needs_background": "light"
     },
     "output_type": "display_data"
    }
   ],
   "source": [
    "name = tubs[3]\n",
    "angles = tub_angles[name]\n",
    "plot_records_hist(angles, name)\n"
   ],
   "metadata": {
    "collapsed": false,
    "pycharm": {
     "name": "#%%\n"
    }
   }
  },
  {
   "cell_type": "code",
   "execution_count": 36,
   "outputs": [
    {
     "data": {
      "text/plain": "<Figure size 850.394x708.661 with 1 Axes>",
      "image/png": "[encoded data removed]"
     },
     "metadata": {
      "needs_background": "light"
     },
     "output_type": "display_data"
    }
   ],
   "source": [
    "name = tubs[4]\n",
    "angles = tub_angles[name]\n",
    "plot_records_hist(angles, name)\n"
   ],
   "metadata": {
    "collapsed": false,
    "pycharm": {
     "name": "#%%\n"
    }
   }
  },
  {
   "cell_type": "code",
   "execution_count": 37,
   "outputs": [
    {
     "data": {
      "text/plain": "<Figure size 850.394x708.661 with 1 Axes>",
      "image/png": "[encoded data removed]"
     },
     "metadata": {
      "needs_background": "light"
     },
     "output_type": "display_data"
    }
   ],
   "source": [
    "name = tubs[5]\n",
    "angles = tub_angles[name]\n",
    "plot_records_hist(angles, name)\n"
   ],
   "metadata": {
    "collapsed": false,
    "pycharm": {
     "name": "#%%\n"
    }
   }
  },
  {
   "cell_type": "code",
   "execution_count": 38,
   "outputs": [
    {
     "ename": "NameError",
     "evalue": "name 'get_lengths_and_mean' is not defined",
     "output_type": "error",
     "traceback": [
      "\u001B[0;31m---------------------------------------------------------------------------\u001B[0m",
      "\u001B[0;31mNameError\u001B[0m                                 Traceback (most recent call last)",
      "\u001B[0;32m/var/folders/w9/8pmrmvpd47j_nm5l2j2_d9gh0000gp/T/ipykernel_64715/2655022377.py\u001B[0m in \u001B[0;36m<module>\u001B[0;34m\u001B[0m\n\u001B[0;32m----> 1\u001B[0;31m \u001B[0mlengths\u001B[0m\u001B[0;34m,\u001B[0m \u001B[0mmean\u001B[0m \u001B[0;34m=\u001B[0m \u001B[0mget_lengths_and_mean\u001B[0m\u001B[0;34m(\u001B[0m\u001B[0mimages\u001B[0m\u001B[0;34m,\u001B[0m \u001B[0;36m9.25\u001B[0m\u001B[0;34m,\u001B[0m \u001B[0;36m10.4\u001B[0m\u001B[0;34m)\u001B[0m\u001B[0;34m\u001B[0m\u001B[0;34m\u001B[0m\u001B[0m\n\u001B[0m\u001B[1;32m      2\u001B[0m \u001B[0maverage_lap_frames\u001B[0m\u001B[0;34m[\u001B[0m\u001B[0mname\u001B[0m\u001B[0;34m]\u001B[0m \u001B[0;34m=\u001B[0m \u001B[0mmean\u001B[0m\u001B[0;34m\u001B[0m\u001B[0;34m\u001B[0m\u001B[0m\n\u001B[1;32m      3\u001B[0m \u001B[0mlengths\u001B[0m\u001B[0;34m,\u001B[0m \u001B[0mmean\u001B[0m\u001B[0;34m\u001B[0m\u001B[0;34m\u001B[0m\u001B[0m\n",
      "\u001B[0;31mNameError\u001B[0m: name 'get_lengths_and_mean' is not defined"
     ]
    }
   ],
   "source": [
    "lengths, mean = get_lengths_and_mean(images, 9.25, 10.4)\n",
    "average_lap_frames[name] = mean\n",
    "lengths, mean"
   ],
   "metadata": {
    "collapsed": false,
    "pycharm": {
     "name": "#%%\n"
    }
   }
  },
  {
   "cell_type": "code",
   "execution_count": null,
   "outputs": [],
   "source": [
    "name = tubs[4]\n",
    "images = tub_images[name]\n",
    "plot_image_diffs(images, name)\n",
    "plot_lap_frame_counts(images, name, 9.28, 10)\n"
   ],
   "metadata": {
    "collapsed": false,
    "pycharm": {
     "name": "#%%\n"
    }
   }
  },
  {
   "cell_type": "code",
   "execution_count": null,
   "outputs": [],
   "source": [
    "lengths, mean = get_lengths_and_mean(images, 9.28, 10)\n",
    "average_lap_frames[name] = mean\n",
    "lengths, mean"
   ],
   "metadata": {
    "collapsed": false,
    "pycharm": {
     "name": "#%%\n"
    }
   }
  },
  {
   "cell_type": "code",
   "execution_count": null,
   "outputs": [],
   "source": [
    "name = tubs[5]\n",
    "images = tub_images[name]\n",
    "plot_image_diffs(images, name)\n",
    "plot_lap_frame_counts(images, name, 9.35, 10.0)\n"
   ],
   "metadata": {
    "collapsed": false,
    "pycharm": {
     "name": "#%%\n"
    }
   }
  },
  {
   "cell_type": "code",
   "execution_count": null,
   "outputs": [],
   "source": [
    "lengths, mean = get_lengths_and_mean(images, 9.35, 10.0)\n",
    "average_lap_frames[name] = mean\n",
    "lengths, mean"
   ],
   "metadata": {
    "collapsed": false,
    "pycharm": {
     "name": "#%%\n"
    }
   }
  },
  {
   "cell_type": "code",
   "execution_count": null,
   "outputs": [],
   "source": [
    "name = tubs[6]\n",
    "images = tub_images[name]\n",
    "plot_image_diffs(images, name)\n",
    "plot_lap_frame_counts(images, name, 9.25, 9.8)\n"
   ],
   "metadata": {
    "collapsed": false,
    "pycharm": {
     "name": "#%%\n"
    }
   }
  },
  {
   "cell_type": "code",
   "execution_count": null,
   "outputs": [],
   "source": [
    "lengths, mean = get_lengths_and_mean(images, 9.35, 10.0)\n",
    "average_lap_frames[name] = mean\n",
    "lengths, mean"
   ],
   "metadata": {
    "collapsed": false,
    "pycharm": {
     "name": "#%%\n"
    }
   }
  },
  {
   "cell_type": "code",
   "execution_count": null,
   "outputs": [],
   "source": [
    "name = tubs[7]\n",
    "images = tub_images[name]\n",
    "plot_image_diffs(images, name)\n",
    "plot_lap_frame_counts(images, name, 8.75, 10)\n"
   ],
   "metadata": {
    "collapsed": false,
    "pycharm": {
     "name": "#%%\n"
    }
   }
  },
  {
   "cell_type": "code",
   "execution_count": null,
   "outputs": [],
   "source": [
    "lengths, mean = get_lengths_and_mean(images, 8.75, 10)\n",
    "average_lap_frames[name] = mean\n",
    "lengths, mean"
   ],
   "metadata": {
    "collapsed": false,
    "pycharm": {
     "name": "#%%\n"
    }
   }
  },
  {
   "cell_type": "code",
   "execution_count": null,
   "outputs": [],
   "source": [
    "name = tubs[8]\n",
    "images = tub_images[name]\n",
    "plot_image_diffs(images, name)\n",
    "plot_lap_frame_counts(images, name, 8.75, 9.5)\n"
   ],
   "metadata": {
    "collapsed": false,
    "pycharm": {
     "name": "#%%\n"
    }
   }
  },
  {
   "cell_type": "code",
   "execution_count": null,
   "outputs": [],
   "source": [
    "lengths, mean = get_lengths_and_mean(images, 8.75, 9.5)\n",
    "average_lap_frames[name] = mean\n",
    "lengths, mean"
   ],
   "metadata": {
    "collapsed": false,
    "pycharm": {
     "name": "#%%\n"
    }
   }
  },
  {
   "cell_type": "code",
   "execution_count": null,
   "outputs": [],
   "source": [
    "name = tubs[9]\n",
    "images = tub_images[name]\n",
    "plot_image_diffs(images, name)\n",
    "plot_lap_frame_counts(images, name, 8.8, 10)\n"
   ],
   "metadata": {
    "collapsed": false,
    "pycharm": {
     "name": "#%%\n"
    }
   }
  },
  {
   "cell_type": "code",
   "execution_count": null,
   "outputs": [],
   "source": [
    "lengths, mean = get_lengths_and_mean(images, 8.8, 10)\n",
    "average_lap_frames[name] = mean\n",
    "lengths, mean"
   ],
   "metadata": {
    "collapsed": false,
    "pycharm": {
     "name": "#%%\n"
    }
   }
  },
  {
   "cell_type": "code",
   "execution_count": null,
   "outputs": [],
   "source": [
    "name = tubs[10]\n",
    "images = tub_images[name]\n",
    "plot_image_diffs(images, name)\n",
    "plot_lap_frame_counts(images, name, 9.3, 10)"
   ],
   "metadata": {
    "collapsed": false,
    "pycharm": {
     "name": "#%%\n"
    }
   }
  },
  {
   "cell_type": "code",
   "execution_count": null,
   "outputs": [],
   "source": [
    "lengths, mean = get_lengths_and_mean(images, 9.3, 10)\n",
    "average_lap_frames[name] = mean\n",
    "lengths, mean"
   ],
   "metadata": {
    "collapsed": false,
    "pycharm": {
     "name": "#%%\n"
    }
   }
  },
  {
   "cell_type": "code",
   "execution_count": null,
   "outputs": [],
   "source": [
    "average_lap_frames"
   ],
   "metadata": {
    "collapsed": false,
    "pycharm": {
     "name": "#%%\n"
    }
   }
  },
  {
   "cell_type": "code",
   "source": [
    "from collections import defaultdict\n",
    "\n",
    "speed_averages = defaultdict(list)\n",
    "\n",
    "for tubname, lap_average in average_lap_frames.items():\n",
    "    speed_averages[tubname[-2:]].append(lap_average)\n",
    "speed_averages"
   ],
   "metadata": {
    "collapsed": false,
    "pycharm": {
     "name": "#%%\n"
    }
   },
   "execution_count": null,
   "outputs": []
  },
  {
   "cell_type": "code",
   "execution_count": null,
   "outputs": [],
   "source": [
    "{k:int(np.mean(v)) for k,v in speed_averages.items()}"
   ],
   "metadata": {
    "collapsed": false,
    "pycharm": {
     "name": "#%%\n"
    }
   }
  },
  {
   "cell_type": "code",
   "execution_count": null,
   "outputs": [],
   "source": [
    "speed_image_count = defaultdict(list)\n",
    "\n",
    "for tubname, images in tub_images.items():\n",
    "    print(tubname, len(images))\n",
    "    speed_image_count[tubname[-2:]].append(len(images))\n",
    "speed_image_count"
   ],
   "metadata": {
    "collapsed": false,
    "pycharm": {
     "name": "#%%\n"
    }
   }
  },
  {
   "cell_type": "code",
   "execution_count": null,
   "outputs": [],
   "source": [
    "{k: sum(v) for k,v in speed_image_count.items()}"
   ],
   "metadata": {
    "collapsed": false,
    "pycharm": {
     "name": "#%%\n"
    }
   }
  }
 ],
 "metadata": {
  "kernelspec": {
   "display_name": "Python 3",
   "language": "python",
   "name": "python3"
  },
  "language_info": {
   "codemirror_mode": {
    "name": "ipython",
    "version": 2
   },
   "file_extension": ".py",
   "mimetype": "text/x-python",
   "name": "python",
   "nbconvert_exporter": "python",
   "pygments_lexer": "ipython2",
   "version": "2.7.6"
  }
 },
 "nbformat": 4,
 "nbformat_minor": 0
}