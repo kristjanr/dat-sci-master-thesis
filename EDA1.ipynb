{
 "cells": [
  {
   "cell_type": "markdown",
   "metadata": {
    "pycharm": {
     "name": "#%% md\n"
    }
   },
   "source": [
    "# Exploratory data analysis 1\n",
    "\n",
    "This notebook demonstrates that the ground truth turning angles tend to have more extreme values with higher speeds and with manual driving."
   ]
  },
  {
   "cell_type": "code",
   "execution_count": 2,
   "metadata": {
    "collapsed": false,
    "jupyter": {
     "outputs_hidden": false
    },
    "pycharm": {
     "name": "#%%\n"
    }
   },
   "outputs": [],
   "source": [
    "% load_ext autoreload\n",
    "% autoreload 2\n",
    "import os\n",
    "\n",
    "# do we have the correct env loaded?\n",
    "assert 'donkey2' == os.environ['CONDA_DEFAULT_ENV'], os.environ['CONDA_DEFAULT_ENV']"
   ]
  },
  {
   "cell_type": "code",
   "execution_count": 14,
   "outputs": [
    {
     "data": {
      "text/plain": "((52132,), (39554,))"
     },
     "execution_count": 14,
     "metadata": {},
     "output_type": "execute_result"
    }
   ],
   "source": [
    "import numpy as np\n",
    "\n",
    "fast_manual_gt = np.load(\n",
    "    'open-loop-results/daytime-manual-fast-3d-model-daytime-fast-data-prediction-and-ground-truth.npy')[:, 2]\n",
    "slow_manual_gt = np.load(\n",
    "    'open-loop-results/daytime-manual-slow-3d-model-daytime-slow-data-prediction-and-ground-truth.npy')[:, 2]\n",
    "\n",
    "fast_auto_gt = np.load(\n",
    "    'open-loop-results/nighttime-fast-auto-3d-model-nighttime-fast-auto-data-prediction-and-ground-truth.npy')[:, 2]\n",
    "slow_auto_gt = np.load(\n",
    "    'open-loop-results/nighttime-slow-auto-3d-model-nighttime-slow-auto-data-prediction-and-ground-truth.npy')[:, 2]\n",
    "\n",
    "np.concatenate((fast_manual_gt, slow_manual_gt)).shape, np.concatenate((fast_auto_gt, slow_auto_gt)).shape"
   ],
   "metadata": {
    "collapsed": false,
    "pycharm": {
     "name": "#%%\n"
    }
   }
  },
  {
   "cell_type": "markdown",
   "source": [
    "## Demonstrate that fast driving has more extreme ground truth turning angles\n"
   ],
   "metadata": {
    "collapsed": false,
    "pycharm": {
     "name": "#%% md\n"
    }
   }
  },
  {
   "cell_type": "code",
   "execution_count": 25,
   "outputs": [
    {
     "data": {
      "text/plain": "<Figure size 720x360 with 1 Axes>",
      "image/png": "[encoded data removed]"
     },
     "metadata": {
      "needs_background": "light"
     },
     "output_type": "display_data"
    }
   ],
   "source": [
    "from matplotlib import pyplot as plt\n",
    "\n",
    "\n",
    "def plot_all(name, ground_truths, colors=('lightgrey', 'grey')):\n",
    "    fig, ax = plt.subplots(figsize=(10, 5))\n",
    "    hist, bins, _ = ax.hist(ground_truths.values(), bins=15, density=True, stacked=False, color=colors)\n",
    "    ax.legend(ground_truths.keys(), frameon=False)\n",
    "    plt.xlabel('angle')\n",
    "    plt.ylabel('density')\n",
    "    plt.xticks([-1, 0, 1], ['-1 (left)', '0 (center)', '1 (right)'])\n",
    "    ax.spines['top'].set_visible(False)\n",
    "    ax.spines['right'].set_visible(False)\n",
    "    ax.spines['bottom'].set_visible(False)\n",
    "    ax.spines['left'].set_visible(False)\n",
    "\n",
    "    plt.show()\n",
    "    return hist\n",
    "\n",
    "\n",
    "#\n",
    "#\n",
    "# ax.plot(fast, label='fast', c='lightgrey')\n",
    "# ax.plot(slow, label='slow', c='grey')\n",
    "#\n",
    "# ax.text(length + 100, fast.mean() + 10, f'fast data mean: {fast.mean():.1f}', ha='left', va='center')\n",
    "# ax.hlines(fast.mean(), 0, length, colors='lightgrey', zorder=999)\n",
    "#\n",
    "# ax.text(length + 100, slow.mean() - 10, f'slow data mean: {slow.mean():.1f}', ha='left', va='center')\n",
    "# ax.hlines(slow.mean(), 0, length, colors='lightgrey', zorder=999)\n",
    "#\n",
    "# ax.spines['top'].set_visible(False)\n",
    "# ax.spines['right'].set_visible(False)\n",
    "# ax.spines['bottom'].set_visible(False)\n",
    "# ax.spines['left'].set_visible(False)\n",
    "#\n",
    "# ax.set_xlabel('frame pixel difference (MSE) with the next frame')\n",
    "# ax.set_ylabel('frame number')\n",
    "# ax.set_ylim(0, 500)\n",
    "# ax.legend(frameon=False)\n",
    "\n",
    "hist = plot_all('Fast driving has more extreme ground truth turning angles than slow driving',\n",
    "                dict(fast=fast_auto_gt, slow=slow_auto_gt))\n"
   ],
   "metadata": {
    "collapsed": false,
    "pycharm": {
     "name": "#%%\n"
    }
   }
  },
  {
   "cell_type": "markdown",
   "source": [
    "## Demonstrate that manual driving has more extreme ground truth turning angles"
   ],
   "metadata": {
    "collapsed": false,
    "pycharm": {
     "name": "#%% md\n"
    }
   }
  },
  {
   "cell_type": "code",
   "execution_count": 26,
   "outputs": [
    {
     "data": {
      "text/plain": "<Figure size 720x360 with 1 Axes>",
      "image/png": "[encoded data removed]"
     },
     "metadata": {
      "needs_background": "light"
     },
     "output_type": "display_data"
    }
   ],
   "source": [
    "\n",
    "hist = plot_all('Human driving has more extreme ground truth turning angles than AI driving',\n",
    "                dict(\n",
    "                    human=np.concatenate((fast_manual_gt, slow_manual_gt)),\n",
    "                    AI=np.concatenate((fast_auto_gt, slow_auto_gt))),\n",
    "                colors=('sandybrown', 'saddlebrown'))"
   ],
   "metadata": {
    "collapsed": false,
    "pycharm": {
     "name": "#%%\n"
    }
   }
  },
  {
   "cell_type": "code",
   "execution_count": null,
   "outputs": [],
   "source": [],
   "metadata": {
    "collapsed": false,
    "pycharm": {
     "name": "#%%\n"
    }
   }
  }
 ],
 "metadata": {
  "kernelspec": {
   "display_name": "donkey2",
   "language": "python",
   "name": "donkey2"
  },
  "language_info": {
   "codemirror_mode": {
    "name": "ipython",
    "version": 3
   },
   "file_extension": ".py",
   "mimetype": "text/x-python",
   "name": "python",
   "nbconvert_exporter": "python",
   "pygments_lexer": "ipython3",
   "version": "3.7.11"
  },
  "toc-autonumbering": false
 },
 "nbformat": 4,
 "nbformat_minor": 4
}