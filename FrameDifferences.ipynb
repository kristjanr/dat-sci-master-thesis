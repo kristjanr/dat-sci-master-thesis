{
 "cells": [
  {
   "cell_type": "markdown",
   "metadata": {
    "pycharm": {
     "name": "#%% md\n"
    }
   },
   "source": [
    "# Frame Differences\n",
    "\n",
    "This notebook demonstrates that the images with higher speeds differ more than the images with lower speeds.\n",
    "\n",
    "## Setup\n",
    "- Download and unpack training data\n",
    "- Create DonkeyCar project and load configuration"
   ]
  },
  {
   "cell_type": "code",
   "execution_count": 32,
   "metadata": {
    "collapsed": false,
    "jupyter": {
     "outputs_hidden": false
    },
    "pycharm": {
     "name": "#%%\n"
    }
   },
   "outputs": [
    {
     "name": "stderr",
     "output_type": "stream",
     "text": [
      "UsageError: Line magic function `%` not found.\n"
     ]
    }
   ],
   "source": [
    "% load_ext autoreload\n",
    "% autoreload 2\n",
    "import os\n",
    "\n",
    "# do we have the correct env loaded?\n",
    "assert 'donkey2' == os.environ['CONDA_DEFAULT_ENV'], os.environ['CONDA_DEFAULT_ENV']"
   ]
  },
  {
   "cell_type": "code",
   "execution_count": 33,
   "metadata": {
    "pycharm": {
     "name": "#%%\n"
    }
   },
   "outputs": [
    {
     "name": "stdout",
     "output_type": "stream",
     "text": [
      "/bin/sh: -c: line 0: syntax error near unexpected token `&'\r\n",
      "/bin/sh: -c: line 0: `[! -d \"mycar/\"] & & donkey createcar --path mycar & & cp config / myconfig.py mycar /'\r\n"
     ]
    }
   ],
   "source": [
    "![! -d \"mycar/\"] & & donkey createcar --path mycar & & cp config / myconfig.py mycar /"
   ]
  },
  {
   "cell_type": "code",
   "execution_count": 34,
   "outputs": [],
   "source": [
    "import sys\n",
    "\n",
    "sys.path.append('donkeycar')\n",
    "sys.path.append('src')"
   ],
   "metadata": {
    "collapsed": false,
    "pycharm": {
     "name": "#%%\n"
    }
   }
  },
  {
   "cell_type": "code",
   "execution_count": 35,
   "metadata": {
    "pycharm": {
     "name": "#%%\n"
    }
   },
   "outputs": [
    {
     "name": "stdout",
     "output_type": "stream",
     "text": [
      "loading config file: mycar/config.py\n",
      "loading personal config over-rides from myconfig.py\n"
     ]
    }
   ],
   "source": [
    "import numpy as np\n",
    "import donkeycar as dk\n",
    "\n",
    "cfg = dk.load_config(config_path='mycar/config.py')\n",
    "cfg.SEQUENCE_LENGTH = 2"
   ]
  },
  {
   "cell_type": "markdown",
   "metadata": {
    "pycharm": {
     "name": "#%% md\n"
    }
   },
   "source": [
    "### Load tubs"
   ]
  },
  {
   "cell_type": "code",
   "execution_count": 36,
   "metadata": {
    "collapsed": false,
    "jupyter": {
     "outputs_hidden": false
    },
    "pycharm": {
     "name": "#%%\n"
    }
   },
   "outputs": [
    {
     "name": "stderr",
     "output_type": "stream",
     "text": [
      "INFO:donkeycar.pipeline.types:Loading only the first tub from paths ['data/faster-autodrive']\n"
     ]
    },
    {
     "name": "stdout",
     "output_type": "stream",
     "text": [
      "Using catalog /Users/kristjan.roosild/PycharmProjects/dat-sci-master-thesis/data/faster-autodrive/catalog_20.catalog\n"
     ]
    },
    {
     "name": "stderr",
     "output_type": "stream",
     "text": [
      "INFO:donkeycar.pipeline.types:Loading only the first tub from paths ['data/slower-autodrive']\n"
     ]
    },
    {
     "name": "stdout",
     "output_type": "stream",
     "text": [
      "Using catalog /Users/kristjan.roosild/PycharmProjects/dat-sci-master-thesis/data/slower-autodrive/catalog_20.catalog\n"
     ]
    }
   ],
   "source": [
    "from dataloader import load_records\n",
    "\n",
    "fast_speed_data = load_records('faster-autodrive', cfg, 'data', None)\n",
    "slow_speed_data = load_records('slower-autodrive', cfg, 'data', None)\n"
   ]
  },
  {
   "cell_type": "markdown",
   "source": [
    "### On average, do two consecutive images/frames differ more for bigger speeds?"
   ],
   "metadata": {
    "collapsed": false,
    "pycharm": {
     "name": "#%% md\n"
    }
   }
  },
  {
   "cell_type": "code",
   "execution_count": 37,
   "outputs": [],
   "source": [
    "def mse(image1, image2):\n",
    "    return np.array((image1 - image2) ** 2).mean()\n",
    "\n",
    "\n",
    "def rmse(image1, image2):\n",
    "    return np.sqrt(mse(image1, image2))"
   ],
   "metadata": {
    "collapsed": false,
    "pycharm": {
     "name": "#%%\n"
    }
   }
  },
  {
   "cell_type": "code",
   "execution_count": 38,
   "outputs": [
    {
     "ename": "KeyboardInterrupt",
     "evalue": "",
     "output_type": "error",
     "traceback": [
      "\u001B[0;31m---------------------------------------------------------------------------\u001B[0m",
      "\u001B[0;31mKeyboardInterrupt\u001B[0m                         Traceback (most recent call last)",
      "\u001B[0;32m/var/folders/w9/8pmrmvpd47j_nm5l2j2_d9gh0000gp/T/ipykernel_5662/1624929580.py\u001B[0m in \u001B[0;36m<module>\u001B[0;34m\u001B[0m\n\u001B[1;32m     11\u001B[0m         \u001B[0mfirst_image\u001B[0m \u001B[0;34m=\u001B[0m \u001B[0mtransformation\u001B[0m\u001B[0;34m.\u001B[0m\u001B[0mrun\u001B[0m\u001B[0;34m(\u001B[0m\u001B[0mfirst_image\u001B[0m\u001B[0;34m)\u001B[0m\u001B[0;34m\u001B[0m\u001B[0;34m\u001B[0m\u001B[0m\n\u001B[1;32m     12\u001B[0m \u001B[0;34m\u001B[0m\u001B[0m\n\u001B[0;32m---> 13\u001B[0;31m         \u001B[0msecond_image\u001B[0m \u001B[0;34m=\u001B[0m \u001B[0msecond_tubrecord\u001B[0m\u001B[0;34m.\u001B[0m\u001B[0mimage\u001B[0m\u001B[0;34m(\u001B[0m\u001B[0;34m)\u001B[0m\u001B[0;34m\u001B[0m\u001B[0;34m\u001B[0m\u001B[0m\n\u001B[0m\u001B[1;32m     14\u001B[0m         \u001B[0msecond_image\u001B[0m \u001B[0;34m=\u001B[0m \u001B[0mtransformation\u001B[0m\u001B[0;34m.\u001B[0m\u001B[0mrun\u001B[0m\u001B[0;34m(\u001B[0m\u001B[0msecond_image\u001B[0m\u001B[0;34m)\u001B[0m\u001B[0;34m\u001B[0m\u001B[0;34m\u001B[0m\u001B[0m\n\u001B[1;32m     15\u001B[0m \u001B[0;34m\u001B[0m\u001B[0m\n",
      "\u001B[0;32m~/PycharmProjects/dat-sci-master-thesis/donkeycar/donkeycar/pipeline/types.py\u001B[0m in \u001B[0;36mimage\u001B[0;34m(self, cached, as_nparray)\u001B[0m\n\u001B[1;32m     58\u001B[0m \u001B[0;34m\u001B[0m\u001B[0m\n\u001B[1;32m     59\u001B[0m             \u001B[0;32mif\u001B[0m \u001B[0mas_nparray\u001B[0m\u001B[0;34m:\u001B[0m\u001B[0;34m\u001B[0m\u001B[0;34m\u001B[0m\u001B[0m\n\u001B[0;32m---> 60\u001B[0;31m                 \u001B[0m_image\u001B[0m \u001B[0;34m=\u001B[0m \u001B[0mload_image\u001B[0m\u001B[0;34m(\u001B[0m\u001B[0mfull_path\u001B[0m\u001B[0;34m,\u001B[0m \u001B[0mcfg\u001B[0m\u001B[0;34m=\u001B[0m\u001B[0mself\u001B[0m\u001B[0;34m.\u001B[0m\u001B[0mconfig\u001B[0m\u001B[0;34m)\u001B[0m\u001B[0;34m\u001B[0m\u001B[0;34m\u001B[0m\u001B[0m\n\u001B[0m\u001B[1;32m     61\u001B[0m             \u001B[0;32melse\u001B[0m\u001B[0;34m:\u001B[0m\u001B[0;34m\u001B[0m\u001B[0;34m\u001B[0m\u001B[0m\n\u001B[1;32m     62\u001B[0m                 \u001B[0;31m# If you just want the raw Image\u001B[0m\u001B[0;34m\u001B[0m\u001B[0;34m\u001B[0m\u001B[0;34m\u001B[0m\u001B[0m\n",
      "\u001B[0;32m~/PycharmProjects/dat-sci-master-thesis/donkeycar/donkeycar/utils.py\u001B[0m in \u001B[0;36mload_image\u001B[0;34m(filename, cfg)\u001B[0m\n\u001B[1;32m    190\u001B[0m     \u001B[0;34m:\u001B[0m\u001B[0;32mreturn\u001B[0m \u001B[0mnp\u001B[0m\u001B[0;34m.\u001B[0m\u001B[0mndarray\u001B[0m\u001B[0;34m:\u001B[0m         \u001B[0mnumpy\u001B[0m \u001B[0muint8\u001B[0m \u001B[0mimage\u001B[0m \u001B[0marray\u001B[0m\u001B[0;34m\u001B[0m\u001B[0;34m\u001B[0m\u001B[0m\n\u001B[1;32m    191\u001B[0m     \"\"\"\n\u001B[0;32m--> 192\u001B[0;31m     \u001B[0mimg\u001B[0m \u001B[0;34m=\u001B[0m \u001B[0mload_pil_image\u001B[0m\u001B[0;34m(\u001B[0m\u001B[0mfilename\u001B[0m\u001B[0;34m,\u001B[0m \u001B[0mcfg\u001B[0m\u001B[0;34m)\u001B[0m\u001B[0;34m\u001B[0m\u001B[0;34m\u001B[0m\u001B[0m\n\u001B[0m\u001B[1;32m    193\u001B[0m \u001B[0;34m\u001B[0m\u001B[0m\n\u001B[1;32m    194\u001B[0m     \u001B[0;32mif\u001B[0m \u001B[0;32mnot\u001B[0m \u001B[0mimg\u001B[0m\u001B[0;34m:\u001B[0m\u001B[0;34m\u001B[0m\u001B[0;34m\u001B[0m\u001B[0m\n",
      "\u001B[0;32m~/PycharmProjects/dat-sci-master-thesis/donkeycar/donkeycar/utils.py\u001B[0m in \u001B[0;36mload_pil_image\u001B[0;34m(filename, cfg)\u001B[0m\n\u001B[1;32m    170\u001B[0m     \"\"\"\n\u001B[1;32m    171\u001B[0m     \u001B[0;32mtry\u001B[0m\u001B[0;34m:\u001B[0m\u001B[0;34m\u001B[0m\u001B[0;34m\u001B[0m\u001B[0m\n\u001B[0;32m--> 172\u001B[0;31m         \u001B[0mimg\u001B[0m \u001B[0;34m=\u001B[0m \u001B[0mImage\u001B[0m\u001B[0;34m.\u001B[0m\u001B[0mopen\u001B[0m\u001B[0;34m(\u001B[0m\u001B[0mfilename\u001B[0m\u001B[0;34m)\u001B[0m\u001B[0;34m\u001B[0m\u001B[0;34m\u001B[0m\u001B[0m\n\u001B[0m\u001B[1;32m    173\u001B[0m         \u001B[0;32mif\u001B[0m \u001B[0mimg\u001B[0m\u001B[0;34m.\u001B[0m\u001B[0mheight\u001B[0m \u001B[0;34m!=\u001B[0m \u001B[0mcfg\u001B[0m\u001B[0;34m.\u001B[0m\u001B[0mIMAGE_H\u001B[0m \u001B[0;32mor\u001B[0m \u001B[0mimg\u001B[0m\u001B[0;34m.\u001B[0m\u001B[0mwidth\u001B[0m \u001B[0;34m!=\u001B[0m \u001B[0mcfg\u001B[0m\u001B[0;34m.\u001B[0m\u001B[0mIMAGE_W\u001B[0m\u001B[0;34m:\u001B[0m\u001B[0;34m\u001B[0m\u001B[0;34m\u001B[0m\u001B[0m\n\u001B[1;32m    174\u001B[0m             \u001B[0mimg\u001B[0m \u001B[0;34m=\u001B[0m \u001B[0mimg\u001B[0m\u001B[0;34m.\u001B[0m\u001B[0mresize\u001B[0m\u001B[0;34m(\u001B[0m\u001B[0;34m(\u001B[0m\u001B[0mcfg\u001B[0m\u001B[0;34m.\u001B[0m\u001B[0mIMAGE_W\u001B[0m\u001B[0;34m,\u001B[0m \u001B[0mcfg\u001B[0m\u001B[0;34m.\u001B[0m\u001B[0mIMAGE_H\u001B[0m\u001B[0;34m)\u001B[0m\u001B[0;34m)\u001B[0m\u001B[0;34m\u001B[0m\u001B[0;34m\u001B[0m\u001B[0m\n",
      "\u001B[0;32m~/opt/miniconda3/envs/donkey2/lib/python3.7/site-packages/PIL/Image.py\u001B[0m in \u001B[0;36mopen\u001B[0;34m(fp, mode, formats)\u001B[0m\n\u001B[1;32m   2951\u001B[0m \u001B[0;34m\u001B[0m\u001B[0m\n\u001B[1;32m   2952\u001B[0m     \u001B[0;32mif\u001B[0m \u001B[0mfilename\u001B[0m\u001B[0;34m:\u001B[0m\u001B[0;34m\u001B[0m\u001B[0;34m\u001B[0m\u001B[0m\n\u001B[0;32m-> 2953\u001B[0;31m         \u001B[0mfp\u001B[0m \u001B[0;34m=\u001B[0m \u001B[0mbuiltins\u001B[0m\u001B[0;34m.\u001B[0m\u001B[0mopen\u001B[0m\u001B[0;34m(\u001B[0m\u001B[0mfilename\u001B[0m\u001B[0;34m,\u001B[0m \u001B[0;34m\"rb\"\u001B[0m\u001B[0;34m)\u001B[0m\u001B[0;34m\u001B[0m\u001B[0;34m\u001B[0m\u001B[0m\n\u001B[0m\u001B[1;32m   2954\u001B[0m         \u001B[0mexclusive_fp\u001B[0m \u001B[0;34m=\u001B[0m \u001B[0;32mTrue\u001B[0m\u001B[0;34m\u001B[0m\u001B[0;34m\u001B[0m\u001B[0m\n\u001B[1;32m   2955\u001B[0m \u001B[0;34m\u001B[0m\u001B[0m\n",
      "\u001B[0;31mKeyboardInterrupt\u001B[0m: "
     ]
    }
   ],
   "source": [
    "from donkeycar.pipeline.augmentations import ImageAugmentation\n",
    "from skimage.metrics import normalized_root_mse, mean_squared_error\n",
    "import pandas as pd\n",
    "\n",
    "transformation = ImageAugmentation(cfg, 'TRANSFORMATIONS')\n",
    "tub_records = dict(fast=fast_speed_data, slow=slow_speed_data)\n",
    "for_df = []\n",
    "for speed, records in tub_records.items():\n",
    "    for (first_tubrecord, second_tubrecord) in records:\n",
    "        first_image = first_tubrecord.image()\n",
    "        first_image = transformation.run(first_image)\n",
    "\n",
    "        second_image = second_tubrecord.image()\n",
    "        second_image = transformation.run(second_image)\n",
    "\n",
    "        my_mse = mse(second_image, first_image)\n",
    "        mse_ = mean_squared_error(second_image, first_image)\n",
    "        rmse_ = rmse(second_image, first_image)\n",
    "        nrmse = normalized_root_mse(second_image, first_image)\n",
    "\n",
    "        tubrecord_index = first_tubrecord.underlying['_index']\n",
    "        for_df.append([tubrecord_index, speed, mse_, rmse_, nrmse, my_mse])\n",
    "\n",
    "df = pd.DataFrame(for_df, columns=['tubrecord_index', 'speed', 'MSE', 'RMSE', 'NRMSE', 'MY_MSE'])\n",
    "df"
   ],
   "metadata": {
    "collapsed": false,
    "pycharm": {
     "name": "#%%\n"
    }
   }
  },
  {
   "cell_type": "markdown",
   "source": [],
   "metadata": {
    "collapsed": false,
    "pycharm": {
     "name": "#%% md\n"
    }
   }
  },
  {
   "cell_type": "code",
   "execution_count": null,
   "outputs": [],
   "source": [
    "df.groupby('speed').mean()"
   ],
   "metadata": {
    "collapsed": false,
    "pycharm": {
     "name": "#%%\n"
    }
   }
  },
  {
   "cell_type": "code",
   "execution_count": null,
   "outputs": [],
   "source": [
    "df.to_csv('image_diffs.csv.gz', index=False)\n",
    "\n",
    "df.describe()"
   ],
   "metadata": {
    "collapsed": false,
    "pycharm": {
     "name": "#%%\n"
    }
   }
  },
  {
   "cell_type": "code",
   "execution_count": 39,
   "outputs": [
    {
     "data": {
      "text/plain": "(speed\n fast    38.238296\n slow    22.354597\n Name: MSE, dtype: float64,\n speed\n fast    4.13226\n slow    3.65801\n Name: RMSE, dtype: float64,\n speed\n fast    0.043525\n slow    0.033508\n Name: NRMSE, dtype: float64)"
     },
     "execution_count": 39,
     "metadata": {},
     "output_type": "execute_result"
    }
   ],
   "source": [
    "import pandas as pd\n",
    "\n",
    "df = pd.read_csv('image_diffs.csv.gz')\n",
    "\n",
    "df.groupby('speed').MSE.mean(), df.groupby('speed').RMSE.mean(), df.groupby('speed').NRMSE.mean()"
   ],
   "metadata": {
    "collapsed": false,
    "pycharm": {
     "name": "#%%\n"
    }
   }
  },
  {
   "cell_type": "code",
   "execution_count": 40,
   "outputs": [
    {
     "data": {
      "text/plain": "       tubrecord_index           MSE          RMSE         NRMSE        MY_MSE\ncount     39564.000000  39564.000000  39564.000000  39564.000000  39564.000000\nmean      10158.655394     30.086077      3.888854      0.038384     16.037619\nstd        5833.540996     23.977366      0.956273      0.013705      8.879700\nmin           0.000000      0.000000      0.000000      0.000000      0.000000\n25%        5104.000000     14.606745      3.343151      0.028243     11.176658\n50%       10199.500000     21.762483      3.688691      0.035253     13.606441\n75%       15145.000000     37.550469      4.196015      0.045332     17.606545\nmax       20469.000000    805.490972     10.738088      0.217695    115.306528",
      "text/html": "<div>\n<style scoped>\n    .dataframe tbody tr th:only-of-type {\n        vertical-align: middle;\n    }\n\n    .dataframe tbody tr th {\n        vertical-align: top;\n    }\n\n    .dataframe thead th {\n        text-align: right;\n    }\n</style>\n<table border=\"1\" class=\"dataframe\">\n  <thead>\n    <tr style=\"text-align: right;\">\n      <th></th>\n      <th>tubrecord_index</th>\n      <th>MSE</th>\n      <th>RMSE</th>\n      <th>NRMSE</th>\n      <th>MY_MSE</th>\n    </tr>\n  </thead>\n  <tbody>\n    <tr>\n      <th>count</th>\n      <td>39564.000000</td>\n      <td>39564.000000</td>\n      <td>39564.000000</td>\n      <td>39564.000000</td>\n      <td>39564.000000</td>\n    </tr>\n    <tr>\n      <th>mean</th>\n      <td>10158.655394</td>\n      <td>30.086077</td>\n      <td>3.888854</td>\n      <td>0.038384</td>\n      <td>16.037619</td>\n    </tr>\n    <tr>\n      <th>std</th>\n      <td>5833.540996</td>\n      <td>23.977366</td>\n      <td>0.956273</td>\n      <td>0.013705</td>\n      <td>8.879700</td>\n    </tr>\n    <tr>\n      <th>min</th>\n      <td>0.000000</td>\n      <td>0.000000</td>\n      <td>0.000000</td>\n      <td>0.000000</td>\n      <td>0.000000</td>\n    </tr>\n    <tr>\n      <th>25%</th>\n      <td>5104.000000</td>\n      <td>14.606745</td>\n      <td>3.343151</td>\n      <td>0.028243</td>\n      <td>11.176658</td>\n    </tr>\n    <tr>\n      <th>50%</th>\n      <td>10199.500000</td>\n      <td>21.762483</td>\n      <td>3.688691</td>\n      <td>0.035253</td>\n      <td>13.606441</td>\n    </tr>\n    <tr>\n      <th>75%</th>\n      <td>15145.000000</td>\n      <td>37.550469</td>\n      <td>4.196015</td>\n      <td>0.045332</td>\n      <td>17.606545</td>\n    </tr>\n    <tr>\n      <th>max</th>\n      <td>20469.000000</td>\n      <td>805.490972</td>\n      <td>10.738088</td>\n      <td>0.217695</td>\n      <td>115.306528</td>\n    </tr>\n  </tbody>\n</table>\n</div>"
     },
     "execution_count": 40,
     "metadata": {},
     "output_type": "execute_result"
    }
   ],
   "source": [
    "df.describe()\n"
   ],
   "metadata": {
    "collapsed": false,
    "pycharm": {
     "name": "#%%\n"
    }
   }
  },
  {
   "cell_type": "code",
   "execution_count": 82,
   "outputs": [
    {
     "data": {
      "text/plain": "<Figure size 720x360 with 1 Axes>",
      "image/png": "[encoded data removed]"
     },
     "metadata": {
      "needs_background": "light"
     },
     "output_type": "display_data"
    }
   ],
   "source": [
    "from matplotlib import pyplot as plt\n",
    "\n",
    "fig, ax = plt.subplots(figsize=(10, 5))\n",
    "\n",
    "fast = df[df.speed == 'fast'].MSE\n",
    "slow = df[df.speed == 'slow'].reset_index().MSE\n",
    "length = max((len(fast), len(slow)))\n",
    "\n",
    "ax.plot(fast, label='fast', c='lightgrey')\n",
    "ax.plot(slow, label='slow', c='grey')\n",
    "\n",
    "ax.text(length + 100, fast.mean() + 10, f'fast data mean: {fast.mean():.1f}', ha='left', va='center')\n",
    "ax.hlines(fast.mean(), 0, length, colors='lightgrey', zorder=999)\n",
    "\n",
    "ax.text(length + 100, slow.mean() - 10, f'slow data mean: {slow.mean():.1f}', ha='left', va='center')\n",
    "ax.hlines(slow.mean(), 0, length, colors='lightgrey', zorder=999)\n",
    "\n",
    "ax.spines['top'].set_visible(False)\n",
    "ax.spines['right'].set_visible(False)\n",
    "ax.spines['bottom'].set_visible(False)\n",
    "ax.spines['left'].set_visible(False)\n",
    "ax.legend(frameon=False)\n",
    "\n",
    "ax.set_xlabel('Frame number')\n",
    "ax.set_ylabel('Frame pixel difference (MSE) with the next frame')\n",
    "ax.set_ylim(0, 500)\n",
    "pass\n"
   ],
   "metadata": {
    "collapsed": false,
    "pycharm": {
     "name": "#%%\n"
    }
   }
  },
  {
   "cell_type": "markdown",
   "source": [
    "### Conclusion\n",
    "Images are more different for faster speeds"
   ],
   "metadata": {
    "collapsed": false,
    "pycharm": {
     "name": "#%% md\n"
    }
   }
  },
  {
   "cell_type": "markdown",
   "source": [
    "## Manual lap frame count\n",
    "\n"
   ],
   "metadata": {
    "collapsed": false,
    "pycharm": {
     "name": "#%% md\n"
    }
   }
  },
  {
   "cell_type": "code",
   "execution_count": 83,
   "outputs": [
    {
     "data": {
      "text/plain": "(64, 296.6875, 16.157307750674306, 41, 485.1951219512195, 37.447992887824995)"
     },
     "execution_count": 83,
     "metadata": {},
     "output_type": "execute_result"
    }
   ],
   "source": [
    "import numpy as np\n",
    "fast = [282, 275, 268, 281, 280, 318, 336, 306, 281, 283, 290, 304, 338, 313, 294, 295, 308, 294, 275, 297, 278, 282,\n",
    "        296, 318, 304, 291, 299, 302, 300, 309, 269, 284, 293, 286, 278, 292, 285, 291, 300, 295, 291, 293, 291, 286,\n",
    "        293, 287, 299, 294, 292, 298, 295, 298, 308, 300, 293, 288, 316, 360, 314, 319, 323, 296, 298, 286]\n",
    "\n",
    "slow = [552, 471, 576, 516, 439, 453, 475, 462, 489, 505, 496, 549, 519, 527, 526, 430, 382, 481, 499, 483, 514, 526,\n",
    "        554, 495, 424, 454, 484, 481, 481, 483, 485, 480, 468, 484, 464, 468, 479, 448, 484, 444, 463]\n",
    "\n",
    "\n",
    "len(fast), np.mean(fast), np.std(fast), len(slow), np.mean(slow), np.std(slow)"
   ],
   "metadata": {
    "collapsed": false,
    "pycharm": {
     "name": "#%%\n"
    }
   }
  },
  {
   "cell_type": "code",
   "execution_count": 84,
   "outputs": [
    {
     "data": {
      "text/plain": "<Figure size 720x360 with 1 Axes>",
      "image/png": "[encoded data removed]"
     },
     "metadata": {
      "needs_background": "light"
     },
     "output_type": "display_data"
    }
   ],
   "source": [
    "\n",
    "from matplotlib import pyplot as plt\n",
    "\n",
    "\n",
    "fast = np.array(fast)\n",
    "slow = np.array(slow)\n",
    "\n",
    "\n",
    "def plot_(fast, slow):\n",
    "    fig, ax = plt.subplots(figsize=(10, 5))\n",
    "    length = max((len(fast), len(slow)))\n",
    "    ax.bar(range(len(slow)), slow, label='slow', color='grey')\n",
    "    ax.bar(range(len(fast)), fast, label='fast', color='lightgrey', alpha=0.6)\n",
    "\n",
    "    ax.text(length + 0.5, fast.mean(), f'fast mean: {fast.mean():.1f}', ha='left', va='center')\n",
    "    ax.hlines(fast.mean(), 0, length, colors='grey', zorder=999)\n",
    "    ax.text(length + 0.5, slow.mean(), f'slow mean: {slow.mean():.1f}', ha='left', va='center')\n",
    "    ax.hlines(slow.mean(), 0, length, colors='grey', zorder=999)\n",
    "\n",
    "    ax.spines['top'].set_visible(False)\n",
    "    ax.spines['right'].set_visible(False)\n",
    "    ax.spines['bottom'].set_visible(False)\n",
    "    ax.spines['left'].set_visible(False)\n",
    "    ax.set_xlabel('Lap number')\n",
    "    ax.set_ylabel('Number of frames')\n",
    "    ax.legend(frameon=False)\n",
    "\n",
    "\n",
    "plot_(fast, slow)"
   ],
   "metadata": {
    "collapsed": false,
    "pycharm": {
     "name": "#%%\n"
    }
   }
  },
  {
   "cell_type": "code",
   "execution_count": null,
   "outputs": [],
   "source": [],
   "metadata": {
    "collapsed": false,
    "pycharm": {
     "name": "#%%\n"
    }
   }
  }
 ],
 "metadata": {
  "kernelspec": {
   "display_name": "donkey2",
   "language": "python",
   "name": "donkey2"
  },
  "language_info": {
   "codemirror_mode": {
    "name": "ipython",
    "version": 3
   },
   "file_extension": ".py",
   "mimetype": "text/x-python",
   "name": "python",
   "nbconvert_exporter": "python",
   "pygments_lexer": "ipython3",
   "version": "3.7.11"
  },
  "toc-autonumbering": false
 },
 "nbformat": 4,
 "nbformat_minor": 4
}