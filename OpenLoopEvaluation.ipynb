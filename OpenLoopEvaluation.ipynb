{
 "cells": [
  {
   "cell_type": "markdown",
   "metadata": {
    "pycharm": {
     "name": "#%% md\n"
    }
   },
   "source": [
    "# Open-loop Evaluation\n",
    "\n",
    "### Load ground truths and predictions"
   ]
  },
  {
   "cell_type": "code",
   "execution_count": 1,
   "outputs": [],
   "source": [
    "import os\n",
    "# do we have the correct env loaded?\n",
    "assert 'donkey' == os.environ['CONDA_DEFAULT_ENV'], os.environ['CONDA_DEFAULT_ENV']"
   ],
   "metadata": {
    "collapsed": false,
    "pycharm": {
     "name": "#%%\n"
    }
   }
  },
  {
   "cell_type": "code",
   "execution_count": 2,
   "outputs": [],
   "source": [
    "import numpy as np\n",
    "fast_model_fast_data_3d = np.load('open-loop-results/nighttime-fast-auto-3d-model-nighttime-fast-auto-data-prediction-and-ground-truth.npy')\n",
    "fast_model_slow_data_3d = np.load('open-loop-results/nighttime-fast-auto-3d-model-nighttime-slow-auto-data-prediction-and-ground-truth.npy')\n",
    "slow_model_fast_data_3d = np.load('open-loop-results/nighttime-slow-auto-3d-model-nighttime-fast-auto-data-prediction-and-ground-truth.npy')\n",
    "slow_model_slow_data_3d = np.load('open-loop-results/nighttime-slow-auto-3d-model-nighttime-slow-auto-data-prediction-and-ground-truth.npy')\n",
    "fast_model_fast_data_linear = np.loadtxt('open-loop-results/nighttime-fast-auto-linear-model-nighttime-fast-auto-data-prediction-and-ground-truth.csv.gz')\n",
    "fast_model_slow_data_linear = np.loadtxt('open-loop-results/nighttime-fast-auto-linear-model-nighttime-slow-auto-data-prediction-and-ground-truth.csv.gz')\n",
    "slow_model_fast_data_linear = np.loadtxt('open-loop-results/nighttime-slow-auto-linear-model-nighttime-fast-auto-data-prediction-and-ground-truth.csv.gz')\n",
    "slow_model_slow_data_linear = np.loadtxt('open-loop-results/nighttime-slow-auto-linear-model-nighttime-slow-auto-data-prediction-and-ground-truth.csv.gz')\n"
   ],
   "metadata": {
    "collapsed": false,
    "pycharm": {
     "name": "#%%\n"
    }
   }
  },
  {
   "cell_type": "code",
   "execution_count": 3,
   "outputs": [],
   "source": [
    "preds_and_ground_truths = dict(\n",
    "    fast_fast_3d=fast_model_fast_data_3d,\n",
    "    slow_fast_3d=slow_model_fast_data_3d,\n",
    "    fast_fast_linear=fast_model_fast_data_linear,\n",
    "    slow_fast_linear=slow_model_fast_data_linear,\n",
    "    fast_slow_3d=fast_model_slow_data_3d,\n",
    "    slow_slow_3d=slow_model_slow_data_3d,\n",
    "    fast_slow_linear=fast_model_slow_data_linear,\n",
    "    slow_slow_linear=slow_model_slow_data_linear,\n",
    ")"
   ],
   "metadata": {
    "collapsed": false,
    "pycharm": {
     "name": "#%%\n"
    }
   }
  },
  {
   "cell_type": "markdown",
   "source": [
    "### Arrange the ground truths and test set predictions into a Pandas Dataframe for easier analysis"
   ],
   "metadata": {
    "collapsed": false,
    "pycharm": {
     "name": "#%% md\n"
    }
   }
  },
  {
   "cell_type": "code",
   "execution_count": 6,
   "outputs": [
    {
     "data": {
      "text/plain": "       model speed model type data speed  ground_truth_angle  predicted_angle\n0             fast         3d       fast            0.034974         0.452513\n1             fast         3d       fast            0.043523         0.473522\n2             fast         3d       fast            0.043523         0.482327\n3             fast         3d       fast            0.071512         0.474770\n4             fast         3d       fast            0.098842         0.491792\n...            ...        ...        ...                 ...              ...\n158251        slow     linear       slow            0.095727         0.048836\n158252        slow     linear       slow            0.109439         0.068060\n158253        slow     linear       slow            0.127183         0.073969\n158254        slow     linear       slow            0.115749         0.068338\n158255        slow     linear       slow            0.121716         0.067460\n\n[158256 rows x 5 columns]",
      "text/html": "<div>\n<style scoped>\n    .dataframe tbody tr th:only-of-type {\n        vertical-align: middle;\n    }\n\n    .dataframe tbody tr th {\n        vertical-align: top;\n    }\n\n    .dataframe thead th {\n        text-align: right;\n    }\n</style>\n<table border=\"1\" class=\"dataframe\">\n  <thead>\n    <tr style=\"text-align: right;\">\n      <th></th>\n      <th>model speed</th>\n      <th>model type</th>\n      <th>data speed</th>\n      <th>ground_truth_angle</th>\n      <th>predicted_angle</th>\n    </tr>\n  </thead>\n  <tbody>\n    <tr>\n      <th>0</th>\n      <td>fast</td>\n      <td>3d</td>\n      <td>fast</td>\n      <td>0.034974</td>\n      <td>0.452513</td>\n    </tr>\n    <tr>\n      <th>1</th>\n      <td>fast</td>\n      <td>3d</td>\n      <td>fast</td>\n      <td>0.043523</td>\n      <td>0.473522</td>\n    </tr>\n    <tr>\n      <th>2</th>\n      <td>fast</td>\n      <td>3d</td>\n      <td>fast</td>\n      <td>0.043523</td>\n      <td>0.482327</td>\n    </tr>\n    <tr>\n      <th>3</th>\n      <td>fast</td>\n      <td>3d</td>\n      <td>fast</td>\n      <td>0.071512</td>\n      <td>0.474770</td>\n    </tr>\n    <tr>\n      <th>4</th>\n      <td>fast</td>\n      <td>3d</td>\n      <td>fast</td>\n      <td>0.098842</td>\n      <td>0.491792</td>\n    </tr>\n    <tr>\n      <th>...</th>\n      <td>...</td>\n      <td>...</td>\n      <td>...</td>\n      <td>...</td>\n      <td>...</td>\n    </tr>\n    <tr>\n      <th>158251</th>\n      <td>slow</td>\n      <td>linear</td>\n      <td>slow</td>\n      <td>0.095727</td>\n      <td>0.048836</td>\n    </tr>\n    <tr>\n      <th>158252</th>\n      <td>slow</td>\n      <td>linear</td>\n      <td>slow</td>\n      <td>0.109439</td>\n      <td>0.068060</td>\n    </tr>\n    <tr>\n      <th>158253</th>\n      <td>slow</td>\n      <td>linear</td>\n      <td>slow</td>\n      <td>0.127183</td>\n      <td>0.073969</td>\n    </tr>\n    <tr>\n      <th>158254</th>\n      <td>slow</td>\n      <td>linear</td>\n      <td>slow</td>\n      <td>0.115749</td>\n      <td>0.068338</td>\n    </tr>\n    <tr>\n      <th>158255</th>\n      <td>slow</td>\n      <td>linear</td>\n      <td>slow</td>\n      <td>0.121716</td>\n      <td>0.067460</td>\n    </tr>\n  </tbody>\n</table>\n<p>158256 rows × 5 columns</p>\n</div>"
     },
     "execution_count": 6,
     "metadata": {},
     "output_type": "execute_result"
    }
   ],
   "source": [
    "import pandas as pd\n",
    "\n",
    "records = []\n",
    "\n",
    "for name, data in preds_and_ground_truths.items():\n",
    "    model_speed = name.split('_')[0]\n",
    "    model_type = name.split('_')[2]\n",
    "    data_speed = name.split('_')[1]\n",
    "    for (gt, pred) in zip(data[:, data.shape[1] - 1], data[:, data.shape[1] - 2]):\n",
    "        dd = dict()\n",
    "        dd['model speed'] = model_speed\n",
    "        dd['model type'] = model_type\n",
    "        dd['data speed'] = data_speed\n",
    "        dd['ground_truth_angle'] = gt\n",
    "        dd['predicted_angle'] = pred\n",
    "        records.append(dd)\n",
    "df = pd.DataFrame.from_records(records)\n",
    "\n",
    "df.to_csv('open-loop-results/gt_and_preds.csv.gz')\n",
    "df"
   ],
   "metadata": {
    "collapsed": false,
    "pycharm": {
     "name": "#%%\n"
    }
   }
  },
  {
   "cell_type": "code",
   "execution_count": 15,
   "outputs": [],
   "source": [
    "import pandas as pd\n",
    "\n",
    "df = pd.read_csv('open-loop-results/gt_and_preds.csv.gz', index_col=0)"
   ],
   "metadata": {
    "collapsed": false,
    "pycharm": {
     "name": "#%%\n"
    }
   }
  },
  {
   "cell_type": "code",
   "execution_count": 16,
   "outputs": [],
   "source": [
    "df['mean absolute error'] = abs(df.predicted_angle - df.ground_truth_angle)\n",
    "df = df.drop(columns=['ground_truth_angle', 'predicted_angle'])"
   ],
   "metadata": {
    "collapsed": false,
    "pycharm": {
     "name": "#%%\n"
    }
   }
  },
  {
   "cell_type": "markdown",
   "source": [
    "### Table 1 in Chapter 4.2 Open-loop evaluation"
   ],
   "metadata": {
    "collapsed": false,
    "pycharm": {
     "name": "#%% md\n"
    }
   }
  },
  {
   "cell_type": "code",
   "execution_count": 19,
   "outputs": [
    {
     "data": {
      "text/plain": "                                   mean absolute error\nmodel speed model type data speed                     \nfast        linear     fast                   0.023740\n                       slow                   0.026628\nslow        linear     fast                   0.047309\n                       slow                   0.023205",
      "text/html": "<div>\n<style scoped>\n    .dataframe tbody tr th:only-of-type {\n        vertical-align: middle;\n    }\n\n    .dataframe tbody tr th {\n        vertical-align: top;\n    }\n\n    .dataframe thead th {\n        text-align: right;\n    }\n</style>\n<table border=\"1\" class=\"dataframe\">\n  <thead>\n    <tr style=\"text-align: right;\">\n      <th></th>\n      <th></th>\n      <th></th>\n      <th>mean absolute error</th>\n    </tr>\n    <tr>\n      <th>model speed</th>\n      <th>model type</th>\n      <th>data speed</th>\n      <th></th>\n    </tr>\n  </thead>\n  <tbody>\n    <tr>\n      <th rowspan=\"2\" valign=\"top\">fast</th>\n      <th rowspan=\"2\" valign=\"top\">linear</th>\n      <th>fast</th>\n      <td>0.023740</td>\n    </tr>\n    <tr>\n      <th>slow</th>\n      <td>0.026628</td>\n    </tr>\n    <tr>\n      <th rowspan=\"2\" valign=\"top\">slow</th>\n      <th rowspan=\"2\" valign=\"top\">linear</th>\n      <th>fast</th>\n      <td>0.047309</td>\n    </tr>\n    <tr>\n      <th>slow</th>\n      <td>0.023205</td>\n    </tr>\n  </tbody>\n</table>\n</div>"
     },
     "execution_count": 19,
     "metadata": {},
     "output_type": "execute_result"
    }
   ],
   "source": [
    "df[df['model type']=='linear'].groupby(['model speed', 'model type', 'data speed']).mean()"
   ],
   "metadata": {
    "collapsed": false,
    "pycharm": {
     "name": "#%%\n"
    }
   }
  },
  {
   "cell_type": "markdown",
   "source": [
    "### Table 2 in Chapter 4.2 Open-loop evaluation\n"
   ],
   "metadata": {
    "collapsed": false,
    "pycharm": {
     "name": "#%% md\n"
    }
   }
  },
  {
   "cell_type": "code",
   "execution_count": 26,
   "outputs": [
    {
     "data": {
      "text/plain": "                                   mean absolute error\nmodel speed model type data speed                     \nfast        3d         fast                   0.061224\n                       slow                   0.061423\nslow        3d         fast                   0.129813\n                       slow                   0.088841",
      "text/html": "<div>\n<style scoped>\n    .dataframe tbody tr th:only-of-type {\n        vertical-align: middle;\n    }\n\n    .dataframe tbody tr th {\n        vertical-align: top;\n    }\n\n    .dataframe thead th {\n        text-align: right;\n    }\n</style>\n<table border=\"1\" class=\"dataframe\">\n  <thead>\n    <tr style=\"text-align: right;\">\n      <th></th>\n      <th></th>\n      <th></th>\n      <th>mean absolute error</th>\n    </tr>\n    <tr>\n      <th>model speed</th>\n      <th>model type</th>\n      <th>data speed</th>\n      <th></th>\n    </tr>\n  </thead>\n  <tbody>\n    <tr>\n      <th rowspan=\"2\" valign=\"top\">fast</th>\n      <th rowspan=\"2\" valign=\"top\">3d</th>\n      <th>fast</th>\n      <td>0.061224</td>\n    </tr>\n    <tr>\n      <th>slow</th>\n      <td>0.061423</td>\n    </tr>\n    <tr>\n      <th rowspan=\"2\" valign=\"top\">slow</th>\n      <th rowspan=\"2\" valign=\"top\">3d</th>\n      <th>fast</th>\n      <td>0.129813</td>\n    </tr>\n    <tr>\n      <th>slow</th>\n      <td>0.088841</td>\n    </tr>\n  </tbody>\n</table>\n</div>"
     },
     "execution_count": 26,
     "metadata": {},
     "output_type": "execute_result"
    }
   ],
   "source": [
    "df[df['model type']=='3d'].groupby(['model speed', 'model type', 'data speed']).mean()"
   ],
   "metadata": {
    "collapsed": false,
    "pycharm": {
     "name": "#%%\n"
    }
   }
  },
  {
   "cell_type": "markdown",
   "source": [
    "### Table 3 in Chapter 4.2 Open-loop evaluation\n"
   ],
   "metadata": {
    "collapsed": false,
    "pycharm": {
     "name": "#%% md\n"
    }
   }
  },
  {
   "cell_type": "code",
   "execution_count": 29,
   "outputs": [
    {
     "name": "stderr",
     "output_type": "stream",
     "text": [
      "/Users/kristjan.roosild/opt/miniconda3/envs/donkey2/lib/python3.7/site-packages/ipykernel_launcher.py:2: UserWarning: Boolean Series key will be reindexed to match DataFrame index.\n",
      "  \n",
      "/Users/kristjan.roosild/opt/miniconda3/envs/donkey2/lib/python3.7/site-packages/ipykernel_launcher.py:3: UserWarning: Boolean Series key will be reindexed to match DataFrame index.\n",
      "  This is separate from the ipykernel package so we can avoid doing imports until\n",
      "/Users/kristjan.roosild/opt/miniconda3/envs/donkey2/lib/python3.7/site-packages/ipykernel_launcher.py:4: UserWarning: Boolean Series key will be reindexed to match DataFrame index.\n",
      "  after removing the cwd from sys.path.\n",
      "/Users/kristjan.roosild/opt/miniconda3/envs/donkey2/lib/python3.7/site-packages/ipykernel_launcher.py:5: UserWarning: Boolean Series key will be reindexed to match DataFrame index.\n",
      "  \"\"\"\n"
     ]
    },
    {
     "data": {
      "text/plain": "[('single-frame known', 0.02346547094792242),\n ('single-frame novel', 0.03669640507885856),\n ('multi-frame known', 0.07540050935184402),\n ('multi-frame novel', 0.09470661164720932)]"
     },
     "execution_count": 29,
     "metadata": {},
     "output_type": "execute_result"
    }
   ],
   "source": [
    "[\n",
    "('single-frame known', float(df[df['model type']=='linear'][df['model speed'] == df['data speed']].mean()), ),\n",
    "('single-frame novel', float(df[df['model type']=='linear'][df['model speed'] != df['data speed']].mean()), ),\n",
    "('multi-frame known', float(df[df['model type']=='3d'][df['model speed'] == df['data speed']].mean()), ),\n",
    "('multi-frame novel', float(df[df['model type']=='3d'][df['model speed'] != df['data speed']].mean()), ),\n",
    "]\n"
   ],
   "metadata": {
    "collapsed": false,
    "pycharm": {
     "name": "#%%\n"
    }
   }
  },
  {
   "cell_type": "code",
   "execution_count": null,
   "outputs": [],
   "source": [],
   "metadata": {
    "collapsed": false,
    "pycharm": {
     "name": "#%%\n"
    }
   }
  }
 ],
 "metadata": {
  "kernelspec": {
   "display_name": "donkey2",
   "language": "python",
   "name": "donkey2"
  },
  "language_info": {
   "codemirror_mode": {
    "name": "ipython",
    "version": 3
   },
   "file_extension": ".py",
   "mimetype": "text/x-python",
   "name": "python",
   "nbconvert_exporter": "python",
   "pygments_lexer": "ipython3",
   "version": "3.7.11"
  },
  "toc-autonumbering": false
 },
 "nbformat": 4,
 "nbformat_minor": 4
}