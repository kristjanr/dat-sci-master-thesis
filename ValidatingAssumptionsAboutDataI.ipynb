{
 "cells": [
  {
   "cell_type": "markdown",
   "source": [
    "# Validating Assumptions About Data - first part\n",
    "\n",
    "This notebook demonstrates that the images with higher speeds differ more than the images with lower speeds.\n",
    "\n",
    "## Setup\n",
    "- Download and unpack training data\n",
    "- Create DonkeyCar project and load configuration"
   ],
   "metadata": {
    "collapsed": false,
    "pycharm": {
     "name": "#%% md\n"
    }
   }
  },
  {
   "cell_type": "code",
   "execution_count": 6,
   "outputs": [],
   "source": [
    "import os\n",
    "\n",
    "# do we have the correct env loaded?\n",
    "assert 'donkey' == os.environ['CONDA_DEFAULT_ENV'], os.environ['CONDA_DEFAULT_ENV']"
   ],
   "metadata": {
    "collapsed": false,
    "pycharm": {
     "name": "#%%\n"
    }
   }
  },
  {
   "cell_type": "markdown",
   "source": [
    "## 4.1.1 Driving Speed Differences\n",
    "\n"
   ],
   "metadata": {
    "collapsed": false,
    "pycharm": {
     "name": "#%% md\n"
    }
   }
  },
  {
   "cell_type": "code",
   "execution_count": 7,
   "outputs": [
    {
     "data": {
      "text/plain": "(64, 14.834375, 0.8078653875337152, 41, 24.259756097560974, 1.8723996443912498)"
     },
     "execution_count": 7,
     "metadata": {},
     "output_type": "execute_result"
    }
   ],
   "source": [
    "import numpy as np\n",
    "fast = [282, 275, 268, 281, 280, 318, 336, 306, 281, 283, 290, 304, 338, 313, 294, 295, 308, 294, 275, 297, 278, 282,\n",
    "        296, 318, 304, 291, 299, 302, 300, 309, 269, 284, 293, 286, 278, 292, 285, 291, 300, 295, 291, 293, 291, 286,\n",
    "        293, 287, 299, 294, 292, 298, 295, 298, 308, 300, 293, 288, 316, 360, 314, 319, 323, 296, 298, 286]\n",
    "\n",
    "slow = [552, 471, 576, 516, 439, 453, 475, 462, 489, 505, 496, 549, 519, 527, 526, 430, 382, 481, 499, 483, 514, 526,\n",
    "        554, 495, 424, 454, 484, 481, 481, 483, 485, 480, 468, 484, 464, 468, 479, 448, 484, 444, 463]\n",
    "\n",
    "fast = np.array(fast)/20\n",
    "slow = np.array(slow)/20\n",
    "\n",
    "len(fast), np.mean(fast), np.std(fast), len(slow), np.mean(slow), np.std(slow)"
   ],
   "metadata": {
    "collapsed": false,
    "pycharm": {
     "name": "#%%\n"
    }
   }
  },
  {
   "cell_type": "markdown",
   "source": [
    "### Figure 9. Lap speeds for fast and slow data."
   ],
   "metadata": {
    "collapsed": false,
    "pycharm": {
     "name": "#%% md\n"
    }
   }
  },
  {
   "cell_type": "code",
   "execution_count": 9,
   "outputs": [
    {
     "data": {
      "text/plain": "<Figure size 720x360 with 1 Axes>",
      "image/png": "[encoded data removed]"
     },
     "metadata": {
      "needs_background": "light"
     },
     "output_type": "display_data"
    }
   ],
   "source": [
    "\n",
    "from matplotlib import pyplot as plt\n",
    "\n",
    "def plot_(fast, slow):\n",
    "    fig, ax = plt.subplots(figsize=(10, 5))\n",
    "    length = max((len(fast), len(slow)))\n",
    "    ax.bar(range(len(slow)), slow, label='slow', color='grey')\n",
    "    ax.bar(range(len(fast)), fast, label='fast', color='lightgrey', alpha=0.6)\n",
    "\n",
    "    ax.text(length + 0.5, fast.mean(), f'fast mean: {fast.mean():.1f}', ha='left', va='center')\n",
    "    ax.hlines(fast.mean(), 0, length, colors='grey', zorder=999)\n",
    "    ax.text(length + 0.5, slow.mean(), f'slow mean: {slow.mean():.1f}', ha='left', va='center')\n",
    "    ax.hlines(slow.mean(), 0, length, colors='grey', zorder=999)\n",
    "\n",
    "    ax.spines['top'].set_visible(False)\n",
    "    ax.spines['right'].set_visible(False)\n",
    "    ax.spines['bottom'].set_visible(False)\n",
    "    ax.spines['left'].set_visible(False)\n",
    "    ax.set_xlabel('Lap number')\n",
    "    ax.set_ylabel('Time (s)')\n",
    "    ax.legend(frameon=False)\n",
    "\n",
    "\n",
    "plot_(fast, slow)"
   ],
   "metadata": {
    "collapsed": false,
    "pycharm": {
     "name": "#%%\n"
    }
   }
  },
  {
   "cell_type": "markdown",
   "source": [
    "## 4.1.2 Frame Differences"
   ],
   "metadata": {
    "collapsed": false,
    "pycharm": {
     "name": "#%% md\n"
    }
   }
  },
  {
   "cell_type": "code",
   "execution_count": 10,
   "outputs": [],
   "source": [
    "import sys\n",
    "\n",
    "sys.path.append('donkeycar')\n",
    "sys.path.append('src')"
   ],
   "metadata": {
    "collapsed": false,
    "pycharm": {
     "name": "#%%\n"
    }
   }
  },
  {
   "cell_type": "code",
   "execution_count": 11,
   "outputs": [
    {
     "name": "stdout",
     "output_type": "stream",
     "text": [
      "loading config file: mycar/config.py\n",
      "loading personal config over-rides from myconfig.py\n"
     ]
    }
   ],
   "source": [
    "\n",
    "import donkeycar as dk\n",
    "\n",
    "cfg = dk.load_config(config_path='mycar/config.py')\n",
    "cfg.SEQUENCE_LENGTH = 2"
   ],
   "metadata": {
    "collapsed": false,
    "pycharm": {
     "name": "#%%\n"
    }
   }
  },
  {
   "cell_type": "markdown",
   "source": [
    "### Load data"
   ],
   "metadata": {
    "collapsed": false,
    "pycharm": {
     "name": "#%% md\n"
    }
   }
  },
  {
   "cell_type": "code",
   "execution_count": 12,
   "outputs": [
    {
     "name": "stderr",
     "output_type": "stream",
     "text": [
      "INFO:donkeycar.pipeline.types:Loading only the first tub from paths ['data/faster-autodrive']\n"
     ]
    },
    {
     "name": "stdout",
     "output_type": "stream",
     "text": [
      "Using catalog /Users/kristjan.roosild/PycharmProjects/dat-sci-master-thesis/data/faster-autodrive/catalog_20.catalog\n"
     ]
    },
    {
     "name": "stderr",
     "output_type": "stream",
     "text": [
      "INFO:donkeycar.pipeline.types:Loading only the first tub from paths ['data/slower-autodrive']\n"
     ]
    },
    {
     "name": "stdout",
     "output_type": "stream",
     "text": [
      "Using catalog /Users/kristjan.roosild/PycharmProjects/dat-sci-master-thesis/data/slower-autodrive/catalog_20.catalog\n"
     ]
    }
   ],
   "source": [
    "from dataloader import load_records\n",
    "\n",
    "fast_speed_data = load_records('faster-autodrive', cfg, 'data', None)\n",
    "slow_speed_data = load_records('slower-autodrive', cfg, 'data', None)\n"
   ],
   "metadata": {
    "collapsed": false,
    "pycharm": {
     "name": "#%%\n"
    }
   }
  },
  {
   "cell_type": "markdown",
   "source": [
    "### On average, do two consecutive images/frames differ more for bigger speeds?"
   ],
   "metadata": {
    "collapsed": false,
    "pycharm": {
     "name": "#%% md\n"
    }
   }
  },
  {
   "cell_type": "code",
   "execution_count": 37,
   "outputs": [],
   "source": [
    "def mse(image1, image2):\n",
    "    return np.array((image1 - image2) ** 2).mean()\n",
    "\n",
    "\n",
    "def rmse(image1, image2):\n",
    "    return np.sqrt(mse(image1, image2))"
   ],
   "metadata": {
    "collapsed": false,
    "pycharm": {
     "name": "#%%\n"
    }
   }
  },
  {
   "cell_type": "code",
   "execution_count": 12,
   "outputs": [],
   "source": [
    "from donkeycar.pipeline.augmentations import ImageAugmentation\n",
    "from skimage.metrics import normalized_root_mse, mean_squared_error\n",
    "import pandas as pd\n",
    "\n",
    "transformation = ImageAugmentation(cfg, 'TRANSFORMATIONS')\n",
    "tub_records = dict(fast=fast_speed_data, slow=slow_speed_data)\n",
    "for_df = []\n",
    "for speed, records in tub_records.items():\n",
    "    for (first_tubrecord, second_tubrecord) in records:\n",
    "        first_image = first_tubrecord.image()\n",
    "        first_image = transformation.run(first_image)\n",
    "\n",
    "        second_image = second_tubrecord.image()\n",
    "        second_image = transformation.run(second_image)\n",
    "\n",
    "        my_mse = mse(second_image, first_image)\n",
    "        mse_ = mean_squared_error(second_image, first_image)\n",
    "        rmse_ = rmse(second_image, first_image)\n",
    "        nrmse = normalized_root_mse(second_image, first_image)\n",
    "\n",
    "        tubrecord_index = first_tubrecord.underlying['_index']\n",
    "        for_df.append([tubrecord_index, speed, mse_, rmse_, nrmse, my_mse])\n",
    "\n",
    "df = pd.DataFrame(for_df, columns=['tubrecord_index', 'speed', 'MSE', 'RMSE', 'NRMSE', 'MY_MSE'])\n",
    "df"
   ],
   "metadata": {
    "collapsed": false,
    "pycharm": {
     "name": "#%%\n"
    }
   }
  },
  {
   "cell_type": "markdown",
   "source": [],
   "metadata": {
    "collapsed": false,
    "pycharm": {
     "name": "#%% md\n"
    }
   }
  },
  {
   "cell_type": "code",
   "execution_count": null,
   "outputs": [],
   "source": [
    "df.to_csv('image_diffs.csv.gz', index=False)\n",
    "\n",
    "df.describe()"
   ],
   "metadata": {
    "collapsed": false,
    "pycharm": {
     "name": "#%%\n"
    }
   }
  },
  {
   "cell_type": "markdown",
   "source": [
    "### Figure 10. Fast and slow driving frame pixel value differences."
   ],
   "metadata": {
    "collapsed": false,
    "pycharm": {
     "name": "#%% md\n"
    }
   }
  },
  {
   "cell_type": "code",
   "execution_count": 15,
   "outputs": [
    {
     "data": {
      "text/plain": "(speed\n fast    38.238296\n slow    22.354597\n Name: MSE, dtype: float64,)"
     },
     "execution_count": 15,
     "metadata": {},
     "output_type": "execute_result"
    }
   ],
   "source": [
    "import pandas as pd\n",
    "\n",
    "df = pd.read_csv('image_diffs.csv.gz')\n",
    "\n",
    "df.groupby('speed').MSE.mean(),"
   ],
   "metadata": {
    "collapsed": false,
    "pycharm": {
     "name": "#%%\n"
    }
   }
  },
  {
   "cell_type": "code",
   "execution_count": 82,
   "outputs": [
    {
     "data": {
      "text/plain": "<Figure size 720x360 with 1 Axes>",
      "image/png": "[encoded data removed]"
     },
     "metadata": {
      "needs_background": "light"
     },
     "output_type": "display_data"
    }
   ],
   "source": [
    "from matplotlib import pyplot as plt\n",
    "\n",
    "fig, ax = plt.subplots(figsize=(10, 5))\n",
    "\n",
    "fast = df[df.speed == 'fast'].MSE\n",
    "slow = df[df.speed == 'slow'].reset_index().MSE\n",
    "length = max((len(fast), len(slow)))\n",
    "\n",
    "ax.plot(fast, label='fast', c='lightgrey')\n",
    "ax.plot(slow, label='slow', c='grey')\n",
    "\n",
    "ax.text(length + 100, fast.mean() + 10, f'fast data mean: {fast.mean():.1f}', ha='left', va='center')\n",
    "ax.hlines(fast.mean(), 0, length, colors='lightgrey', zorder=999)\n",
    "\n",
    "ax.text(length + 100, slow.mean() - 10, f'slow data mean: {slow.mean():.1f}', ha='left', va='center')\n",
    "ax.hlines(slow.mean(), 0, length, colors='lightgrey', zorder=999)\n",
    "\n",
    "ax.spines['top'].set_visible(False)\n",
    "ax.spines['right'].set_visible(False)\n",
    "ax.spines['bottom'].set_visible(False)\n",
    "ax.spines['left'].set_visible(False)\n",
    "ax.legend(frameon=False)\n",
    "\n",
    "ax.set_xlabel('Frame number')\n",
    "ax.set_ylabel('Frame pixel difference (MSE) with the next frame')\n",
    "ax.set_ylim(0, 500)\n",
    "pass\n"
   ],
   "metadata": {
    "collapsed": false,
    "pycharm": {
     "name": "#%%\n"
    }
   }
  },
  {
   "cell_type": "markdown",
   "source": [
    "### Conclusion\n",
    "Images are more different for faster speeds"
   ],
   "metadata": {
    "collapsed": false,
    "pycharm": {
     "name": "#%% md\n"
    }
   }
  }
 ],
 "metadata": {
  "kernelspec": {
   "display_name": "donkey2",
   "language": "python",
   "name": "donkey2"
  },
  "language_info": {
   "codemirror_mode": {
    "name": "ipython",
    "version": 3
   },
   "file_extension": ".py",
   "mimetype": "text/x-python",
   "name": "python",
   "nbconvert_exporter": "python",
   "pygments_lexer": "ipython3",
   "version": "3.7.11"
  },
  "toc-autonumbering": false
 },
 "nbformat": 4,
 "nbformat_minor": 4
}