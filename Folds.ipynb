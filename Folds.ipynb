{
 "cells": [
  {
   "cell_type": "code",
   "execution_count": 90,
   "outputs": [
    {
     "data": {
      "text/plain": "(21, 23)"
     },
     "execution_count": 90,
     "metadata": {},
     "output_type": "execute_result"
    }
   ],
   "source": [
    "n_folds = 3\n",
    "n_frames = 23\n",
    "n_frames_in_sample = 3\n",
    "\n",
    "n_samples = n_frames - n_frames_in_sample + 1\n",
    "\n",
    "all_data = list(range(n_frames))\n",
    "\n",
    "n_samples, len(all_data)"
   ],
   "metadata": {
    "collapsed": false,
    "pycharm": {
     "name": "#%%\n"
    }
   }
  },
  {
   "cell_type": "code",
   "execution_count": 91,
   "outputs": [],
   "source": [
    "import copy\n",
    "\n",
    "\n",
    "def collator(data, seq_length=3):\n",
    "    it = iter(data)\n",
    "    for this_record in it:\n",
    "        seq = [this_record]\n",
    "        seq_it = copy.copy(it)\n",
    "        for next_record in seq_it:\n",
    "            if len(seq) < seq_length:\n",
    "                seq.append(next_record)\n",
    "                this_record = next_record\n",
    "            else:\n",
    "                break\n",
    "        if len(seq) == seq_length:\n",
    "            yield seq\n"
   ],
   "metadata": {
    "collapsed": false,
    "pycharm": {
     "name": "#%%\n"
    }
   }
  },
  {
   "cell_type": "code",
   "execution_count": 92,
   "outputs": [
    {
     "data": {
      "text/plain": "(21, 3)"
     },
     "execution_count": 92,
     "metadata": {},
     "output_type": "execute_result"
    }
   ],
   "source": [
    "import numpy as np\n",
    "\n",
    "collated_samples = [d for d in collator(all_data)]\n",
    "assert len(collated_samples) == n_samples\n",
    "collated_samples = np.array(collated_samples)\n",
    "collated_samples.shape"
   ],
   "metadata": {
    "collapsed": false,
    "pycharm": {
     "name": "#%%\n"
    }
   }
  },
  {
   "cell_type": "code",
   "execution_count": 106,
   "outputs": [],
   "source": [
    "def leakage(train, test):\n",
    "    global train_frames, test_frames, leakage\n",
    "    train_frames = {i for i in collated_samples[train].flat}\n",
    "    test_frames = {i for i in collated_samples[test].flat}\n",
    "    return len(train_frames.intersection(test_frames))\n"
   ],
   "metadata": {
    "collapsed": false,
    "pycharm": {
     "name": "#%%\n"
    }
   }
  },
  {
   "cell_type": "markdown",
   "source": [
    "# Random folds example"
   ],
   "metadata": {
    "collapsed": false,
    "pycharm": {
     "name": "#%% md\n"
    }
   }
  },
  {
   "cell_type": "code",
   "execution_count": 107,
   "outputs": [
    {
     "name": "stdout",
     "output_type": "stream",
     "text": [
      "[ 1  3  4  5  6  7  8 10 13 16 17 18 19 20]\n",
      "[ 2  9 11 12 14 15 21]\n"
     ]
    }
   ],
   "source": [
    "from sklearn.model_selection import KFold\n",
    "\n",
    "kf = KFold(n_splits=n_folds, shuffle=True, random_state=0)\n",
    "for train, test in kf.split(collated_samples):\n",
    "    print(train + 1)\n",
    "    print(test + 1)\n",
    "    break\n"
   ],
   "metadata": {
    "collapsed": false,
    "pycharm": {
     "name": "#%%\n"
    }
   }
  },
  {
   "cell_type": "code",
   "execution_count": 108,
   "outputs": [
    {
     "name": "stdout",
     "output_type": "stream",
     "text": [
      "14\n",
      "12\n",
      "18\n"
     ]
    }
   ],
   "source": [
    "for train, test in kf.split(collated_samples):\n",
    "    print(leakage(train, test))\n"
   ],
   "metadata": {
    "collapsed": false,
    "pycharm": {
     "name": "#%%\n"
    }
   }
  },
  {
   "cell_type": "markdown",
   "source": [
    "# In-order folds example"
   ],
   "metadata": {
    "collapsed": false,
    "pycharm": {
     "name": "#%% md\n"
    }
   }
  },
  {
   "cell_type": "code",
   "execution_count": 111,
   "outputs": [
    {
     "name": "stdout",
     "output_type": "stream",
     "text": [
      "[ 8  9 10 11 12 13 14 15 16 17 18 19 20 21]\n",
      "[1 2 3 4 5 6 7]\n"
     ]
    }
   ],
   "source": [
    "kf = KFold(n_splits=n_folds, shuffle=False)\n",
    "for train, test in kf.split(collated_samples):\n",
    "    print(train + 1)\n",
    "    print(test + 1)\n",
    "    break"
   ],
   "metadata": {
    "collapsed": false,
    "pycharm": {
     "name": "#%%\n"
    }
   }
  },
  {
   "cell_type": "code",
   "execution_count": 112,
   "outputs": [
    {
     "name": "stdout",
     "output_type": "stream",
     "text": [
      "2\n",
      "4\n",
      "2\n"
     ]
    }
   ],
   "source": [
    "for train, test in kf.split(collated_samples):\n",
    "    print(leakage(train, test))\n"
   ],
   "metadata": {
    "collapsed": false,
    "pycharm": {
     "name": "#%%\n"
    }
   }
  },
  {
   "cell_type": "markdown",
   "source": [
    "# Custom fold assigment"
   ],
   "metadata": {
    "collapsed": false,
    "pycharm": {
     "name": "#%% md\n"
    }
   }
  },
  {
   "cell_type": "code",
   "execution_count": 113,
   "outputs": [
    {
     "name": "stdout",
     "output_type": "stream",
     "text": [
      "[ 4  5  6  7 11 12 13 14 18 19 20 21]\n",
      "[ 1  2  3  8  9 10 15 16 17]\n"
     ]
    }
   ],
   "source": [
    "from dataloader import get_fold_indices\n",
    "\n",
    "for train, test in get_fold_indices(collated_samples, n_folds=n_folds, chunk_size=7):\n",
    "    train = np.array(train)\n",
    "    test = np.array(test)\n",
    "    print(train + 1)\n",
    "    print(test + 1)\n",
    "    break\n"
   ],
   "metadata": {
    "collapsed": false,
    "pycharm": {
     "name": "#%%\n"
    }
   }
  },
  {
   "cell_type": "code",
   "execution_count": 114,
   "outputs": [
    {
     "name": "stdout",
     "output_type": "stream",
     "text": [
      "10\n",
      "12\n",
      "10\n"
     ]
    }
   ],
   "source": [
    "for train, test in get_fold_indices(collated_samples, n_folds=n_folds, chunk_size=7):\n",
    "    print(leakage(train, test))"
   ],
   "metadata": {
    "collapsed": false,
    "pycharm": {
     "name": "#%%\n"
    }
   }
  },
  {
   "cell_type": "code",
   "execution_count": null,
   "outputs": [],
   "source": [],
   "metadata": {
    "collapsed": false,
    "pycharm": {
     "name": "#%%\n"
    }
   }
  }
 ],
 "metadata": {
  "kernelspec": {
   "display_name": "Python 3",
   "language": "python",
   "name": "python3"
  },
  "language_info": {
   "codemirror_mode": {
    "name": "ipython",
    "version": 2
   },
   "file_extension": ".py",
   "mimetype": "text/x-python",
   "name": "python",
   "nbconvert_exporter": "python",
   "pygments_lexer": "ipython2",
   "version": "2.7.6"
  }
 },
 "nbformat": 4,
 "nbformat_minor": 0
}