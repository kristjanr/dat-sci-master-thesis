{
 "cells": [
  {
   "cell_type": "code",
   "execution_count": 223,
   "outputs": [
    {
     "data": {
      "text/plain": "(21, 23)"
     },
     "execution_count": 223,
     "metadata": {},
     "output_type": "execute_result"
    }
   ],
   "source": [
    "n_folds = 3\n",
    "n_frames = 23\n",
    "n_frames_in_sample = 3\n",
    "\n",
    "n_samples = n_frames - n_frames_in_sample + 1\n",
    "\n",
    "all_data = list(range(n_frames))\n",
    "\n",
    "n_samples, len(all_data)"
   ],
   "metadata": {
    "collapsed": false,
    "pycharm": {
     "name": "#%%\n"
    }
   }
  },
  {
   "cell_type": "code",
   "execution_count": 224,
   "outputs": [],
   "source": [
    "import copy\n",
    "\n",
    "\n",
    "def collator(data, seq_length=3):\n",
    "    it = iter(data)\n",
    "    for this_record in it:\n",
    "        seq = [this_record]\n",
    "        seq_it = copy.copy(it)\n",
    "        for next_record in seq_it:\n",
    "            if len(seq) < seq_length:\n",
    "                seq.append(next_record)\n",
    "                this_record = next_record\n",
    "            else:\n",
    "                break\n",
    "        if len(seq) == seq_length:\n",
    "            yield seq\n"
   ],
   "metadata": {
    "collapsed": false,
    "pycharm": {
     "name": "#%%\n"
    }
   }
  },
  {
   "cell_type": "code",
   "execution_count": 225,
   "outputs": [
    {
     "data": {
      "text/plain": "(21, 3)"
     },
     "execution_count": 225,
     "metadata": {},
     "output_type": "execute_result"
    }
   ],
   "source": [
    "import numpy as np\n",
    "\n",
    "collated_samples = [d for d in collator(all_data)]\n",
    "assert len(collated_samples) == n_samples\n",
    "collated_samples = np.array(collated_samples)\n",
    "collated_samples.shape"
   ],
   "metadata": {
    "collapsed": false,
    "pycharm": {
     "name": "#%%\n"
    }
   }
  },
  {
   "cell_type": "code",
   "execution_count": 226,
   "outputs": [],
   "source": [
    "def leakage(train, test):\n",
    "    train_frames = {i for i in collated_samples[train].flat}\n",
    "    test_frames = {i for i in collated_samples[test].flat}\n",
    "    l = train_frames.intersection(test_frames)\n",
    "    return len(l), l\n"
   ],
   "metadata": {
    "collapsed": false,
    "pycharm": {
     "name": "#%%\n"
    }
   }
  },
  {
   "cell_type": "markdown",
   "source": [
    "# Random folds example"
   ],
   "metadata": {
    "collapsed": false,
    "pycharm": {
     "name": "#%% md\n"
    }
   }
  },
  {
   "cell_type": "code",
   "execution_count": 227,
   "outputs": [
    {
     "name": "stdout",
     "output_type": "stream",
     "text": [
      "[ 1  3  4  5  6  7  8 10 13 16 17 18 19 20]\n",
      "[ 2  9 11 12 14 15 21]\n"
     ]
    }
   ],
   "source": [
    "from sklearn.model_selection import KFold\n",
    "\n",
    "kf = KFold(n_splits=n_folds, shuffle=True, random_state=0)\n",
    "for train, test in kf.split(collated_samples):\n",
    "    print(train + 1)\n",
    "    print(test + 1)\n",
    "    break\n"
   ],
   "metadata": {
    "collapsed": false,
    "pycharm": {
     "name": "#%%\n"
    }
   }
  },
  {
   "cell_type": "code",
   "execution_count": 228,
   "outputs": [
    {
     "name": "stdout",
     "output_type": "stream",
     "text": [
      "14\n",
      "12\n",
      "18\n"
     ]
    }
   ],
   "source": [
    "for train, test in kf.split(collated_samples):\n",
    "    print(leakage(train, test)[0])\n"
   ],
   "metadata": {
    "collapsed": false,
    "pycharm": {
     "name": "#%%\n"
    }
   }
  },
  {
   "cell_type": "markdown",
   "source": [
    "# In-order folds example"
   ],
   "metadata": {
    "collapsed": false,
    "pycharm": {
     "name": "#%% md\n"
    }
   }
  },
  {
   "cell_type": "code",
   "execution_count": 229,
   "outputs": [
    {
     "name": "stdout",
     "output_type": "stream",
     "text": [
      "[ 8  9 10 11 12 13 14 15 16 17 18 19 20 21]\n",
      "[1 2 3 4 5 6 7]\n"
     ]
    }
   ],
   "source": [
    "kf = KFold(n_splits=n_folds, shuffle=False)\n",
    "for train, test in kf.split(collated_samples):\n",
    "    print(train + 1)\n",
    "    print(test + 1)\n",
    "    break"
   ],
   "metadata": {
    "collapsed": false,
    "pycharm": {
     "name": "#%%\n"
    }
   }
  },
  {
   "cell_type": "code",
   "execution_count": 230,
   "outputs": [
    {
     "name": "stdout",
     "output_type": "stream",
     "text": [
      "2\n",
      "4\n",
      "2\n"
     ]
    }
   ],
   "source": [
    "for train, test in kf.split(collated_samples):\n",
    "    print(leakage(train, test)[0])\n"
   ],
   "metadata": {
    "collapsed": false,
    "pycharm": {
     "name": "#%%\n"
    }
   }
  },
  {
   "cell_type": "markdown",
   "source": [
    "# Custom fold assigment"
   ],
   "metadata": {
    "collapsed": false,
    "pycharm": {
     "name": "#%% md\n"
    }
   }
  },
  {
   "cell_type": "code",
   "execution_count": 231,
   "outputs": [
    {
     "name": "stdout",
     "output_type": "stream",
     "text": [
      "[ 4  5  6  7 11 12 13 14 18 19 20 21]\n",
      "[ 1  2  3  8  9 10 15 16 17]\n"
     ]
    }
   ],
   "source": [
    "from dataloader import get_fold_indices\n",
    "\n",
    "for train, test in get_fold_indices(collated_samples, n_folds=n_folds, chunk_size=7):\n",
    "    train = np.array(train)\n",
    "    test = np.array(test)\n",
    "    print(train + 1)\n",
    "    print(test + 1)\n",
    "    break\n"
   ],
   "metadata": {
    "collapsed": false,
    "pycharm": {
     "name": "#%%\n"
    }
   }
  },
  {
   "cell_type": "code",
   "execution_count": 232,
   "outputs": [
    {
     "name": "stdout",
     "output_type": "stream",
     "text": [
      "10\n",
      "12\n",
      "10\n"
     ]
    }
   ],
   "source": [
    "for train, test in get_fold_indices(collated_samples, n_folds=n_folds, chunk_size=7):\n",
    "    print(leakage(train, test)[0])"
   ],
   "metadata": {
    "collapsed": false,
    "pycharm": {
     "name": "#%%\n"
    }
   }
  },
  {
   "cell_type": "markdown",
   "source": [
    "## Leakage on real dataset"
   ],
   "metadata": {
    "collapsed": false,
    "pycharm": {
     "name": "#%% md\n"
    }
   }
  },
  {
   "cell_type": "code",
   "execution_count": 233,
   "outputs": [
    {
     "data": {
      "text/plain": "(20304, 20306)"
     },
     "execution_count": 233,
     "metadata": {},
     "output_type": "execute_result"
    }
   ],
   "source": [
    "n_folds = 5\n",
    "n_frames = 20306\n",
    "n_frames_in_sample = 3\n",
    "\n",
    "n_samples = n_frames - n_frames_in_sample + 1\n",
    "\n",
    "all_data = list(range(n_frames))\n",
    "\n",
    "n_samples, len(all_data)\n",
    "\n"
   ],
   "metadata": {
    "collapsed": false,
    "pycharm": {
     "name": "#%%\n"
    }
   }
  },
  {
   "cell_type": "code",
   "execution_count": 234,
   "outputs": [
    {
     "data": {
      "text/plain": "(20304, 3)"
     },
     "execution_count": 234,
     "metadata": {},
     "output_type": "execute_result"
    }
   ],
   "source": [
    "collated_samples = [d for d in collator(all_data)]\n",
    "assert len(collated_samples) == n_samples\n",
    "collated_samples = np.array(collated_samples)\n",
    "collated_samples.shape"
   ],
   "metadata": {
    "collapsed": false,
    "pycharm": {
     "name": "#%%\n"
    }
   }
  },
  {
   "cell_type": "markdown",
   "source": [
    "### Random"
   ],
   "metadata": {
    "collapsed": false,
    "pycharm": {
     "name": "#%% md\n"
    }
   }
  },
  {
   "cell_type": "code",
   "execution_count": 235,
   "outputs": [
    {
     "name": "stdout",
     "output_type": "stream",
     "text": [
      "9729\n",
      "9834\n",
      "9708\n",
      "9793\n",
      "9723\n"
     ]
    },
    {
     "data": {
      "text/plain": "95.91746281887127"
     },
     "execution_count": 235,
     "metadata": {},
     "output_type": "execute_result"
    }
   ],
   "source": [
    "leak = set()\n",
    "for train, test in KFold(n_splits=n_folds, shuffle=True, random_state=0).split(collated_samples):\n",
    "    n_leaked_frames, leaked_frames = leakage(train, test)\n",
    "    print(n_leaked_frames)\n",
    "    leak.update(leaked_frames)\n",
    "\n",
    "len(leak)/n_frames*100"
   ],
   "metadata": {
    "collapsed": false,
    "pycharm": {
     "name": "#%%\n"
    }
   }
  },
  {
   "cell_type": "markdown",
   "source": [
    "### Ordered"
   ],
   "metadata": {
    "collapsed": false,
    "pycharm": {
     "name": "#%% md\n"
    }
   }
  },
  {
   "cell_type": "code",
   "execution_count": 236,
   "outputs": [
    {
     "name": "stdout",
     "output_type": "stream",
     "text": [
      "2\n",
      "4\n",
      "4\n",
      "4\n",
      "2\n"
     ]
    },
    {
     "data": {
      "text/plain": "0.039397222495814045"
     },
     "execution_count": 236,
     "metadata": {},
     "output_type": "execute_result"
    }
   ],
   "source": [
    "leak = set()\n",
    "for train, test in KFold(n_splits=n_folds, shuffle=False).split(collated_samples):\n",
    "    n_leaked_frames, leaked_frames = leakage(train, test)\n",
    "    print(n_leaked_frames)\n",
    "    leak.update(leaked_frames)\n",
    "\n",
    "len(leak)/n_frames*100"
   ],
   "metadata": {
    "collapsed": false,
    "pycharm": {
     "name": "#%%\n"
    }
   }
  },
  {
   "cell_type": "markdown",
   "source": [
    "### Custom"
   ],
   "metadata": {
    "collapsed": false,
    "pycharm": {
     "name": "#%% md\n"
    }
   }
  },
  {
   "cell_type": "code",
   "execution_count": 237,
   "outputs": [
    {
     "name": "stdout",
     "output_type": "stream",
     "text": [
      "758\n",
      "760\n",
      "760\n",
      "760\n",
      "758\n"
     ]
    },
    {
     "data": {
      "text/plain": "9.346991037131883"
     },
     "execution_count": 237,
     "metadata": {},
     "output_type": "execute_result"
    }
   ],
   "source": [
    "leak = set()\n",
    "for train, test in get_fold_indices(collated_samples, n_folds=n_folds):\n",
    "    n_leaked_frames, leaked_frames = leakage(train, test)\n",
    "    print(n_leaked_frames)\n",
    "    leak.update(leaked_frames)\n",
    "\n",
    "len(leak)/n_frames*100"
   ],
   "metadata": {
    "collapsed": false,
    "pycharm": {
     "name": "#%%\n"
    }
   }
  },
  {
   "cell_type": "code",
   "execution_count": 237,
   "outputs": [],
   "source": [],
   "metadata": {
    "collapsed": false,
    "pycharm": {
     "name": "#%%\n"
    }
   }
  }
 ],
 "metadata": {
  "kernelspec": {
   "display_name": "Python 3",
   "language": "python",
   "name": "python3"
  },
  "language_info": {
   "codemirror_mode": {
    "name": "ipython",
    "version": 2
   },
   "file_extension": ".py",
   "mimetype": "text/x-python",
   "name": "python",
   "nbconvert_exporter": "python",
   "pygments_lexer": "ipython2",
   "version": "2.7.6"
  }
 },
 "nbformat": 4,
 "nbformat_minor": 0
}