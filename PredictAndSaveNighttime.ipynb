{
 "cells": [
  {
   "cell_type": "markdown",
   "metadata": {
    "pycharm": {
     "name": "#%% md\n"
    }
   },
   "source": [
    "# Save predictions to Pandas\n",
    "\n",
    "This notebook loads all 2x5 trained models, the two datasets (fast&slow), gets the predictions and saves the results to a file\n",
    "\n",
    "## Setup\n",
    "- Download and unpack training data\n",
    "- Create DonkeyCar project and load configuration"
   ]
  },
  {
   "cell_type": "code",
   "execution_count": 1,
   "metadata": {
    "collapsed": false,
    "jupyter": {
     "outputs_hidden": false
    },
    "pycharm": {
     "name": "#%%\n"
    }
   },
   "outputs": [],
   "source": [
    "%load_ext autoreload\n",
    "%autoreload 2"
   ]
  },
  {
   "cell_type": "code",
   "execution_count": 2,
   "outputs": [],
   "source": [
    "import sys\n",
    "sys.path.append('donkeycar')\n",
    "sys.path.append('src')"
   ],
   "metadata": {
    "collapsed": false,
    "pycharm": {
     "name": "#%%\n"
    }
   }
  },
  {
   "cell_type": "code",
   "execution_count": 3,
   "outputs": [],
   "source": [
    "import os\n",
    "# do we have the correct env loaded?\n",
    "assert 'donkey2' == os.environ['CONDA_DEFAULT_ENV'], os.environ['CONDA_DEFAULT_ENV']"
   ],
   "metadata": {
    "collapsed": false,
    "pycharm": {
     "name": "#%%\n"
    }
   }
  },
  {
   "cell_type": "code",
   "execution_count": 4,
   "metadata": {
    "pycharm": {
     "name": "#%%\n"
    }
   },
   "outputs": [],
   "source": [
    "![ ! -d \"mycar/\" ] && \\\n",
    "donkey createcar --path mycar && \\\n",
    "cp config/myconfig.py mycar/"
   ]
  },
  {
   "cell_type": "code",
   "execution_count": 5,
   "outputs": [
    {
     "name": "stdout",
     "output_type": "stream",
     "text": [
      "________             ______                   _________              \n",
      "___  __ \\_______________  /___________  __    __  ____/_____ ________\n",
      "__  / / /  __ \\_  __ \\_  //_/  _ \\_  / / /    _  /    _  __ `/_  ___/\n",
      "_  /_/ // /_/ /  / / /  ,<  /  __/  /_/ /     / /___  / /_/ /_  /    \n",
      "/_____/ \\____//_/ /_//_/|_| \\___/_\\__, /      \\____/  \\__,_/ /_/     \n",
      "                                 /____/                              \n",
      "\n",
      "using donkey v4.3.5 ...\n",
      "loading config file: mycar/config.py\n",
      "loading personal config over-rides from myconfig.py\n"
     ]
    }
   ],
   "source": [
    "import donkeycar as dk\n",
    "cfg = dk.load_config(config_path='mycar/config.py')\n",
    "\n",
    "# None means all the data is used.\n",
    "# use a smaller size, like 200 for testing end to end.\n",
    "TUBRECORD_SIZE = None\n",
    "\n",
    "cfg.SEQUENCE_LENGTH = 3\n",
    "cfg.WANDB_ENABLED = False\n",
    "cfg.TRANSFORMATIONS = ['CROP']\n",
    "cfg.ROI_CROP_TOP = 60\n",
    "cfg.ROI_CROP_KEEP_SIZE = False\n",
    "\n",
    "DIRECTION = 'CC'\n",
    "N_FOLDS = 5\n",
    "DATA_PATH = 'data'\n"
   ],
   "metadata": {
    "collapsed": false,
    "pycharm": {
     "name": "#%%\n"
    }
   }
  },
  {
   "cell_type": "code",
   "execution_count": 6,
   "metadata": {
    "collapsed": false,
    "jupyter": {
     "outputs_hidden": false
    },
    "pycharm": {
     "name": "#%%\n"
    }
   },
   "outputs": [
    {
     "name": "stdout",
     "output_type": "stream",
     "text": [
      "Using catalog /Users/kristjan.roosild/PycharmProjects/dat-sci-master-thesis/data/faster-autodrive/catalog_20.catalog\n"
     ]
    },
    {
     "name": "stderr",
     "output_type": "stream",
     "text": [
      "\n",
      "----------------------------------------------------------------------\n",
      "Ran 0 tests in 0.000s\n",
      "\n",
      "OK\n",
      "INFO:donkeycar.pipeline.types:Loading tubs from paths ['data/faster-autodrive']\n"
     ]
    },
    {
     "data": {
      "text/plain": "19250"
     },
     "execution_count": 6,
     "metadata": {},
     "output_type": "execute_result"
    }
   ],
   "source": [
    "from dataloader import load_records\n",
    "fast_speed_data = load_records('faster-autodrive', cfg, DATA_PATH, TUBRECORD_SIZE)\n",
    "len(fast_speed_data)\n"
   ]
  },
  {
   "cell_type": "code",
   "execution_count": 7,
   "outputs": [
    {
     "name": "stderr",
     "output_type": "stream",
     "text": [
      "INFO:donkeycar.pipeline.types:Loading tubs from paths ['data/slower-autodrive']\n"
     ]
    },
    {
     "name": "stdout",
     "output_type": "stream",
     "text": [
      "Using catalog /Users/kristjan.roosild/PycharmProjects/dat-sci-master-thesis/data/slower-autodrive/catalog_20.catalog\n"
     ]
    },
    {
     "data": {
      "text/plain": "20304"
     },
     "execution_count": 7,
     "metadata": {},
     "output_type": "execute_result"
    }
   ],
   "source": [
    "slow_speed_data = load_records('slower-autodrive', cfg, DATA_PATH, TUBRECORD_SIZE)\n",
    "len(slow_speed_data)\n"
   ],
   "metadata": {
    "collapsed": false,
    "pycharm": {
     "name": "#%%\n"
    }
   }
  },
  {
   "cell_type": "code",
   "execution_count": 8,
   "outputs": [
    {
     "name": "stderr",
     "output_type": "stream",
     "text": [
      "INFO:donkeycar.utils:get_model_by_type: model type is: 3d-modified-steering\n",
      "INFO:donkeycar.parts.keras:input_shape (60, 160, 3) num_outputs 1\n",
      "2022-07-17 23:17:30.267392: I tensorflow/core/platform/cpu_feature_guard.cc:151] This TensorFlow binary is optimized with oneAPI Deep Neural Network Library (oneDNN) to use the following CPU instructions in performance-critical operations:  AVX2 FMA\n",
      "To enable them in other operations, rebuild TensorFlow with the appropriate compiler flags.\n",
      "INFO:donkeycar.parts.keras:Created Keras3D_CNN_ModifiedOnlySteering with interpreter: KerasInterpreter\n",
      "INFO:donkeycar.parts.keras:Num outputs 1\n",
      "INFO:donkeycar.parts.keras:Sequence length 3\n"
     ]
    },
    {
     "name": "stdout",
     "output_type": "stream",
     "text": [
      "Model: \"3dcnn\"\n",
      "_________________________________________________________________\n",
      " Layer (type)                Output Shape              Param #   \n",
      "=================================================================\n",
      " img_in (InputLayer)         [(None, 3, 60, 160, 3)]   0         \n",
      "                                                                 \n",
      " conv3d (Conv3D)             (None, 1, 20, 53, 16)     1312      \n",
      "                                                                 \n",
      " max_pooling3d (MaxPooling3D  (None, 1, 10, 26, 16)    0         \n",
      " )                                                               \n",
      "                                                                 \n",
      " conv3d_1 (Conv3D)           (None, 1, 10, 26, 32)     4640      \n",
      "                                                                 \n",
      " max_pooling3d_1 (MaxPooling  (None, 1, 5, 13, 32)     0         \n",
      " 3D)                                                             \n",
      "                                                                 \n",
      " conv3d_2 (Conv3D)           (None, 1, 5, 13, 32)      9248      \n",
      "                                                                 \n",
      " flatten (Flatten)           (None, 2080)              0         \n",
      "                                                                 \n",
      " dense (Dense)               (None, 128)               266368    \n",
      "                                                                 \n",
      " batch_normalization (BatchN  (None, 128)              512       \n",
      " ormalization)                                                   \n",
      "                                                                 \n",
      " activation (Activation)     (None, 128)               0         \n",
      "                                                                 \n",
      " dropout (Dropout)           (None, 128)               0         \n",
      "                                                                 \n",
      " dense_1 (Dense)             (None, 256)               33024     \n",
      "                                                                 \n",
      " batch_normalization_1 (Batc  (None, 256)              1024      \n",
      " hNormalization)                                                 \n",
      "                                                                 \n",
      " activation_1 (Activation)   (None, 256)               0         \n",
      "                                                                 \n",
      " dropout_1 (Dropout)         (None, 256)               0         \n",
      "                                                                 \n",
      " outputs (Dense)             (None, 1)                 257       \n",
      "                                                                 \n",
      "=================================================================\n",
      "Total params: 316,385\n",
      "Trainable params: 315,617\n",
      "Non-trainable params: 768\n",
      "_________________________________________________________________\n"
     ]
    }
   ],
   "source": [
    "from donkeycar.utils import get_model_by_type\n",
    "\n",
    "model_type = '3d-modified-steering'\n",
    "model = get_model_by_type(model_type, cfg)\n",
    "model.interpreter.model.summary()"
   ],
   "metadata": {
    "collapsed": false,
    "pycharm": {
     "name": "#%%\n"
    }
   }
  },
  {
   "cell_type": "code",
   "execution_count": 9,
   "outputs": [
    {
     "name": "stdout",
     "output_type": "stream",
     "text": [
      "seq size 3\n",
      "len ground_truth 19250\n",
      "seq size 3\n",
      "len ground_truth 20304\n"
     ]
    }
   ],
   "source": [
    "from losses import get_ground_truth\n",
    "fast_ground_truths = get_ground_truth(model, fast_speed_data)\n",
    "slow_ground_truths = get_ground_truth(model, slow_speed_data)\n"
   ],
   "metadata": {
    "collapsed": false,
    "pycharm": {
     "name": "#%%\n"
    }
   }
  },
  {
   "cell_type": "code",
   "execution_count": 11,
   "outputs": [
    {
     "name": "stderr",
     "output_type": "stream",
     "text": [
      "INFO:donkeycar.utils:get_model_by_type: model type is: 3d-modified-steering\n",
      "INFO:donkeycar.parts.keras:input_shape (60, 160, 3) num_outputs 1\n",
      "INFO:donkeycar.parts.keras:Created Keras3D_CNN_ModifiedOnlySteering with interpreter: KerasInterpreter\n",
      "INFO:donkeycar.parts.keras:Num outputs 1\n",
      "INFO:donkeycar.parts.keras:Sequence length 3\n",
      "INFO:donkeycar.parts.keras:Loading model /Volumes/GoogleDrive/My Drive/maka/open-loop/models/nighttime-fast-auto-3d-get-fold-indices/Keras3D_CNN_ModifiedOnlySteering-1.fold-of-5-CC.h5\n",
      "INFO:donkeycar.parts.interpreter:Loading model /Volumes/GoogleDrive/My Drive/maka/open-loop/models/nighttime-fast-auto-3d-get-fold-indices/Keras3D_CNN_ModifiedOnlySteering-1.fold-of-5-CC.h5\n"
     ]
    },
    {
     "name": "stdout",
     "output_type": "stream",
     "text": [
      "120/120 [==============================] - 61s 505ms/step\n",
      "predictions shape (15292,)\n",
      "31/31 [==============================] - 42s 1s/step\n",
      "predictions shape (3958,)\n",
      "159/159 [==============================] - 192s 1s/step\n"
     ]
    },
    {
     "name": "stderr",
     "output_type": "stream",
     "text": [
      "INFO:donkeycar.utils:get_model_by_type: model type is: 3d-modified-steering\n",
      "INFO:donkeycar.parts.keras:input_shape (60, 160, 3) num_outputs 1\n",
      "INFO:donkeycar.parts.keras:Created Keras3D_CNN_ModifiedOnlySteering with interpreter: KerasInterpreter\n",
      "INFO:donkeycar.parts.keras:Num outputs 1\n",
      "INFO:donkeycar.parts.keras:Sequence length 3\n",
      "INFO:donkeycar.parts.keras:Loading model /Volumes/GoogleDrive/My Drive/maka/open-loop/models/nighttime-fast-auto-3d-get-fold-indices/Keras3D_CNN_ModifiedOnlySteering-2.fold-of-5-CC.h5\n",
      "INFO:donkeycar.parts.interpreter:Loading model /Volumes/GoogleDrive/My Drive/maka/open-loop/models/nighttime-fast-auto-3d-get-fold-indices/Keras3D_CNN_ModifiedOnlySteering-2.fold-of-5-CC.h5\n"
     ]
    },
    {
     "name": "stdout",
     "output_type": "stream",
     "text": [
      "predictions shape (20304,)\n",
      "120/120 [==============================] - 31s 255ms/step\n",
      "predictions shape (15292,)\n",
      "31/31 [==============================] - 7s 234ms/step\n",
      "predictions shape (3958,)\n",
      "159/159 [==============================] - 36s 224ms/step\n"
     ]
    },
    {
     "name": "stderr",
     "output_type": "stream",
     "text": [
      "INFO:donkeycar.utils:get_model_by_type: model type is: 3d-modified-steering\n",
      "INFO:donkeycar.parts.keras:input_shape (60, 160, 3) num_outputs 1\n",
      "INFO:donkeycar.parts.keras:Created Keras3D_CNN_ModifiedOnlySteering with interpreter: KerasInterpreter\n",
      "INFO:donkeycar.parts.keras:Num outputs 1\n",
      "INFO:donkeycar.parts.keras:Sequence length 3\n",
      "INFO:donkeycar.parts.keras:Loading model /Volumes/GoogleDrive/My Drive/maka/open-loop/models/nighttime-fast-auto-3d-get-fold-indices/Keras3D_CNN_ModifiedOnlySteering-3.fold-of-5-CC.h5\n",
      "INFO:donkeycar.parts.interpreter:Loading model /Volumes/GoogleDrive/My Drive/maka/open-loop/models/nighttime-fast-auto-3d-get-fold-indices/Keras3D_CNN_ModifiedOnlySteering-3.fold-of-5-CC.h5\n"
     ]
    },
    {
     "name": "stdout",
     "output_type": "stream",
     "text": [
      "predictions shape (20304,)\n",
      "121/121 [==============================] - 28s 229ms/step\n",
      "predictions shape (15472,)\n",
      "30/30 [==============================] - 6s 210ms/step\n",
      "predictions shape (3778,)\n",
      "159/159 [==============================] - 35s 218ms/step\n"
     ]
    },
    {
     "name": "stderr",
     "output_type": "stream",
     "text": [
      "INFO:donkeycar.utils:get_model_by_type: model type is: 3d-modified-steering\n",
      "INFO:donkeycar.parts.keras:input_shape (60, 160, 3) num_outputs 1\n",
      "INFO:donkeycar.parts.keras:Created Keras3D_CNN_ModifiedOnlySteering with interpreter: KerasInterpreter\n",
      "INFO:donkeycar.parts.keras:Num outputs 1\n",
      "INFO:donkeycar.parts.keras:Sequence length 3\n",
      "INFO:donkeycar.parts.keras:Loading model /Volumes/GoogleDrive/My Drive/maka/open-loop/models/nighttime-fast-auto-3d-get-fold-indices/Keras3D_CNN_ModifiedOnlySteering-4.fold-of-5-CC.h5\n",
      "INFO:donkeycar.parts.interpreter:Loading model /Volumes/GoogleDrive/My Drive/maka/open-loop/models/nighttime-fast-auto-3d-get-fold-indices/Keras3D_CNN_ModifiedOnlySteering-4.fold-of-5-CC.h5\n"
     ]
    },
    {
     "name": "stdout",
     "output_type": "stream",
     "text": [
      "predictions shape (20304,)\n",
      "121/121 [==============================] - 27s 223ms/step\n",
      "predictions shape (15472,)\n",
      "30/30 [==============================] - 7s 218ms/step\n",
      "predictions shape (3778,)\n",
      "159/159 [==============================] - 36s 223ms/step\n"
     ]
    },
    {
     "name": "stderr",
     "output_type": "stream",
     "text": [
      "INFO:donkeycar.utils:get_model_by_type: model type is: 3d-modified-steering\n",
      "INFO:donkeycar.parts.keras:input_shape (60, 160, 3) num_outputs 1\n",
      "INFO:donkeycar.parts.keras:Created Keras3D_CNN_ModifiedOnlySteering with interpreter: KerasInterpreter\n",
      "INFO:donkeycar.parts.keras:Num outputs 1\n",
      "INFO:donkeycar.parts.keras:Sequence length 3\n",
      "INFO:donkeycar.parts.keras:Loading model /Volumes/GoogleDrive/My Drive/maka/open-loop/models/nighttime-fast-auto-3d-get-fold-indices/Keras3D_CNN_ModifiedOnlySteering-5.fold-of-5-CC.h5\n",
      "INFO:donkeycar.parts.interpreter:Loading model /Volumes/GoogleDrive/My Drive/maka/open-loop/models/nighttime-fast-auto-3d-get-fold-indices/Keras3D_CNN_ModifiedOnlySteering-5.fold-of-5-CC.h5\n"
     ]
    },
    {
     "name": "stdout",
     "output_type": "stream",
     "text": [
      "predictions shape (20304,)\n",
      "121/121 [==============================] - 28s 227ms/step\n",
      "predictions shape (15472,)\n",
      "30/30 [==============================] - 7s 222ms/step\n",
      "predictions shape (3778,)\n",
      "159/159 [==============================] - 35s 221ms/step\n",
      "predictions shape (20304,)\n"
     ]
    }
   ],
   "source": [
    "from dataloader import get_fold_indices\n",
    "from losses import get_predictions\n",
    "from model_loader import load_model\n",
    "import numpy as np\n",
    "\n",
    "\n",
    "train_predictions = np.zeros(len(fast_speed_data))\n",
    "test_predictions = np.zeros(len(fast_speed_data))\n",
    "slow_predictions = np.zeros(len(slow_speed_data))\n",
    "\n",
    "MODELS_PATH = '/Volumes/GoogleDrive/My Drive/maka/open-loop/models/nighttime-fast-auto-3d-get-fold-indices'\n",
    "\n",
    "for fold, (train_index, test_index) in enumerate(get_fold_indices(fast_speed_data), start=1):\n",
    "    train_records = [fast_speed_data[i] for i in train_index]\n",
    "    test_records = [fast_speed_data[i] for i in test_index]\n",
    "    trained_model = load_model(MODELS_PATH, model_type, cfg, DIRECTION, N_FOLDS, fold)\n",
    "    fold_train_predictions = np.zeros(len(fast_speed_data))\n",
    "    np.put(fold_train_predictions, train_index, get_predictions(trained_model, cfg, train_records))\n",
    "    train_predictions += fold_train_predictions\n",
    "\n",
    "    fold_test_predictions = get_predictions(trained_model, cfg, test_records)\n",
    "    np.put(test_predictions, test_index, fold_test_predictions)\n",
    "\n",
    "    fold_slow_predictions = get_predictions(trained_model, cfg, slow_speed_data)\n",
    "    slow_predictions += fold_slow_predictions\n",
    "\n",
    "train_predictions /= (N_FOLDS-1)\n",
    "slow_predictions /= N_FOLDS"
   ],
   "metadata": {
    "collapsed": false,
    "pycharm": {
     "name": "#%%\n"
    }
   }
  },
  {
   "cell_type": "code",
   "execution_count": 12,
   "outputs": [
    {
     "data": {
      "text/plain": "(-0.2505801434457883, -0.2527056067175679, -0.2393154258884921)"
     },
     "execution_count": 12,
     "metadata": {},
     "output_type": "execute_result"
    }
   ],
   "source": [
    "train_predictions.mean(), test_predictions.mean(), slow_predictions.mean()\n"
   ],
   "metadata": {
    "collapsed": false,
    "pycharm": {
     "name": "#%%\n"
    }
   }
  },
  {
   "cell_type": "code",
   "execution_count": 13,
   "outputs": [
    {
     "data": {
      "text/plain": "((19250,), (19250,), (20304,))"
     },
     "execution_count": 13,
     "metadata": {},
     "output_type": "execute_result"
    }
   ],
   "source": [
    "train_predictions.shape, test_predictions.shape, slow_predictions.shape\n"
   ],
   "metadata": {
    "collapsed": false,
    "pycharm": {
     "name": "#%%\n"
    }
   }
  },
  {
   "cell_type": "code",
   "execution_count": 14,
   "outputs": [],
   "source": [
    "np.save('open-loop-results/nighttime-fast-auto-3d-model-nighttime-fast-auto-data-prediction-and-ground-truth.npy', np.array([train_predictions, test_predictions, fast_ground_truths]).T)\n",
    "np.save('open-loop-results/nighttime-fast-auto-3d-model-nighttime-slow-auto-data-prediction-and-ground-truth.npy', np.array([slow_predictions, slow_ground_truths]).T)\n"
   ],
   "metadata": {
    "collapsed": false,
    "pycharm": {
     "name": "#%%\n"
    }
   }
  },
  {
   "cell_type": "code",
   "execution_count": 15,
   "outputs": [
    {
     "name": "stderr",
     "output_type": "stream",
     "text": [
      "INFO:donkeycar.utils:get_model_by_type: model type is: 3d-modified-steering\n",
      "INFO:donkeycar.parts.keras:input_shape (60, 160, 3) num_outputs 1\n",
      "INFO:donkeycar.parts.keras:Created Keras3D_CNN_ModifiedOnlySteering with interpreter: KerasInterpreter\n",
      "INFO:donkeycar.parts.keras:Num outputs 1\n",
      "INFO:donkeycar.parts.keras:Sequence length 3\n",
      "INFO:donkeycar.parts.keras:Loading model /Volumes/GoogleDrive/My Drive/maka/open-loop/models/nighttime-slow-auto-3d-get-fold-indices/Keras3D_CNN_ModifiedOnlySteering-1.fold-of-5-CC.h5\n",
      "INFO:donkeycar.parts.interpreter:Loading model /Volumes/GoogleDrive/My Drive/maka/open-loop/models/nighttime-slow-auto-3d-get-fold-indices/Keras3D_CNN_ModifiedOnlySteering-1.fold-of-5-CC.h5\n"
     ]
    },
    {
     "name": "stdout",
     "output_type": "stream",
     "text": [
      "127/127 [==============================] - 31s 244ms/step\n",
      "predictions shape (16129,)\n",
      "33/33 [==============================] - 8s 245ms/step\n",
      "predictions shape (4175,)\n",
      "151/151 [==============================] - 37s 242ms/step\n"
     ]
    },
    {
     "name": "stderr",
     "output_type": "stream",
     "text": [
      "INFO:donkeycar.utils:get_model_by_type: model type is: 3d-modified-steering\n",
      "INFO:donkeycar.parts.keras:input_shape (60, 160, 3) num_outputs 1\n",
      "INFO:donkeycar.parts.keras:Created Keras3D_CNN_ModifiedOnlySteering with interpreter: KerasInterpreter\n",
      "INFO:donkeycar.parts.keras:Num outputs 1\n",
      "INFO:donkeycar.parts.keras:Sequence length 3\n",
      "INFO:donkeycar.parts.keras:Loading model /Volumes/GoogleDrive/My Drive/maka/open-loop/models/nighttime-slow-auto-3d-get-fold-indices/Keras3D_CNN_ModifiedOnlySteering-2.fold-of-5-CC.h5\n",
      "INFO:donkeycar.parts.interpreter:Loading model /Volumes/GoogleDrive/My Drive/maka/open-loop/models/nighttime-slow-auto-3d-get-fold-indices/Keras3D_CNN_ModifiedOnlySteering-2.fold-of-5-CC.h5\n"
     ]
    },
    {
     "name": "stdout",
     "output_type": "stream",
     "text": [
      "predictions shape (19250,)\n",
      "127/127 [==============================] - 31s 241ms/step\n",
      "predictions shape (16130,)\n",
      "33/33 [==============================] - 7s 225ms/step\n",
      "predictions shape (4174,)\n",
      "151/151 [==============================] - 33s 221ms/step\n"
     ]
    },
    {
     "name": "stderr",
     "output_type": "stream",
     "text": [
      "INFO:donkeycar.utils:get_model_by_type: model type is: 3d-modified-steering\n",
      "INFO:donkeycar.parts.keras:input_shape (60, 160, 3) num_outputs 1\n",
      "INFO:donkeycar.parts.keras:Created Keras3D_CNN_ModifiedOnlySteering with interpreter: KerasInterpreter\n",
      "INFO:donkeycar.parts.keras:Num outputs 1\n",
      "INFO:donkeycar.parts.keras:Sequence length 3\n",
      "INFO:donkeycar.parts.keras:Loading model /Volumes/GoogleDrive/My Drive/maka/open-loop/models/nighttime-slow-auto-3d-get-fold-indices/Keras3D_CNN_ModifiedOnlySteering-3.fold-of-5-CC.h5\n",
      "INFO:donkeycar.parts.interpreter:Loading model /Volumes/GoogleDrive/My Drive/maka/open-loop/models/nighttime-slow-auto-3d-get-fold-indices/Keras3D_CNN_ModifiedOnlySteering-3.fold-of-5-CC.h5\n"
     ]
    },
    {
     "name": "stdout",
     "output_type": "stream",
     "text": [
      "predictions shape (19250,)\n",
      "128/128 [==============================] - 28s 220ms/step\n",
      "predictions shape (16319,)\n",
      "32/32 [==============================] - 7s 221ms/step\n",
      "predictions shape (3985,)\n",
      "151/151 [==============================] - 34s 225ms/step\n"
     ]
    },
    {
     "name": "stderr",
     "output_type": "stream",
     "text": [
      "INFO:donkeycar.utils:get_model_by_type: model type is: 3d-modified-steering\n",
      "INFO:donkeycar.parts.keras:input_shape (60, 160, 3) num_outputs 1\n",
      "INFO:donkeycar.parts.keras:Created Keras3D_CNN_ModifiedOnlySteering with interpreter: KerasInterpreter\n",
      "INFO:donkeycar.parts.keras:Num outputs 1\n",
      "INFO:donkeycar.parts.keras:Sequence length 3\n",
      "INFO:donkeycar.parts.keras:Loading model /Volumes/GoogleDrive/My Drive/maka/open-loop/models/nighttime-slow-auto-3d-get-fold-indices/Keras3D_CNN_ModifiedOnlySteering-4.fold-of-5-CC.h5\n",
      "INFO:donkeycar.parts.interpreter:Loading model /Volumes/GoogleDrive/My Drive/maka/open-loop/models/nighttime-slow-auto-3d-get-fold-indices/Keras3D_CNN_ModifiedOnlySteering-4.fold-of-5-CC.h5\n"
     ]
    },
    {
     "name": "stdout",
     "output_type": "stream",
     "text": [
      "predictions shape (19250,)\n",
      "128/128 [==============================] - 30s 236ms/step\n",
      "predictions shape (16319,)\n",
      "32/32 [==============================] - 7s 226ms/step\n",
      "predictions shape (3985,)\n",
      "151/151 [==============================] - 37s 245ms/step\n"
     ]
    },
    {
     "name": "stderr",
     "output_type": "stream",
     "text": [
      "INFO:donkeycar.utils:get_model_by_type: model type is: 3d-modified-steering\n",
      "INFO:donkeycar.parts.keras:input_shape (60, 160, 3) num_outputs 1\n",
      "INFO:donkeycar.parts.keras:Created Keras3D_CNN_ModifiedOnlySteering with interpreter: KerasInterpreter\n",
      "INFO:donkeycar.parts.keras:Num outputs 1\n",
      "INFO:donkeycar.parts.keras:Sequence length 3\n",
      "INFO:donkeycar.parts.keras:Loading model /Volumes/GoogleDrive/My Drive/maka/open-loop/models/nighttime-slow-auto-3d-get-fold-indices/Keras3D_CNN_ModifiedOnlySteering-5.fold-of-5-CC.h5\n",
      "INFO:donkeycar.parts.interpreter:Loading model /Volumes/GoogleDrive/My Drive/maka/open-loop/models/nighttime-slow-auto-3d-get-fold-indices/Keras3D_CNN_ModifiedOnlySteering-5.fold-of-5-CC.h5\n"
     ]
    },
    {
     "name": "stdout",
     "output_type": "stream",
     "text": [
      "predictions shape (19250,)\n",
      "128/128 [==============================] - 31s 241ms/step\n",
      "predictions shape (16319,)\n",
      "32/32 [==============================] - 8s 250ms/step\n",
      "predictions shape (3985,)\n",
      "151/151 [==============================] - 34s 226ms/step\n",
      "predictions shape (19250,)\n"
     ]
    }
   ],
   "source": [
    "\n",
    "train_predictions = np.zeros(len(slow_speed_data))\n",
    "test_predictions = np.zeros(len(slow_speed_data))\n",
    "fast_predictions = np.zeros(len(fast_speed_data))\n",
    "\n",
    "MODELS_PATH = '/Volumes/GoogleDrive/My Drive/maka/open-loop/models/nighttime-slow-auto-3d-get-fold-indices'\n",
    "\n",
    "for fold, (train_index, test_index) in enumerate(get_fold_indices(slow_speed_data), start=1):\n",
    "    train_records = [slow_speed_data[i] for i in train_index]\n",
    "    test_records = [slow_speed_data[i] for i in test_index]\n",
    "    trained_model = load_model(MODELS_PATH, model_type, cfg, DIRECTION, N_FOLDS, fold)\n",
    "    fold_train_predictions = np.zeros(len(slow_speed_data))\n",
    "    np.put(fold_train_predictions, train_index, get_predictions(trained_model, cfg, train_records))\n",
    "    train_predictions += fold_train_predictions\n",
    "\n",
    "    fold_test_predictions = get_predictions(trained_model, cfg, test_records)\n",
    "    np.put(test_predictions, test_index, fold_test_predictions)\n",
    "\n",
    "    fold_fast_predictions = get_predictions(trained_model, cfg, fast_speed_data)\n",
    "    fast_predictions += fold_fast_predictions\n",
    "\n",
    "train_predictions /= (N_FOLDS-1)\n",
    "fast_predictions /= N_FOLDS"
   ],
   "metadata": {
    "collapsed": false,
    "pycharm": {
     "name": "#%%\n"
    }
   }
  },
  {
   "cell_type": "code",
   "execution_count": 16,
   "outputs": [
    {
     "data": {
      "text/plain": "(-0.24456062894937428, -0.2491590826787015, -0.25424844947983694)"
     },
     "execution_count": 16,
     "metadata": {},
     "output_type": "execute_result"
    }
   ],
   "source": [
    "train_predictions.mean(), test_predictions.mean(), fast_predictions.mean()\n"
   ],
   "metadata": {
    "collapsed": false,
    "pycharm": {
     "name": "#%%\n"
    }
   }
  },
  {
   "cell_type": "code",
   "execution_count": 17,
   "outputs": [
    {
     "data": {
      "text/plain": "((20304,), (20304,), (19250,))"
     },
     "execution_count": 17,
     "metadata": {},
     "output_type": "execute_result"
    }
   ],
   "source": [
    "train_predictions.shape, test_predictions.shape, fast_predictions.shape\n"
   ],
   "metadata": {
    "collapsed": false,
    "pycharm": {
     "name": "#%%\n"
    }
   }
  },
  {
   "cell_type": "markdown",
   "source": [],
   "metadata": {
    "collapsed": false,
    "pycharm": {
     "name": "#%% md\n"
    }
   }
  },
  {
   "cell_type": "code",
   "execution_count": 18,
   "outputs": [],
   "source": [
    "np.save('open-loop-results/nighttime-slow-auto-3d-model-nighttime-slow-auto-data-prediction-and-ground-truth.npy', np.array([train_predictions, test_predictions, slow_ground_truths]).T)\n",
    "np.save('open-loop-results/nighttime-slow-auto-3d-model-nighttime-fast-auto-data-prediction-and-ground-truth.npy', np.array([fast_predictions, fast_ground_truths]).T)\n"
   ],
   "metadata": {
    "collapsed": false,
    "pycharm": {
     "name": "#%%\n"
    }
   }
  },
  {
   "cell_type": "code",
   "execution_count": 18,
   "outputs": [],
   "source": [
    "cfg.SEQUENCE_LENGTH = 0\n",
    "cfg.ROI_CROP_TOP = 59\n"
   ],
   "metadata": {
    "collapsed": false,
    "pycharm": {
     "name": "#%%\n"
    }
   }
  },
  {
   "cell_type": "code",
   "execution_count": 19,
   "outputs": [
    {
     "name": "stderr",
     "output_type": "stream",
     "text": [
      "INFO:donkeycar.utils:get_model_by_type: model type is: linear-steering\n",
      "INFO:donkeycar.parts.keras:Created KerasLinearOnlySteering with interpreter: KerasInterpreter\n"
     ]
    },
    {
     "name": "stdout",
     "output_type": "stream",
     "text": [
      "Model: \"linear\"\n",
      "__________________________________________________________________________________________________\n",
      " Layer (type)                   Output Shape         Param #     Connected to                     \n",
      "==================================================================================================\n",
      " img_in (InputLayer)            [(None, 61, 160, 3)  0           []                               \n",
      "                                ]                                                                 \n",
      "                                                                                                  \n",
      " conv2d_1 (Conv2D)              (None, 29, 78, 24)   1824        ['img_in[0][0]']                 \n",
      "                                                                                                  \n",
      " dropout_22 (Dropout)           (None, 29, 78, 24)   0           ['conv2d_1[0][0]']               \n",
      "                                                                                                  \n",
      " conv2d_2 (Conv2D)              (None, 13, 37, 32)   19232       ['dropout_22[0][0]']             \n",
      "                                                                                                  \n",
      " dropout_23 (Dropout)           (None, 13, 37, 32)   0           ['conv2d_2[0][0]']               \n",
      "                                                                                                  \n",
      " conv2d_3 (Conv2D)              (None, 5, 17, 64)    51264       ['dropout_23[0][0]']             \n",
      "                                                                                                  \n",
      " dropout_24 (Dropout)           (None, 5, 17, 64)    0           ['conv2d_3[0][0]']               \n",
      "                                                                                                  \n",
      " conv2d_4 (Conv2D)              (None, 3, 15, 64)    36928       ['dropout_24[0][0]']             \n",
      "                                                                                                  \n",
      " dropout_25 (Dropout)           (None, 3, 15, 64)    0           ['conv2d_4[0][0]']               \n",
      "                                                                                                  \n",
      " conv2d_5 (Conv2D)              (None, 1, 13, 64)    36928       ['dropout_25[0][0]']             \n",
      "                                                                                                  \n",
      " dropout_26 (Dropout)           (None, 1, 13, 64)    0           ['conv2d_5[0][0]']               \n",
      "                                                                                                  \n",
      " flattened (Flatten)            (None, 832)          0           ['dropout_26[0][0]']             \n",
      "                                                                                                  \n",
      " dense_1 (Dense)                (None, 100)          83300       ['flattened[0][0]']              \n",
      "                                                                                                  \n",
      " dropout_27 (Dropout)           (None, 100)          0           ['dense_1[0][0]']                \n",
      "                                                                                                  \n",
      " dense_2 (Dense)                (None, 50)           5050        ['dropout_27[0][0]']             \n",
      "                                                                                                  \n",
      " dropout_28 (Dropout)           (None, 50)           0           ['dense_2[0][0]']                \n",
      "                                                                                                  \n",
      " n_outputs0 (Dense)             (None, 1)            51          ['dropout_28[0][0]']             \n",
      "                                                                                                  \n",
      " n_outputs1 (Dense)             (None, 1)            51          ['dropout_28[0][0]']             \n",
      "                                                                                                  \n",
      "==================================================================================================\n",
      "Total params: 234,628\n",
      "Trainable params: 234,628\n",
      "Non-trainable params: 0\n",
      "__________________________________________________________________________________________________\n"
     ]
    }
   ],
   "source": [
    "model_type = 'linear-steering'\n",
    "model = get_model_by_type(model_type, cfg)\n",
    "model.interpreter.model.summary()\n"
   ],
   "metadata": {
    "collapsed": false,
    "pycharm": {
     "name": "#%%\n"
    }
   }
  },
  {
   "cell_type": "code",
   "execution_count": 20,
   "outputs": [
    {
     "name": "stderr",
     "output_type": "stream",
     "text": [
      "INFO:donkeycar.pipeline.types:Loading tubs from paths ['data/faster-autodrive']\n"
     ]
    },
    {
     "name": "stdout",
     "output_type": "stream",
     "text": [
      "Using catalog /Users/kristjan.roosild/PycharmProjects/dat-sci-master-thesis/data/faster-autodrive/catalog_20.catalog\n"
     ]
    },
    {
     "data": {
      "text/plain": "19266"
     },
     "execution_count": 20,
     "metadata": {},
     "output_type": "execute_result"
    }
   ],
   "source": [
    "fast_speed_data = load_records('faster-autodrive', cfg, DATA_PATH, TUBRECORD_SIZE)\n",
    "len(fast_speed_data)"
   ],
   "metadata": {
    "collapsed": false,
    "pycharm": {
     "name": "#%%\n"
    }
   }
  },
  {
   "cell_type": "code",
   "execution_count": 21,
   "outputs": [
    {
     "name": "stderr",
     "output_type": "stream",
     "text": [
      "INFO:donkeycar.pipeline.types:Loading tubs from paths ['data/slower-autodrive']\n"
     ]
    },
    {
     "name": "stdout",
     "output_type": "stream",
     "text": [
      "Using catalog /Users/kristjan.roosild/PycharmProjects/dat-sci-master-thesis/data/slower-autodrive/catalog_20.catalog\n"
     ]
    },
    {
     "data": {
      "text/plain": "20308"
     },
     "execution_count": 21,
     "metadata": {},
     "output_type": "execute_result"
    }
   ],
   "source": [
    "slow_speed_data = load_records('slower-autodrive', cfg, DATA_PATH, TUBRECORD_SIZE)\n",
    "len(slow_speed_data)\n"
   ],
   "metadata": {
    "collapsed": false,
    "pycharm": {
     "name": "#%%\n"
    }
   }
  },
  {
   "cell_type": "code",
   "execution_count": 22,
   "outputs": [
    {
     "name": "stdout",
     "output_type": "stream",
     "text": [
      "len ground_truth 19266\n",
      "len ground_truth 20308\n"
     ]
    }
   ],
   "source": [
    "fast_ground_truths = get_ground_truth(model, fast_speed_data)\n",
    "slow_ground_truths = get_ground_truth(model, slow_speed_data)\n"
   ],
   "metadata": {
    "collapsed": false,
    "pycharm": {
     "name": "#%%\n"
    }
   }
  },
  {
   "cell_type": "code",
   "execution_count": 23,
   "outputs": [
    {
     "name": "stderr",
     "output_type": "stream",
     "text": [
      "INFO:donkeycar.utils:get_model_by_type: model type is: linear-steering\n",
      "INFO:donkeycar.parts.keras:Created KerasLinearOnlySteering with interpreter: KerasInterpreter\n",
      "INFO:donkeycar.parts.keras:Loading model /Volumes/GoogleDrive/My Drive/maka/open-loop/models/nighttime-fast-auto-linear/KerasLinearOnlySteering-1.fold-of-5-CC.h5\n",
      "INFO:donkeycar.parts.interpreter:Loading model /Volumes/GoogleDrive/My Drive/maka/open-loop/models/nighttime-fast-auto-linear/KerasLinearOnlySteering-1.fold-of-5-CC.h5\n"
     ]
    },
    {
     "name": "stdout",
     "output_type": "stream",
     "text": [
      "121/121 [==============================] - 93s 767ms/step\n",
      "predictions shape (15412, 1)\n",
      "31/31 [==============================] - 12s 382ms/step\n",
      "predictions shape (3854, 1)\n",
      "159/159 [==============================] - 96s 603ms/step\n"
     ]
    },
    {
     "name": "stderr",
     "output_type": "stream",
     "text": [
      "INFO:donkeycar.utils:get_model_by_type: model type is: linear-steering\n",
      "INFO:donkeycar.parts.keras:Created KerasLinearOnlySteering with interpreter: KerasInterpreter\n",
      "INFO:donkeycar.parts.keras:Loading model /Volumes/GoogleDrive/My Drive/maka/open-loop/models/nighttime-fast-auto-linear/KerasLinearOnlySteering-2.fold-of-5-CC.h5\n",
      "INFO:donkeycar.parts.interpreter:Loading model /Volumes/GoogleDrive/My Drive/maka/open-loop/models/nighttime-fast-auto-linear/KerasLinearOnlySteering-2.fold-of-5-CC.h5\n"
     ]
    },
    {
     "name": "stdout",
     "output_type": "stream",
     "text": [
      "predictions shape (20308, 1)\n",
      "121/121 [==============================] - 12s 97ms/step\n",
      "predictions shape (15413, 1)\n",
      "31/31 [==============================] - 3s 96ms/step\n",
      "predictions shape (3853, 1)\n",
      "159/159 [==============================] - 15s 97ms/step\n"
     ]
    },
    {
     "name": "stderr",
     "output_type": "stream",
     "text": [
      "INFO:donkeycar.utils:get_model_by_type: model type is: linear-steering\n",
      "INFO:donkeycar.parts.keras:Created KerasLinearOnlySteering with interpreter: KerasInterpreter\n",
      "INFO:donkeycar.parts.keras:Loading model /Volumes/GoogleDrive/My Drive/maka/open-loop/models/nighttime-fast-auto-linear/KerasLinearOnlySteering-3.fold-of-5-CC.h5\n",
      "INFO:donkeycar.parts.interpreter:Loading model /Volumes/GoogleDrive/My Drive/maka/open-loop/models/nighttime-fast-auto-linear/KerasLinearOnlySteering-3.fold-of-5-CC.h5\n"
     ]
    },
    {
     "name": "stdout",
     "output_type": "stream",
     "text": [
      "predictions shape (20308, 1)\n",
      "121/121 [==============================] - 12s 98ms/step\n",
      "predictions shape (15413, 1)\n",
      "31/31 [==============================] - 3s 96ms/step\n",
      "predictions shape (3853, 1)\n",
      "159/159 [==============================] - 15s 97ms/step\n"
     ]
    },
    {
     "name": "stderr",
     "output_type": "stream",
     "text": [
      "INFO:donkeycar.utils:get_model_by_type: model type is: linear-steering\n",
      "INFO:donkeycar.parts.keras:Created KerasLinearOnlySteering with interpreter: KerasInterpreter\n",
      "INFO:donkeycar.parts.keras:Loading model /Volumes/GoogleDrive/My Drive/maka/open-loop/models/nighttime-fast-auto-linear/KerasLinearOnlySteering-4.fold-of-5-CC.h5\n",
      "INFO:donkeycar.parts.interpreter:Loading model /Volumes/GoogleDrive/My Drive/maka/open-loop/models/nighttime-fast-auto-linear/KerasLinearOnlySteering-4.fold-of-5-CC.h5\n"
     ]
    },
    {
     "name": "stdout",
     "output_type": "stream",
     "text": [
      "predictions shape (20308, 1)\n",
      "121/121 [==============================] - 12s 96ms/step\n",
      "predictions shape (15413, 1)\n",
      "31/31 [==============================] - 3s 96ms/step\n",
      "predictions shape (3853, 1)\n",
      "159/159 [==============================] - 15s 96ms/step\n",
      "predictions shape (20308, 1)\n"
     ]
    },
    {
     "name": "stderr",
     "output_type": "stream",
     "text": [
      "INFO:donkeycar.utils:get_model_by_type: model type is: linear-steering\n",
      "INFO:donkeycar.parts.keras:Created KerasLinearOnlySteering with interpreter: KerasInterpreter\n",
      "INFO:donkeycar.parts.keras:Loading model /Volumes/GoogleDrive/My Drive/maka/open-loop/models/nighttime-fast-auto-linear/KerasLinearOnlySteering-5.fold-of-5-CC.h5\n",
      "INFO:donkeycar.parts.interpreter:Loading model /Volumes/GoogleDrive/My Drive/maka/open-loop/models/nighttime-fast-auto-linear/KerasLinearOnlySteering-5.fold-of-5-CC.h5\n"
     ]
    },
    {
     "name": "stdout",
     "output_type": "stream",
     "text": [
      "121/121 [==============================] - 12s 102ms/step\n",
      "predictions shape (15413, 1)\n",
      "31/31 [==============================] - 3s 110ms/step\n",
      "predictions shape (3853, 1)\n",
      "159/159 [==============================] - 18s 113ms/step\n",
      "predictions shape (20308, 1)\n"
     ]
    }
   ],
   "source": [
    "\n",
    "train_predictions = np.zeros(len(fast_speed_data))\n",
    "test_predictions = np.zeros(len(fast_speed_data))\n",
    "slow_predictions = np.zeros(len(slow_speed_data))\n",
    "\n",
    "MODELS_PATH = '/Volumes/GoogleDrive/My Drive/maka/open-loop/models/nighttime-fast-auto-linear'\n",
    "\n",
    "for fold, (train_index, test_index) in enumerate(kf.split(fast_speed_data), start=1):\n",
    "    train_records = [fast_speed_data[i] for i in train_index]\n",
    "    test_records = [fast_speed_data[i] for i in test_index]\n",
    "    trained_model = load_model(MODELS_PATH, model_type, cfg, DIRECTION, N_FOLDS, fold)\n",
    "    fold_train_predictions = np.zeros(len(fast_speed_data))\n",
    "    np.put(fold_train_predictions, train_index, get_predictions(trained_model, cfg, train_records))\n",
    "    train_predictions += fold_train_predictions\n",
    "\n",
    "    fold_test_predictions = get_predictions(trained_model, cfg, test_records)\n",
    "    np.put(test_predictions, test_index, fold_test_predictions)\n",
    "\n",
    "    fold_slow_predictions = get_predictions(trained_model, cfg, slow_speed_data)\n",
    "    slow_predictions += fold_slow_predictions[:,0]\n",
    "\n",
    "train_predictions /= (N_FOLDS-1)\n",
    "slow_predictions /= N_FOLDS"
   ],
   "metadata": {
    "collapsed": false,
    "pycharm": {
     "name": "#%%\n"
    }
   }
  },
  {
   "cell_type": "code",
   "execution_count": 24,
   "outputs": [
    {
     "data": {
      "text/plain": "(-0.2543695506249286, -0.2543950245587963, -0.24445792576494396)"
     },
     "execution_count": 24,
     "metadata": {},
     "output_type": "execute_result"
    }
   ],
   "source": [
    "train_predictions.mean(), test_predictions.mean(), slow_predictions.mean()\n"
   ],
   "metadata": {
    "collapsed": false,
    "pycharm": {
     "name": "#%%\n"
    }
   }
  },
  {
   "cell_type": "code",
   "execution_count": 25,
   "outputs": [
    {
     "data": {
      "text/plain": "((19266,), (19266,), (20308,))"
     },
     "execution_count": 25,
     "metadata": {},
     "output_type": "execute_result"
    }
   ],
   "source": [
    "train_predictions.shape, test_predictions.shape, slow_predictions.shape\n"
   ],
   "metadata": {
    "collapsed": false,
    "pycharm": {
     "name": "#%%\n"
    }
   }
  },
  {
   "cell_type": "code",
   "execution_count": 26,
   "outputs": [],
   "source": [
    "np.savetxt('open-loop-results/nighttime-fast-auto-linear-model-nighttime-fast-auto-data-prediction-and-ground-truth.csv.gz', np.array([train_predictions, test_predictions, fast_ground_truths]).T)\n",
    "np.savetxt('open-loop-results/nighttime-fast-auto-linear-model-nighttime-slow-auto-data-prediction-and-ground-truth.csv.gz', np.array([slow_predictions, slow_ground_truths]).T)\n"
   ],
   "metadata": {
    "collapsed": false,
    "pycharm": {
     "name": "#%%\n"
    }
   }
  },
  {
   "cell_type": "code",
   "execution_count": 27,
   "outputs": [
    {
     "name": "stderr",
     "output_type": "stream",
     "text": [
      "INFO:donkeycar.utils:get_model_by_type: model type is: linear-steering\n",
      "INFO:donkeycar.parts.keras:Created KerasLinearOnlySteering with interpreter: KerasInterpreter\n",
      "INFO:donkeycar.parts.keras:Loading model /Volumes/GoogleDrive/My Drive/maka/open-loop/models/nighttime-slow-auto-linear/KerasLinearOnlySteering-1.fold-of-5-CC.h5\n",
      "INFO:donkeycar.parts.interpreter:Loading model /Volumes/GoogleDrive/My Drive/maka/open-loop/models/nighttime-slow-auto-linear/KerasLinearOnlySteering-1.fold-of-5-CC.h5\n"
     ]
    },
    {
     "name": "stdout",
     "output_type": "stream",
     "text": [
      "127/127 [==============================] - 14s 106ms/step\n",
      "predictions shape (16246, 1)\n",
      "32/32 [==============================] - 3s 98ms/step\n",
      "predictions shape (4062, 1)\n",
      "151/151 [==============================] - 15s 102ms/step\n"
     ]
    },
    {
     "name": "stderr",
     "output_type": "stream",
     "text": [
      "INFO:donkeycar.utils:get_model_by_type: model type is: linear-steering\n",
      "INFO:donkeycar.parts.keras:Created KerasLinearOnlySteering with interpreter: KerasInterpreter\n",
      "INFO:donkeycar.parts.keras:Loading model /Volumes/GoogleDrive/My Drive/maka/open-loop/models/nighttime-slow-auto-linear/KerasLinearOnlySteering-2.fold-of-5-CC.h5\n",
      "INFO:donkeycar.parts.interpreter:Loading model /Volumes/GoogleDrive/My Drive/maka/open-loop/models/nighttime-slow-auto-linear/KerasLinearOnlySteering-2.fold-of-5-CC.h5\n"
     ]
    },
    {
     "name": "stdout",
     "output_type": "stream",
     "text": [
      "predictions shape (19266, 1)\n",
      "127/127 [==============================] - 12s 97ms/step\n",
      "predictions shape (16246, 1)\n",
      "32/32 [==============================] - 3s 98ms/step\n",
      "predictions shape (4062, 1)\n",
      "151/151 [==============================] - 14s 95ms/step\n",
      "predictions shape (19266, 1)\n"
     ]
    },
    {
     "name": "stderr",
     "output_type": "stream",
     "text": [
      "INFO:donkeycar.utils:get_model_by_type: model type is: linear-steering\n",
      "INFO:donkeycar.parts.keras:Created KerasLinearOnlySteering with interpreter: KerasInterpreter\n",
      "INFO:donkeycar.parts.keras:Loading model /Volumes/GoogleDrive/My Drive/maka/open-loop/models/nighttime-slow-auto-linear/KerasLinearOnlySteering-3.fold-of-5-CC.h5\n",
      "INFO:donkeycar.parts.interpreter:Loading model /Volumes/GoogleDrive/My Drive/maka/open-loop/models/nighttime-slow-auto-linear/KerasLinearOnlySteering-3.fold-of-5-CC.h5\n"
     ]
    },
    {
     "name": "stdout",
     "output_type": "stream",
     "text": [
      "127/127 [==============================] - 13s 98ms/step\n",
      "predictions shape (16246, 1)\n",
      "32/32 [==============================] - 3s 95ms/step\n",
      "predictions shape (4062, 1)\n",
      "151/151 [==============================] - 15s 98ms/step\n"
     ]
    },
    {
     "name": "stderr",
     "output_type": "stream",
     "text": [
      "INFO:donkeycar.utils:get_model_by_type: model type is: linear-steering\n",
      "INFO:donkeycar.parts.keras:Created KerasLinearOnlySteering with interpreter: KerasInterpreter\n",
      "INFO:donkeycar.parts.keras:Loading model /Volumes/GoogleDrive/My Drive/maka/open-loop/models/nighttime-slow-auto-linear/KerasLinearOnlySteering-4.fold-of-5-CC.h5\n",
      "INFO:donkeycar.parts.interpreter:Loading model /Volumes/GoogleDrive/My Drive/maka/open-loop/models/nighttime-slow-auto-linear/KerasLinearOnlySteering-4.fold-of-5-CC.h5\n"
     ]
    },
    {
     "name": "stdout",
     "output_type": "stream",
     "text": [
      "predictions shape (19266, 1)\n",
      "127/127 [==============================] - 12s 96ms/step\n",
      "predictions shape (16247, 1)\n",
      "32/32 [==============================] - 3s 100ms/step\n",
      "predictions shape (4061, 1)\n",
      "151/151 [==============================] - 15s 98ms/step\n"
     ]
    },
    {
     "name": "stderr",
     "output_type": "stream",
     "text": [
      "INFO:donkeycar.utils:get_model_by_type: model type is: linear-steering\n",
      "INFO:donkeycar.parts.keras:Created KerasLinearOnlySteering with interpreter: KerasInterpreter\n",
      "INFO:donkeycar.parts.keras:Loading model /Volumes/GoogleDrive/My Drive/maka/open-loop/models/nighttime-slow-auto-linear/KerasLinearOnlySteering-5.fold-of-5-CC.h5\n",
      "INFO:donkeycar.parts.interpreter:Loading model /Volumes/GoogleDrive/My Drive/maka/open-loop/models/nighttime-slow-auto-linear/KerasLinearOnlySteering-5.fold-of-5-CC.h5\n"
     ]
    },
    {
     "name": "stdout",
     "output_type": "stream",
     "text": [
      "predictions shape (19266, 1)\n",
      "127/127 [==============================] - 12s 97ms/step\n",
      "predictions shape (16247, 1)\n",
      "32/32 [==============================] - 3s 101ms/step\n",
      "predictions shape (4061, 1)\n",
      "151/151 [==============================] - 15s 101ms/step\n",
      "predictions shape (19266, 1)\n"
     ]
    }
   ],
   "source": [
    "\n",
    "train_predictions = np.zeros(len(slow_speed_data))\n",
    "test_predictions = np.zeros(len(slow_speed_data))\n",
    "fast_predictions = np.zeros(len(fast_speed_data))\n",
    "\n",
    "MODELS_PATH = '/Volumes/GoogleDrive/My Drive/maka/open-loop/models/nighttime-slow-auto-linear'\n",
    "\n",
    "for fold, (train_index, test_index) in enumerate(kf.split(slow_speed_data), start=1):\n",
    "    train_records = [slow_speed_data[i] for i in train_index]\n",
    "    test_records = [slow_speed_data[i] for i in test_index]\n",
    "    trained_model = load_model(MODELS_PATH, model_type, cfg, DIRECTION, N_FOLDS, fold)\n",
    "    fold_train_predictions = np.zeros(len(slow_speed_data))\n",
    "    np.put(fold_train_predictions, train_index, get_predictions(trained_model, cfg, train_records))\n",
    "    train_predictions += fold_train_predictions\n",
    "\n",
    "    fold_test_predictions = get_predictions(trained_model, cfg, test_records)\n",
    "    np.put(test_predictions, test_index, fold_test_predictions)\n",
    "\n",
    "    fold_fast_predictions = get_predictions(trained_model, cfg, fast_speed_data)\n",
    "    fast_predictions += fold_fast_predictions[:,0]\n",
    "\n",
    "train_predictions /= (N_FOLDS-1)\n",
    "fast_predictions /= N_FOLDS"
   ],
   "metadata": {
    "collapsed": false,
    "pycharm": {
     "name": "#%%\n"
    }
   }
  },
  {
   "cell_type": "code",
   "execution_count": 28,
   "outputs": [
    {
     "data": {
      "text/plain": "(-0.24557717313088576, -0.24545020701456136, -0.2573492209899343)"
     },
     "execution_count": 28,
     "metadata": {},
     "output_type": "execute_result"
    }
   ],
   "source": [
    "train_predictions.mean(), test_predictions.mean(), fast_predictions.mean()\n"
   ],
   "metadata": {
    "collapsed": false,
    "pycharm": {
     "name": "#%%\n"
    }
   }
  },
  {
   "cell_type": "code",
   "execution_count": 29,
   "outputs": [
    {
     "data": {
      "text/plain": "((20308,), (20308,), (19266,))"
     },
     "execution_count": 29,
     "metadata": {},
     "output_type": "execute_result"
    }
   ],
   "source": [
    "train_predictions.shape, test_predictions.shape, fast_predictions.shape\n"
   ],
   "metadata": {
    "collapsed": false,
    "pycharm": {
     "name": "#%%\n"
    }
   }
  },
  {
   "cell_type": "code",
   "execution_count": 30,
   "outputs": [],
   "source": [
    "np.savetxt('open-loop-results/nighttime-slow-auto-linear-model-nighttime-slow-auto-data-prediction-and-ground-truth.csv.gz', np.array([train_predictions, test_predictions, slow_ground_truths]).T)\n",
    "np.savetxt('open-loop-results/nighttime-slow-auto-linear-model-nighttime-fast-auto-data-prediction-and-ground-truth.csv.gz', np.array([fast_predictions, fast_ground_truths]).T)\n"
   ],
   "metadata": {
    "collapsed": false,
    "pycharm": {
     "name": "#%%\n"
    }
   }
  },
  {
   "cell_type": "code",
   "execution_count": 107,
   "outputs": [],
   "source": [],
   "metadata": {
    "collapsed": false,
    "pycharm": {
     "name": "#%%\n"
    }
   }
  }
 ],
 "metadata": {
  "kernelspec": {
   "display_name": "donkey2",
   "language": "python",
   "name": "donkey2"
  },
  "language_info": {
   "codemirror_mode": {
    "name": "ipython",
    "version": 3
   },
   "file_extension": ".py",
   "mimetype": "text/x-python",
   "name": "python",
   "nbconvert_exporter": "python",
   "pygments_lexer": "ipython3",
   "version": "3.7.11"
  },
  "toc-autonumbering": false
 },
 "nbformat": 4,
 "nbformat_minor": 4
}