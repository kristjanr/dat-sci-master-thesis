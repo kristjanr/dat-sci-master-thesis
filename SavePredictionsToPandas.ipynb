{
 "cells": [
  {
   "cell_type": "markdown",
   "metadata": {},
   "source": [
    "# Save predictions to Pandas\n",
    "\n",
    "This notebook loads all 2x5 trained models, gets the predictions and saves the results to pandas dataframe and a file\n",
    "\n",
    "## Setup\n",
    "- Download and unpack training data\n",
    "- Create DonkeyCar project and load configuration"
   ]
  },
  {
   "cell_type": "code",
   "execution_count": 1,
   "metadata": {
    "collapsed": false,
    "jupyter": {
     "outputs_hidden": false
    },
    "pycharm": {
     "name": "#%%\n"
    }
   },
   "outputs": [],
   "source": [
    "%load_ext autoreload\n",
    "%autoreload 2"
   ]
  },
  {
   "cell_type": "code",
   "execution_count": 2,
   "outputs": [],
   "source": [
    "import sys\n",
    "sys.path.append('donkeycar')\n",
    "sys.path.append('src')"
   ],
   "metadata": {
    "collapsed": false,
    "pycharm": {
     "name": "#%%\n"
    }
   }
  },
  {
   "cell_type": "code",
   "execution_count": null,
   "outputs": [],
   "source": [
    "import os\n",
    "# do we have the correct env loaded?\n",
    "assert 'donkey' == os.environ['CONDA_DEFAULT_ENV'], os.environ['CONDA_DEFAULT_ENV']"
   ],
   "metadata": {
    "collapsed": false,
    "pycharm": {
     "name": "#%%\n"
    }
   }
  },
  {
   "cell_type": "code",
   "execution_count": 2,
   "metadata": {},
   "outputs": [],
   "source": [
    "![ ! -d \"data/\" ] && \\\n",
    "mkdir data && \\\n",
    "curl -L \"https://www.dropbox.com/s/eltelvjt12a4ny1/data.zip?dl=1\" --output data/data.zip && \\\n",
    "unzip data/data.zip -d data"
   ]
  },
  {
   "cell_type": "code",
   "execution_count": 23,
   "outputs": [
    {
     "name": "stdout",
     "output_type": "stream",
     "text": [
      "  % Total    % Received % Xferd  Average Speed   Time    Time     Time  Current\r\n",
      "                                 Dload  Upload   Total   Spent    Left  Speed\r\n",
      "100   134    0   134    0     0    320      0 --:--:-- --:--:-- --:--:--   319\r\n",
      "100   342  100   342    0     0    406      0 --:--:-- --:--:-- --:--:--   406\r\n",
      "100 58.6M  100 58.6M    0     0  3725k      0  0:00:16  0:00:16 --:--:-- 4233k  0  3684k      0  0:00:16  0:00:14  0:00:02 3996k\r\n",
      "Archive:  models/models.zip\r\n",
      "  inflating: models/Keras3D_CNN_ModifiedOnlySteering-1.fold-of-5-CC.h5  \r\n",
      "  inflating: models/Keras3D_CNN_ModifiedOnlySteering-1.fold-of-5-CW.h5  \r\n",
      "  inflating: models/Keras3D_CNN_ModifiedOnlySteering-2.fold-of-5-CC.h5  \r\n",
      "  inflating: models/Keras3D_CNN_ModifiedOnlySteering-2.fold-of-5-CW.h5  \r\n",
      "  inflating: models/Keras3D_CNN_ModifiedOnlySteering-3.fold-of-5-CC.h5  \r\n",
      "  inflating: models/Keras3D_CNN_ModifiedOnlySteering-3.fold-of-5-CW.h5  \r\n",
      "  inflating: models/Keras3D_CNN_ModifiedOnlySteering-4.fold-of-5-CC.h5  \r\n",
      "  inflating: models/Keras3D_CNN_ModifiedOnlySteering-4.fold-of-5-CW.h5  \r\n",
      "  inflating: models/Keras3D_CNN_ModifiedOnlySteering-5.fold-of-5-CC.h5  \r\n",
      "  inflating: models/Keras3D_CNN_ModifiedOnlySteering-5.fold-of-5-CW.h5  \r\n",
      "  inflating: models/Keras3D_CNN_ModifiedOnlySteering-6.fold-of-5-CC.h5  \r\n"
     ]
    }
   ],
   "source": [
    "![ ! -d \"models/\" ] && \\\n",
    "mkdir models && \\\n",
    "curl -L \"https://www.dropbox.com/s/k9amvpqz3lcu7f3/models.zip?dl=1\" --output models/models.zip && \\\n",
    "unzip models/models.zip -d models"
   ],
   "metadata": {
    "collapsed": false,
    "pycharm": {
     "name": "#%%\n"
    }
   }
  },
  {
   "cell_type": "code",
   "execution_count": 3,
   "metadata": {},
   "outputs": [],
   "source": [
    "![ ! -d \"mycar/\" ] && \\\n",
    "donkey createcar --path mycar && \\\n",
    "cp config/myconfig.py mycar/"
   ]
  },
  {
   "cell_type": "markdown",
   "metadata": {},
   "source": [
    "\n",
    "### Common settings for both directions"
   ]
  },
  {
   "cell_type": "code",
   "execution_count": 3,
   "outputs": [
    {
     "name": "stdout",
     "output_type": "stream",
     "text": [
      "________             ______                   _________              \n",
      "___  __ \\_______________  /___________  __    __  ____/_____ ________\n",
      "__  / / /  __ \\_  __ \\_  //_/  _ \\_  / / /    _  /    _  __ `/_  ___/\n",
      "_  /_/ // /_/ /  / / /  ,<  /  __/  /_/ /     / /___  / /_/ /_  /    \n",
      "/_____/ \\____//_/ /_//_/|_| \\___/_\\__, /      \\____/  \\__,_/ /_/     \n",
      "                                 /____/                              \n",
      "\n",
      "using donkey v4.3.5 ...\n"
     ]
    },
    {
     "name": "stderr",
     "output_type": "stream",
     "text": [
      "\n",
      "----------------------------------------------------------------------\n",
      "Ran 0 tests in 0.000s\n",
      "\n",
      "OK\n",
      "INFO:numexpr.utils:Note: NumExpr detected 12 cores but \"NUMEXPR_MAX_THREADS\" not set, so enforcing safe limit of 8.\n",
      "INFO:numexpr.utils:NumExpr defaulting to 8 threads.\n"
     ]
    },
    {
     "name": "stdout",
     "output_type": "stream",
     "text": [
      "loading config file: mycar/config.py\n",
      "loading personal config over-rides from myconfig.py\n"
     ]
    }
   ],
   "source": [
    "from dataloader import load_data\n",
    "import numpy as np\n",
    "import donkeycar as dk\n",
    "from donkeycar.parts import keras\n",
    "cfg = dk.load_config(config_path='mycar/config.py')\n",
    "\n",
    "# None means all the data is used.\n",
    "# use a smaller size, like 200 for testing end to end.\n",
    "TUBRECORD_SIZE = None\n",
    "\n",
    "SEQUENCE_LENGTH = 3\n",
    "cfg.SEQUENCE_LENGTH = SEQUENCE_LENGTH\n",
    "cfg.WANDB_ENABLED = False\n",
    "cfg.TRANSFORMATIONS = ['CROP']\n",
    "cfg.ROI_CROP_TOP = 60\n",
    "N_FOLDS = 5\n",
    "DATA_PATH = 'data'\n",
    "MODELS_PATH = 'models'\n",
    "\n",
    "MODEL_CLASS = keras.Keras3D_CNN_ModifiedOnlySteering\n"
   ],
   "metadata": {
    "collapsed": false,
    "pycharm": {
     "name": "#%%\n"
    }
   }
  },
  {
   "cell_type": "markdown",
   "source": [
    "\n",
    "### Load Counter Clockwise tubs and get predictions"
   ],
   "metadata": {
    "collapsed": false,
    "pycharm": {
     "name": "#%% md\n"
    }
   }
  },
  {
   "cell_type": "code",
   "execution_count": 4,
   "metadata": {
    "collapsed": false,
    "jupyter": {
     "outputs_hidden": false
    },
    "pycharm": {
     "name": "#%%\n"
    }
   },
   "outputs": [
    {
     "name": "stdout",
     "output_type": "stream",
     "text": [
      "Using catalog /Users/kristjan.roosild/PycharmProjects/dat-sci-master-thesis/data/1-1-CC-80/catalog_4.catalog\n"
     ]
    },
    {
     "name": "stderr",
     "output_type": "stream",
     "text": [
      "INFO:donkeycar.pipeline.types:Loading tubs from paths ['data/1-1-CC-80']\n",
      "INFO:donkeycar.pipeline.types:Loading tubs from paths ['data/4-1-CC-80']\n"
     ]
    },
    {
     "name": "stdout",
     "output_type": "stream",
     "text": [
      "Using catalog /Users/kristjan.roosild/PycharmProjects/dat-sci-master-thesis/data/4-1-CC-80/catalog_5.catalog\n"
     ]
    },
    {
     "name": "stderr",
     "output_type": "stream",
     "text": [
      "INFO:donkeycar.pipeline.types:Loading tubs from paths ['data/1-3-CC-85']\n"
     ]
    },
    {
     "name": "stdout",
     "output_type": "stream",
     "text": [
      "Using catalog /Users/kristjan.roosild/PycharmProjects/dat-sci-master-thesis/data/1-3-CC-85/catalog_4.catalog\n"
     ]
    },
    {
     "name": "stderr",
     "output_type": "stream",
     "text": [
      "INFO:donkeycar.pipeline.types:Loading tubs from paths ['data/4-3-CC-85']\n"
     ]
    },
    {
     "name": "stdout",
     "output_type": "stream",
     "text": [
      "Using catalog /Users/kristjan.roosild/PycharmProjects/dat-sci-master-thesis/data/4-3-CC-85/catalog_4.catalog\n"
     ]
    },
    {
     "name": "stderr",
     "output_type": "stream",
     "text": [
      "INFO:donkeycar.pipeline.types:Loading tubs from paths ['data/1-2-CC-90']\n"
     ]
    },
    {
     "name": "stdout",
     "output_type": "stream",
     "text": [
      "Using catalog /Users/kristjan.roosild/PycharmProjects/dat-sci-master-thesis/data/1-2-CC-90/catalog_4.catalog\n"
     ]
    },
    {
     "name": "stderr",
     "output_type": "stream",
     "text": [
      "INFO:donkeycar.pipeline.types:Loading tubs from paths ['data/4-2-CC-90']\n"
     ]
    },
    {
     "name": "stdout",
     "output_type": "stream",
     "text": [
      "Using catalog /Users/kristjan.roosild/PycharmProjects/dat-sci-master-thesis/data/4-2-CC-90/catalog_7.catalog\n"
     ]
    }
   ],
   "source": [
    "from dataloader import get_folds\n",
    "import itertools\n",
    "\n",
    "DIRECTION = 'CC'\n",
    "\n",
    "tub_records_80_speed, tub_records_85_speed, tub_records_90_speed = load_data(cfg, DATA_PATH, DIRECTION, TUBRECORD_SIZE)\n",
    "\n",
    "all_90_speed_data = list(itertools.chain(*list(tub_records_90_speed.values())))\n",
    "train_folds, test_folds = get_folds(all_90_speed_data)"
   ]
  },
  {
   "cell_type": "code",
   "execution_count": 5,
   "outputs": [
    {
     "name": "stderr",
     "output_type": "stream",
     "text": [
      "INFO:donkeycar.parts.keras:input_shape (120, 160, 3) num_outputs 1\n",
      "2022-03-18 18:30:06.628775: I tensorflow/core/platform/cpu_feature_guard.cc:143] Your CPU supports instructions that this TensorFlow binary was not compiled to use: AVX2 FMA\n",
      "2022-03-18 18:30:06.670081: I tensorflow/compiler/xla/service/service.cc:168] XLA service 0x7fe0e0320c60 initialized for platform Host (this does not guarantee that XLA will be used). Devices:\n",
      "2022-03-18 18:30:06.670094: I tensorflow/compiler/xla/service/service.cc:176]   StreamExecutor device (0): Host, Default Version\n",
      "INFO:donkeycar.parts.keras:Created Keras3D_CNN_ModifiedOnlySteering with interpreter: KerasInterpreter\n",
      "INFO:donkeycar.parts.keras:Num outputs 1\n",
      "INFO:donkeycar.parts.keras:Sequence length 3\n",
      "INFO:donkeycar.parts.keras:Loading model models/Keras3D_CNN_ModifiedOnlySteering-1.fold-of-5-CC.h5\n",
      "INFO:donkeycar.parts.interpreter:Loading model models/Keras3D_CNN_ModifiedOnlySteering-1.fold-of-5-CC.h5\n"
     ]
    },
    {
     "name": "stdout",
     "output_type": "stream",
     "text": [
      "Getting 90-speed  mse-s for fold 1\n",
      "seq size 3\n",
      "len ground_truth 4542\n",
      "36/36 [==============================] - 35s 960ms/step\n",
      "shape test_preds (4542,)\n",
      "1-2-CC-90 has 4542 predictions with an mse of 0.09193157655553452\n",
      "seq size 3\n",
      "len ground_truth 6229\n",
      "49/49 [==============================] - 49s 1s/step\n",
      "shape test_preds (6229,)\n",
      "4-2-CC-90 has 6229 predictions with an mse of 0.08998082641733327\n",
      "seq size 3\n",
      "len ground_truth 2155\n",
      "17/17 [==============================] - 7s 393ms/step\n",
      "shape test_preds (2155,)\n",
      "test90 has 2155 predictions with an mse of 0.09838406395507836\n",
      "seq size 3\n",
      "len ground_truth 8616\n",
      "68/68 [==============================] - 23s 344ms/step\n",
      "shape test_preds (8616,)\n",
      "train90 has 8616 predictions with an mse of 0.08890739690188754\n",
      "Getting 85-speed mse-s for fold 1\n",
      "seq size 3\n",
      "len ground_truth 4272\n",
      "34/34 [==============================] - 33s 959ms/step\n",
      "shape test_preds (4272,)\n",
      "1-3-CC-85 has 4272 predictions with an mse of 0.11217945479009678\n",
      "seq size 3\n",
      "len ground_truth 4398\n",
      "35/35 [==============================] - 33s 932ms/step\n",
      "shape test_preds (4398,)\n",
      "4-3-CC-85 has 4398 predictions with an mse of 0.06709038421563777\n",
      "Getting 80-speed mse-s for fold 1\n",
      "seq size 3\n",
      "len ground_truth 4478\n",
      "35/35 [==============================] - 34s 967ms/step\n",
      "shape test_preds (4478,)\n",
      "1-1-CC-80 has 4478 predictions with an mse of 0.13428224006096814\n",
      "seq size 3\n",
      "len ground_truth 4705\n",
      "37/37 [==============================] - 36s 977ms/step\n"
     ]
    },
    {
     "name": "stderr",
     "output_type": "stream",
     "text": [
      "INFO:donkeycar.parts.keras:input_shape (120, 160, 3) num_outputs 1\n",
      "INFO:donkeycar.parts.keras:Created Keras3D_CNN_ModifiedOnlySteering with interpreter: KerasInterpreter\n",
      "INFO:donkeycar.parts.keras:Num outputs 1\n",
      "INFO:donkeycar.parts.keras:Sequence length 3\n",
      "INFO:donkeycar.parts.keras:Loading model models/Keras3D_CNN_ModifiedOnlySteering-2.fold-of-5-CC.h5\n",
      "INFO:donkeycar.parts.interpreter:Loading model models/Keras3D_CNN_ModifiedOnlySteering-2.fold-of-5-CC.h5\n"
     ]
    },
    {
     "name": "stdout",
     "output_type": "stream",
     "text": [
      "shape test_preds (4705,)\n",
      "4-1-CC-80 has 4705 predictions with an mse of 0.09049988554403156\n",
      "Getting 90-speed  mse-s for fold 2\n",
      "seq size 3\n",
      "len ground_truth 4542\n",
      "36/36 [==============================] - 12s 334ms/step\n",
      "shape test_preds (4542,)\n",
      "1-2-CC-90 has 4542 predictions with an mse of 0.10161935555004332\n",
      "seq size 3\n",
      "len ground_truth 6229\n",
      "49/49 [==============================] - 18s 370ms/step\n",
      "shape test_preds (6229,)\n",
      "4-2-CC-90 has 6229 predictions with an mse of 0.09525758730023001\n",
      "seq size 3\n",
      "len ground_truth 2154\n",
      "17/17 [==============================] - 6s 368ms/step\n",
      "shape test_preds (2154,)\n",
      "test90 has 2154 predictions with an mse of 0.10428143069054202\n",
      "seq size 3\n",
      "len ground_truth 8617\n",
      "68/68 [==============================] - 24s 352ms/step\n",
      "shape test_preds (8617,)\n",
      "train90 has 8617 predictions with an mse of 0.09635516087038874\n",
      "Getting 85-speed mse-s for fold 2\n",
      "seq size 3\n",
      "len ground_truth 4272\n",
      "34/34 [==============================] - 11s 322ms/step\n",
      "shape test_preds (4272,)\n",
      "1-3-CC-85 has 4272 predictions with an mse of 0.10304352475892904\n",
      "seq size 3\n",
      "len ground_truth 4398\n",
      "35/35 [==============================] - 11s 324ms/step\n",
      "shape test_preds (4398,)\n",
      "4-3-CC-85 has 4398 predictions with an mse of 0.06531967445597305\n",
      "Getting 80-speed mse-s for fold 2\n",
      "seq size 3\n",
      "len ground_truth 4478\n",
      "35/35 [==============================] - 11s 326ms/step\n",
      "shape test_preds (4478,)\n",
      "1-1-CC-80 has 4478 predictions with an mse of 0.11760008632867498\n",
      "seq size 3\n",
      "len ground_truth 4705\n",
      "37/37 [==============================] - 12s 329ms/step\n"
     ]
    },
    {
     "name": "stderr",
     "output_type": "stream",
     "text": [
      "INFO:donkeycar.parts.keras:input_shape (120, 160, 3) num_outputs 1\n",
      "INFO:donkeycar.parts.keras:Created Keras3D_CNN_ModifiedOnlySteering with interpreter: KerasInterpreter\n",
      "INFO:donkeycar.parts.keras:Num outputs 1\n",
      "INFO:donkeycar.parts.keras:Sequence length 3\n",
      "INFO:donkeycar.parts.keras:Loading model models/Keras3D_CNN_ModifiedOnlySteering-3.fold-of-5-CC.h5\n",
      "INFO:donkeycar.parts.interpreter:Loading model models/Keras3D_CNN_ModifiedOnlySteering-3.fold-of-5-CC.h5\n"
     ]
    },
    {
     "name": "stdout",
     "output_type": "stream",
     "text": [
      "shape test_preds (4705,)\n",
      "4-1-CC-80 has 4705 predictions with an mse of 0.08351193769825634\n",
      "Getting 90-speed  mse-s for fold 3\n",
      "seq size 3\n",
      "len ground_truth 4542\n",
      "36/36 [==============================] - 12s 326ms/step\n",
      "shape test_preds (4542,)\n",
      "1-2-CC-90 has 4542 predictions with an mse of 0.10664093005278963\n",
      "seq size 3\n",
      "len ground_truth 6229\n",
      "49/49 [==============================] - 16s 323ms/step\n",
      "shape test_preds (6229,)\n",
      "4-2-CC-90 has 6229 predictions with an mse of 0.11052991788525096\n",
      "seq size 3\n",
      "len ground_truth 2154\n",
      "17/17 [==============================] - 5s 324ms/step\n",
      "shape test_preds (2154,)\n",
      "test90 has 2154 predictions with an mse of 0.13408497146221002\n",
      "seq size 3\n",
      "len ground_truth 8617\n",
      "68/68 [==============================] - 22s 330ms/step\n",
      "shape test_preds (8617,)\n",
      "train90 has 8617 predictions with an mse of 0.10259196186370258\n",
      "Getting 85-speed mse-s for fold 3\n",
      "seq size 3\n",
      "len ground_truth 4272\n",
      "34/34 [==============================] - 11s 325ms/step\n",
      "shape test_preds (4272,)\n",
      "1-3-CC-85 has 4272 predictions with an mse of 0.13706822430025303\n",
      "seq size 3\n",
      "len ground_truth 4398\n",
      "35/35 [==============================] - 12s 329ms/step\n",
      "shape test_preds (4398,)\n",
      "4-3-CC-85 has 4398 predictions with an mse of 0.08023406645028479\n",
      "Getting 80-speed mse-s for fold 3\n",
      "seq size 3\n",
      "len ground_truth 4478\n",
      "35/35 [==============================] - 12s 331ms/step\n",
      "shape test_preds (4478,)\n",
      "1-1-CC-80 has 4478 predictions with an mse of 0.1528988792886734\n",
      "seq size 3\n",
      "len ground_truth 4705\n",
      "37/37 [==============================] - 12s 331ms/step\n"
     ]
    },
    {
     "name": "stderr",
     "output_type": "stream",
     "text": [
      "INFO:donkeycar.parts.keras:input_shape (120, 160, 3) num_outputs 1\n",
      "INFO:donkeycar.parts.keras:Created Keras3D_CNN_ModifiedOnlySteering with interpreter: KerasInterpreter\n",
      "INFO:donkeycar.parts.keras:Num outputs 1\n",
      "INFO:donkeycar.parts.keras:Sequence length 3\n",
      "INFO:donkeycar.parts.keras:Loading model models/Keras3D_CNN_ModifiedOnlySteering-4.fold-of-5-CC.h5\n",
      "INFO:donkeycar.parts.interpreter:Loading model models/Keras3D_CNN_ModifiedOnlySteering-4.fold-of-5-CC.h5\n"
     ]
    },
    {
     "name": "stdout",
     "output_type": "stream",
     "text": [
      "shape test_preds (4705,)\n",
      "4-1-CC-80 has 4705 predictions with an mse of 0.10449264631444292\n",
      "Getting 90-speed  mse-s for fold 4\n",
      "seq size 3\n",
      "len ground_truth 4542\n",
      "36/36 [==============================] - 12s 340ms/step\n",
      "shape test_preds (4542,)\n",
      "1-2-CC-90 has 4542 predictions with an mse of 0.09716766004397397\n",
      "seq size 3\n",
      "len ground_truth 6229\n",
      "49/49 [==============================] - 16s 329ms/step\n",
      "shape test_preds (6229,)\n",
      "4-2-CC-90 has 6229 predictions with an mse of 0.10208405303705559\n",
      "seq size 3\n",
      "len ground_truth 2154\n",
      "17/17 [==============================] - 5s 321ms/step\n",
      "shape test_preds (2154,)\n",
      "test90 has 2154 predictions with an mse of 0.11496367041230494\n",
      "seq size 3\n",
      "len ground_truth 8617\n",
      "68/68 [==============================] - 23s 332ms/step\n",
      "shape test_preds (8617,)\n",
      "train90 has 8617 predictions with an mse of 0.09627310327931689\n",
      "Getting 85-speed mse-s for fold 4\n",
      "seq size 3\n",
      "len ground_truth 4272\n",
      "34/34 [==============================] - 11s 326ms/step\n",
      "shape test_preds (4272,)\n",
      "1-3-CC-85 has 4272 predictions with an mse of 0.10668029988445706\n",
      "seq size 3\n",
      "len ground_truth 4398\n",
      "35/35 [==============================] - 11s 328ms/step\n",
      "shape test_preds (4398,)\n",
      "4-3-CC-85 has 4398 predictions with an mse of 0.06963505398248591\n",
      "Getting 80-speed mse-s for fold 4\n",
      "seq size 3\n",
      "len ground_truth 4478\n",
      "35/35 [==============================] - 11s 324ms/step\n",
      "shape test_preds (4478,)\n",
      "1-1-CC-80 has 4478 predictions with an mse of 0.12003042812806339\n",
      "seq size 3\n",
      "len ground_truth 4705\n",
      "37/37 [==============================] - 12s 328ms/step\n"
     ]
    },
    {
     "name": "stderr",
     "output_type": "stream",
     "text": [
      "INFO:donkeycar.parts.keras:input_shape (120, 160, 3) num_outputs 1\n",
      "INFO:donkeycar.parts.keras:Created Keras3D_CNN_ModifiedOnlySteering with interpreter: KerasInterpreter\n",
      "INFO:donkeycar.parts.keras:Num outputs 1\n",
      "INFO:donkeycar.parts.keras:Sequence length 3\n",
      "INFO:donkeycar.parts.keras:Loading model models/Keras3D_CNN_ModifiedOnlySteering-5.fold-of-5-CC.h5\n",
      "INFO:donkeycar.parts.interpreter:Loading model models/Keras3D_CNN_ModifiedOnlySteering-5.fold-of-5-CC.h5\n"
     ]
    },
    {
     "name": "stdout",
     "output_type": "stream",
     "text": [
      "shape test_preds (4705,)\n",
      "4-1-CC-80 has 4705 predictions with an mse of 0.08344175398060277\n",
      "Getting 90-speed  mse-s for fold 5\n",
      "seq size 3\n",
      "len ground_truth 4542\n",
      "36/36 [==============================] - 12s 327ms/step\n",
      "shape test_preds (4542,)\n",
      "1-2-CC-90 has 4542 predictions with an mse of 0.10564469531167227\n",
      "seq size 3\n",
      "len ground_truth 6229\n",
      "49/49 [==============================] - 16s 329ms/step\n",
      "shape test_preds (6229,)\n",
      "4-2-CC-90 has 6229 predictions with an mse of 0.10764562890663669\n",
      "seq size 3\n",
      "len ground_truth 2154\n",
      "17/17 [==============================] - 5s 313ms/step\n",
      "shape test_preds (2154,)\n",
      "test90 has 2154 predictions with an mse of 0.10307195813037912\n",
      "seq size 3\n",
      "len ground_truth 8617\n",
      "68/68 [==============================] - 23s 338ms/step\n",
      "shape test_preds (8617,)\n",
      "train90 has 8617 predictions with an mse of 0.10773422676384667\n",
      "Getting 85-speed mse-s for fold 5\n",
      "seq size 3\n",
      "len ground_truth 4272\n",
      "34/34 [==============================] - 12s 350ms/step\n",
      "shape test_preds (4272,)\n",
      "1-3-CC-85 has 4272 predictions with an mse of 0.1351041292853933\n",
      "seq size 3\n",
      "len ground_truth 4398\n",
      "35/35 [==============================] - 15s 423ms/step\n",
      "shape test_preds (4398,)\n",
      "4-3-CC-85 has 4398 predictions with an mse of 0.07690290329529499\n",
      "Getting 80-speed mse-s for fold 5\n",
      "seq size 3\n",
      "len ground_truth 4478\n",
      "35/35 [==============================] - 13s 363ms/step\n",
      "shape test_preds (4478,)\n",
      "1-1-CC-80 has 4478 predictions with an mse of 0.15999179176402498\n",
      "seq size 3\n",
      "len ground_truth 4705\n",
      "37/37 [==============================] - 13s 338ms/step\n",
      "shape test_preds (4705,)\n",
      "4-1-CC-80 has 4705 predictions with an mse of 0.10718605001971777\n"
     ]
    }
   ],
   "source": [
    "from losses import ModelResults\n",
    "\n",
    "CC_ModelResults = ModelResults(\n",
    "    MODEL_CLASS,\n",
    "    MODELS_PATH,\n",
    "    SEQUENCE_LENGTH,\n",
    "    DIRECTION,\n",
    "    N_FOLDS,\n",
    "    tub_records_80_speed,\n",
    "    tub_records_85_speed,\n",
    "    tub_records_90_speed,\n",
    "    train_folds,\n",
    "    test_folds,\n",
    "    cfg\n",
    ")\n",
    "\n",
    "CC_ModelResults.predict_results()\n"
   ],
   "metadata": {
    "collapsed": false,
    "pycharm": {
     "name": "#%%\n"
    }
   }
  },
  {
   "cell_type": "code",
   "execution_count": 10,
   "outputs": [
    {
     "name": "stderr",
     "output_type": "stream",
     "text": [
      "INFO:donkeycar.pipeline.types:Loading tubs from paths ['data/2-1-CW-80']\n"
     ]
    },
    {
     "name": "stdout",
     "output_type": "stream",
     "text": [
      "Using catalog /Users/kristjan.roosild/PycharmProjects/dat-sci-master-thesis/data/2-1-CW-80/catalog_4.catalog\n"
     ]
    },
    {
     "name": "stderr",
     "output_type": "stream",
     "text": [
      "INFO:donkeycar.pipeline.types:Loading tubs from paths ['data/2-3-CW-85']\n"
     ]
    },
    {
     "name": "stdout",
     "output_type": "stream",
     "text": [
      "Using catalog /Users/kristjan.roosild/PycharmProjects/dat-sci-master-thesis/data/2-3-CW-85/catalog_6.catalog\n"
     ]
    },
    {
     "name": "stderr",
     "output_type": "stream",
     "text": [
      "INFO:donkeycar.pipeline.types:Loading tubs from paths ['data/3-3-CW-85']\n"
     ]
    },
    {
     "name": "stdout",
     "output_type": "stream",
     "text": [
      "Using catalog /Users/kristjan.roosild/PycharmProjects/dat-sci-master-thesis/data/3-3-CW-85/catalog_4.catalog\n"
     ]
    },
    {
     "name": "stderr",
     "output_type": "stream",
     "text": [
      "INFO:donkeycar.pipeline.types:Loading tubs from paths ['data/2-2-CW-90']\n",
      "INFO:donkeycar.pipeline.types:Loading tubs from paths ['data/3-2-CW-90']\n"
     ]
    },
    {
     "name": "stdout",
     "output_type": "stream",
     "text": [
      "Using catalog /Users/kristjan.roosild/PycharmProjects/dat-sci-master-thesis/data/2-2-CW-90/catalog_2.catalog\n",
      "Using catalog /Users/kristjan.roosild/PycharmProjects/dat-sci-master-thesis/data/3-2-CW-90/catalog_6.catalog\n"
     ]
    },
    {
     "name": "stderr",
     "output_type": "stream",
     "text": [
      "INFO:donkeycar.parts.keras:input_shape (120, 160, 3) num_outputs 1\n",
      "INFO:donkeycar.parts.keras:Created Keras3D_CNN_ModifiedOnlySteering with interpreter: KerasInterpreter\n",
      "INFO:donkeycar.parts.keras:Num outputs 1\n",
      "INFO:donkeycar.parts.keras:Sequence length 3\n",
      "INFO:donkeycar.parts.keras:Loading model models/Keras3D_CNN_ModifiedOnlySteering-1.fold-of-5-CW.h5\n",
      "INFO:donkeycar.parts.interpreter:Loading model models/Keras3D_CNN_ModifiedOnlySteering-1.fold-of-5-CW.h5\n"
     ]
    },
    {
     "name": "stdout",
     "output_type": "stream",
     "text": [
      "Getting 90-speed  mse-s for fold 1\n",
      "seq size 3\n",
      "len ground_truth 1235\n",
      "10/10 [==============================] - 9s 858ms/step\n",
      "shape test_preds (1235,)\n",
      "2-2-CW-90 has 1235 predictions with an mse of 0.09620632096727544\n",
      "seq size 3\n",
      "len ground_truth 5217\n",
      "41/41 [==============================] - 39s 953ms/step\n",
      "shape test_preds (5217,)\n",
      "3-2-CW-90 has 5217 predictions with an mse of 0.0938212465248245\n",
      "seq size 3\n",
      "len ground_truth 1291\n",
      "11/11 [==============================] - 4s 321ms/step\n",
      "shape test_preds (1291,)\n",
      "test90 has 1291 predictions with an mse of 0.11839025198809587\n",
      "seq size 3\n",
      "len ground_truth 5161\n",
      "41/41 [==============================] - 13s 326ms/step\n",
      "shape test_preds (5161,)\n",
      "train90 has 5161 predictions with an mse of 0.0882461605329445\n",
      "Getting 85-speed mse-s for fold 1\n",
      "seq size 3\n",
      "len ground_truth 6086\n",
      "48/48 [==============================] - 46s 958ms/step\n",
      "shape test_preds (6086,)\n",
      "2-3-CW-85 has 6086 predictions with an mse of 0.08426746328565293\n",
      "seq size 3\n",
      "len ground_truth 4006\n",
      "32/32 [==============================] - 32s 989ms/step\n",
      "shape test_preds (4006,)\n",
      "3-3-CW-85 has 4006 predictions with an mse of 0.09281429249035025\n",
      "Getting 80-speed mse-s for fold 1\n",
      "seq size 3\n",
      "len ground_truth 4431\n",
      "35/35 [==============================] - 34s 979ms/step\n"
     ]
    },
    {
     "name": "stderr",
     "output_type": "stream",
     "text": [
      "INFO:donkeycar.parts.keras:input_shape (120, 160, 3) num_outputs 1\n",
      "INFO:donkeycar.parts.keras:Created Keras3D_CNN_ModifiedOnlySteering with interpreter: KerasInterpreter\n",
      "INFO:donkeycar.parts.keras:Num outputs 1\n",
      "INFO:donkeycar.parts.keras:Sequence length 3\n",
      "INFO:donkeycar.parts.keras:Loading model models/Keras3D_CNN_ModifiedOnlySteering-2.fold-of-5-CW.h5\n",
      "INFO:donkeycar.parts.interpreter:Loading model models/Keras3D_CNN_ModifiedOnlySteering-2.fold-of-5-CW.h5\n"
     ]
    },
    {
     "name": "stdout",
     "output_type": "stream",
     "text": [
      "shape test_preds (4431,)\n",
      "2-1-CW-80 has 4431 predictions with an mse of 0.08434095761221883\n",
      "Getting 90-speed  mse-s for fold 2\n",
      "seq size 3\n",
      "len ground_truth 1235\n",
      "10/10 [==============================] - 3s 272ms/step\n",
      "shape test_preds (1235,)\n",
      "2-2-CW-90 has 1235 predictions with an mse of 0.07170982430182284\n",
      "seq size 3\n",
      "len ground_truth 5217\n",
      "41/41 [==============================] - 13s 319ms/step\n",
      "shape test_preds (5217,)\n",
      "3-2-CW-90 has 5217 predictions with an mse of 0.0759309917497442\n",
      "seq size 3\n",
      "len ground_truth 1291\n",
      "11/11 [==============================] - 3s 306ms/step\n",
      "shape test_preds (1291,)\n",
      "test90 has 1291 predictions with an mse of 0.0858001203100904\n",
      "seq size 3\n",
      "len ground_truth 5161\n",
      "41/41 [==============================] - 13s 313ms/step\n",
      "shape test_preds (5161,)\n",
      "train90 has 5161 predictions with an mse of 0.07245217269935245\n",
      "Getting 85-speed mse-s for fold 2\n",
      "seq size 3\n",
      "len ground_truth 6086\n",
      "48/48 [==============================] - 15s 312ms/step\n",
      "shape test_preds (6086,)\n",
      "2-3-CW-85 has 6086 predictions with an mse of 0.06552572575896903\n",
      "seq size 3\n",
      "len ground_truth 4006\n",
      "32/32 [==============================] - 10s 303ms/step\n",
      "shape test_preds (4006,)\n",
      "3-3-CW-85 has 4006 predictions with an mse of 0.06623304038364658\n",
      "Getting 80-speed mse-s for fold 2\n",
      "seq size 3\n",
      "len ground_truth 4431\n",
      "35/35 [==============================] - 11s 305ms/step\n"
     ]
    },
    {
     "name": "stderr",
     "output_type": "stream",
     "text": [
      "INFO:donkeycar.parts.keras:input_shape (120, 160, 3) num_outputs 1\n",
      "INFO:donkeycar.parts.keras:Created Keras3D_CNN_ModifiedOnlySteering with interpreter: KerasInterpreter\n",
      "INFO:donkeycar.parts.keras:Num outputs 1\n",
      "INFO:donkeycar.parts.keras:Sequence length 3\n",
      "INFO:donkeycar.parts.keras:Loading model models/Keras3D_CNN_ModifiedOnlySteering-3.fold-of-5-CW.h5\n",
      "INFO:donkeycar.parts.interpreter:Loading model models/Keras3D_CNN_ModifiedOnlySteering-3.fold-of-5-CW.h5\n"
     ]
    },
    {
     "name": "stdout",
     "output_type": "stream",
     "text": [
      "shape test_preds (4431,)\n",
      "2-1-CW-80 has 4431 predictions with an mse of 0.05848933363010838\n",
      "Getting 90-speed  mse-s for fold 3\n",
      "seq size 3\n",
      "len ground_truth 1235\n",
      "10/10 [==============================] - 3s 302ms/step\n",
      "shape test_preds (1235,)\n",
      "2-2-CW-90 has 1235 predictions with an mse of 0.07012342325186875\n",
      "seq size 3\n",
      "len ground_truth 5217\n",
      "41/41 [==============================] - 13s 327ms/step\n",
      "shape test_preds (5217,)\n",
      "3-2-CW-90 has 5217 predictions with an mse of 0.07126850517879602\n",
      "seq size 3\n",
      "len ground_truth 1290\n",
      "11/11 [==============================] - 3s 297ms/step\n",
      "shape test_preds (1290,)\n",
      "test90 has 1290 predictions with an mse of 0.07850961801796108\n",
      "seq size 3\n",
      "len ground_truth 5162\n",
      "41/41 [==============================] - 14s 345ms/step\n",
      "shape test_preds (5162,)\n",
      "train90 has 5162 predictions with an mse of 0.06918496937407186\n",
      "Getting 85-speed mse-s for fold 3\n",
      "seq size 3\n",
      "len ground_truth 6086\n",
      "48/48 [==============================] - 16s 326ms/step\n",
      "shape test_preds (6086,)\n",
      "2-3-CW-85 has 6086 predictions with an mse of 0.08222788777964099\n",
      "seq size 3\n",
      "len ground_truth 4006\n",
      "32/32 [==============================] - 10s 326ms/step\n",
      "shape test_preds (4006,)\n",
      "3-3-CW-85 has 4006 predictions with an mse of 0.08860528968093451\n",
      "Getting 80-speed mse-s for fold 3\n",
      "seq size 3\n",
      "len ground_truth 4431\n",
      "35/35 [==============================] - 11s 318ms/step\n"
     ]
    },
    {
     "name": "stderr",
     "output_type": "stream",
     "text": [
      "INFO:donkeycar.parts.keras:input_shape (120, 160, 3) num_outputs 1\n",
      "INFO:donkeycar.parts.keras:Created Keras3D_CNN_ModifiedOnlySteering with interpreter: KerasInterpreter\n",
      "INFO:donkeycar.parts.keras:Num outputs 1\n",
      "INFO:donkeycar.parts.keras:Sequence length 3\n",
      "INFO:donkeycar.parts.keras:Loading model models/Keras3D_CNN_ModifiedOnlySteering-4.fold-of-5-CW.h5\n",
      "INFO:donkeycar.parts.interpreter:Loading model models/Keras3D_CNN_ModifiedOnlySteering-4.fold-of-5-CW.h5\n"
     ]
    },
    {
     "name": "stdout",
     "output_type": "stream",
     "text": [
      "shape test_preds (4431,)\n",
      "2-1-CW-80 has 4431 predictions with an mse of 0.08191703563379654\n",
      "Getting 90-speed  mse-s for fold 4\n",
      "seq size 3\n",
      "len ground_truth 1235\n",
      "10/10 [==============================] - 3s 304ms/step\n",
      "shape test_preds (1235,)\n",
      "2-2-CW-90 has 1235 predictions with an mse of 0.09283889687224516\n",
      "seq size 3\n",
      "len ground_truth 5217\n",
      "41/41 [==============================] - 14s 336ms/step\n",
      "shape test_preds (5217,)\n",
      "3-2-CW-90 has 5217 predictions with an mse of 0.08600003309071697\n",
      "seq size 3\n",
      "len ground_truth 1290\n",
      "11/11 [==============================] - 3s 317ms/step\n",
      "shape test_preds (1290,)\n",
      "test90 has 1290 predictions with an mse of 0.09133460966659902\n",
      "seq size 3\n",
      "len ground_truth 5162\n",
      "41/41 [==============================] - 14s 335ms/step\n",
      "shape test_preds (5162,)\n",
      "train90 has 5162 predictions with an mse of 0.0863030927306781\n",
      "Getting 85-speed mse-s for fold 4\n",
      "seq size 3\n",
      "len ground_truth 6086\n",
      "48/48 [==============================] - 16s 335ms/step\n",
      "shape test_preds (6086,)\n",
      "2-3-CW-85 has 6086 predictions with an mse of 0.08526733606379568\n",
      "seq size 3\n",
      "len ground_truth 4006\n",
      "32/32 [==============================] - 10s 319ms/step\n",
      "shape test_preds (4006,)\n",
      "3-3-CW-85 has 4006 predictions with an mse of 0.09606949426975918\n",
      "Getting 80-speed mse-s for fold 4\n",
      "seq size 3\n",
      "len ground_truth 4431\n",
      "35/35 [==============================] - 10s 299ms/step\n"
     ]
    },
    {
     "name": "stderr",
     "output_type": "stream",
     "text": [
      "INFO:donkeycar.parts.keras:input_shape (120, 160, 3) num_outputs 1\n",
      "INFO:donkeycar.parts.keras:Created Keras3D_CNN_ModifiedOnlySteering with interpreter: KerasInterpreter\n",
      "INFO:donkeycar.parts.keras:Num outputs 1\n",
      "INFO:donkeycar.parts.keras:Sequence length 3\n",
      "INFO:donkeycar.parts.keras:Loading model models/Keras3D_CNN_ModifiedOnlySteering-5.fold-of-5-CW.h5\n",
      "INFO:donkeycar.parts.interpreter:Loading model models/Keras3D_CNN_ModifiedOnlySteering-5.fold-of-5-CW.h5\n"
     ]
    },
    {
     "name": "stdout",
     "output_type": "stream",
     "text": [
      "shape test_preds (4431,)\n",
      "2-1-CW-80 has 4431 predictions with an mse of 0.08625612599684027\n",
      "Getting 90-speed  mse-s for fold 5\n",
      "seq size 3\n",
      "len ground_truth 1235\n",
      "10/10 [==============================] - 3s 289ms/step\n",
      "shape test_preds (1235,)\n",
      "2-2-CW-90 has 1235 predictions with an mse of 0.08036055739881535\n",
      "seq size 3\n",
      "len ground_truth 5217\n",
      "41/41 [==============================] - 14s 331ms/step\n",
      "shape test_preds (5217,)\n",
      "3-2-CW-90 has 5217 predictions with an mse of 0.08027144712810623\n",
      "seq size 3\n",
      "len ground_truth 1290\n",
      "11/11 [==============================] - 3s 304ms/step\n",
      "shape test_preds (1290,)\n",
      "test90 has 1290 predictions with an mse of 0.09394720011678827\n",
      "seq size 3\n",
      "len ground_truth 5162\n",
      "41/41 [==============================] - 13s 321ms/step\n",
      "shape test_preds (5162,)\n",
      "train90 has 5162 predictions with an mse of 0.07687515303409889\n",
      "Getting 85-speed mse-s for fold 5\n",
      "seq size 3\n",
      "len ground_truth 6086\n",
      "48/48 [==============================] - 15s 309ms/step\n",
      "shape test_preds (6086,)\n",
      "2-3-CW-85 has 6086 predictions with an mse of 0.08040642976505508\n",
      "seq size 3\n",
      "len ground_truth 4006\n",
      "32/32 [==============================] - 10s 326ms/step\n",
      "shape test_preds (4006,)\n",
      "3-3-CW-85 has 4006 predictions with an mse of 0.08281096051666152\n",
      "Getting 80-speed mse-s for fold 5\n",
      "seq size 3\n",
      "len ground_truth 4431\n",
      "35/35 [==============================] - 12s 331ms/step\n",
      "shape test_preds (4431,)\n",
      "2-1-CW-80 has 4431 predictions with an mse of 0.07734833850307121\n"
     ]
    }
   ],
   "source": [
    "DIRECTION = 'CW'\n",
    "\n",
    "tub_records_80_speed, tub_records_85_speed, tub_records_90_speed = load_data(cfg, DATA_PATH, DIRECTION, TUBRECORD_SIZE)\n",
    "\n",
    "all_90_speed_data = list(itertools.chain(*list(tub_records_90_speed.values())))\n",
    "train_folds, test_folds = get_folds(all_90_speed_data)\n",
    "\n",
    "CW_ModelResults = ModelResults(\n",
    "    MODEL_CLASS,\n",
    "    MODELS_PATH,\n",
    "    SEQUENCE_LENGTH,\n",
    "    DIRECTION,\n",
    "    N_FOLDS,\n",
    "    tub_records_80_speed,\n",
    "    tub_records_85_speed,\n",
    "    tub_records_90_speed,\n",
    "    train_folds,\n",
    "    test_folds,\n",
    "    cfg\n",
    ")\n",
    "\n",
    "CW_ModelResults.predict_results()\n"
   ],
   "metadata": {
    "collapsed": false,
    "pycharm": {
     "name": "#%%\n"
    }
   }
  },
  {
   "cell_type": "code",
   "execution_count": null,
   "outputs": [],
   "source": [
    "\n",
    "results_unpacked = []\n",
    "\n",
    "for fold, fold_results in CC_ModelResults.results.items():\n",
    "    for speed_name, results in fold_results.items():\n",
    "        for r in results:\n",
    "            for pred, gt in zip(r.predictions, r.ground_truths):\n",
    "                results_unpacked.append([r.name, r.direction, r.speed, r.fold, r.is_train, pred, gt])\n",
    "\n",
    "for fold, fold_results in CW_ModelResults.results.items():\n",
    "    for speed_name, results in fold_results.items():\n",
    "        for r in results:\n",
    "            for pred, gt in zip(r.predictions, r.ground_truths):\n",
    "                results_unpacked.append([r.name, r.direction, r.speed, r.fold, r.is_train, pred, gt])\n",
    "\n",
    "len(results_unpacked)"
   ],
   "metadata": {
    "collapsed": false,
    "pycharm": {
     "name": "#%%\n",
     "is_executing": true
    }
   }
  },
  {
   "cell_type": "code",
   "execution_count": null,
   "outputs": [],
   "source": [
    "import pandas as pd\n",
    "df = pd.DataFrame(results_unpacked, columns=['name', 'direction', 'speed', 'fold', 'is_train', 'predicted_angle', 'ground_truth_angle'])\n"
   ],
   "metadata": {
    "collapsed": false,
    "pycharm": {
     "name": "#%%\n",
     "is_executing": true
    }
   }
  },
  {
   "cell_type": "code",
   "execution_count": 9,
   "outputs": [],
   "source": [
    "df.to_csv('3D-CNN-model-results.csv.gz', index=False)"
   ],
   "metadata": {
    "collapsed": false,
    "pycharm": {
     "name": "#%%\n"
    }
   }
  },
  {
   "cell_type": "code",
   "execution_count": null,
   "outputs": [],
   "source": [],
   "metadata": {
    "collapsed": false,
    "pycharm": {
     "name": "#%%\n"
    }
   }
  }
 ],
 "metadata": {
  "kernelspec": {
   "display_name": "donkey2",
   "language": "python",
   "name": "donkey2"
  },
  "language_info": {
   "codemirror_mode": {
    "name": "ipython",
    "version": 3
   },
   "file_extension": ".py",
   "mimetype": "text/x-python",
   "name": "python",
   "nbconvert_exporter": "python",
   "pygments_lexer": "ipython3",
   "version": "3.7.11"
  },
  "toc-autonumbering": false
 },
 "nbformat": 4,
 "nbformat_minor": 4
}