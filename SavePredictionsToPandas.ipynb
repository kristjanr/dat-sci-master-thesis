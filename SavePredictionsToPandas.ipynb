{
 "cells": [
  {
   "cell_type": "markdown",
   "metadata": {},
   "source": [
    "# Save predictions to Pandas\n",
    "\n",
    "This notebook loads all 2x5 trained models, gets the predictions and saves the results to pandas dataframe and a file\n",
    "\n",
    "## Setup\n",
    "- Download and unpack training data\n",
    "- Create DonkeyCar project and load configuration"
   ]
  },
  {
   "cell_type": "code",
   "execution_count": 4,
   "metadata": {
    "collapsed": false,
    "jupyter": {
     "outputs_hidden": false
    },
    "pycharm": {
     "name": "#%%\n"
    }
   },
   "outputs": [
    {
     "name": "stdout",
     "output_type": "stream",
     "text": [
      "The autoreload extension is already loaded. To reload it, use:\n",
      "  %reload_ext autoreload\n"
     ]
    }
   ],
   "source": [
    "## TODO: train a final CC and CW 3D CNN models with the updated data and do predictions and save to pandas csv gz\n",
    "%load_ext autoreload\n",
    "%autoreload 2"
   ]
  },
  {
   "cell_type": "code",
   "execution_count": 5,
   "outputs": [],
   "source": [
    "import sys\n",
    "sys.path.append('donkeycar')\n",
    "sys.path.append('src')"
   ],
   "metadata": {
    "collapsed": false,
    "pycharm": {
     "name": "#%%\n"
    }
   }
  },
  {
   "cell_type": "code",
   "execution_count": null,
   "outputs": [],
   "source": [
    "import os\n",
    "# do we have the correct env loaded?\n",
    "assert 'donkey' == os.environ['CONDA_DEFAULT_ENV'], os.environ['CONDA_DEFAULT_ENV']"
   ],
   "metadata": {
    "collapsed": false,
    "pycharm": {
     "name": "#%%\n"
    }
   }
  },
  {
   "cell_type": "code",
   "execution_count": 6,
   "metadata": {},
   "outputs": [],
   "source": [
    "![ ! -d \"data/\" ] && \\\n",
    "mkdir data && \\\n",
    "curl -L \"https://www.dropbox.com/s/eltelvjt12a4ny1/data.zip?dl=1\" --output data/data.zip && \\\n",
    "unzip data/data.zip -d data"
   ]
  },
  {
   "cell_type": "code",
   "execution_count": 7,
   "outputs": [],
   "source": [
    "![ ! -d \"models/\" ] && \\\n",
    "mkdir models && \\\n",
    "curl -L \"https://www.dropbox.com/s/k9amvpqz3lcu7f3/models.zip?dl=1\" --output models/models.zip && \\\n",
    "unzip models/models.zip -d models"
   ],
   "metadata": {
    "collapsed": false,
    "pycharm": {
     "name": "#%%\n"
    }
   }
  },
  {
   "cell_type": "code",
   "execution_count": 8,
   "metadata": {},
   "outputs": [],
   "source": [
    "![ ! -d \"mycar/\" ] && \\\n",
    "donkey createcar --path mycar && \\\n",
    "cp config/myconfig.py mycar/"
   ]
  },
  {
   "cell_type": "markdown",
   "metadata": {},
   "source": [
    "\n",
    "### Common settings for both directions"
   ]
  },
  {
   "cell_type": "code",
   "execution_count": 9,
   "outputs": [
    {
     "name": "stdout",
     "output_type": "stream",
     "text": [
      "________             ______                   _________              \n",
      "___  __ \\_______________  /___________  __    __  ____/_____ ________\n",
      "__  / / /  __ \\_  __ \\_  //_/  _ \\_  / / /    _  /    _  __ `/_  ___/\n",
      "_  /_/ // /_/ /  / / /  ,<  /  __/  /_/ /     / /___  / /_/ /_  /    \n",
      "/_____/ \\____//_/ /_//_/|_| \\___/_\\__, /      \\____/  \\__,_/ /_/     \n",
      "                                 /____/                              \n",
      "\n",
      "using donkey v4.3.5 ...\n"
     ]
    },
    {
     "name": "stderr",
     "output_type": "stream",
     "text": [
      "\n",
      "----------------------------------------------------------------------\n",
      "Ran 0 tests in 0.000s\n",
      "\n",
      "OK\n"
     ]
    },
    {
     "name": "stdout",
     "output_type": "stream",
     "text": [
      "loading config file: mycar/config.py\n",
      "loading personal config over-rides from myconfig.py\n"
     ]
    }
   ],
   "source": [
    "from dataloader import load_data\n",
    "import numpy as np\n",
    "import donkeycar as dk\n",
    "from donkeycar.parts import keras\n",
    "cfg = dk.load_config(config_path='mycar/config.py')\n",
    "\n",
    "# None means all the data is used.\n",
    "# use a smaller size, like 200 for testing end to end.\n",
    "TUBRECORD_SIZE = None\n",
    "\n",
    "SEQUENCE_LENGTH = 3\n",
    "cfg.SEQUENCE_LENGTH = SEQUENCE_LENGTH\n",
    "cfg.WANDB_ENABLED = False\n",
    "cfg.TRANSFORMATIONS = ['CROP']\n",
    "cfg.ROI_CROP_TOP = 60\n",
    "N_FOLDS = 5\n",
    "DATA_PATH = 'data'\n",
    "MODELS_PATH = 'models'\n",
    "\n",
    "MODEL_CLASS = keras.Keras3D_CNN_ModifiedOnlySteering\n"
   ],
   "metadata": {
    "collapsed": false,
    "pycharm": {
     "name": "#%%\n"
    }
   }
  },
  {
   "cell_type": "markdown",
   "source": [
    "\n",
    "### Load Counter Clockwise tubs and get predictions"
   ],
   "metadata": {
    "collapsed": false,
    "pycharm": {
     "name": "#%% md\n"
    }
   }
  },
  {
   "cell_type": "code",
   "execution_count": 10,
   "metadata": {
    "collapsed": false,
    "jupyter": {
     "outputs_hidden": false
    },
    "pycharm": {
     "name": "#%%\n"
    }
   },
   "outputs": [
    {
     "name": "stdout",
     "output_type": "stream",
     "text": [
      "Using catalog /Users/kristjan.roosild/PycharmProjects/dat-sci-master-thesis/data/1-1-CC-80/catalog_4.catalog\n"
     ]
    },
    {
     "name": "stderr",
     "output_type": "stream",
     "text": [
      "INFO:donkeycar.pipeline.types:Loading tubs from paths ['data/1-1-CC-80']\n",
      "INFO:donkeycar.pipeline.types:Loading tubs from paths ['data/4-1-CC-80']\n"
     ]
    },
    {
     "name": "stdout",
     "output_type": "stream",
     "text": [
      "Using catalog /Users/kristjan.roosild/PycharmProjects/dat-sci-master-thesis/data/4-1-CC-80/catalog_5.catalog\n"
     ]
    },
    {
     "name": "stderr",
     "output_type": "stream",
     "text": [
      "INFO:donkeycar.pipeline.types:Loading tubs from paths ['data/1-3-CC-85']\n"
     ]
    },
    {
     "name": "stdout",
     "output_type": "stream",
     "text": [
      "Using catalog /Users/kristjan.roosild/PycharmProjects/dat-sci-master-thesis/data/1-3-CC-85/catalog_4.catalog\n"
     ]
    },
    {
     "name": "stderr",
     "output_type": "stream",
     "text": [
      "INFO:donkeycar.pipeline.types:Loading tubs from paths ['data/4-3-CC-85']\n"
     ]
    },
    {
     "name": "stdout",
     "output_type": "stream",
     "text": [
      "Using catalog /Users/kristjan.roosild/PycharmProjects/dat-sci-master-thesis/data/4-3-CC-85/catalog_4.catalog\n"
     ]
    },
    {
     "name": "stderr",
     "output_type": "stream",
     "text": [
      "INFO:donkeycar.pipeline.types:Loading tubs from paths ['data/1-2-CC-90']\n"
     ]
    },
    {
     "name": "stdout",
     "output_type": "stream",
     "text": [
      "Using catalog /Users/kristjan.roosild/PycharmProjects/dat-sci-master-thesis/data/1-2-CC-90/catalog_4.catalog\n"
     ]
    },
    {
     "name": "stderr",
     "output_type": "stream",
     "text": [
      "INFO:donkeycar.pipeline.types:Loading tubs from paths ['data/4-2-CC-90']\n"
     ]
    },
    {
     "name": "stdout",
     "output_type": "stream",
     "text": [
      "Using catalog /Users/kristjan.roosild/PycharmProjects/dat-sci-master-thesis/data/4-2-CC-90/catalog_7.catalog\n"
     ]
    }
   ],
   "source": [
    "from dataloader import get_folds\n",
    "import itertools\n",
    "\n",
    "DIRECTION = 'CC'\n",
    "\n",
    "tub_records_80_speed, tub_records_85_speed, tub_records_90_speed = load_data(cfg, DATA_PATH, DIRECTION, TUBRECORD_SIZE)\n",
    "\n",
    "all_90_speed_data = list(itertools.chain(*list(tub_records_90_speed.values())))\n",
    "train_folds, test_folds = get_folds(all_90_speed_data)\n",
    "\n",
    "from losses import ModelResults\n",
    "\n",
    "CC_ModelResults = ModelResults(\n",
    "    MODEL_CLASS,\n",
    "    MODELS_PATH,\n",
    "    SEQUENCE_LENGTH,\n",
    "    DIRECTION,\n",
    "    N_FOLDS,\n",
    "    tub_records_80_speed,\n",
    "    tub_records_85_speed,\n",
    "    tub_records_90_speed,\n",
    "    train_folds,\n",
    "    test_folds,\n",
    "    cfg\n",
    ")"
   ]
  },
  {
   "cell_type": "code",
   "execution_count": 12,
   "outputs": [
    {
     "name": "stderr",
     "output_type": "stream",
     "text": [
      "INFO:donkeycar.pipeline.types:Loading tubs from paths ['data/2-1-CW-80']\n"
     ]
    },
    {
     "name": "stdout",
     "output_type": "stream",
     "text": [
      "Using catalog /Users/kristjan.roosild/PycharmProjects/dat-sci-master-thesis/data/2-1-CW-80/catalog_4.catalog\n"
     ]
    },
    {
     "name": "stderr",
     "output_type": "stream",
     "text": [
      "INFO:donkeycar.pipeline.types:Loading tubs from paths ['data/2-3-CW-85']\n"
     ]
    },
    {
     "name": "stdout",
     "output_type": "stream",
     "text": [
      "Using catalog /Users/kristjan.roosild/PycharmProjects/dat-sci-master-thesis/data/2-3-CW-85/catalog_6.catalog\n"
     ]
    },
    {
     "name": "stderr",
     "output_type": "stream",
     "text": [
      "INFO:donkeycar.pipeline.types:Loading tubs from paths ['data/3-3-CW-85']\n"
     ]
    },
    {
     "name": "stdout",
     "output_type": "stream",
     "text": [
      "Using catalog /Users/kristjan.roosild/PycharmProjects/dat-sci-master-thesis/data/3-3-CW-85/catalog_4.catalog\n"
     ]
    },
    {
     "name": "stderr",
     "output_type": "stream",
     "text": [
      "INFO:donkeycar.pipeline.types:Loading tubs from paths ['data/2-2-CW-90']\n",
      "INFO:donkeycar.pipeline.types:Loading tubs from paths ['data/3-2-CW-90']\n"
     ]
    },
    {
     "name": "stdout",
     "output_type": "stream",
     "text": [
      "Using catalog /Users/kristjan.roosild/PycharmProjects/dat-sci-master-thesis/data/2-2-CW-90/catalog_2.catalog\n",
      "Using catalog /Users/kristjan.roosild/PycharmProjects/dat-sci-master-thesis/data/3-2-CW-90/catalog_6.catalog\n"
     ]
    }
   ],
   "source": [
    "DIRECTION = 'CW'\n",
    "\n",
    "tub_records_80_speed, tub_records_85_speed, tub_records_90_speed = load_data(cfg, DATA_PATH, DIRECTION, TUBRECORD_SIZE)\n",
    "\n",
    "all_90_speed_data = list(itertools.chain(*list(tub_records_90_speed.values())))\n",
    "train_folds, test_folds = get_folds(all_90_speed_data)\n",
    "\n",
    "CW_ModelResults = ModelResults(\n",
    "    MODEL_CLASS,\n",
    "    MODELS_PATH,\n",
    "    SEQUENCE_LENGTH,\n",
    "    DIRECTION,\n",
    "    N_FOLDS,\n",
    "    tub_records_80_speed,\n",
    "    tub_records_85_speed,\n",
    "    tub_records_90_speed,\n",
    "    train_folds,\n",
    "    test_folds,\n",
    "    cfg\n",
    ")"
   ],
   "metadata": {
    "collapsed": false,
    "pycharm": {
     "name": "#%%\n"
    }
   }
  },
  {
   "cell_type": "code",
   "execution_count": 13,
   "outputs": [
    {
     "name": "stderr",
     "output_type": "stream",
     "text": [
      "INFO:donkeycar.parts.keras:input_shape (120, 160, 3) num_outputs 1\n",
      "2022-03-29 12:09:39.389560: I tensorflow/core/platform/cpu_feature_guard.cc:143] Your CPU supports instructions that this TensorFlow binary was not compiled to use: AVX2 FMA\n",
      "2022-03-29 12:09:39.463011: I tensorflow/compiler/xla/service/service.cc:168] XLA service 0x7fe0da5c2e90 initialized for platform Host (this does not guarantee that XLA will be used). Devices:\n",
      "2022-03-29 12:09:39.463023: I tensorflow/compiler/xla/service/service.cc:176]   StreamExecutor device (0): Host, Default Version\n",
      "INFO:donkeycar.parts.keras:Created Keras3D_CNN_ModifiedOnlySteering with interpreter: KerasInterpreter\n",
      "INFO:donkeycar.parts.keras:Num outputs 1\n",
      "INFO:donkeycar.parts.keras:Sequence length 3\n",
      "INFO:donkeycar.parts.keras:Loading model models/Keras3D_CNN_ModifiedOnlySteering-1.fold-of-5-CC.h5\n",
      "INFO:donkeycar.parts.interpreter:Loading model models/Keras3D_CNN_ModifiedOnlySteering-1.fold-of-5-CC.h5\n"
     ]
    },
    {
     "name": "stdout",
     "output_type": "stream",
     "text": [
      "Getting 90-speed  mse-s for fold 1\n",
      "seq size 3\n",
      "len ground_truth 4542\n",
      "36/36 [==============================] - 36s 1s/step\n",
      "predictions shape (4542,)\n",
      "1-2-CC-90 has 4542 predictions with an mse of 0.16887981541865443\n",
      "seq size 3\n",
      "len ground_truth 5963\n",
      "47/47 [==============================] - 53s 1s/step\n",
      "predictions shape (5963,)\n",
      "4-2-CC-90 has 5963 predictions with an mse of 0.1613558140436403\n",
      "seq size 3\n",
      "len ground_truth 2101\n",
      "17/17 [==============================] - 5s 312ms/step\n",
      "predictions shape (2101,)\n",
      "test90 has 2101 predictions with an mse of 0.15109409898096268\n",
      "seq size 3\n",
      "len ground_truth 8404\n",
      "66/66 [==============================] - 21s 316ms/step\n",
      "predictions shape (8404,)\n",
      "train90 has 8404 predictions with an mse of 0.16798764154531223\n",
      "Getting 85-speed mse-s for fold 1\n",
      "seq size 3\n",
      "len ground_truth 4272\n",
      "34/34 [==============================] - 36s 1s/step\n",
      "predictions shape (4272,)\n",
      "1-3-CC-85 has 4272 predictions with an mse of 0.14419504971619862\n",
      "seq size 3\n",
      "len ground_truth 4398\n",
      "35/35 [==============================] - 34s 972ms/step\n",
      "predictions shape (4398,)\n",
      "4-3-CC-85 has 4398 predictions with an mse of 0.11226600699569246\n",
      "Getting 80-speed mse-s for fold 1\n",
      "seq size 3\n",
      "len ground_truth 2998\n",
      "24/24 [==============================] - 23s 972ms/step\n",
      "predictions shape (2998,)\n",
      "1-1-CC-80 has 2998 predictions with an mse of 0.13810580977570677\n",
      "seq size 3\n",
      "len ground_truth 4705\n",
      "37/37 [==============================] - 39s 1s/step\n"
     ]
    },
    {
     "name": "stderr",
     "output_type": "stream",
     "text": [
      "INFO:donkeycar.parts.keras:input_shape (120, 160, 3) num_outputs 1\n",
      "INFO:donkeycar.parts.keras:Created Keras3D_CNN_ModifiedOnlySteering with interpreter: KerasInterpreter\n",
      "INFO:donkeycar.parts.keras:Num outputs 1\n",
      "INFO:donkeycar.parts.keras:Sequence length 3\n",
      "INFO:donkeycar.parts.keras:Loading model models/Keras3D_CNN_ModifiedOnlySteering-2.fold-of-5-CC.h5\n",
      "INFO:donkeycar.parts.interpreter:Loading model models/Keras3D_CNN_ModifiedOnlySteering-2.fold-of-5-CC.h5\n"
     ]
    },
    {
     "name": "stdout",
     "output_type": "stream",
     "text": [
      "predictions shape (4705,)\n",
      "4-1-CC-80 has 4705 predictions with an mse of 0.12281019264172746\n",
      "Getting 90-speed  mse-s for fold 2\n",
      "seq size 3\n",
      "len ground_truth 4542\n",
      "36/36 [==============================] - 11s 306ms/step\n",
      "predictions shape (4542,)\n",
      "1-2-CC-90 has 4542 predictions with an mse of 0.10864025285896624\n",
      "seq size 3\n",
      "len ground_truth 5963\n",
      "47/47 [==============================] - 14s 303ms/step\n",
      "predictions shape (5963,)\n",
      "4-2-CC-90 has 5963 predictions with an mse of 0.10729881489587496\n",
      "seq size 3\n",
      "len ground_truth 2101\n",
      "17/17 [==============================] - 5s 296ms/step\n",
      "predictions shape (2101,)\n",
      "test90 has 2101 predictions with an mse of 0.12096296214606916\n",
      "seq size 3\n",
      "len ground_truth 8404\n",
      "66/66 [==============================] - 20s 304ms/step\n",
      "predictions shape (8404,)\n",
      "train90 has 8404 predictions with an mse of 0.10460776748387718\n",
      "Getting 85-speed mse-s for fold 2\n",
      "seq size 3\n",
      "len ground_truth 4272\n",
      "34/34 [==============================] - 10s 301ms/step\n",
      "predictions shape (4272,)\n",
      "1-3-CC-85 has 4272 predictions with an mse of 0.10277152875321503\n",
      "seq size 3\n",
      "len ground_truth 4398\n",
      "35/35 [==============================] - 10s 299ms/step\n",
      "predictions shape (4398,)\n",
      "4-3-CC-85 has 4398 predictions with an mse of 0.06798006010720412\n",
      "Getting 80-speed mse-s for fold 2\n",
      "seq size 3\n",
      "len ground_truth 2998\n",
      "24/24 [==============================] - 7s 295ms/step\n",
      "predictions shape (2998,)\n",
      "1-1-CC-80 has 2998 predictions with an mse of 0.09422296899409997\n",
      "seq size 3\n",
      "len ground_truth 4705\n",
      "37/37 [==============================] - 11s 300ms/step\n"
     ]
    },
    {
     "name": "stderr",
     "output_type": "stream",
     "text": [
      "INFO:donkeycar.parts.keras:input_shape (120, 160, 3) num_outputs 1\n",
      "INFO:donkeycar.parts.keras:Created Keras3D_CNN_ModifiedOnlySteering with interpreter: KerasInterpreter\n",
      "INFO:donkeycar.parts.keras:Num outputs 1\n",
      "INFO:donkeycar.parts.keras:Sequence length 3\n",
      "INFO:donkeycar.parts.keras:Loading model models/Keras3D_CNN_ModifiedOnlySteering-3.fold-of-5-CC.h5\n",
      "INFO:donkeycar.parts.interpreter:Loading model models/Keras3D_CNN_ModifiedOnlySteering-3.fold-of-5-CC.h5\n"
     ]
    },
    {
     "name": "stdout",
     "output_type": "stream",
     "text": [
      "predictions shape (4705,)\n",
      "4-1-CC-80 has 4705 predictions with an mse of 0.08626317908254284\n",
      "Getting 90-speed  mse-s for fold 3\n",
      "seq size 3\n",
      "len ground_truth 4542\n",
      "36/36 [==============================] - 11s 296ms/step\n",
      "predictions shape (4542,)\n",
      "1-2-CC-90 has 4542 predictions with an mse of 0.09754230279398533\n",
      "seq size 3\n",
      "len ground_truth 5963\n",
      "47/47 [==============================] - 14s 302ms/step\n",
      "predictions shape (5963,)\n",
      "4-2-CC-90 has 5963 predictions with an mse of 0.09670286274021844\n",
      "seq size 3\n",
      "len ground_truth 2101\n",
      "17/17 [==============================] - 5s 289ms/step\n",
      "predictions shape (2101,)\n",
      "test90 has 2101 predictions with an mse of 0.10482325597004402\n",
      "seq size 3\n",
      "len ground_truth 8404\n",
      "66/66 [==============================] - 20s 301ms/step\n",
      "predictions shape (8404,)\n",
      "train90 has 8404 predictions with an mse of 0.09512644602629013\n",
      "Getting 85-speed mse-s for fold 3\n",
      "seq size 3\n",
      "len ground_truth 4272\n",
      "34/34 [==============================] - 10s 300ms/step\n",
      "predictions shape (4272,)\n",
      "1-3-CC-85 has 4272 predictions with an mse of 0.1139894440458487\n",
      "seq size 3\n",
      "len ground_truth 4398\n",
      "35/35 [==============================] - 10s 297ms/step\n",
      "predictions shape (4398,)\n",
      "4-3-CC-85 has 4398 predictions with an mse of 0.06799099841094312\n",
      "Getting 80-speed mse-s for fold 3\n",
      "seq size 3\n",
      "len ground_truth 2998\n",
      "24/24 [==============================] - 7s 296ms/step\n",
      "predictions shape (2998,)\n",
      "1-1-CC-80 has 2998 predictions with an mse of 0.10876272535780725\n",
      "seq size 3\n",
      "len ground_truth 4705\n",
      "37/37 [==============================] - 11s 297ms/step\n"
     ]
    },
    {
     "name": "stderr",
     "output_type": "stream",
     "text": [
      "INFO:donkeycar.parts.keras:input_shape (120, 160, 3) num_outputs 1\n",
      "INFO:donkeycar.parts.keras:Created Keras3D_CNN_ModifiedOnlySteering with interpreter: KerasInterpreter\n",
      "INFO:donkeycar.parts.keras:Num outputs 1\n",
      "INFO:donkeycar.parts.keras:Sequence length 3\n",
      "INFO:donkeycar.parts.keras:Loading model models/Keras3D_CNN_ModifiedOnlySteering-4.fold-of-5-CC.h5\n",
      "INFO:donkeycar.parts.interpreter:Loading model models/Keras3D_CNN_ModifiedOnlySteering-4.fold-of-5-CC.h5\n"
     ]
    },
    {
     "name": "stdout",
     "output_type": "stream",
     "text": [
      "predictions shape (4705,)\n",
      "4-1-CC-80 has 4705 predictions with an mse of 0.08954331088777064\n",
      "Getting 90-speed  mse-s for fold 4\n",
      "seq size 3\n",
      "len ground_truth 4542\n",
      "36/36 [==============================] - 11s 301ms/step\n",
      "predictions shape (4542,)\n",
      "1-2-CC-90 has 4542 predictions with an mse of 0.14082064475764364\n",
      "seq size 3\n",
      "len ground_truth 5963\n",
      "47/47 [==============================] - 14s 300ms/step\n",
      "predictions shape (5963,)\n",
      "4-2-CC-90 has 5963 predictions with an mse of 0.126213652285599\n",
      "seq size 3\n",
      "len ground_truth 2101\n",
      "17/17 [==============================] - 5s 285ms/step\n",
      "predictions shape (2101,)\n",
      "test90 has 2101 predictions with an mse of 0.13042874173745037\n",
      "seq size 3\n",
      "len ground_truth 8404\n",
      "66/66 [==============================] - 20s 303ms/step\n",
      "predictions shape (8404,)\n",
      "train90 has 8404 predictions with an mse of 0.1330543301701845\n",
      "Getting 85-speed mse-s for fold 4\n",
      "seq size 3\n",
      "len ground_truth 4272\n",
      "34/34 [==============================] - 10s 295ms/step\n",
      "predictions shape (4272,)\n",
      "1-3-CC-85 has 4272 predictions with an mse of 0.12035947698578196\n",
      "seq size 3\n",
      "len ground_truth 4398\n",
      "35/35 [==============================] - 10s 296ms/step\n",
      "predictions shape (4398,)\n",
      "4-3-CC-85 has 4398 predictions with an mse of 0.08289293941363603\n",
      "Getting 80-speed mse-s for fold 4\n",
      "seq size 3\n",
      "len ground_truth 2998\n",
      "24/24 [==============================] - 7s 292ms/step\n",
      "predictions shape (2998,)\n",
      "1-1-CC-80 has 2998 predictions with an mse of 0.11660150966010445\n",
      "seq size 3\n",
      "len ground_truth 4705\n",
      "37/37 [==============================] - 11s 295ms/step\n"
     ]
    },
    {
     "name": "stderr",
     "output_type": "stream",
     "text": [
      "INFO:donkeycar.parts.keras:input_shape (120, 160, 3) num_outputs 1\n",
      "INFO:donkeycar.parts.keras:Created Keras3D_CNN_ModifiedOnlySteering with interpreter: KerasInterpreter\n",
      "INFO:donkeycar.parts.keras:Num outputs 1\n",
      "INFO:donkeycar.parts.keras:Sequence length 3\n",
      "INFO:donkeycar.parts.keras:Loading model models/Keras3D_CNN_ModifiedOnlySteering-5.fold-of-5-CC.h5\n",
      "INFO:donkeycar.parts.interpreter:Loading model models/Keras3D_CNN_ModifiedOnlySteering-5.fold-of-5-CC.h5\n"
     ]
    },
    {
     "name": "stdout",
     "output_type": "stream",
     "text": [
      "predictions shape (4705,)\n",
      "4-1-CC-80 has 4705 predictions with an mse of 0.09886526492495065\n",
      "Getting 90-speed  mse-s for fold 5\n",
      "seq size 3\n",
      "len ground_truth 4542\n",
      "36/36 [==============================] - 11s 294ms/step\n",
      "predictions shape (4542,)\n",
      "1-2-CC-90 has 4542 predictions with an mse of 0.12563442354727414\n",
      "seq size 3\n",
      "len ground_truth 5963\n",
      "47/47 [==============================] - 14s 298ms/step\n",
      "predictions shape (5963,)\n",
      "4-2-CC-90 has 5963 predictions with an mse of 0.1175474288751648\n",
      "seq size 3\n",
      "len ground_truth 2101\n",
      "17/17 [==============================] - 5s 287ms/step\n",
      "predictions shape (2101,)\n",
      "test90 has 2101 predictions with an mse of 0.1341893908711764\n",
      "seq size 3\n",
      "len ground_truth 8404\n",
      "66/66 [==============================] - 20s 301ms/step\n",
      "predictions shape (8404,)\n",
      "train90 has 8404 predictions with an mse of 0.11775761111788745\n",
      "Getting 85-speed mse-s for fold 5\n",
      "seq size 3\n",
      "len ground_truth 4272\n",
      "34/34 [==============================] - 10s 296ms/step\n",
      "predictions shape (4272,)\n",
      "1-3-CC-85 has 4272 predictions with an mse of 0.11120335382578746\n",
      "seq size 3\n",
      "len ground_truth 4398\n",
      "35/35 [==============================] - 10s 298ms/step\n",
      "predictions shape (4398,)\n",
      "4-3-CC-85 has 4398 predictions with an mse of 0.08050712527839665\n",
      "Getting 80-speed mse-s for fold 5\n",
      "seq size 3\n",
      "len ground_truth 2998\n",
      "24/24 [==============================] - 8s 316ms/step\n",
      "predictions shape (2998,)\n",
      "1-1-CC-80 has 2998 predictions with an mse of 0.10953415475950143\n",
      "seq size 3\n",
      "len ground_truth 4705\n",
      "37/37 [==============================] - 11s 298ms/step\n",
      "predictions shape (4705,)\n",
      "4-1-CC-80 has 4705 predictions with an mse of 0.09418122784926464\n"
     ]
    }
   ],
   "source": [
    "CC_ModelResults.predict_results()"
   ],
   "metadata": {
    "collapsed": false,
    "pycharm": {
     "name": "#%%\n"
    }
   }
  },
  {
   "cell_type": "code",
   "execution_count": 14,
   "outputs": [
    {
     "name": "stderr",
     "output_type": "stream",
     "text": [
      "INFO:donkeycar.parts.keras:input_shape (120, 160, 3) num_outputs 1\n",
      "INFO:donkeycar.parts.keras:Created Keras3D_CNN_ModifiedOnlySteering with interpreter: KerasInterpreter\n",
      "INFO:donkeycar.parts.keras:Num outputs 1\n",
      "INFO:donkeycar.parts.keras:Sequence length 3\n",
      "INFO:donkeycar.parts.keras:Loading model models/Keras3D_CNN_ModifiedOnlySteering-1.fold-of-5-CW.h5\n",
      "INFO:donkeycar.parts.interpreter:Loading model models/Keras3D_CNN_ModifiedOnlySteering-1.fold-of-5-CW.h5\n"
     ]
    },
    {
     "name": "stdout",
     "output_type": "stream",
     "text": [
      "Getting 90-speed  mse-s for fold 1\n",
      "seq size 3\n",
      "len ground_truth 1235\n",
      "10/10 [==============================] - 9s 903ms/step\n",
      "predictions shape (1235,)\n",
      "2-2-CW-90 has 1235 predictions with an mse of 0.08435376705453354\n",
      "seq size 3\n",
      "len ground_truth 5217\n",
      "41/41 [==============================] - 45s 1s/step\n",
      "predictions shape (5217,)\n",
      "3-2-CW-90 has 5217 predictions with an mse of 0.078962444431826\n",
      "seq size 3\n",
      "len ground_truth 1291\n",
      "11/11 [==============================] - 3s 277ms/step\n",
      "predictions shape (1291,)\n",
      "test90 has 1291 predictions with an mse of 0.09765198712999218\n",
      "seq size 3\n",
      "len ground_truth 5161\n",
      "41/41 [==============================] - 12s 294ms/step\n",
      "predictions shape (5161,)\n",
      "train90 has 5161 predictions with an mse of 0.07557745752804611\n",
      "Getting 85-speed mse-s for fold 1\n",
      "seq size 3\n",
      "len ground_truth 6086\n",
      "48/48 [==============================] - 50s 1s/step\n",
      "predictions shape (6086,)\n",
      "2-3-CW-85 has 6086 predictions with an mse of 0.07779715785824406\n",
      "seq size 3\n",
      "len ground_truth 4006\n",
      "32/32 [==============================] - 31s 978ms/step\n",
      "predictions shape (4006,)\n",
      "3-3-CW-85 has 4006 predictions with an mse of 0.08464592832070846\n",
      "Getting 80-speed mse-s for fold 1\n",
      "seq size 3\n",
      "len ground_truth 4431\n",
      "35/35 [==============================] - 35s 1s/step\n"
     ]
    },
    {
     "name": "stderr",
     "output_type": "stream",
     "text": [
      "INFO:donkeycar.parts.keras:input_shape (120, 160, 3) num_outputs 1\n",
      "INFO:donkeycar.parts.keras:Created Keras3D_CNN_ModifiedOnlySteering with interpreter: KerasInterpreter\n",
      "INFO:donkeycar.parts.keras:Num outputs 1\n",
      "INFO:donkeycar.parts.keras:Sequence length 3\n",
      "INFO:donkeycar.parts.keras:Loading model models/Keras3D_CNN_ModifiedOnlySteering-2.fold-of-5-CW.h5\n",
      "INFO:donkeycar.parts.interpreter:Loading model models/Keras3D_CNN_ModifiedOnlySteering-2.fold-of-5-CW.h5\n"
     ]
    },
    {
     "name": "stdout",
     "output_type": "stream",
     "text": [
      "predictions shape (4431,)\n",
      "2-1-CW-80 has 4431 predictions with an mse of 0.08078958128502264\n",
      "Getting 90-speed  mse-s for fold 2\n",
      "seq size 3\n",
      "len ground_truth 1235\n",
      "10/10 [==============================] - 3s 285ms/step\n",
      "predictions shape (1235,)\n",
      "2-2-CW-90 has 1235 predictions with an mse of 0.06983098143217648\n",
      "seq size 3\n",
      "len ground_truth 5217\n",
      "41/41 [==============================] - 12s 302ms/step\n",
      "predictions shape (5217,)\n",
      "3-2-CW-90 has 5217 predictions with an mse of 0.07099302410883564\n",
      "seq size 3\n",
      "len ground_truth 1291\n",
      "11/11 [==============================] - 3s 284ms/step\n",
      "predictions shape (1291,)\n",
      "test90 has 1291 predictions with an mse of 0.08234434901927873\n",
      "seq size 3\n",
      "len ground_truth 5161\n",
      "41/41 [==============================] - 12s 299ms/step\n",
      "predictions shape (5161,)\n",
      "train90 has 5161 predictions with an mse of 0.06787547282602917\n",
      "Getting 85-speed mse-s for fold 2\n",
      "seq size 3\n",
      "len ground_truth 6086\n",
      "48/48 [==============================] - 14s 301ms/step\n",
      "predictions shape (6086,)\n",
      "2-3-CW-85 has 6086 predictions with an mse of 0.06607453274057246\n",
      "seq size 3\n",
      "len ground_truth 4006\n",
      "32/32 [==============================] - 9s 294ms/step\n",
      "predictions shape (4006,)\n",
      "3-3-CW-85 has 4006 predictions with an mse of 0.06661444337154535\n",
      "Getting 80-speed mse-s for fold 2\n",
      "seq size 3\n",
      "len ground_truth 4431\n",
      "35/35 [==============================] - 10s 296ms/step\n"
     ]
    },
    {
     "name": "stderr",
     "output_type": "stream",
     "text": [
      "INFO:donkeycar.parts.keras:input_shape (120, 160, 3) num_outputs 1\n",
      "INFO:donkeycar.parts.keras:Created Keras3D_CNN_ModifiedOnlySteering with interpreter: KerasInterpreter\n",
      "INFO:donkeycar.parts.keras:Num outputs 1\n",
      "INFO:donkeycar.parts.keras:Sequence length 3\n",
      "INFO:donkeycar.parts.keras:Loading model models/Keras3D_CNN_ModifiedOnlySteering-3.fold-of-5-CW.h5\n",
      "INFO:donkeycar.parts.interpreter:Loading model models/Keras3D_CNN_ModifiedOnlySteering-3.fold-of-5-CW.h5\n"
     ]
    },
    {
     "name": "stdout",
     "output_type": "stream",
     "text": [
      "predictions shape (4431,)\n",
      "2-1-CW-80 has 4431 predictions with an mse of 0.062494059534124825\n",
      "Getting 90-speed  mse-s for fold 3\n",
      "seq size 3\n",
      "len ground_truth 1235\n",
      "10/10 [==============================] - 3s 274ms/step\n",
      "predictions shape (1235,)\n",
      "2-2-CW-90 has 1235 predictions with an mse of 0.08251379469885683\n",
      "seq size 3\n",
      "len ground_truth 5217\n",
      "41/41 [==============================] - 12s 296ms/step\n",
      "predictions shape (5217,)\n",
      "3-2-CW-90 has 5217 predictions with an mse of 0.07569809350314394\n",
      "seq size 3\n",
      "len ground_truth 1290\n",
      "11/11 [==============================] - 3s 280ms/step\n",
      "predictions shape (1290,)\n",
      "test90 has 1290 predictions with an mse of 0.08123486266440205\n",
      "seq size 3\n",
      "len ground_truth 5162\n",
      "41/41 [==============================] - 12s 299ms/step\n",
      "predictions shape (5162,)\n",
      "train90 has 5162 predictions with an mse of 0.07594508266202024\n",
      "Getting 85-speed mse-s for fold 3\n",
      "seq size 3\n",
      "len ground_truth 6086\n",
      "48/48 [==============================] - 14s 302ms/step\n",
      "predictions shape (6086,)\n",
      "2-3-CW-85 has 6086 predictions with an mse of 0.06531346533796985\n",
      "seq size 3\n",
      "len ground_truth 4006\n",
      "32/32 [==============================] - 9s 297ms/step\n",
      "predictions shape (4006,)\n",
      "3-3-CW-85 has 4006 predictions with an mse of 0.07735981457426258\n",
      "Getting 80-speed mse-s for fold 3\n",
      "seq size 3\n",
      "len ground_truth 4431\n",
      "35/35 [==============================] - 10s 296ms/step\n"
     ]
    },
    {
     "name": "stderr",
     "output_type": "stream",
     "text": [
      "INFO:donkeycar.parts.keras:input_shape (120, 160, 3) num_outputs 1\n",
      "INFO:donkeycar.parts.keras:Created Keras3D_CNN_ModifiedOnlySteering with interpreter: KerasInterpreter\n",
      "INFO:donkeycar.parts.keras:Num outputs 1\n",
      "INFO:donkeycar.parts.keras:Sequence length 3\n",
      "INFO:donkeycar.parts.keras:Loading model models/Keras3D_CNN_ModifiedOnlySteering-4.fold-of-5-CW.h5\n",
      "INFO:donkeycar.parts.interpreter:Loading model models/Keras3D_CNN_ModifiedOnlySteering-4.fold-of-5-CW.h5\n"
     ]
    },
    {
     "name": "stdout",
     "output_type": "stream",
     "text": [
      "predictions shape (4431,)\n",
      "2-1-CW-80 has 4431 predictions with an mse of 0.07785909163980269\n",
      "Getting 90-speed  mse-s for fold 4\n",
      "seq size 3\n",
      "len ground_truth 1235\n",
      "10/10 [==============================] - 3s 275ms/step\n",
      "predictions shape (1235,)\n",
      "2-2-CW-90 has 1235 predictions with an mse of 0.07376947918766343\n",
      "seq size 3\n",
      "len ground_truth 5217\n",
      "41/41 [==============================] - 12s 299ms/step\n",
      "predictions shape (5217,)\n",
      "3-2-CW-90 has 5217 predictions with an mse of 0.08132858891851887\n",
      "seq size 3\n",
      "len ground_truth 1290\n",
      "11/11 [==============================] - 3s 285ms/step\n",
      "predictions shape (1290,)\n",
      "test90 has 1290 predictions with an mse of 0.09036894520833046\n",
      "seq size 3\n",
      "len ground_truth 5162\n",
      "41/41 [==============================] - 12s 297ms/step\n",
      "predictions shape (5162,)\n",
      "train90 has 5162 predictions with an mse of 0.07726087094399164\n",
      "Getting 85-speed mse-s for fold 4\n",
      "seq size 3\n",
      "len ground_truth 6086\n",
      "48/48 [==============================] - 14s 297ms/step\n",
      "predictions shape (6086,)\n",
      "2-3-CW-85 has 6086 predictions with an mse of 0.08288573881045543\n",
      "seq size 3\n",
      "len ground_truth 4006\n",
      "32/32 [==============================] - 9s 296ms/step\n",
      "predictions shape (4006,)\n",
      "3-3-CW-85 has 4006 predictions with an mse of 0.07247217607407928\n",
      "Getting 80-speed mse-s for fold 4\n",
      "seq size 3\n",
      "len ground_truth 4431\n",
      "35/35 [==============================] - 10s 296ms/step\n"
     ]
    },
    {
     "name": "stderr",
     "output_type": "stream",
     "text": [
      "INFO:donkeycar.parts.keras:input_shape (120, 160, 3) num_outputs 1\n",
      "INFO:donkeycar.parts.keras:Created Keras3D_CNN_ModifiedOnlySteering with interpreter: KerasInterpreter\n",
      "INFO:donkeycar.parts.keras:Num outputs 1\n",
      "INFO:donkeycar.parts.keras:Sequence length 3\n",
      "INFO:donkeycar.parts.keras:Loading model models/Keras3D_CNN_ModifiedOnlySteering-5.fold-of-5-CW.h5\n",
      "INFO:donkeycar.parts.interpreter:Loading model models/Keras3D_CNN_ModifiedOnlySteering-5.fold-of-5-CW.h5\n"
     ]
    },
    {
     "name": "stdout",
     "output_type": "stream",
     "text": [
      "predictions shape (4431,)\n",
      "2-1-CW-80 has 4431 predictions with an mse of 0.07345078877814443\n",
      "Getting 90-speed  mse-s for fold 5\n",
      "seq size 3\n",
      "len ground_truth 1235\n",
      "10/10 [==============================] - 3s 275ms/step\n",
      "predictions shape (1235,)\n",
      "2-2-CW-90 has 1235 predictions with an mse of 0.07378964571720352\n",
      "seq size 3\n",
      "len ground_truth 5217\n",
      "41/41 [==============================] - 12s 298ms/step\n",
      "predictions shape (5217,)\n",
      "3-2-CW-90 has 5217 predictions with an mse of 0.07486413790698151\n",
      "seq size 3\n",
      "len ground_truth 1290\n",
      "11/11 [==============================] - 3s 277ms/step\n",
      "predictions shape (1290,)\n",
      "test90 has 1290 predictions with an mse of 0.08613030260183685\n",
      "seq size 3\n",
      "len ground_truth 5162\n",
      "41/41 [==============================] - 12s 297ms/step\n",
      "predictions shape (5162,)\n",
      "train90 has 5162 predictions with an mse of 0.07179161762065804\n",
      "Getting 85-speed mse-s for fold 5\n",
      "seq size 3\n",
      "len ground_truth 6086\n",
      "48/48 [==============================] - 14s 298ms/step\n",
      "predictions shape (6086,)\n",
      "2-3-CW-85 has 6086 predictions with an mse of 0.07209204976298574\n",
      "seq size 3\n",
      "len ground_truth 4006\n",
      "32/32 [==============================] - 9s 294ms/step\n",
      "predictions shape (4006,)\n",
      "3-3-CW-85 has 4006 predictions with an mse of 0.07398614838742816\n",
      "Getting 80-speed mse-s for fold 5\n",
      "seq size 3\n",
      "len ground_truth 4431\n",
      "35/35 [==============================] - 10s 298ms/step\n",
      "predictions shape (4431,)\n",
      "2-1-CW-80 has 4431 predictions with an mse of 0.0634895127061273\n"
     ]
    }
   ],
   "source": [
    "CW_ModelResults.predict_results()"
   ],
   "metadata": {
    "collapsed": false,
    "pycharm": {
     "name": "#%%\n"
    }
   }
  },
  {
   "cell_type": "code",
   "execution_count": 15,
   "outputs": [
    {
     "data": {
      "text/plain": "324050"
     },
     "execution_count": 15,
     "metadata": {},
     "output_type": "execute_result"
    }
   ],
   "source": [
    "\n",
    "results_unpacked = []\n",
    "\n",
    "for fold, fold_results in CC_ModelResults.results.items():\n",
    "    for speed_name, results in fold_results.items():\n",
    "        for r in results:\n",
    "            for pred, gt in zip(r.predictions, r.ground_truths):\n",
    "                results_unpacked.append([r.name, r.direction, r.speed, r.fold, r.is_train, pred, gt])\n",
    "\n",
    "for fold, fold_results in CW_ModelResults.results.items():\n",
    "    for speed_name, results in fold_results.items():\n",
    "        for r in results:\n",
    "            for pred, gt in zip(r.predictions, r.ground_truths):\n",
    "                results_unpacked.append([r.name, r.direction, r.speed, r.fold, r.is_train, pred, gt])\n",
    "\n",
    "len(results_unpacked)"
   ],
   "metadata": {
    "collapsed": false,
    "pycharm": {
     "name": "#%%\n"
    }
   }
  },
  {
   "cell_type": "code",
   "execution_count": 16,
   "outputs": [],
   "source": [
    "import pandas as pd\n",
    "df = pd.DataFrame(results_unpacked, columns=['name', 'direction', 'speed', 'fold', 'is_train', 'predicted_angle', 'ground_truth_angle'])\n"
   ],
   "metadata": {
    "collapsed": false,
    "pycharm": {
     "name": "#%%\n"
    }
   }
  },
  {
   "cell_type": "code",
   "execution_count": 17,
   "outputs": [],
   "source": [
    "df.to_csv('3D-CNN-model-results.csv.gz', index=False)"
   ],
   "metadata": {
    "collapsed": false,
    "pycharm": {
     "name": "#%%\n"
    }
   }
  },
  {
   "cell_type": "code",
   "execution_count": 17,
   "outputs": [],
   "source": [],
   "metadata": {
    "collapsed": false,
    "pycharm": {
     "name": "#%%\n"
    }
   }
  }
 ],
 "metadata": {
  "kernelspec": {
   "display_name": "donkey2",
   "language": "python",
   "name": "donkey2"
  },
  "language_info": {
   "codemirror_mode": {
    "name": "ipython",
    "version": 3
   },
   "file_extension": ".py",
   "mimetype": "text/x-python",
   "name": "python",
   "nbconvert_exporter": "python",
   "pygments_lexer": "ipython3",
   "version": "3.7.11"
  },
  "toc-autonumbering": false
 },
 "nbformat": 4,
 "nbformat_minor": 4
}